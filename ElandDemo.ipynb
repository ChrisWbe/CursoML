{
  "nbformat": 4,
  "nbformat_minor": 0,
  "metadata": {
    "colab": {
      "name": "ElandDemo.ipynb",
      "provenance": [],
      "authorship_tag": "ABX9TyNKdXc60VyR4/MPHbhi/vHU",
      "include_colab_link": true
    },
    "kernelspec": {
      "name": "python3",
      "display_name": "Python 3"
    }
  },
  "cells": [
    {
      "cell_type": "markdown",
      "metadata": {
        "id": "view-in-github",
        "colab_type": "text"
      },
      "source": [
        "<a href=\"https://colab.research.google.com/github/ChrisWbe/CursoML/blob/main/ElandDemo.ipynb\" target=\"_parent\"><img src=\"https://colab.research.google.com/assets/colab-badge.svg\" alt=\"Open In Colab\"/></a>"
      ]
    },
    {
      "cell_type": "code",
      "metadata": {
        "colab": {
          "base_uri": "https://localhost:8080/"
        },
        "id": "eKVT9uywjSPJ",
        "outputId": "e12cf4ab-e242-429d-97af-079f14e59b5e"
      },
      "source": [
        "!pip install eland"
      ],
      "execution_count": null,
      "outputs": [
        {
          "output_type": "stream",
          "text": [
            "Collecting eland\n",
            "\u001b[?25l  Downloading https://files.pythonhosted.org/packages/af/41/e6fac3b5ef1717e4fc824db0329642e01827b1f6d22c2165e15354f54abd/eland-7.10.1b1-py3-none-any.whl (120kB)\n",
            "\u001b[K     |████████████████████████████████| 122kB 8.7MB/s \n",
            "\u001b[?25hCollecting elasticsearch>=7.7\n",
            "\u001b[?25l  Downloading https://files.pythonhosted.org/packages/86/74/054342aa07121f7c82e30ae63e3f257a793a69ddc11c5065449252dcd8af/elasticsearch-7.10.1-py2.py3-none-any.whl (322kB)\n",
            "\u001b[K     |████████████████████████████████| 327kB 8.5MB/s \n",
            "\u001b[?25hRequirement already satisfied: numpy in /usr/local/lib/python3.6/dist-packages (from eland) (1.19.5)\n",
            "Requirement already satisfied: pandas>=1 in /usr/local/lib/python3.6/dist-packages (from eland) (1.1.5)\n",
            "Requirement already satisfied: matplotlib in /usr/local/lib/python3.6/dist-packages (from eland) (3.2.2)\n",
            "Requirement already satisfied: certifi in /usr/local/lib/python3.6/dist-packages (from elasticsearch>=7.7->eland) (2020.12.5)\n",
            "Requirement already satisfied: urllib3<2,>=1.21.1 in /usr/local/lib/python3.6/dist-packages (from elasticsearch>=7.7->eland) (1.24.3)\n",
            "Requirement already satisfied: python-dateutil>=2.7.3 in /usr/local/lib/python3.6/dist-packages (from pandas>=1->eland) (2.8.1)\n",
            "Requirement already satisfied: pytz>=2017.2 in /usr/local/lib/python3.6/dist-packages (from pandas>=1->eland) (2018.9)\n",
            "Requirement already satisfied: pyparsing!=2.0.4,!=2.1.2,!=2.1.6,>=2.0.1 in /usr/local/lib/python3.6/dist-packages (from matplotlib->eland) (2.4.7)\n",
            "Requirement already satisfied: kiwisolver>=1.0.1 in /usr/local/lib/python3.6/dist-packages (from matplotlib->eland) (1.3.1)\n",
            "Requirement already satisfied: cycler>=0.10 in /usr/local/lib/python3.6/dist-packages (from matplotlib->eland) (0.10.0)\n",
            "Requirement already satisfied: six>=1.5 in /usr/local/lib/python3.6/dist-packages (from python-dateutil>=2.7.3->pandas>=1->eland) (1.15.0)\n",
            "Installing collected packages: elasticsearch, eland\n",
            "Successfully installed eland-7.10.1b1 elasticsearch-7.10.1\n"
          ],
          "name": "stdout"
        }
      ]
    },
    {
      "cell_type": "code",
      "metadata": {
        "id": "bRonCwdijbqL"
      },
      "source": [
        "#Conexion a Elasticsearch\r\n",
        "#Se accede a una instancia elastic de prueba\r\n",
        "ID = \"eland-demo:dXMtY2VudHJhbDEuZ2NwLmNsb3VkLmVzLmlvJDI2ODUwMzAzNWRjYTQ5ZDdiM2NmNzdlYzNmNTVhZmI5JDdlYTZiY2UyZWVmZjQ1MTk5YzdiMzNlNDEzZTZhN2Q0\"\r\n",
        "PASS = \"kDf3NZUfvmlq46TyNgrfaxvC\""
      ],
      "execution_count": null,
      "outputs": []
    },
    {
      "cell_type": "code",
      "metadata": {
        "id": "836rNBJQnV_v"
      },
      "source": [
        "import eland as ed\r\n",
        "import pandas as pd\r\n",
        "import numpy as np\r\n",
        "from elasticsearch import Elasticsearch"
      ],
      "execution_count": null,
      "outputs": []
    },
    {
      "cell_type": "code",
      "metadata": {
        "id": "FhQfQJgenmID"
      },
      "source": [
        "#Funcion para imprimir un JSON muy largo\r\n",
        "def json(x):\r\n",
        "  import json\r\n",
        "  print(json.dumps(x,indent=2,sort_keys=True))"
      ],
      "execution_count": null,
      "outputs": []
    },
    {
      "cell_type": "code",
      "metadata": {
        "colab": {
          "base_uri": "https://localhost:8080/"
        },
        "id": "E6LsCBjxnz7K",
        "outputId": "287f399c-f871-4e6c-8a54-cc8ffc6b91d3"
      },
      "source": [
        "#Conexion a la instancia de elastic cloud\r\n",
        "es = Elasticsearch(\r\n",
        "    cloud_id=ID,\r\n",
        "    http_auth=('elastic',PASS)\r\n",
        ")\r\n",
        "json(es.info())"
      ],
      "execution_count": null,
      "outputs": [
        {
          "output_type": "stream",
          "text": [
            "{\n",
            "  \"cluster_name\": \"268503035dca49d7b3cf77ec3f55afb9\",\n",
            "  \"cluster_uuid\": \"gW23ez7WS8eLXVd6QbFVPA\",\n",
            "  \"name\": \"instance-0000000000\",\n",
            "  \"tagline\": \"You Know, for Search\",\n",
            "  \"version\": {\n",
            "    \"build_date\": \"2020-12-05T01:00:33.671820Z\",\n",
            "    \"build_flavor\": \"default\",\n",
            "    \"build_hash\": \"1c34507e66d7db1211f66f3513706fdf548736aa\",\n",
            "    \"build_snapshot\": false,\n",
            "    \"build_type\": \"docker\",\n",
            "    \"lucene_version\": \"8.7.0\",\n",
            "    \"minimum_index_compatibility_version\": \"6.0.0-beta1\",\n",
            "    \"minimum_wire_compatibility_version\": \"6.8.0\",\n",
            "    \"number\": \"7.10.1\"\n",
            "  }\n",
            "}\n"
          ],
          "name": "stdout"
        }
      ]
    },
    {
      "cell_type": "markdown",
      "metadata": {
        "id": "iTz0Sct_onZs"
      },
      "source": [
        "Se realiza conexión a una instancia de Elastic con versión 7.10.1"
      ]
    },
    {
      "cell_type": "code",
      "metadata": {
        "colab": {
          "base_uri": "https://localhost:8080/",
          "height": 191
        },
        "id": "wflPwCw5oNdJ",
        "outputId": "627595af-548d-4e0f-d6cd-973a76190154"
      },
      "source": [
        "#Cargo datos a un dataframe de pandas\r\n",
        "pd_df = pd.read_csv(\"/content/sample_data/california_housing_test.csv\")\r\n",
        "pd_df.head()"
      ],
      "execution_count": null,
      "outputs": [
        {
          "output_type": "execute_result",
          "data": {
            "text/html": [
              "<div>\n",
              "<style scoped>\n",
              "    .dataframe tbody tr th:only-of-type {\n",
              "        vertical-align: middle;\n",
              "    }\n",
              "\n",
              "    .dataframe tbody tr th {\n",
              "        vertical-align: top;\n",
              "    }\n",
              "\n",
              "    .dataframe thead th {\n",
              "        text-align: right;\n",
              "    }\n",
              "</style>\n",
              "<table border=\"1\" class=\"dataframe\">\n",
              "  <thead>\n",
              "    <tr style=\"text-align: right;\">\n",
              "      <th></th>\n",
              "      <th>longitude</th>\n",
              "      <th>latitude</th>\n",
              "      <th>housing_median_age</th>\n",
              "      <th>total_rooms</th>\n",
              "      <th>total_bedrooms</th>\n",
              "      <th>population</th>\n",
              "      <th>households</th>\n",
              "      <th>median_income</th>\n",
              "      <th>median_house_value</th>\n",
              "    </tr>\n",
              "  </thead>\n",
              "  <tbody>\n",
              "    <tr>\n",
              "      <th>0</th>\n",
              "      <td>-122.05</td>\n",
              "      <td>37.37</td>\n",
              "      <td>27.0</td>\n",
              "      <td>3885.0</td>\n",
              "      <td>661.0</td>\n",
              "      <td>1537.0</td>\n",
              "      <td>606.0</td>\n",
              "      <td>6.6085</td>\n",
              "      <td>344700.0</td>\n",
              "    </tr>\n",
              "    <tr>\n",
              "      <th>1</th>\n",
              "      <td>-118.30</td>\n",
              "      <td>34.26</td>\n",
              "      <td>43.0</td>\n",
              "      <td>1510.0</td>\n",
              "      <td>310.0</td>\n",
              "      <td>809.0</td>\n",
              "      <td>277.0</td>\n",
              "      <td>3.5990</td>\n",
              "      <td>176500.0</td>\n",
              "    </tr>\n",
              "    <tr>\n",
              "      <th>2</th>\n",
              "      <td>-117.81</td>\n",
              "      <td>33.78</td>\n",
              "      <td>27.0</td>\n",
              "      <td>3589.0</td>\n",
              "      <td>507.0</td>\n",
              "      <td>1484.0</td>\n",
              "      <td>495.0</td>\n",
              "      <td>5.7934</td>\n",
              "      <td>270500.0</td>\n",
              "    </tr>\n",
              "    <tr>\n",
              "      <th>3</th>\n",
              "      <td>-118.36</td>\n",
              "      <td>33.82</td>\n",
              "      <td>28.0</td>\n",
              "      <td>67.0</td>\n",
              "      <td>15.0</td>\n",
              "      <td>49.0</td>\n",
              "      <td>11.0</td>\n",
              "      <td>6.1359</td>\n",
              "      <td>330000.0</td>\n",
              "    </tr>\n",
              "    <tr>\n",
              "      <th>4</th>\n",
              "      <td>-119.67</td>\n",
              "      <td>36.33</td>\n",
              "      <td>19.0</td>\n",
              "      <td>1241.0</td>\n",
              "      <td>244.0</td>\n",
              "      <td>850.0</td>\n",
              "      <td>237.0</td>\n",
              "      <td>2.9375</td>\n",
              "      <td>81700.0</td>\n",
              "    </tr>\n",
              "  </tbody>\n",
              "</table>\n",
              "</div>"
            ],
            "text/plain": [
              "   longitude  latitude  ...  median_income  median_house_value\n",
              "0    -122.05     37.37  ...         6.6085            344700.0\n",
              "1    -118.30     34.26  ...         3.5990            176500.0\n",
              "2    -117.81     33.78  ...         5.7934            270500.0\n",
              "3    -118.36     33.82  ...         6.1359            330000.0\n",
              "4    -119.67     36.33  ...         2.9375             81700.0\n",
              "\n",
              "[5 rows x 9 columns]"
            ]
          },
          "metadata": {
            "tags": []
          },
          "execution_count": 13
        }
      ]
    },
    {
      "cell_type": "code",
      "metadata": {
        "colab": {
          "base_uri": "https://localhost:8080/"
        },
        "id": "_Kk8WqYOqRXy",
        "outputId": "22c4cea0-57f8-4bd2-ee37-bc661516d556"
      },
      "source": [
        "before_rows = pd_df.shape[0]\r\n",
        "pd_df = pd_df.dropna()\r\n",
        "after_rows = pd_df.shape[0]\r\n",
        "print(\"Filas eliminadas -> \",(before_rows-after_rows))"
      ],
      "execution_count": null,
      "outputs": [
        {
          "output_type": "stream",
          "text": [
            "Filas eliminadas ->  0\n"
          ],
          "name": "stdout"
        }
      ]
    },
    {
      "cell_type": "code",
      "metadata": {
        "colab": {
          "base_uri": "https://localhost:8080/"
        },
        "id": "VkBzO7vurH9w",
        "outputId": "4863d983-7f3d-4956-a835-3e3f4c1bb168"
      },
      "source": [
        "pd_df.info()"
      ],
      "execution_count": null,
      "outputs": [
        {
          "output_type": "stream",
          "text": [
            "<class 'pandas.core.frame.DataFrame'>\n",
            "Int64Index: 3000 entries, 0 to 2999\n",
            "Data columns (total 9 columns):\n",
            " #   Column              Non-Null Count  Dtype  \n",
            "---  ------              --------------  -----  \n",
            " 0   longitude           3000 non-null   float64\n",
            " 1   latitude            3000 non-null   float64\n",
            " 2   housing_median_age  3000 non-null   float64\n",
            " 3   total_rooms         3000 non-null   float64\n",
            " 4   total_bedrooms      3000 non-null   float64\n",
            " 5   population          3000 non-null   float64\n",
            " 6   households          3000 non-null   float64\n",
            " 7   median_income       3000 non-null   float64\n",
            " 8   median_house_value  3000 non-null   float64\n",
            "dtypes: float64(9)\n",
            "memory usage: 234.4 KB\n"
          ],
          "name": "stdout"
        }
      ]
    },
    {
      "cell_type": "markdown",
      "metadata": {
        "id": "9Xo9NwoDsPgG"
      },
      "source": [
        "<h2 style=\"color:purple\">Data Cleaning</h2>"
      ]
    },
    {
      "cell_type": "code",
      "metadata": {
        "colab": {
          "base_uri": "https://localhost:8080/",
          "height": 191
        },
        "id": "njAw3G58rLV9",
        "outputId": "6991dde0-3973-4258-8d04-2dd342cb7806"
      },
      "source": [
        "pd_df['location'] = pd_df[['latitude','longitude']].apply(lambda x:\",\".join(str(item) for item in x), axis=1) #Se combinan latitud y lonitud y se agregan a una nueva columna\r\n",
        "pd_df.head()"
      ],
      "execution_count": null,
      "outputs": [
        {
          "output_type": "execute_result",
          "data": {
            "text/html": [
              "<div>\n",
              "<style scoped>\n",
              "    .dataframe tbody tr th:only-of-type {\n",
              "        vertical-align: middle;\n",
              "    }\n",
              "\n",
              "    .dataframe tbody tr th {\n",
              "        vertical-align: top;\n",
              "    }\n",
              "\n",
              "    .dataframe thead th {\n",
              "        text-align: right;\n",
              "    }\n",
              "</style>\n",
              "<table border=\"1\" class=\"dataframe\">\n",
              "  <thead>\n",
              "    <tr style=\"text-align: right;\">\n",
              "      <th></th>\n",
              "      <th>longitude</th>\n",
              "      <th>latitude</th>\n",
              "      <th>housing_median_age</th>\n",
              "      <th>total_rooms</th>\n",
              "      <th>total_bedrooms</th>\n",
              "      <th>population</th>\n",
              "      <th>households</th>\n",
              "      <th>median_income</th>\n",
              "      <th>median_house_value</th>\n",
              "      <th>location</th>\n",
              "    </tr>\n",
              "  </thead>\n",
              "  <tbody>\n",
              "    <tr>\n",
              "      <th>0</th>\n",
              "      <td>-122.05</td>\n",
              "      <td>37.37</td>\n",
              "      <td>27.0</td>\n",
              "      <td>3885.0</td>\n",
              "      <td>661.0</td>\n",
              "      <td>1537.0</td>\n",
              "      <td>606.0</td>\n",
              "      <td>6.6085</td>\n",
              "      <td>344700.0</td>\n",
              "      <td>37.37,-122.05</td>\n",
              "    </tr>\n",
              "    <tr>\n",
              "      <th>1</th>\n",
              "      <td>-118.30</td>\n",
              "      <td>34.26</td>\n",
              "      <td>43.0</td>\n",
              "      <td>1510.0</td>\n",
              "      <td>310.0</td>\n",
              "      <td>809.0</td>\n",
              "      <td>277.0</td>\n",
              "      <td>3.5990</td>\n",
              "      <td>176500.0</td>\n",
              "      <td>34.26,-118.3</td>\n",
              "    </tr>\n",
              "    <tr>\n",
              "      <th>2</th>\n",
              "      <td>-117.81</td>\n",
              "      <td>33.78</td>\n",
              "      <td>27.0</td>\n",
              "      <td>3589.0</td>\n",
              "      <td>507.0</td>\n",
              "      <td>1484.0</td>\n",
              "      <td>495.0</td>\n",
              "      <td>5.7934</td>\n",
              "      <td>270500.0</td>\n",
              "      <td>33.78,-117.81</td>\n",
              "    </tr>\n",
              "    <tr>\n",
              "      <th>3</th>\n",
              "      <td>-118.36</td>\n",
              "      <td>33.82</td>\n",
              "      <td>28.0</td>\n",
              "      <td>67.0</td>\n",
              "      <td>15.0</td>\n",
              "      <td>49.0</td>\n",
              "      <td>11.0</td>\n",
              "      <td>6.1359</td>\n",
              "      <td>330000.0</td>\n",
              "      <td>33.82,-118.36</td>\n",
              "    </tr>\n",
              "    <tr>\n",
              "      <th>4</th>\n",
              "      <td>-119.67</td>\n",
              "      <td>36.33</td>\n",
              "      <td>19.0</td>\n",
              "      <td>1241.0</td>\n",
              "      <td>244.0</td>\n",
              "      <td>850.0</td>\n",
              "      <td>237.0</td>\n",
              "      <td>2.9375</td>\n",
              "      <td>81700.0</td>\n",
              "      <td>36.33,-119.67</td>\n",
              "    </tr>\n",
              "  </tbody>\n",
              "</table>\n",
              "</div>"
            ],
            "text/plain": [
              "   longitude  latitude  ...  median_house_value       location\n",
              "0    -122.05     37.37  ...            344700.0  37.37,-122.05\n",
              "1    -118.30     34.26  ...            176500.0   34.26,-118.3\n",
              "2    -117.81     33.78  ...            270500.0  33.78,-117.81\n",
              "3    -118.36     33.82  ...            330000.0  33.82,-118.36\n",
              "4    -119.67     36.33  ...             81700.0  36.33,-119.67\n",
              "\n",
              "[5 rows x 10 columns]"
            ]
          },
          "metadata": {
            "tags": []
          },
          "execution_count": 16
        }
      ]
    },
    {
      "cell_type": "code",
      "metadata": {
        "colab": {
          "base_uri": "https://localhost:8080/",
          "height": 191
        },
        "id": "4GRDsnKYsKw3",
        "outputId": "bf6f2e63-e16e-44c6-fe36-93a104be3e29"
      },
      "source": [
        "pd_df.drop(['longitude','latitude'],axis=1, inplace=True) #Se eliminan las columnas de latitud y longitud\r\n",
        "pd_df.head()"
      ],
      "execution_count": null,
      "outputs": [
        {
          "output_type": "execute_result",
          "data": {
            "text/html": [
              "<div>\n",
              "<style scoped>\n",
              "    .dataframe tbody tr th:only-of-type {\n",
              "        vertical-align: middle;\n",
              "    }\n",
              "\n",
              "    .dataframe tbody tr th {\n",
              "        vertical-align: top;\n",
              "    }\n",
              "\n",
              "    .dataframe thead th {\n",
              "        text-align: right;\n",
              "    }\n",
              "</style>\n",
              "<table border=\"1\" class=\"dataframe\">\n",
              "  <thead>\n",
              "    <tr style=\"text-align: right;\">\n",
              "      <th></th>\n",
              "      <th>housing_median_age</th>\n",
              "      <th>total_rooms</th>\n",
              "      <th>total_bedrooms</th>\n",
              "      <th>population</th>\n",
              "      <th>households</th>\n",
              "      <th>median_income</th>\n",
              "      <th>median_house_value</th>\n",
              "      <th>location</th>\n",
              "    </tr>\n",
              "  </thead>\n",
              "  <tbody>\n",
              "    <tr>\n",
              "      <th>0</th>\n",
              "      <td>27.0</td>\n",
              "      <td>3885.0</td>\n",
              "      <td>661.0</td>\n",
              "      <td>1537.0</td>\n",
              "      <td>606.0</td>\n",
              "      <td>6.6085</td>\n",
              "      <td>344700.0</td>\n",
              "      <td>37.37,-122.05</td>\n",
              "    </tr>\n",
              "    <tr>\n",
              "      <th>1</th>\n",
              "      <td>43.0</td>\n",
              "      <td>1510.0</td>\n",
              "      <td>310.0</td>\n",
              "      <td>809.0</td>\n",
              "      <td>277.0</td>\n",
              "      <td>3.5990</td>\n",
              "      <td>176500.0</td>\n",
              "      <td>34.26,-118.3</td>\n",
              "    </tr>\n",
              "    <tr>\n",
              "      <th>2</th>\n",
              "      <td>27.0</td>\n",
              "      <td>3589.0</td>\n",
              "      <td>507.0</td>\n",
              "      <td>1484.0</td>\n",
              "      <td>495.0</td>\n",
              "      <td>5.7934</td>\n",
              "      <td>270500.0</td>\n",
              "      <td>33.78,-117.81</td>\n",
              "    </tr>\n",
              "    <tr>\n",
              "      <th>3</th>\n",
              "      <td>28.0</td>\n",
              "      <td>67.0</td>\n",
              "      <td>15.0</td>\n",
              "      <td>49.0</td>\n",
              "      <td>11.0</td>\n",
              "      <td>6.1359</td>\n",
              "      <td>330000.0</td>\n",
              "      <td>33.82,-118.36</td>\n",
              "    </tr>\n",
              "    <tr>\n",
              "      <th>4</th>\n",
              "      <td>19.0</td>\n",
              "      <td>1241.0</td>\n",
              "      <td>244.0</td>\n",
              "      <td>850.0</td>\n",
              "      <td>237.0</td>\n",
              "      <td>2.9375</td>\n",
              "      <td>81700.0</td>\n",
              "      <td>36.33,-119.67</td>\n",
              "    </tr>\n",
              "  </tbody>\n",
              "</table>\n",
              "</div>"
            ],
            "text/plain": [
              "   housing_median_age  total_rooms  ...  median_house_value       location\n",
              "0                27.0       3885.0  ...            344700.0  37.37,-122.05\n",
              "1                43.0       1510.0  ...            176500.0   34.26,-118.3\n",
              "2                27.0       3589.0  ...            270500.0  33.78,-117.81\n",
              "3                28.0         67.0  ...            330000.0  33.82,-118.36\n",
              "4                19.0       1241.0  ...             81700.0  36.33,-119.67\n",
              "\n",
              "[5 rows x 8 columns]"
            ]
          },
          "metadata": {
            "tags": []
          },
          "execution_count": 18
        }
      ]
    },
    {
      "cell_type": "code",
      "metadata": {
        "colab": {
          "base_uri": "https://localhost:8080/"
        },
        "id": "SsdLuYVPspl_",
        "outputId": "f1af0464-21a5-4cdf-cfdb-c9f5339ab477"
      },
      "source": [
        "df = ed.pandas_to_eland(\r\n",
        "    pd_df=pd_df,\r\n",
        "    es_client=es,\r\n",
        "\r\n",
        "    #Nombre del indice para ElasticSearch\r\n",
        "    es_dest_index=\"california_housing_test\",\r\n",
        "\r\n",
        "    #Algunos tipos de columnas en nuestro dataset, location se detecta automáticamente como 'keyword', para este caso se interpretará como 'geo_point'\r\n",
        "    #El resto de columnas se puede dejar tal cual ya que son valores enteros/flotantes\r\n",
        "    es_type_overrides={\r\n",
        "        \"location\":\"geo_point\",\r\n",
        "    },\r\n",
        "\r\n",
        "    #Si el index existe se reemplazara\r\n",
        "    es_if_exists=\"replace\",\r\n",
        "\r\n",
        "    #Esperar a que los datos se indexen antes de regresar\r\n",
        "    es_refresh=True,\r\n",
        ")\r\n",
        "df.info()"
      ],
      "execution_count": null,
      "outputs": [
        {
          "output_type": "stream",
          "text": [
            "<class 'eland.dataframe.DataFrame'>\n",
            "Index: 3000 entries, 575 to 2499\n",
            "Data columns (total 8 columns):\n",
            " #   Column              Non-Null Count  Dtype  \n",
            "---  ------              --------------  -----  \n",
            " 0   households          3000 non-null   float64\n",
            " 1   housing_median_age  3000 non-null   float64\n",
            " 2   location            3000 non-null   object \n",
            " 3   median_house_value  3000 non-null   float64\n",
            " 4   median_income       3000 non-null   float64\n",
            " 5   population          3000 non-null   float64\n",
            " 6   total_bedrooms      3000 non-null   float64\n",
            " 7   total_rooms         3000 non-null   float64\n",
            "dtypes: float64(7), object(1)\n",
            "memory usage: 80.000 bytes\n",
            "Elasticsearch storage usage: 1.073 MB\n"
          ],
          "name": "stdout"
        }
      ]
    },
    {
      "cell_type": "markdown",
      "metadata": {
        "id": "vpSSdrGKwz9u"
      },
      "source": [
        "<p>Despues de crear el index-pattern se observa en kibana los datos almacenados en ElasticSearch</p>"
      ]
    },
    {
      "cell_type": "markdown",
      "metadata": {
        "id": "fqLlld04wwKc"
      },
      "source": [
        "![dataElastic.JPG](data:image/jpeg;base64,/9j/4AAQSkZJRgABAQEAYABgAAD/4RDiRXhpZgAATU0AKgAAAAgABAE7AAIAAAAIAAAISodpAAQAAAABAAAIUpydAAEAAAAQAAAQyuocAAcAAAgMAAAAPgAAAAAc6gAAAAgAAAAAAAAAAAAAAAAAAAAAAAAAAAAAAAAAAAAAAAAAAAAAAAAAAAAAAAAAAAAAAAAAAAAAAAAAAAAAAAAAAAAAAAAAAAAAAAAAAAAAAAAAAAAAAAAAAAAAAAAAAAAAAAAAAAAAAAAAAAAAAAAAAAAAAAAAAAAAAAAAAAAAAAAAAAAAAAAAAAAAAAAAAAAAAAAAAAAAAAAAAAAAAAAAAAAAAAAAAAAAAAAAAAAAAAAAAAAAAAAAAAAAAAAAAAAAAAAAAAAAAAAAAAAAAAAAAAAAAAAAAAAAAAAAAAAAAAAAAAAAAAAAAAAAAAAAAAAAAAAAAAAAAAAAAAAAAAAAAAAAAAAAAAAAAAAAAAAAAAAAAAAAAAAAAAAAAAAAAAAAAAAAAAAAAAAAAAAAAAAAAAAAAAAAAAAAAAAAAAAAAAAAAAAAAAAAAAAAAAAAAAAAAAAAAAAAAAAAAAAAAAAAAAAAAAAAAAAAAAAAAAAAAAAAAAAAAAAAAAAAAAAAAAAAAAAAAAAAAAAAAAAAAAAAAAAAAAAAAAAAAAAAAAAAAAAAAAAAAAAAAAAAAAAAAAAAAAAAAAAAAAAAAAAAAAAAAAAAAAAAAAAAAAAAAAAAAAAAAAAAAAAAAAAAAAAAAAAAAAAAAAAAAAAAAAAAAAAAAAAAAAAAAAAAAAAAAAAAAAAAAAAAAAAAAAAAAAAAAAAAAAAAAAAAAAAAAAAAAAAAAAAAAAAAAAAAAAAAAAAAAAAAAAAAAAAAAAAAAAAAAAAAAAAAAAAAAAAAAAAAAAAAAAAAAAAAAAAAAAAAAAAAAAAAAAAAAAAAAAAAAAAAAAAAAAAAAAAAAAAAAAAAAAAAAAAAAAAAAAAAAAAAAAAAAAAAAAAAAAAAAAAAAAAAAAAAAAAAAAAAAAAAAAAAAAAAAAAAAAAAAAAAAAAAAAAAAAAAAAAAAAAAAAAAAAAAAAAAAAAAAAAAAAAAAAAAAAAAAAAAAAAAAAAAAAAAAAAAAAAAAAAAAAAAAAAAAAAAAAAAAAAAAAAAAAAAAAAAAAAAAAAAAAAAAAAAAAAAAAAAAAAAAAAAAAAAAAAAAAAAAAAAAAAAAAAAAAAAAAAAAAAAAAAAAAAAAAAAAAAAAAAAAAAAAAAAAAAAAAAAAAAAAAAAAAAAAAAAAAAAAAAAAAAAAAAAAAAAAAAAAAAAAAAAAAAAAAAAAAAAAAAAAAAAAAAAAAAAAAAAAAAAAAAAAAAAAAAAAAAAAAAAAAAAAAAAAAAAAAAAAAAAAAAAAAAAAAAAAAAAAAAAAAAAAAAAAAAAAAAAAAAAAAAAAAAAAAAAAAAAAAAAAAAAAAAAAAAAAAAAAAAAAAAAAAAAAAAAAAAAAAAAAAAAAAAAAAAAAAAAAAAAAAAAAAAAAAAAAAAAAAAAAAAAAAAAAAAAAAAAAAAAAAAAAAAAAAAAAAAAAAAAAAAAAAAAAAAAAAAAAAAAAAAAAAAAAAAAAAAAAAAAAAAAAAAAAAAAAAAAAAAAAAAAAAAAAAAAAAAAAAAAAAAAAAAAAAAAAAAAAAAAAAAAAAAAAAAAAAAAAAAAAAAAAAAAAAAAAAAAAAAAAAAAAAAAAAAAAAAAAAAAAAAAAAAAAAAAAAAAAAAAAAAAAAAAAAAAAAAAAAAAAAAAAAAAAAAAAAAAAAAAAAAAAAAAAAAAAAAAAAAAAAAAAAAAAAAAAAAAAAAAAAAAAAAAAAAAAAAAAAAAAAAAAAAAAAAAAAAAAAAAAAAAAAAAAAAAAAAAAAAAAAAAAAAAAAAAAAAAAAAAAAAAAAAAAAAAAAAAAAAAAAAAAAAAAAAAAAAAAAAAAAAAAAAAAAAAAAAAAAAAAAAAAAAAAAAAAAAAAAAAAAAAAAAAAAAAAAAAAAAAAAAAAAAAAAAAAAAAAAAAAAAAAAAAAAAAAAAAAAAAAAAAAAAAAAAAAAAAAAAAAAAAAAAAAAAAAAAAAAAAAAAAAAAAAAAAAAAAAAAAAAAAAAAAAAAAAAAAAAAAAAAAAAAAAAAAAAAAAAAAAAAAAAAAAAAAAAAAAAAAAAAAAAAAAAAAAAAAAAAAAAAAAAAAAAAAAAAAAAAAAAAAAAAAAAAAAAAAAAAAAAAAAAAAAAAAAAAAAAAAAAAAAAAAAAAAAAAAAAAAAAAAAAAAAAAAAAAAAAAAAAAAAAAAAAAAAAAAAAAAAAAAAAAAAAAAAAAAAAAAAAAAAAAAAAAAAAAAAAAAAAAAAAAAAAAAAAAAAAAAAAAAAAAAAAAAAAAAAAAAAAAAAAAAAAAAAAAAAAAAAAAAAAAAAAAAAAAAAAAAAAAAAAAAAAAAAAAAAAAAAAAAAAAAAAAAAAAAAAAAAAAAAAAAAAAAAAAAAAAAAAAAAAAAAAAAAAAAAAAAAAAAAAAAAAAAAAAAAAAAAAAAAAAAAAAAAAAAAAAAAAAAAAAAAAAAAAAAAAAAAAAAAAAAAAAAAAAAAAAAAAAAAAAAAAAAAAAAAAAAAAAAAAAAAAAAAAAAAAAAAAAAAAAAAAAAAAAAAAAAAAAAAAAAAAAAAAAAAAAAAAAAAAAAAAAAAAAAAAAAAAAAAAAAAAAAAAAAAAAAAAAAAAAAAAAAAAAAAAAAAAAAAAAAAAAAAAAAAAAAAAAAAAAAAAAAAAAAAAAAAAAAAAAAAAAAAAAAAAAAAAAAAAAAAAAAAAAAAAAAAAAAAAAAAAAAAAAAAAAAAAAAAAAAAAAAAAAAAAAAAAAAAAAAAAAAAENlbGVzdGUAAAWQAwACAAAAFAAAEKCQBAACAAAAFAAAELSSkQACAAAAAzk4AACSkgACAAAAAzk4AADqHAAHAAAIDAAACJQAAAAAHOoAAAAIAAAAAAAAAAAAAAAAAAAAAAAAAAAAAAAAAAAAAAAAAAAAAAAAAAAAAAAAAAAAAAAAAAAAAAAAAAAAAAAAAAAAAAAAAAAAAAAAAAAAAAAAAAAAAAAAAAAAAAAAAAAAAAAAAAAAAAAAAAAAAAAAAAAAAAAAAAAAAAAAAAAAAAAAAAAAAAAAAAAAAAAAAAAAAAAAAAAAAAAAAAAAAAAAAAAAAAAAAAAAAAAAAAAAAAAAAAAAAAAAAAAAAAAAAAAAAAAAAAAAAAAAAAAAAAAAAAAAAAAAAAAAAAAAAAAAAAAAAAAAAAAAAAAAAAAAAAAAAAAAAAAAAAAAAAAAAAAAAAAAAAAAAAAAAAAAAAAAAAAAAAAAAAAAAAAAAAAAAAAAAAAAAAAAAAAAAAAAAAAAAAAAAAAAAAAAAAAAAAAAAAAAAAAAAAAAAAAAAAAAAAAAAAAAAAAAAAAAAAAAAAAAAAAAAAAAAAAAAAAAAAAAAAAAAAAAAAAAAAAAAAAAAAAAAAAAAAAAAAAAAAAAAAAAAAAAAAAAAAAAAAAAAAAAAAAAAAAAAAAAAAAAAAAAAAAAAAAAAAAAAAAAAAAAAAAAAAAAAAAAAAAAAAAAAAAAAAAAAAAAAAAAAAAAAAAAAAAAAAAAAAAAAAAAAAAAAAAAAAAAAAAAAAAAAAAAAAAAAAAAAAAAAAAAAAAAAAAAAAAAAAAAAAAAAAAAAAAAAAAAAAAAAAAAAAAAAAAAAAAAAAAAAAAAAAAAAAAAAAAAAAAAAAAAAAAAAAAAAAAAAAAAAAAAAAAAAAAAAAAAAAAAAAAAAAAAAAAAAAAAAAAAAAAAAAAAAAAAAAAAAAAAAAAAAAAAAAAAAAAAAAAAAAAAAAAAAAAAAAAAAAAAAAAAAAAAAAAAAAAAAAAAAAAAAAAAAAAAAAAAAAAAAAAAAAAAAAAAAAAAAAAAAAAAAAAAAAAAAAAAAAAAAAAAAAAAAAAAAAAAAAAAAAAAAAAAAAAAAAAAAAAAAAAAAAAAAAAAAAAAAAAAAAAAAAAAAAAAAAAAAAAAAAAAAAAAAAAAAAAAAAAAAAAAAAAAAAAAAAAAAAAAAAAAAAAAAAAAAAAAAAAAAAAAAAAAAAAAAAAAAAAAAAAAAAAAAAAAAAAAAAAAAAAAAAAAAAAAAAAAAAAAAAAAAAAAAAAAAAAAAAAAAAAAAAAAAAAAAAAAAAAAAAAAAAAAAAAAAAAAAAAAAAAAAAAAAAAAAAAAAAAAAAAAAAAAAAAAAAAAAAAAAAAAAAAAAAAAAAAAAAAAAAAAAAAAAAAAAAAAAAAAAAAAAAAAAAAAAAAAAAAAAAAAAAAAAAAAAAAAAAAAAAAAAAAAAAAAAAAAAAAAAAAAAAAAAAAAAAAAAAAAAAAAAAAAAAAAAAAAAAAAAAAAAAAAAAAAAAAAAAAAAAAAAAAAAAAAAAAAAAAAAAAAAAAAAAAAAAAAAAAAAAAAAAAAAAAAAAAAAAAAAAAAAAAAAAAAAAAAAAAAAAAAAAAAAAAAAAAAAAAAAAAAAAAAAAAAAAAAAAAAAAAAAAAAAAAAAAAAAAAAAAAAAAAAAAAAAAAAAAAAAAAAAAAAAAAAAAAAAAAAAAAAAAAAAAAAAAAAAAAAAAAAAAAAAAAAAAAAAAAAAAAAAAAAAAAAAAAAAAAAAAAAAAAAAAAAAAAAAAAAAAAAAAAAAAAAAAAAAAAAAAAAAAAAAAAAAAAAAAAAAAAAAAAAAAAAAAAAAAAAAAAAAAAAAAAAAAAAAAAAAAAAAAAAAAAAAAAAAAAAAAAAAAAAAAAAAAAAAAAAAAAAAAAAAAAAAAAAAAAAAAAAAAAAAAAAAAAAAAAAAAAAAAAAAAAAAAAAAAAAAAAAAAAAAAAAAAAAAAAAAAAAAAAAAAAAAAAAAAAAAAAAAAAAAAAAAAAAAAAAAAAAAAAAAAAAAAAAAAAAAAAAAAAAAAAAAAAAAAAAAAAAAAAAAAAAAAAAAAAAAAAAAAAAAAAAAAAAAAAAAAAAAAAAAAAAAAAAAAAAAAAAAAAAAAAAAAAAAAAAAAAAAAAAAAAAAAAAAAAAAAAAAAAAAAAAAAAAAAAAAAAAAAAAAAAAAAAAAAAAAAAAAAAAAAAAAAAAAAAAAAAAAAAAAAAAAAAAAAAAAAAAAAAAAAAAAAAAAAAAAAAAAAAAAAAAAAAAAAAAAAAAAAAAAAAAAAAAAAAAAAAAAAAAAAAAAAAAAAAAAAAAAAAAAAAAAAAAAAAAAAAAAAAAAAAAAAAAAAAAAAAAAAAAAAAAAAAAAAAAAAAAAAAAAAAAAAAAAAAAAAAAAAAAAAAAAAAAAAAAAAAAAAAAAAAAAAAAAAAAAAAAAAAAAAAAAAAAAAAAAAAAAAAAAAAAAAAAAAAAAAAAAAAAAAAAAAAAAAAAAAAAAAAAAAAAAAAAAAAAAAAAAAAAAAAAAAAAAAAAAAAAAAAAAAAAAAAAAAAAAAAAAAAAAAAAAAAAAAAAAAAAAAAAAAAAAAAAAAAAAAAAAAAAAAAAAAAAAAAAAAAAAAAAAAAAAAAAAAAAAAAAAAAAAAAAAAAAAAAAAAAAAAAAAAAAAAAAAAAAAAAAAAAAAAAAAAAAAAAAAAAAAAAAAAAAAAAAAAAAAAAAAAAAAAAAAAAAAAAAAAAAAAAAAAAAAAAAAAAAAAAAAAAAAAAAAAAAAAAAAAAAAAAAAAAAAAAAAAAAAAAAAAAAAAAAAAAAAAAAAAAAAAAAAAAAAAAyMDIxOjAxOjE0IDE2OjE1OjQzADIwMjE6MDE6MTQgMTY6MTU6NDMAAABDAGUAbABlAHMAdABlAAAA/+ELGmh0dHA6Ly9ucy5hZG9iZS5jb20veGFwLzEuMC8APD94cGFja2V0IGJlZ2luPSfvu78nIGlkPSdXNU0wTXBDZWhpSHpyZVN6TlRjemtjOWQnPz4NCjx4OnhtcG1ldGEgeG1sbnM6eD0iYWRvYmU6bnM6bWV0YS8iPjxyZGY6UkRGIHhtbG5zOnJkZj0iaHR0cDovL3d3dy53My5vcmcvMTk5OS8wMi8yMi1yZGYtc3ludGF4LW5zIyI+PHJkZjpEZXNjcmlwdGlvbiByZGY6YWJvdXQ9InV1aWQ6ZmFmNWJkZDUtYmEzZC0xMWRhLWFkMzEtZDMzZDc1MTgyZjFiIiB4bWxuczpkYz0iaHR0cDovL3B1cmwub3JnL2RjL2VsZW1lbnRzLzEuMS8iLz48cmRmOkRlc2NyaXB0aW9uIHJkZjphYm91dD0idXVpZDpmYWY1YmRkNS1iYTNkLTExZGEtYWQzMS1kMzNkNzUxODJmMWIiIHhtbG5zOnhtcD0iaHR0cDovL25zLmFkb2JlLmNvbS94YXAvMS4wLyI+PHhtcDpDcmVhdGVEYXRlPjIwMjEtMDEtMTRUMTY6MTU6NDMuOTg0PC94bXA6Q3JlYXRlRGF0ZT48L3JkZjpEZXNjcmlwdGlvbj48cmRmOkRlc2NyaXB0aW9uIHJkZjphYm91dD0idXVpZDpmYWY1YmRkNS1iYTNkLTExZGEtYWQzMS1kMzNkNzUxODJmMWIiIHhtbG5zOmRjPSJodHRwOi8vcHVybC5vcmcvZGMvZWxlbWVudHMvMS4xLyI+PGRjOmNyZWF0b3I+PHJkZjpTZXEgeG1sbnM6cmRmPSJodHRwOi8vd3d3LnczLm9yZy8xOTk5LzAyLzIyLXJkZi1zeW50YXgtbnMjIj48cmRmOmxpPkNlbGVzdGU8L3JkZjpsaT48L3JkZjpTZXE+DQoJCQk8L2RjOmNyZWF0b3I+PC9yZGY6RGVzY3JpcHRpb24+PC9yZGY6UkRGPjwveDp4bXBtZXRhPg0KICAgICAgICAgICAgICAgICAgICAgICAgICAgICAgICAgICAgICAgICAgICAgICAgICAgICAgICAgICAgICAgICAgICAgICAgICAgICAgICAgICAgICAgICAgICAgICAgICAgIAogICAgICAgICAgICAgICAgICAgICAgICAgICAgICAgICAgICAgICAgICAgICAgICAgICAgICAgICAgICAgICAgICAgICAgICAgICAgICAgICAgICAgICAgICAgICAgICAgICAgCiAgICAgICAgICAgICAgICAgICAgICAgICAgICAgICAgICAgICAgICAgICAgICAgICAgICAgICAgICAgICAgICAgICAgICAgICAgICAgICAgICAgICAgICAgICAgICAgICAgICAKICAgICAgICAgICAgICAgICAgICAgICAgICAgICAgICAgICAgICAgICAgICAgICAgICAgICAgICAgICAgICAgICAgICAgICAgICAgICAgICAgICAgICAgICAgICAgICAgICAgIAogICAgICAgICAgICAgICAgICAgICAgICAgICAgICAgICAgICAgICAgICAgICAgICAgICAgICAgICAgICAgICAgICAgICAgICAgICAgICAgICAgICAgICAgICAgICAgICAgICAgCiAgICAgICAgICAgICAgICAgICAgICAgICAgICAgICAgICAgICAgICAgICAgICAgICAgICAgICAgICAgICAgICAgICAgICAgICAgICAgICAgICAgICAgICAgICAgICAgICAgICAKICAgICAgICAgICAgICAgICAgICAgICAgICAgICAgICAgICAgICAgICAgICAgICAgICAgICAgICAgICAgICAgICAgICAgICAgICAgICAgICAgICAgICAgICAgICAgICAgICAgIAogICAgICAgICAgICAgICAgICAgICAgICAgICAgICAgICAgICAgICAgICAgICAgICAgICAgICAgICAgICAgICAgICAgICAgICAgICAgICAgICAgICAgICAgICAgICAgICAgICAgCiAgICAgICAgICAgICAgICAgICAgICAgICAgICAgICAgICAgICAgICAgICAgICAgICAgICAgICAgICAgICAgICAgICAgICAgICAgICAgICAgICAgICAgICAgICAgICAgICAgICAKICAgICAgICAgICAgICAgICAgICAgICAgICAgICAgICAgICAgICAgICAgICAgICAgICAgICAgICAgICAgICAgICAgICAgICAgICAgICAgICAgICAgICAgICAgICAgICAgICAgIAogICAgICAgICAgICAgICAgICAgICAgICAgICAgICAgICAgICAgICAgICAgICAgICAgICAgICAgICAgICAgICAgICAgICAgICAgICAgICAgICAgICAgICAgICAgICAgICAgICAgCiAgICAgICAgICAgICAgICAgICAgICAgICAgICAgICAgICAgICAgICAgICAgICAgICAgICAgICAgICAgICAgICAgICAgICAgICAgICAgICAgICAgICAgICAgICAgICAgICAgICAKICAgICAgICAgICAgICAgICAgICAgICAgICAgICAgICAgICAgICAgICAgICAgICAgICAgICAgICAgICAgICAgICAgICAgICAgICAgICAgICAgICAgICAgICAgICAgICAgICAgIAogICAgICAgICAgICAgICAgICAgICAgICAgICAgICAgICAgICAgICAgICAgICAgICAgICAgICAgICAgICAgICAgICAgICAgICAgICAgICAgICAgICAgICAgICAgICAgICAgICAgCiAgICAgICAgICAgICAgICAgICAgICAgICAgICAgICAgICAgICAgICAgICAgICAgICAgICAgICAgICAgICAgICAgICAgICAgICAgICAgICAgICAgICAgICAgICAgICAgICAgICAKICAgICAgICAgICAgICAgICAgICAgICAgICAgICAgICAgICAgICAgICAgICAgICAgICAgICAgICAgICAgICAgICAgICAgICAgICAgICAgICAgICAgICAgICAgICAgICAgICAgIAogICAgICAgICAgICAgICAgICAgICAgICAgICAgICAgICAgICAgICAgICAgICAgICAgICAgICAgICAgICAgICAgICAgICAgICAgICAgICAgICAgICAgICAgICAgICAgICAgICAgCiAgICAgICAgICAgICAgICAgICAgICAgICAgICAgICAgICAgICAgICAgICAgICAgICAgICAgICAgICAgICAgICAgICAgICAgICAgICAgICAgICAgICAgICAgICAgICAgICAgICAKICAgICAgICAgICAgICAgICAgICAgICAgICAgICAgICAgICAgICAgICAgICAgICAgICAgICAgICAgICAgICAgICAgICAgICAgICAgICAgICAgICAgICAgICAgICAgICAgICAgIAogICAgICAgICAgICAgICAgICAgICAgICAgICAgICAgICAgICAgICAgICAgICAgICAgICAgICAgICAgICAgICAgICAgICAgICAgICAgICAgICAgICAgICAgICAgICAgICAgICAgCiAgICAgICAgICAgICAgICAgICAgICAgICAgICA8P3hwYWNrZXQgZW5kPSd3Jz8+/9sAQwAHBQUGBQQHBgUGCAcHCAoRCwoJCQoVDxAMERgVGhkYFRgXGx4nIRsdJR0XGCIuIiUoKSssKxogLzMvKjInKisq/9sAQwEHCAgKCQoUCwsUKhwYHCoqKioqKioqKioqKioqKioqKioqKioqKioqKioqKioqKioqKioqKioqKioqKioqKioq/8AAEQgCOQT9AwEiAAIRAQMRAf/EAB8AAAEFAQEBAQEBAAAAAAAAAAABAgMEBQYHCAkKC//EALUQAAIBAwMCBAMFBQQEAAABfQECAwAEEQUSITFBBhNRYQcicRQygZGhCCNCscEVUtHwJDNicoIJChYXGBkaJSYnKCkqNDU2Nzg5OkNERUZHSElKU1RVVldYWVpjZGVmZ2hpanN0dXZ3eHl6g4SFhoeIiYqSk5SVlpeYmZqio6Slpqeoqaqys7S1tre4ubrCw8TFxsfIycrS09TV1tfY2drh4uPk5ebn6Onq8fLz9PX29/j5+v/EAB8BAAMBAQEBAQEBAQEAAAAAAAABAgMEBQYHCAkKC//EALURAAIBAgQEAwQHBQQEAAECdwABAgMRBAUhMQYSQVEHYXETIjKBCBRCkaGxwQkjM1LwFWJy0QoWJDThJfEXGBkaJicoKSo1Njc4OTpDREVGR0hJSlNUVVZXWFlaY2RlZmdoaWpzdHV2d3h5eoKDhIWGh4iJipKTlJWWl5iZmqKjpKWmp6ipqrKztLW2t7i5usLDxMXGx8jJytLT1NXW19jZ2uLj5OXm5+jp6vLz9PX29/j5+v/aAAwDAQACEQMRAD8A8aoor2TwN4D0trGzTXNOtpruUNNcR3EpEiAAlEADDsASOuWIIwMVo7qMp20Su/RBBRlJRckr7Xdr+Xr2R43RX1Vc2FpqWnnTL61imsGG0220BFH+yOikdiMYr5i1jTpNJ1i5spA37mQhGYffT+Fh6gjBBHBBrycszSnmMJShFrlfU3xOHeHaTd7lKiiu/wBd0DwT4amtbTUTr81zNZxXLNBJCEBdc45XNescxwFFddceB57qx0J/D8U93c6nay3MqOyqsSo+3JY4CjGMknrWc/gvxAmq22nf2e0lxdRmWExSpJHIg6sJFJTAxyc8d6AMKiu00P4Y6zqmvRadfNFYpLbPcR3ImiljkVQfusr7W5GDgnHU1Sn8IXSaPbLDYXk2qTag1oPJmilhchQdq7CWLc5J+7igDmKK2dZ8J61oFvHcapaLHBJIYhLFPHMgcdVJRiA3scGsagAooopgFFFFABRRRQAUUUUAFFFFABRRRQAUUUUAFFFFABRRRQAUUUUAFFFFABRRRQAUUUUAFFFFABRRRQAUUUUAFFFFABRRRQAUUUUAFFFFABRRRQAUUUUAFFFFABRRRQAUUUUAFFFFABRRRQBNFEjRPJK7IqsF+VdxJOfcelLstP8AntN/35H/AMVSp/yDpv8ArrH/ACerQgtrHTre4uojcT3QZ4oyxVEQMV3HHJJZW4BGNvfPCAqbLT/ntN/35H/xVGy0/wCe03/fkf8AxVWp7e2uNLa9s0MLxSLHPCW3D5gSrKTzj5SCDnHHJzxVs7SS+ulgh2hmycseAAMk0AGy0/57Tf8Afkf/ABVGy0/57Tf9+R/8VUsmnv5iLZyLe+YCQLcMWGOuVIyPypi6feu7olpOzR8OoiJK/XjigBuy0/57Tf8Afkf/ABVGy0/57Tf9+R/8VTl0+8dVZbSdlc4UiIkN9OKmj0a+khldbeTfEVDRFG3nPcDFAFfZaf8APab/AL8j/wCKo2Wn/Pab/vyP/iqfZ2Et5dtbgrE6qzMZMjbjrnAJp/8AZzNBLLbzxXCxFAfLD5JYkAAFR6UAQ7LT/ntN/wB+R/8AFUbLT/ntN/35H/xVOOnXomWI2dwJGGQhibJHrjFTxaLeyRCV4ZI4/N8piY2JU+uAM0AVtlp/z2m/78j/AOKo2Wn/AD2m/wC/I/8AiqVrG5WN5RbytChIMojbbwcdcVXoAn2Wn/Pab/vyP/iqNlp/z2m/78j/AOKqCimBPstP+e03/fkf/FUbLT/ntN/35H/xVQUUAT7LT/ntN/35H/xVGy0/57Tf9+R/8VUFFAE+y0/57Tf9+R/8VRstP+e03/fkf/FVBRQBPstP+e03/fkf/FUbLT/ntN/35H/xVQUUASzxLH5ZRiyyLuBK4PUjpk+lRVYuP9Ra/wDXI/8AobVXoAKKKKACiiigAooooAKKKKACiiigAooooAKKKKACiiigAooooAKKKKACiiigAooooAKKKKACiiigAooooAKKKKACiiigAooooAKKKKACiiigAooooAKKKKACiiigAooooAKKKKACiiigAoqSCCW5uI4LdGkllcIiKOWYnAA/Gu6fwNpdlc2VhcahBeXV6kbRz2+qQxpljggIyHO05GWZN2OKQHA0VqeItEbw/rU1ibmG8jUkxXMByky5I3D8QQfQgisugAooqeztJr++gs7RPMnuJFiiQfxMxwB+ZpgQUV2F74OiewMmkx3ck0MQmk2sLhJoiyKJUKqMDLSDb8xHltk8GuTuEWO4kSP7qsQPnDcfUcH60gI6KKKYBRXsPhLwlZ6VpkM9zAk17Kod3dc7M87Rnpitu70/TdXt3huYYbhPut0JU/Ucg1HMe1TyipKHM5WfY8Dr1f8AZ4/5KFff9guT/wBGxV594l0Y6Drs1kGLxjDxMepU9P8AD8K9A/Z6YL8QL9mIAGlSEknp+9ipvY8icJQm4y3R9CXmrWdhcQw3UwR5jgf7I9T6DPGf8Di5VCVNInkMk62Ujt1ZwhJ/GrUEkDIEtnjKoAAsZGFHYcdKgR8PV7jpXiI6lo8Ot28Rhvrx382TORE4PzbMdMk59QCAPU+HVt6D4rv/AA/HJDbpDc2sjb2trlSU3dNw2kMDjg4IzgZzgV10a0qTdtnueVmWDli6HLTdpLZntsk2oeI/Ds9s98LVxKiNIsX+vVg3yNt5x8o6DnPOa8X8Y3cU2tJZwfMumxm0MvH71lkdmYY7ZYgeoAPGcVLeeP8AxDcSN9lvn06EggW9kzRoM9+pJPuST2ziub69ayUpRUqUElTvdJJLXq33uVgsLUpRjKvJyqWs3dvS/mJXrvivU9Xu57I+HNU8PyWI02BH8680/eHCYYHzW3givIqKk9E9a00aJqXh7RbS5urW6vrXSJ1isG1AQRzSmb/VyOGGOOQNwzU0999kTw3ZaddeGrO9htL6K4sBdebaney/uHcu2Cw7l8ZB5rx+iiwHsGmPoeheLNBeSS00q6lt7uK6sodRFxbWrMhCNvLsE3E8jce3So/Cmpaf4e8P2GmavqFpb3Yv7uFmS5ST7MZIAqyEoSNuTjcOOvpXkdFFgOn1XQLvw/4ckS+1y2DTXK7NNtLtZ1mUA/vm2MQB2GRk57VzFFFABRRRTAKKKKACiiigAooooAKKKKACiiigAooooAKKKKACiiigAooooAKKKKACiiigAooooAKKKKACiiigAooooAKKKKACiiigAooooAKKKKACiiigAooooAKKKKACiiigAooooAKKKKACiiigCwn/ACDpv+usf8nq3HcWl7p8FrfSPby2oZYZlTerIWLbWGcjDMxyM9cYqpCY2tZYnlWNi6sCwODgMD0B9RSfZ4/+fuH8n/8AiaQF60aGXw9d2qSJFdeas7eYQBKiqcKp7MCxOP4uMcjBpWUscN4kkzzIq/xwEB1PqM0n2eP/AJ+4fyf/AOJo+zx/8/cP5P8A/E0Aba63Zq+yTdOXiKSXLQKC3IIyoPIGPXNPTXrH7QZZFkyjoVPlA7lUY4G7Cn354rB+zx/8/cP5P/8AE0fZ4/8An7h/J/8A4mgDWfWraS6jJWZY/s7wswA3LuJ5HNRf2law2b20L3Mo3RFXkA6KSTgZ4HoOazvs8f8Az9w/k/8A8TR9nj/5+4fyf/4mgDRh1aBPENxfESrFKHC4UFhkYHGcfrUkWr2yNL9okuLkSNEd3lrGQFJJHDe9ZX2eP/n7h/J//iaPs8f/AD9w/k//AMTQBtvrVkZIkQuqKsisRbrtbcVOCueRxyc5zTF1mxWbcqTqiXazoMBsgKARy3H6+lY/2eP/AJ+4fyf/AOJo+zx/8/cP5P8A/E0AaV5qNpdx+Z5l1FKsTRLEgAVsknJOenPIxWNU/wBnj/5+4fyf/wCJo+zx/wDP3D+T/wDxNAEFFT/Z4/8An7h/J/8A4mj7PH/z9w/k/wD8TTAgoqf7PH/z9w/k/wD8TR9nj/5+4fyf/wCJoAgoqf7PH/z9w/k//wATR9nj/wCfuH8n/wDiaAIKKn+zx/8AP3D+T/8AxNH2eP8A5+4fyf8A+JoAgoqf7PH/AM/cP5P/APE0fZ4/+fuH8n/+JoAW4/1Fr/1yP/obVXqe5ZNsCRuJPLj2llBxncx7/WoKACiiigAooooAKKKKACiiigAooooAKKKKACiiigAooooAKKKKACiiigAooooAKKKKACiiigAooooAKKKKACiiigAooooAKKKKACiiigAooooAKKKKACiiigAooooAKKKKACiiigAooooAt6VeLp2s2V66GRba4SUoMfMFYHHP0rvb/wAI6dqWo6fd2Oo319p6W1slxdWmnsyKFUJw27ahCqN28rg5PNeb0UgOj8cXdpc+JJY7C7S9htzIv2qNNiTFpXkJUemZCB9K5yiigArofBkStq9xP50MU1vaSPAZZo4v3jYjBBdlXK7y4BI+5XPUUAeiXV5ouk+H5tMfWLa68skpbWSySRyyoB5cpJ+Ub8bZE3Ecbhk4FcVrU9jcarJLpcRit2SP5du0b9i7yBk4BfcQM8AiqFFABRRRTA97sLuPV9DiuLaTCzxcMv8ACSMH8Qah0XT57FCtxbWcG2JIg1sSTJtzy2QMdenPfmvING8S6noJYWE+I2OWicblJ9cdvwrSv/iFrt9btCJIbZWGCYEIb8yTj8Kz5WfSwzWi4qU0+ZB8Qr+K+8VuIGDLbxrCSO5BJP5Zx+FdR8Bv+Ry1b/sDTf8AoyKvMCSTk8mvT/gN/wAjlq3/AGBpv/RkVV0Pn6tR1ajm+p6/W54c/wCXn/gP9aw63PDn/Lz/AMB/rUEHiP8Awzf4u/6CWi/9/wCX/wCNUf8ADN/i3/oJaL/3/l/+NV9M0U+ZisfM3/DN/i3/AKCWi/8Af+X/AONUf8M3+Lf+glov/f8Al/8AjVfTNFHMwsfM3/DN/i3/AKCWi/8Af+X/AONUf8M3+Lf+glov/f8Al/8AjVfTNI7rGjPIwVVGWZjgAU7sND5n/wCGb/Fv/QS0X/v/AC//ABqj/hm/xb/0EtF/7/y//Gq+h/8AhI9E/wCgzp//AIFJ/jSr4h0V2Cpq9gzE4AFyhJ/WnaXYx9vR/nX3o+d/+Gb/ABb/ANBLRf8Av/L/APGqP+Gb/Fv/AEEtF/7/AMv/AMar6ZoqeZm1j5m/4Zv8W/8AQS0X/v8Ay/8Axqj/AIZv8W/9BLRf+/8AL/8AGq+maKOZhY+Zv+Gb/Fv/AEEtF/7/AMv/AMao/wCGb/Fv/QS0X/v/AC//ABqvpmijmYWPmb/hm/xb/wBBLRf+/wDL/wDGqP8Ahm/xb/0EtF/7/wAv/wAar6Zoo5mFj5m/4Zv8W/8AQS0X/v8Ay/8Axqj/AIZv8W/9BLRf+/8AL/8AGq+maKOZhY+Zv+Gb/Fv/AEEtF/7/AMv/AMao/wCGb/Fv/QS0X/v/AC//ABqvpmijmYWPmb/hm/xb/wBBLRf+/wDL/wDGqP8Ahm/xb/0EtF/7/wAv/wAar6Zoo5mFj5m/4Zv8W/8AQS0X/v8Ay/8Axqj/AIZv8W/9BLRf+/8AL/8AGq+maKOZhY+Zv+Gb/Fv/AEEtF/7/AMv/AMao/wCGb/Fv/QS0X/v/AC//ABqvpmijmYWPmb/hm/xb/wBBLRf+/wDL/wDGqP8Ahm/xb/0EtF/7/wAv/wAar6Zoo5mFj5m/4Zv8W/8AQS0X/v8Ay/8Axqj/AIZv8W/9BLRf+/8AL/8AGq+maKOZhY+Zv+Gb/Fv/AEEtF/7/AMv/AMao/wCGb/Fv/QS0X/v/AC//ABqvpmijmYWPmb/hm/xb/wBBLRf+/wDL/wDGqP8Ahm/xb/0EtF/7/wAv/wAar6Zoo5mFj5m/4Zv8W/8AQS0X/v8Ay/8Axqj/AIZv8W/9BLRf+/8AL/8AGq+maKOZhY+Zv+Gb/Fv/AEEtF/7/AMv/AMao/wCGb/Fv/QS0X/v/AC//ABqvpmijmYWPmb/hm/xb/wBBLRf+/wDL/wDGqP8Ahm/xb/0EtF/7/wAv/wAar6Zoo5mFj5m/4Zv8W/8AQS0X/v8Ay/8Axqj/AIZv8W/9BLRf+/8AL/8AGq+maKOZhY+Zv+Gb/Fv/AEEtF/7/AMv/AMao/wCGb/Fv/QS0X/v/AC//ABqvpmijmYWPmb/hm/xb/wBBLRf+/wDL/wDGqP8Ahm/xb/0EtF/7/wAv/wAar6Zoo5mFj5m/4Zv8W/8AQS0X/v8Ay/8Axqj/AIZv8W/9BLRf+/8AL/8AGq+maKOZhY+Zv+Gb/Fv/AEEtF/7/AMv/AMao/wCGb/Fv/QS0X/v/AC//ABqvpmijmYWPmb/hm/xb/wBBLRf+/wDL/wDGqP8Ahm/xb/0EtF/7/wAv/wAar6Zoo5mFj5m/4Zv8W/8AQS0X/v8Ay/8Axqj/AIZv8W/9BLRf+/8AL/8AGq+maKOZhY+Zv+Gb/Fv/AEEtF/7/AMv/AMao/wCGb/Fv/QS0X/v/AC//ABqvpmijmYWPmb/hm/xb/wBBLRf+/wDL/wDGqP8Ahm/xb/0EtF/7/wAv/wAar6Zoo5mFj5m/4Zv8W/8AQS0X/v8Ay/8Axqj/AIZv8W/9BLRf+/8AL/8AGq+maKOZhY+Zv+Gb/Fv/AEEtF/7/AMv/AMao/wCGb/Fv/QS0X/v/AC//ABqvpmijmYWPmb/hm/xb/wBBLRf+/wDL/wDGqP8Ahm/xb/0EtF/7/wAv/wAar6Zoo5mFj5m/4Zv8W/8AQS0X/v8Ay/8Axqj/AIZv8W/9BLRf+/8AL/8AGq+maKOZhY+Zv+Gb/Fv/AEEtF/7/AMv/AMao/wCGb/Fv/QS0X/v/AC//ABqvpmijmYWPmb/hm/xb/wBBLRf+/wDL/wDGqP8Ahm/xb/0EtF/7/wAv/wAar6Zoo5mFj5m/4Zv8W/8AQS0X/v8Ay/8Axqj/AIZv8W/9BLRf+/8AL/8AGq+maKOZhY+Zv+Gb/Fv/AEEtF/7/AMv/AMao/wCGb/Fv/QS0X/v/AC//ABqvpmijmYWPmb/hm/xb/wBBLRf+/wDL/wDGqP8Ahm/xb/0EtF/7/wAv/wAar6Zoo5mFj5m/4Zv8W/8AQS0X/v8Ay/8Axqj/AIZv8W/9BLRf+/8AL/8AGq+maKOZhY+Zv+Gb/Fv/AEEtF/7/AMv/AMao/wCGb/Fv/QS0X/v/AC//ABqvpmijmYWPmb/hm/xb/wBBLRf+/wDL/wDGqP8Ahm/xb/0EtF/7/wAv/wAar6Zoo5mFj5m/4Zv8W/8AQS0X/v8Ay/8Axqj/AIZv8W/9BLRf+/8AL/8AGq+maKOZhY+Zv+Gb/Fv/AEEtF/7/AMv/AMao/wCGb/Fv/QS0X/v/AC//ABqvpmijmYWPmb/hm/xb/wBBLRf+/wDL/wDGqP8Ahm/xb/0EtF/7/wAv/wAar6Zoo5mFj5m/4Zv8W/8AQS0X/v8Ay/8Axqj/AIZv8W/9BLRf+/8AL/8AGq+maKOZhY+Zv+Gb/Fv/AEEtF/7/AMv/AMao/wCGb/Fv/QS0X/v/AC//ABqvpmijmYWPmb/hm/xb/wBBLRf+/wDL/wDGqP8Ahm/xb/0EtF/7/wAv/wAar6Zoo5mFj5m/4Zv8W/8AQS0X/v8Ay/8Axqj/AIZv8W/9BLRf+/8AL/8AGq+maKOZhY+Zv+Gb/Fv/AEEtF/7/AMv/AMao/wCGb/Fv/QS0X/v/AC//ABqvpmijmYWPmb/hm/xb/wBBLRf+/wDL/wDGqP8Ahm/xb/0EtF/7/wAv/wAar6Zoo5mFj5m/4Zv8W/8AQS0X/v8Ay/8Axqj/AIZv8W/9BLRf+/8AL/8AGq+maKOZhY+Zv+Gb/Fv/AEEtF/7/AMv/AMao/wCGb/Fv/QS0X/v/AC//ABqvpmijmYWPmb/hm/xb/wBBLRf+/wDL/wDGqP8Ahm/xb/0EtF/7/wAv/wAar6Zoo5mFj5m/4Zv8W/8AQS0X/v8Ay/8Axqj/AIZv8W/9BLRf+/8AL/8AGq+maKOZhY+Zv+Gb/Fv/AEEtF/7/AMv/AMao/wCGb/Fv/QS0X/v/AC//ABqvpmijmYWPmb/hm/xb/wBBLRf+/wDL/wDGqP8Ahm/xb/0EtF/7/wAv/wAar6Zoo5mFj5m/4Zv8W/8AQS0X/v8Ay/8Axqj/AIZv8W/9BLRf+/8AL/8AGq+maKOZhY+Zv+Gb/Fv/AEEtF/7/AMv/AMao/wCGb/Fv/QS0X/v/AC//ABqvpmijmYWPmb/hm/xb/wBBLRf+/wDL/wDGqP8Ahm/xb/0EtF/7/wAv/wAar6Zoo5mFj5m/4Zv8W/8AQS0X/v8Ay/8Axqj/AIZv8W/9BLRf+/8AL/8AGq+maKOZhY+Zv+Gb/Fv/AEEtF/7/AMv/AMao/wCGb/Fv/QS0X/v/AC//ABqvpmijmYWPmb/hm/xb/wBBLRf+/wDL/wDGqP8Ahm/xb/0EtF/7/wAv/wAar6Zoo5mFj5m/4Zv8W/8AQS0X/v8Ay/8Axqj/AIZv8W/9BLRf+/8AL/8AGq+maKOZhY+Zv+Gb/Fv/AEEtF/7/AMv/AMao/wCGb/Fv/QS0X/v/AC//ABqvpmijmYWPmb/hm/xb/wBBLRf+/wDL/wDGqP8Ahm/xb/0EtF/7/wAv/wAar6Zoo5mFj5m/4Zv8W/8AQS0X/v8Ay/8Axqj/AIZv8W/9BLRf+/8AL/8AGq+maKOZhY+Zv+Gb/Fv/AEEtF/7/AMv/AMao/wCGb/Fv/QS0X/v/AC//ABqvpmijmYWPmb/hm/xb/wBBLRf+/wDL/wDGqP8Ahm/xb/0EtF/7/wAv/wAar6Zoo5mFj5m/4Zv8W/8AQS0X/v8Ay/8Axqj/AIZv8W/9BLRf+/8AL/8AGq+maKOZhY+Zv+Gb/Fv/AEEtF/7/AMv/AMao/wCGb/Fv/QS0X/v/AC//ABqvpmijmYWPmb/hm/xb/wBBLRf+/wDL/wDGqP8Ahm/xb/0EtF/7/wAv/wAar6Zoo5mFj5m/4Zv8W/8AQS0X/v8Ay/8Axqj/AIZv8W/9BLRf+/8AL/8AGq+maKOZhY+Zv+Gb/Fv/AEEtF/7/AMv/AMao/wCGb/Fv/QS0X/v/AC//ABqvpmijmYWPmb/hm/xb/wBBLRf+/wDL/wDGqP8Ahm/xb/0EtF/7/wAv/wAar6Zoo5mFj5m/4Zv8W/8AQS0X/v8Ay/8Axqj/AIZv8W/9BLRf+/8AL/8AGq+maKOZhY+Zv+Gb/Fv/AEEtF/7/AMv/AMao/wCGb/Fv/QS0X/v/AC//ABqvpmijmYWPmb/hm/xb/wBBLRf+/wDL/wDGqP8Ahm/xb/0EtF/7/wAv/wAar6Zoo5mFj5m/4Zv8W/8AQS0X/v8Ay/8Axqj/AIZv8W/9BLRf+/8AL/8AGq+maKOZhY+Zv+Gb/Fv/AEEtF/7/AMv/AMarrfh58Jdd8B6xqGqavd6fNBNp0tuq2sjswYsjZIZFGMIe/pXtlUtX/wCQXP8A7jf+gmi7Cxwtbnhz/l5/4D/WsOtzw5/y8/8AAf60hnV1ga7qevWV8kej2Wl3EBjDM15fGFw2TwFCHIwBzn1rfrifGWiXWpaxFNb+DdI11Vtwpub6cI6ncx2AFTwM5/4EaaAk/t7xh/0CdA/8G7f/ABuuyryn/hFL/wD6Jf4a/wDAxf8A4ivVqGBGzEXKJn5SjEj3BX/GsDx8xXwPqBUkf6scehkUGt5v+PyP/rm/81rB+IH/ACI2of8AbL/0atXT+OPqcWYf7nV/wy/Jnh13efZWhVYZJnmYqqoQOgJ7kelLaXaXkBdUeMhijxuBuRh1BxkflUeoWlxcmB7OeOCWFywMsRkU5UjGAy+vrT7K1+yQsrSeZJI5kkfbjcx9uwr2Nbn5M/Z+zXf5/wDDH0H4eYv4Y0tmJLNZwkk9zsFXY2LSTAnhXwPYbQf61R8Of8itpX/XlD/6AKuw/wCtuP8AroP/AEFa8WW7P2Ch/Bh6L8ihr+q3Gk2ts1laxXU9zcpboks5iUFs8lgrHt6VVi8RyLL9m1C2hs7uO4jhmjM7OhV1LBkYJ833T94L0OccZta/pVxq1rbLZXUVrPbXKXCPLAZVJXPBUMp7+tUh4Ylldbm91ATXrXMc8sqQBUIRWVUVMnaPmJ5LHJNLQ2LUfinSZLGW7E8qwx7Tl7aVS+44XYCoL5PA2g57UjeKtJW0jn86dhIzIsS2kzTAr97MQXeuMjOQMZHrWXb+DLiC3lUalFE4eKS2S3tSkMTxsWDGIyEZOcHbtGPTrV2XQ9WklgvRq8H9pRLJGZHssw+W5U7RGHBGCoIJY989eDQC7/wkOl+TJKLtWjjjjlLKrHKyHCEYHzZPHGaYPE2lG4mh+0ODCHLOYJAjbPvhXK7XIwchSSMGqK+D4Ul0gpdv5enoElRkB+1bTuTce2H+b8cVVh8DJBPcBJ7YQOs/lH7J++Qyhhy+/BA3HooJ4yfU0A6PT9Rt9Us1urMyGFj8rSQvHu9wGAJHoehq1UVpB9ls4bfdu8qNU3YxnAxmpaQBRRRQAUUUUAFFFFABRRRQAUUUUAFFFFABRRRQAUUUUAFFFFABRRRQAUUUUAFFFFABRRRQAUUUUAFFFFABRRRQAUUUUAFFFFABRRRQAUUUUAFFFFABRRRQAUUUUAFFFFABRRRQAUUUUAFFFFABRRRQAUUUUAFFFFABRRRQAUUUUAFFFFABRRRQAUUUUAFFFFABRRRQAUUUUAFFFFABRRRQAUUUUAFFFFABRRRQAUUUUAFFFFABRRRQAUUUUAFFFFABRRRQAUUUUAFFFFABRRRQAUUUUAFFFFABWBb+KUns7iQ2rRzQXQgMTP8AeUy+WJAcdOv4gj3rfrAuPCyT2dvELto5oLoziVU+8pl8wxkZ6dPxAPtWtPk+2ZVPafYLsniDTYp5YpJpAYg25/Ik2EqMsA+3axAB4BJ4PHFSf21p5uJYRcgyRPGjqFJwZPuDpzn9O9Z9v4ZEOptM0sElt5skqxtATIGfOfn34x8x6KDjjPqzT/Ci2NzZTG9eY2xcvuQDzieEJ5/hBI96vlo23IUq19v6/r8joaKKK5zoKWr6j/ZWnNdFFbDKv7x9iLkgZZsHaozycGoY9XaKxE+p2/lMz7UFoWuhIMZBXYu4j6qMYPbmrd7DczWxWyuVt5sgh3jEin2K5GQfYg+9Yo8M3ItyFvLdZHuDPJGlsy275XbjyxID2zyxycnHptBU3H3jGbqKXu/oaa63p7wNMtxlFRHJ2NnDnC8YycnjHrxSwazY3F8bSKRzLlgCYXCOV+8FcjaxHcAnofSs+DwwkJ0z/ScrYpskRYgonwcpxnja3Ip2neHTYamJ/OhkgjZ3iXyD5ils9XLkcZI4UH+rcaVnZiUq11dG5RRRWBuUNRv5raWC2srdLi7uNxRJJfLQKuNzMwBIHIHAPJH1quniGGGMrqcbW10s3kGGFXn3Nt3/ACbVywK89B34qxqNhNcywXNlcJb3dvuCPJF5iFWxuVlBBI4B4I5A+lZdxoupJcWc9vdRyXhu2nuLhof3Y/dFAAm7O3oMbs981vBU2rP+v0OebqJ3X9fqaMniHTYreKYzSMkqlh5dvI7KAcMWVVJUA8HcBg9aU69pwvBbec5kLqm5YXKBmAKguBtGQRjJ5zWZL4UkZY3iu4TcEOJ3mt2ZH3uXJVQ424JOMk8dc9at/wDCPKIZo45wiyXEEygR/dEWz5evfZ+GafLR7/19wc1bt/X3mzRRRXOdBS1fURpemyXZRX2lR877FGSBlmwdqjOScHAqi3iCW0jtW1GzCi4mMataSNcKw2FgyBV3N0xjaPxFal7FcTWrJZ3Atpsgq7Rh14PQrxkHpwQfcVlWXh57e6iuZriHzVuWuHS3t/KjJMZTAXccHnJOTk1tD2fL7xhP2nN7u3yLUniDTo4IZmllMUy7g628jBRnGXwvyc/3sYwfQ0r69p8clwjSyE2xCyFYJCAxxhQQuGY5HyjJ56Vk3PhGae2+zjUIzC0boVlgLhSzs25RvADfNjJB6DpV658Piezu4ftADzXYukZoyQjAKACARkfL6jr2quWj3/r7ieat2/r7zRsr6DUIPOtmYqGKsHjZGUjqCrAEH6irFUdJ09tNs2jkaF5HcyO0MRjUk4HQsx6AdSavVjK1/d2N43cfe3Csn/hIrWMyrdLIjrPJEiRRPM0mzGSFRSf4hWtWTBofk6mLv7RuxJNJs2f89NvGc9tv45qocmvMTPn05Sca3YNNBFHK8hnRXRo4XZQrfdLMBhc443EUyDxDplxMY47hhjf87wuiHZncA5AUkYOQD2PpWenhiaJrDyr2NBapGjSrblZWCHJAcOPlP91gw61DZ+G7u6sVt9WuEFsj3DJAkWHBkLjJfcQRtc4GB1Gela8tG17/ANfcZc9a9rf195rJ4g054JZfNlURbdyyW8iOdxwu1SoZsngYByaj/wCEjsmu7KCNLlzds6Kfs0g8sr1DgrlevfHr0qpB4Zmjidnurb7UGjMMsdqyhdhyNwLktnPQFfbFXRpl681lcXN9HJcW8jMxFvtRlYYKqu7I7cktSapLZ/1b07jTrNar+r+vY1Kpav8A8guf/cb/ANBNXapav/yC5/8Acb/0E1znQcLW54c/5ef+A/1rDrc8Of8ALz/wH+tAHV0VU33nrD/3yf8AGjzLz1h/75P+NOwrluiqnmXnrD/3yf8AGjzLz1h/75P+NFguTN/x+R/9c3/mtF1aw3trJbXUaywyLtdGHBFVz9rMqvmLKggfKe+Pf2p3mXnrD/3yf8aYmk1ZmP8A8K/8M/8AQN/8mJf/AIqhfAPhpWBGm5we88hH5bq2PMvPWH/vk/40eZeesP8A3yf8av2k/wCY4/qGD/59R/8AAV/kWkRY41SNQqqMKoGAB6VHD/rbj/roP/QVqHzLz1h/75P+NNX7WrOQYvnOT8p9APX2rOx2l2iqnmXnrD/3yf8AGjzLz1h/75P+NFguW6KqeZeesP8A3yf8aPMvPWH/AL5P+NFguW6KqeZeesP/AHyf8aPMvPWH/vk/40WC5boqp5l56w/98n/GjzLz1h/75P8AjRYLluiqnmXnrD/3yf8AGjzLz1h/75P+NFguW6KqeZeesP8A3yf8aPMvPWH/AL5P+NFguW6KqeZeesP/AHyf8aPMvPWH/vk/40WC5boqp5l56w/98n/GjzLz1h/75P8AjRYLluiqnmXnrD/3yf8AGjzLz1h/75P+NFguW6KqeZeesP8A3yf8aPMvPWH/AL5P+NFguW6KqeZeesP/AHyf8aPMvPWH/vk/40WC5boqp5l56w/98n/GjzLz1h/75P8AjRYLluiqnmXnrD/3yf8AGjzLz1h/75P+NFguW6KqeZeesP8A3yf8aPMvPWH/AL5P+NFguW6KqeZeesP/AHyf8aPMvPWH/vk/40WC5boqp5l56w/98n/GjzLz1h/75P8AjRYLluiqnmXnrD/3yf8AGjzLz1h/75P+NFguW6KqeZeesP8A3yf8aPMvPWH/AL5P+NFguW6KqeZeesP/AHyf8aPMvPWH/vk/40WC5boqp5l56w/98n/GjzLz1h/75P8AjRYLluiqnmXnrD/3yf8AGjzLz1h/75P+NFguW6KqeZeesP8A3yf8aPMvPWH/AL5P+NFguW6KqeZeesP/AHyf8aPMvPWH/vk/40WC5boqp5l56w/98n/GjzLz1h/75P8AjRYLluiqnmXnrD/3yf8AGjzLz1h/75P+NFguW6KqeZeesP8A3yf8aPMvPWH/AL5P+NFguW6KqeZeesP/AHyf8aPMvPWH/vk/40WC5boqp5l56w/98n/GjzLz1h/75P8AjRYLluiqnmXnrD/3yf8AGjzLz1h/75P+NFguW6KqeZeesP8A3yf8aPMvPWH/AL5P+NFguW6KqeZeesP/AHyf8aPMvPWH/vk/40WC5boqp5l56w/98n/GjzLz1h/75P8AjRYLluiqnmXnrD/3yf8AGjzLz1h/75P+NFguW6KqeZeesP8A3yf8aPMvPWH/AL5P+NFguW6KqeZeesP/AHyf8aPMvPWH/vk/40WC5boqp5l56w/98n/GjzLz1h/75P8AjRYLluiqnmXnrD/3yf8AGjzLz1h/75P+NFguW6KqeZeesP8A3yf8aPMvPWH/AL5P+NFguW6KqeZeesP/AHyf8aPMvPWH/vk/40WC5boqp5l56w/98n/GjzLz1h/75P8AjRYLluiqnmXnrD/3yf8AGjzLz1h/75P+NFguW6KqeZeesP8A3yf8aPMvPWH/AL5P+NFguW6KqeZeesP/AHyf8aPMvPWH/vk/40WC5boqp5l56w/98n/GjzLz1h/75P8AjRYLluiqnmXnrD/3yf8AGjzLz1h/75P+NFguW6KqeZeesP8A3yf8aPMvPWH/AL5P+NFguW6KqeZeesP/AHyf8aPMvPWH/vk/40WC5boqp5l56w/98n/GjzLz1h/75P8AjRYLluiqnmXnrD/3yf8AGjzLz1h/75P+NFguW6KqeZeesP8A3yf8aPMvPWH/AL5P+NFguW6KqeZeesP/AHyf8aPMvPWH/vk/40WC5boqp5l56w/98n/GjzLz1h/75P8AjRYLluiqnmXnrD/3yf8AGjzLz1h/75P+NFguW6KqeZeesP8A3yf8aPMvPWH/AL5P+NFguW6KqeZeesP/AHyf8aPMvPWH/vk/40WC5boqp5l56w/98n/GjzLz1h/75P8AjRYLluiqnmXnrD/3yf8AGjzLz1h/75P+NFguW6KqeZeesP8A3yf8aPMvPWH/AL5P+NFguW6KqeZeesP/AHyf8aPMvPWH/vk/40WC5boqp5l56w/98n/GjzLz1h/75P8AjRYLluiqnmXnrD/3yf8AGjzLz1h/75P+NFguW6KqeZeesP8A3yf8aPMvPWH/AL5P+NFguW6KqeZeesP/AHyf8aPMvPWH/vk/40WC5boqp5l56w/98n/GjzLz1h/75P8AjRYLluiqnmXnrD/3yf8AGjzLz1h/75P+NFguW6KqeZeesP8A3yf8aPMvPWH/AL5P+NFguW6KqeZeesP/AHyf8aPMvPWH/vk/40WC5boqp5l56w/98n/GjzLz1h/75P8AjRYLluiqnmXnrD/3yf8AGjzLz1h/75P+NFguW6KqeZeesP8A3yf8aPMvPWH/AL5P+NFguW6KqeZeesP/AHyf8aPMvPWH/vk/40WC5boqp5l56w/98n/GjzLz1h/75P8AjRYLluiqnmXnrD/3yf8AGjzLz1h/75P+NFguW6pav/yC5/8Acb/0E07feesP/fJ/xqvqDTnTbjzimPLbG1SOx96LAcXW54c/5ef+A/1rDrc8Of8ALz/wH+tIZ0pY7gqgHIJ5OKPn/ur/AN9f/Wo/5bL/ALp/pUd5e22n2rXF9PHBCpALyNgDJwP1qkr6IltLVknz/wB1f++v/rUfP/dX/vr/AOtWbbeJ9Du7iOC21W1klkO1FWUZY+grVpyi47oUZRl8LuM+f+6v/fX/ANaj5/7q/wDfX/1qfRUlEas7IGAXkZ60vz+i/nRD/qI/90fyp9ADPn9F/Oj5/Rfzp9FADPn9F/Oj5/Rfzp9FADPn9F/Oj5/Rfzp9FADPn9F/Oj5/Rfzp9FADPn9F/Oj5/Rfzp9FADPn9F/Oj5/Rfzp9FADPn9F/Oj5/Rfzp9FADPn9F/Oj5/Rfzp9FADPn9F/Oj5/Rfzp9FADPn9F/Oj5/Rfzp9FADPn9F/Oj5/Rfzp9FADPn9F/Oj5/Rfzp9FADPn9F/Oj5/Rfzp9FADPn9F/Oj5/Rfzp9FADPn9F/Oj5/Rfzp9FADPn9F/Oj5/Rfzp9FADPn9F/Oj5/Rfzp9FADPn9F/Oj5/Rfzp9FADPn9F/Oj5/Rfzp9FADPn9F/Oj5/Rfzp9FADPn9F/Oj5/Rfzp9FADPn9F/Oj5/Rfzp9FADPn9F/Oj5/Rfzp9FADPn9F/Oj5/Rfzp9FADPn9F/Oj5/Rfzp9FADPn9F/Oj5/Rfzp9FADPn9F/Oj5/Rfzp9FADPn9F/Oj5/Rfzp9FADPn9F/Oj5/Rfzp9FADPn9F/Oj5/Rfzp9FADPn9F/Oj5/Rfzp9FADPn9F/Oj5/Rfzp9FADPn9F/Oj5/Rfzp9FADPn9F/Oj5/Rfzp9FADPn9F/Oj5/Rfzp9FADPn9F/Oj5/Rfzp9FADPn9F/Oj5/Rfzp9FADPn9F/Oj5/Rfzp9FADPn9F/Oj5/Rfzp9FADPn9F/Oj5/Rfzp9FADPn9F/Oj5/Rfzp9FADPn9F/Oj5/Rfzp9FADPn9F/Oj5/Rfzp9FADPn9F/Oj5/Rfzp9FADPn9F/Oj5/Rfzp9FADPn9F/Oj5/Rfzp9FADPn9F/Oj5/Rfzp9FADPn9F/Oj5/Rfzp9FADPn9F/Oj5/Rfzp9FADPn9F/Oj5/Rfzp9FADPn9F/Oj5/Rfzp9FADPn9F/Oj5/Rfzp9FADPn9F/Oj5/Rfzp9FADPn9F/Oj5/Rfzp9FADPn9F/Oj5/Rfzp9FADPn9F/Oj5/Rfzp9FADPn9F/Oj5/Rfzp9FADPn9F/Oj5/Rfzp9FADPn9F/Oj5/Rfzp9FADPn9F/Oj5/Rfzp9FADPn9F/Oj5/Rfzp9FADPn9F/Oj5/Rfzp9FADPn9F/Oj5/Rfzp9FADPn9F/Oj5/Rfzp9FADPn9F/Oj5/Rfzp9FADPn9F/OjL5xhfz/+tT6af9YPof6UAJ8/91f++v8A61Hz/wB1f++v/rU+igBnz/3V/wC+v/rUfP8A3V/76/8ArU+igBituXJGOSOteUX3x1toL2WKy0N7mBGISV7ryy49duw4/OvVl+4fq38zXyFXr5bhqVdy9or2t+p4+Z4qrh1D2bte/wCh7B/wvr/qW/8Aye/+10f8L6/6lv8A8nv/ALXXj9XbTRtSv4POs7GeaPO0MiEhj6D1PsK9Z5fhFq4/i/8AM8ZZjjG7KX4L/I9T/wCF9f8AUt/+T3/2uj/hfX/Ut/8Ak9/9rryW6s57MxC4TYZYxKnOcqehrR0nwrreuWr3OlWElzCj+WzqygBsA45PoRSeBwaXM1p6v/MpZhjZPlUtfRf5HpP/AAvr/qW//J7/AO10f8L6/wCpb/8AJ7/7XXkdxbzWlzJb3UTwzRMVeN1wykdQRVqPRr6TRpNVWFRZRv5ZleRVy3HCqTluo6A4zT+oYRK/L+L/AMxf2hjG7c2vov8AI9S/4X1/1Lf/AJPf/a6P+F9f9S3/AOT3/wBrrx+in/Z2F/l/F/5k/wBp4v8An/Bf5HsH/C+v+pb/APJ7/wC10f8AC+v+pb/8nv8A7XXk11Y3NksBuomjFxEJos/xoSQG/Q1BQsvwj2j+L/zG8yxa3l+C/wAj3Tw78ZbbW9dtdNutIez+1SCJJVuPMAYnABG0cE969A1T/kGT/wDXNv5GvmLwj/yO2h/9hC3/APRi19O6p/yDJ/8Arm38jXi5lh6dCcVTVrnuZZialeEnUd7M4itzw5/y8/8AAf61h1ueHP8Al5/4D/WvKPWOl/5bL/un+lZ+t/6mz/6/Yf8A0MVof8tl/wB0/wBKhvbKLULfyZ94AdXVo3KsrKcggiri0pJsiSbi0jlHtLeSXWbZ5L2ZLO3mMcU4i8tC/wAxI2qG6jI3E+orqlE0+lKIZvKmaIbZSobDY6kHrVSTQIJonilvL9kdSrKbt+Qeo61pooRFRBhVGAPQVrUmpWsZU6bje5jRX+q3ssdn9ieyljb/AEu4YZjAHaIkfPu/8dHXnAO3RRWUmnsrGsYtbu5UuAp0iUPJJEpgOXjBLKNvUAc5rlra8gsLS7/sdbCSRIEL3ennCY3gEunIDAEnJJ6HPFdjD/qI/wDdH8qcBjpSGckNbnFh82qAo9zsiu1lg6BMkM+3YOfRSe1PtdU1O6tjOlyzPFpy3AiSNSJZCXHPy5x8o4GK6rAxjHFLRcDk5pxe/Yo7XXGvv9Nj/fIkZMRKPkAqu0/Qgkd+orb0Weaexf7TKZninli8xgAWCuQCcADOB2ArQ6UtAwooopAFFFFABRRRQAUUUUAFFFFABRRRQAUUUUAFFFFABRRRQAUUUUAFFFFABRRRQAUUUUAFFFFABRRRQAUUUUAFFFFABRRRQAUUUUAFFFFABRRRQAUUUUAFFFFABRRRQAUUUUAFFFFABRRRQAUUUUAFFFFABRRRQAUUUUAFFFFABRRRQAUUUUAFFFFABRRRQAUUUUAFFFFABRRRQAUUUUAFFFFABRRRQAUUUUAFFFFABRRRQAUUUUAFFFFABRRRQAUUUUAFFFFABRRRQAUUUUAFFFFABRRRQAUUUUAFFFFABRRRQAUUUUAFFFFABRRRQAUUUUAFFFFABRRRQAU0/wCsH0P9KdTT/rB9D/SgDJ8U7x4dn8kKZPMi2BjgE+auM+1Yj/Z1WNdcClluv+Js0v3HGxvLJzx5WcYB4HfnNdnRW0KvLG1jGdLmlzXOFh1DSxCt3p0kVto6ajBtJISKN8Hfj+ED7vTjOa7S2u7e9t1ns54riFvuyROGU/iKekUcbOyIqs5yxAwWOMZPrwKfSqTU9kFOm4bsjX7h+rfzNfIVfXq/cP1b+Zr5Cr2sn+38v1PEzr/l38/0CukvYNTuL+xvdItHu7VYI0tQtuJ40IUBkKkEbg27II5J3c5BPN05ZHQMEdlDDDAHGRXuSjd3R4MZWVmaXiKV5NXIlnSeSOKNHMSIkaMFG5FCALhTkccHGec5rqPD6aJL8PIYvEjXiW0mt7RJauq7CYl5bcD8oGenNcHRUSpc0FG9rW/AuNXlm52ve/4ns72wkvr+4l0qW41CTU/JuY7awivT5IRBGCZCNsbLzvGMnuMVitLBINC0+Kzt1sJPEUsIglt4XIjEkXylgDnrgkE5HBJFeZq7JnYxXcMHBxkelJXPDCcrV3t5eR0yxie0e/XvfyPVdJaG9t9VnisPOvrfUPsqxafpME7RWwztHltgBScgtyeBk1NpmmwTX9/baXon2WOXUmTznsYLyJBsXdFNhyYlByQVPf2ryVXZDlGKnGMg44oV2UMFYgMMMAeopPCPW0vw9P8AL8R/XFpeP4+v+f4fd6k0wfU9B0C4t7K4s59DbzW8hXZiqzFSshG4AFQRg9z615ZRRXRSo+zb13/zev4/gc1at7RJW2/yS/T8TX8Jf8jtof8A2ELf/wBGLX07qn/IMn/65t/I18xeEv8AkdtD/wCwhb/+jFr6jukWSAo4yrcEeoxXh5x8cfQ97Jf4cvU4Ktzw5/y8/wDAf61d/saw/wCeH/j7f41PbWcFpu+zx7N2M8k5x9a8M940GDbgyYyARgijMv8AsflT6zZdZAneKysbq/MTbZWtwgVD3GXZQSO4XOKtJvYhyS3L+Zf9j8qMy/7H5VFZ3sN/AZbcthWKurKVZGHVWB5BqxSd07MaaauhmZf9j8qMy/7H5U+ikMiUSqoUFcAYHFL+99V/KpKKAI/3vqv5UfvfVfyqSmsyqMsQoJxye9ADf3vqv5UfvfVfyp9LQBH+99V/Kj976r+VSUUAR/vfVfyo/e+q/lUlFAEf731X8qP3vqv5VJRQBH+99V/Kj976r+VSUUAR/vfVfyo/e+q/lUlFAEf731X8qP3vqv5VJRQBH+99V/Kj976r+VSUUAR/vfVfyo/e+q/lUlFAEf731X8qP3vqv5VJRQBH+99V/Kj976r+VSUUAR/vfVfyo/e+q/lUlFAEf731X8qP3vqv5VJRQBH+99V/Kj976r+VSUUAR/vfVfyo/e+q/lUlFAEf731X8qP3vqv5VJRQBH+99V/Kj976r+VSUUAR/vfVfyo/e+q/lUlFAEf731X8qP3vqv5VJRQBH+99V/Kj976r+VSUUAR/vfVfyo/e+q/lUlFAEf731X8qP3vqv5VJRQBH+99V/Kj976r+VSUUAR/vfVfyo/e+q/lUlFAEf731X8qP3vqv5VJRQBH+99V/Kj976r+VSUUAR/vfVfyo/e+q/lUlFAEf731X8qP3vqv5VJRQBH+99V/Kj976r+VSUUAR/vfVfyo/e+q/lUlFAEf731X8qP3vqv5VJRQBH+99V/Kj976r+VSUUAR/vfVfyo/e+q/lUlFAEf731X8qP3vqv5VJRQBH+99V/Kj976r+VSUUAR/vfVfyo/e+q/lUlFAEf731X8qP3vqv5VJRQBH+99V/Kj976r+VSUUAR/vfVfyo/e+q/lUlFAEf731X8qP3vqv5VJRQBH+99V/Kj976r+VSUUAR/vfVfyo/e+q/lUlFAEf731X8qP3vqv5VJRQBH+99V/Kj976r+VSUUAR/vfVfyo/e+q/lUlFAEf731X8qP3vqv5VJRQBH+99V/Kj976r+VSUUAR/vfVfyo/e+q/lUlFAEf731X8qP3vqv5VJRQBH+99V/Kj976r+VSUUAR/vfVfyo/e+q/lUlFAEf731X8qP3vqv5VJRQBH+99V/Kj976r+VSUUAR/vfVfyo/e+q/lUlFAEf731X8qP3vqv5VJRQBH+99V/Kj976r+VSUUAR/vfVfyo/e+q/lUlFAEf731X8qP3vqv5VJRQBH+99V/Kj976r+VSUUAR/vfVfyo/e+q/lUlFAEf731X8qP3vqv5VJRQBH+99V/Kj976r+VSUUAR/vfVfyo/e+q/lUlFAEf731X8qP3vqv5VJRQBH+99V/Kj97nqv5VJRQAzMv+x+VGZf8AY/Kn0UAMzL/sflRmX/Y/Kn0UANVcLgnOSa8jv/gast9LJY6x5MDMSkbwbyo9M7hmvXqK6KOIq0G3TdrnPWw1KukqivY8Z/4UTcf9B1P/AAE/+zo/4UTcf9B1P/AT/wCzr2aiuj+0sV/N+C/yOb+zMJ/L+L/zPGf+FE3H/QdT/wABP/s6P+FE3H/QdT/wE/8As69moo/tLFfzfgv8g/szCfy/i/8AM8Z/4UTcf9B1P/AT/wCzo/4UTcf9B1P/AAE/+zr2aij+0sV/N+C/yD+zMJ/L+L/zPGf+FE3H/QdT/wABP/s6P+FE3H/QdT/wE/8As69moo/tLFfzfgv8g/szCfy/i/8AM8Z/4UTcf9B1P/AT/wCzo/4UTcf9B1P/AAE/+zr2aij+0sV/N+C/yD+zMJ/L+L/zPLvDfwbTRtftdRvdUN0LWQSpGkOzLDkZO49DXpk/3B9alqKf7g+tctavUrvmqO51UcPToLlpqxBRRRWB0FyuNt9J+1aPYPDPcxzhRb3KpdXagTDh8rE4A+bcSxHOc55rsqoXOjWV1cNO6Sxytje8E8kJf/e2MN345ranPkMKlPnKmjwRwavfpal2gjjhidnkaQtMN5bLMSWO1oxkk9AO1bBD54K/l/8AXplvbQ2lusFrEsUSfdRBgCpamUuZ3LhHljYT61mNdakPEMduttF9iMTMZPMOchlGfu9eTxmtSipTsymrqxzXizzr42+lWttPclw08ot3VWQKMIcsyj75U9f4DWfqWuyXmlubm/8A7M3aeWWDCHz5/nWSL5gS20qBhMH5uvSu1pK0jUSSVv6/r8ieV817/wBf1+Zxmpagzb7efUvs7xy2ywWOE/fofLJfkbzyWGVIA289619btjceINDzPIiJNI+wKhDERk87lPuOMdTW5S0Op2RKp6WbPOEkla3M6XbWAWPTGllgVI1RPOkDEgrtAAOemOOeMituPWb1/ETW5vUVhO6GyZ4/9UFOHC7d+SAGznbziuspKqVVSvp/Wn+Qo07df6u3+pmeHZLifw/Z3N7dPczXMKTMzqq7Syg4AUDj65PPWtSiispO7bNYqysFFFFSMKKKKACiiigAooooAKKKKACiiigAooooAKKKKACiiigAooooAKKKKACiiigAooooAKKKKACiiigAooooAKKKKACiiigAooooAKKKKACiiigAooooAKKKKACiiigAooooAKKKKACiiigAooooAKKKKACiiigAooooAKKKKACiiigAooooAKKKKACiiigAooooAKKKKACiiigAooooAKKKKACiiigAooooAKKKKACiiigAooooAKKKKACiiigAooooAKKKKACiiigAooooAKKKKACiiigAooooAKKKKACiiigAooooAKKKKACiiigAooooAKKKKACiiigAooooAKKKKACiiigAooooAKKKKACiiigAooooAKKKKACop/uD61LUU/3B9aAIKKKKQy5RRRTEFFFZ97rumadI8d5eRxyRhGdOSyh22qcDnBbigDQoqhDren3Gsz6VBceZeW6hpo1RiI84wC2MA8jjOav0AFFFVbXUbW8uLqC2l3y2kginXaRsYqGxz14IPFAFqiioLa9trtpltZklMEhilCnOxx1U+/IoAnooooAKKgvLyDT7Ka7vJPLggQySOQTtUDJPFSRSpPCksR3JIoZTjqDyKAH0UUhIAJJwB1JoAWio4LiG6gSe2lSaJxlJI2DKw9QR1qSgAoqJbmBrl7dZozOih3iDjcqnOCR1AOD+VS0AFFFFABRRRQAUUUUAFFFYU2utJqN/YRQ3UZttiiWK3MjEkbs4xjbjgHuQ3pVRi5bESmo7m7THljj/ANY6r9Tis7SZp5Wl8+a7kwBj7RaiLH04Ga0LbmScnrvxn22iiUeV2HGXMrjftUH/AD2j/wC+hR9qg/57R/8AfQq1RUlFX7VB/wA9o/8AvoUfaoP+e0f/AH0KtUUAVftUH/PaP/voUfaoP+e0f/fQq1RQBV+1Qf8APaP/AL6FH2qD/ntH/wB9CrVFAFX7VB/z2j/76FH2qD/ntH/30KtUUAVftUH/AD2j/wC+hR9qg/57R/8AfQq1RQBV+1Qf89o/++hR9qg/57R/99CrVFAFX7VB/wA9o/8AvoUfaoP+e0f/AH0KtUUAVftUH/PaP/voUfaoP+e0f/fQq1RQBV+1Qf8APaP/AL6FH2qD/ntH/wB9CrVFAFX7VB/z2j/76FH2qD/ntH/30KtUUAVftUH/AD2j/wC+hR9qg/57R/8AfQq1RQBV+1Qf89o/++hR9qg/57R/99CrVFAFX7VB/wA9o/8AvoUfaoP+e0f/AH0KtUUAVftUH/PaP/voUfaoP+e0f/fQq1RQBV+1Qf8APaP/AL6FH2qD/ntH/wB9CrVFAFX7VB/z2j/76FH2qD/ntH/30KtUUAVftUH/AD2j/wC+hR9qg/57R/8AfQq1RQBV+1Qf89o/++hR9qg/57R/99CrVFAFX7VB/wA9o/8AvoUfaoP+e0f/AH0KtUUAVftUH/PaP/voUfaoP+e0f/fQq1RQBV+1Qf8APaP/AL6FH2qD/ntH/wB9CrVFAFX7VB/z2j/76FH2qD/ntH/30KtUUAVftUH/AD2j/wC+hR9qg/57R/8AfQq1RQBV+1Qf89o/++hR9qg/57R/99CrVFAFX7VB/wA9o/8AvoUfaoP+e0f/AH0KtUUAVftUH/PaP/voUfaoP+e0f/fQq1RQBV+1Qf8APaP/AL6FH2qD/ntH/wB9CrVFAFX7VB/z2j/76FH2qD/ntH/30KtUUAVftUH/AD2j/wC+hR9qg/57R/8AfQq1RQBV+1Qf89o/++hR9qg/57R/99CrVFAFX7VB/wA9o/8AvoUfaoP+e0f/AH0KtUUAVftUH/PaP/voUfaoP+e0f/fQq1RQBV+1Qf8APaP/AL6FH2qD/ntH/wB9CrVFAFX7VB/z2j/76FH2qD/ntH/30KtUUAVftUH/AD2j/wC+hR9qg/57R/8AfQq1RQBV+1Qf89o/++hR9qg/57R/99CrVFAFX7VB/wA9o/8AvoUfaoP+e0f/AH0KtUUAVftUH/PaP/voUfaoP+e0f/fQq1RQBV+1Qf8APaP/AL6FH2qD/ntH/wB9CrVFAFX7VB/z2j/76FH2qD/ntH/30KtUUAVftUH/AD2j/wC+hR9qg/57R/8AfQq1RQBV+1Qf89o/++hR9qg/57R/99CrVFAFX7VB/wA9o/8AvoUfaoP+e0f/AH0KtUUAVftUH/PaP/voUfaoP+e0f/fQq1RQBV+1Qf8APaP/AL6FH2qD/ntH/wB9CrVFAFX7VB/z2j/76FH2qD/ntH/30KtUUAVftUH/AD2j/wC+hR9qg/57R/8AfQq1RQBV+1Qf89o/++hR9qg/57R/99CrVFAFX7VB/wA9o/8AvoUfaoP+e0f/AH0KtUUAVftUH/PaP/voUfaoP+e0f/fQq1RQBV+1Qf8APaP/AL6FH2qD/ntH/wB9CrVFAFX7VB/z2j/76FH2qD/ntH/30KtUUAVftUH/AD2j/wC+hR9qg/57R/8AfQq1RQBV+1Qf89o/++hR9qg/57R/99CrVFAFX7VB/wA9o/8AvoUfaoP+e0f/AH0KtUUAVftUH/PaP/voUfaoP+e0f/fQq1RQBV+1Qf8APaP/AL6FH2qD/ntH/wB9CrVFAFX7VB/z2j/76FH2qD/ntH/30KtUUAVftUH/AD2j/wC+hR9qg/57R/8AfQq1RQBV+1Qf89o/++hR9qg/57R/99CrVFAFX7VB/wA9o/8AvoUfaoP+e0f/AH0KtUUAVftUH/PaP/voUfaoP+e0f/fQq1RQBXSeKQ4SRWPs2aSf7g+tOu+IQ3cOuD6fMBTZv9WPrQBBRRRSGXK5Dx9dvbJpK3N5NYaPNd7dRuoZmiMabCVBkXBRS2AWBH15rr6Q89aYjyjVdYsjZaXZWWsahcWU73DW95earLZRyBSAEEyKZJiM/IM/MAeTWLZ6zqM9nFqL3s4vJNN01ZJ1cq7A3jKcng8jg+vevccD0paYHjssL6ZqXi25tr3ULa2fxBBDfXCXcpMNu0MTOw5O3k43jlV4BAAxKl3Pe6hbWGka5qUuhS63HBbXkd47NIhgZpEWYkl0DDrk4PQ8DHrtIBjpQB5TrEd3b2/i25h1jVUbRbi3FkovpNqfu487hn585OQ2R36nNR6pr0yajrdrf310sD64kMbvqj2UEK/ZY32NMoZkUkkhVxlj16163SEZ680Acl8NL+6v/CLNe3D3Lw3txCkkkjOdiyEKNzfM2Bxk8muTvLee1t/EmtWmo31vc2niFfKSK4ZIiC0SsGQcOCD/ABZx2xXoOr+EPD2v3S3OtaNZX06rsWS4hDkL6ZP1rUt7eK0to7e2jWKGJQiIowFUcACkB5Ze6tcLrF4X1a9TxOmsLFaaYty4je13qB+5ztZChYl8HB7jFLZeJpxDa6VNqd3/AGrD4mkS4iLuXSBppCgb/YKFcA8EYA6V6tjnPeloA8T/ALduLVNYjg1m5v7w2N47XNpqkzGIqCV862kUfZ2HRSpHNX72bUJtK8TamdY1NJ9Le1e1WO8dUQmKMtlQcMDk5ByPxr1zFLTA8d8QarcRLr893rGrWmtx30aWttBNKsYttyYIQfLtIJy/UHjPavWb2AXWmTwsZAJImUmNyjcjsRyD7isnUPCFlqd8895eai8EkiSyWRu28h2Ugg7eoGQPlBCnuKVfBHhhdW/tNdBsBfeb532kQDfvzndnrnNAHldnfyWXhHw1aQX4h0sRTLfSXWtT2ax3SlcRNMqsyYBYhOAT+Rvatqt9DoejXGr+II3ItJWWEanc2BuPn+R45vLXzZAuBtZfm64wa9jIyMHmjGetAHnHhtbcfFia7uZL6C4v9EtZIIru4fdIR5nmApnaSo2kgDAJJABJz3up2ct/YPDb3ctlNkNHPF1RgcjI6MOOVPBGRVuikBz0SeINUmgh1GNdLgt2VriS2m3G8YHIEZ6pGeCc4Y/d6fMehoooAKKKKACiiigAqCe0huFferKzqFaSNyj4ByBuUgjn371PRTu0JpPcq2mnw2RcwvcNuHPnXMkv5b2OPwqa1+9P/wBdP/ZRT6Za/en/AOun/soobb1YJJaIsUUUVJQUUUUAFFFFABRRRQAUUUUAFFFFABRRRQAUUUUAFFFFABRRRQAUUUUAFFFFABRRRQAUUUUAFFFFABRRRQAUUUUAFFFFABRRRQAUUUUAFFFFABRRRQAUUUUAFFFFABRRRQAUUUUAFFFFABRRRQAUUUUAFcF488Sa74ake8i1LS7S2AAsbOW3eaW/k/iQkEBOoxjPqSK72uS8SeEdX1yW9htvE0lppuoRCK4s5bRZtoxg+WxI2ZHseeaWo1bqT+LvEd7onh2ylsoIhqWo3MFnAkxLRxyyHq2OoHNc5qHjrWvC667pusG01LULGCCazniiMSzea/lgOm442sR0PI9K2b7wvc61pc+iSO1haaa9sdJvAoeUSRqD5hBOGGeMYHQ+1Qv8Ov7StNZPiPVmvr/VY44jcwwCFbdYzlNiZPRuTk81Wl32/Ty8ydbLv+v/AAxTn8Ya14U1G/sfE8lrqTR6S+pQS2sJh5U4aIgseMkYb86l0nxH4isfEOg2fiWaxuYvEEEkka20BjNrIqB9mSx3rg4zwc1btvAUt3c3t14r1c6vcXVgdOVo7cW6xwnlsKCcsTzn9KXRPA95Zavpt9reuHVRpEDQafGLUQ+WGG0s5DHc20AZ4oW+v9b/APAB7f15frcv3/iK6sPEt1Zpp1xfW8NjFckWoTcmXkDEl3UHhBgDnrVbUPFclt58+mxTagpexCRKiKqpO+3cCzqSSPXocdskbR0nOt3eoed/x82cdr5ez7u1pDuznnPmdPb3rKHg9ksJYItQCytDZpHIYMhHtjuViu7kEgZGRx370l5+X5u/6Dfxq23/AAF+ty+viFX1Z7GHTr2XyXSO4mQRlYGdQwDDfuPDDJVSOevBxr1zd/4XudR1i3vbi8s8wyRyCVLDbcJtIJRJQ/yoxHIIY4Zhk5GOko6AFFFFABRRRQAUUUUAFFFFABRRRQAUUUUAFFFFABRRRQAUUUUAFFFFABRRRQAUUUUAFFFFABRRRQAUUUUAFFFFABRRRQAUUUUAFFFFABRRRQAUUUUAFFFFABRRRQAUUUUAFFFFABRRRQAUUUUAFFFFABRRRQBBef8AHt/wNP8A0IU2b/Vj6068/wCPb/gaf+hCmzf6sfWn0EQUUUUhlymllX7zAfU06mr/AK1v90f1piE8xP76/nR5if31/Os86tNcXk9vpVmLn7O2yaaSXy41fGSgOCSRkZwMDOM5BAm07U1vpJ4Hhktrq2IE0EmMgH7rAgkFTg4PsRwQQGBa8xP76/nR5if31/OpKKQEfmJ/fX86PMT++v51JRQBH5if31/OjzE/vr+dSUjMqLudgo9ScUAM8xP76/nR5if31/On9elLQBH5if31/OjzE/vr+dSUUAR+Yn99fzo8xP76/nUlFAEfmJ/fX86PMT++v51JRQBH5if31/OjzE/vr+dSUUAR+Yn99fzo8xP76/nUlFAEfmJ/fX86PMT++v51JRQBH5if31/OjzE/vr+dSUUANpaZH/qk/wB0U+gBKZa/en/66f8Asop9MtfvT/8AXT/2UUAWKKKKQwoorldb8XXGj+JYbKS0jWxbyg125c5aRiu35FYIemN+AxOMilcOlzqqK89X4l3C2MV1cabbql1bJd24S4JKRtOkREmVGG+cHjjgjtmrTePbuXxJeaZZWFvLHZvcGSYzHJjhWFm2qFOWPmkAZHI60/8Ag/huH9fedxRXBjx/fjTbSWSxsDPqJgNqkF20vlrKGYeYqpu4CYGBhicDGDXV6Bqc2r6NFd3Nt9lmZnR4t24AqxXIJAODjPIB55GadmK5o0UUUhhRRRQAUUUUAFFFFABRRRQAUUUUAFFFFABRRRQAUUUUAFFFFABRRRQAUUUUAFFFFABRRRQAUUUUAFFFFABRRRQAUUUUAFFFFABRRRQAUUUUAFFFFABRRRQAUUUUAFFFFABRRRQAUUUUAFFFFABRRRQAUUUUAFFFFABRRRQAUUUUAFFFFABRRRQAUUUUAFFFFABRRRQAUUUUAFFFFABRRRQAUUUUAFFFFABRRRQAUUUUAFFFFABRRRQAUUUUAFFFFABRRRQAUUUUAFFFFABRRRQAUUUUAFFFFABRRRQAUUUUAFFFFABRRRQBBef8e3/A0/8AQhTZv9WPrTrz/j2/4Gn/AKEKbN/qx9afQRBRRRSGXKav+tb/AHR/WnUzcqytuIHyjqfrTEYml3A0a4m0zUEkjM15NNbT7CY5hLKz43AYVgXK4OM4BGc061mD+OtQSUCF0s4UhVhhp1DMzOPVQXC+oOc4BGdrzE/vr+dRyR2ss0UsqQvJCSYnYAlCRgkHtkEimBQ8RJbvpii7uIrePzVJa4j3wt/syDIG0+5Azj6Vhf2qLazhSxeDTrNppQ1xbTJ5LMApGxpFKgHJ4A6qcdzXYeZH/fX86PMjxjcuPrQI5K5168jNpm9WO4EcDPFmNUm3tglQVLtx6bQPWrLX92sDT3OqPbwSX0kDylIwtuilsYJXqSAMtkc+tdJ5kf8AfX86PMjP8a/nQByU887XFxeWeqyOYNN8xZ0iQeftd8ZBUjHHVcZ6jFaetxNetowaV41a7UsqqpDfu2PRgfT/ADxW15if31/OjzE/vr+dAHHS6tdW1tGiXUdhGTcMsg8qNXcSsAvzKQeOSByc5zUov5odQn+03q6dHPOpnuV24VvIQhQXBAyc9R2x3rrPMj/vr+dHmRnq6/nQBz1tdzW3gWW6t5f3yiVlk2jk+Y3ODUd5qdzYPc2k+ozfLPGqXLiFCoZCxDMV2AcddpPOK6XzE/vr+dBkjPV1/OgDkBq+pzac86X7I1vZGfKIjCVhK68kr0IUdMe2Ks3uo31jHNC987Il0iNdSeUjRo0e7qV2D5uMkd/Wum8xP76/nR5kf99fzoA5KfW7uGys5ptSQIVcnyXiMk4D4UgMu1+OoQqcnjqK68HIBpvmR/31/OjzE/vr+dAD6KZ5if31/OjzE/vr+dIY+imeYn99fzo8xP76/nQA+imeYn99fzo8xP76/nQA+imeYn99fzo81P76/nQAkf8Aqk/3RT6ZH/qk/wB0U+gBKZa/en/66f8Asop9VkYLJNmd4/3nRQD/AAj1BoAvUVU8xP8An8l/75X/AOJpyESNhLuQn/dX/wCJoGF/YxajaNbzvcRoxBLW9w8L8f7SEMPzqnb+GdIglt52skurm2z5N1eE3E6c54lkLP39eK0PJf8A5+ZfyX/CjyX/AOfmX8l/woAqJ4f0aJbtY9JsUW9/4+gtsgE/+/x83U9fWnWeiaVp8gksNMs7V1BUNDbohAIUEZA7hFH/AAEegqz5L/8APzL+S/4UeS//AD8y/kv+FAFJfDehpaXFqmjaetvctvnhFqgSVvVhjBPuau21tBZW0dvZwR28EY2pFEgVUHoAOBR5L/8APzL+S/4UeS//AD8y/kv+FAEtFReS/wDz8y/kv+FHkv8A8/Mv5L/hQBLRUXkv/wA/Mv5L/hR5L/8APzL+S/4UAS0VF5L/APPzL+S/4UeS/wDz8y/kv+FAEtFReS//AD8y/kv+FHkv/wA/Mv5L/hQBLRUXkv8A8/Mv5L/hR5L/APPzL+S/4UAS0VF5L/8APzL+S/4UeS//AD8y/kv+FAEtFReS/wDz8y/kv+FHkv8A8/Mv5L/hQBLRUXkv/wA/Mv5L/hR5L/8APzL+S/4UAS0VF5L/APPzL+S/4UeS/wDz8y/kv+FAEtFReS//AD8y/kv+FHkv/wA/Mv5L/hQBLRUXkv8A8/Mv5L/hR5L/APPzL+S/4UAS0VF5L/8APzL+S/4UeS//AD8y/kv+FAEtFReS/wDz8y/kv+FHkv8A8/Mv5L/hQBLRUXkv/wA/Mv5L/hR5L/8APzL+S/4UAS0VF5L/APPzL+S/4UeS/wDz8y/kv+FAEtFReS//AD8y/kv+FHkv/wA/Mv5L/hQBLRUXkv8A8/Mv5L/hR5L/APPzL+S/4UAS0VF5L/8APzL+S/4UeS//AD8y/kv+FAEtFReS/wDz8y/kv+FHkv8A8/Mv5L/hQBLRUXkv/wA/Mv5L/hR5L/8APzL+S/4UAS0VF5L/APPzL+S/4UeS/wDz8y/kv+FAEtFReS//AD8y/kv+FHkv/wA/Mv5L/hQBLRUXkv8A8/Mv5L/hR5L/APPzL+S/4UAS0VF5L/8APzL+S/4UeS//AD8y/kv+FAEtFReS/wDz8y/kv+FHkv8A8/Mv5L/hQBLRUXkv/wA/Mv5L/hR5L/8APzL+S/4UAS0VF5L/APPzL+S/4UeS/wDz8y/kv+FAEtFReS//AD8y/kv+FHkv/wA/Mv5L/hQBLRUXkv8A8/Mv5L/hR5L/APPzL+S/4UAS0VF5L/8APzL+S/4UeS//AD8y/kv+FAEtFReS/wDz8y/kv+FHkv8A8/Mv5L/hQBLRUXkv/wA/Mv5L/hR5L/8APzL+S/4UAS0VF5L/APPzL+S/4UeS/wDz8y/kv+FAEtFReS//AD8y/kv+FHkv/wA/Mv5L/hQBLRUXkv8A8/Mv5L/hR5L/APPzL+S/4UAS0VF5L/8APzL+S/4UeS//AD8y/kv+FAEtFReS/wDz8y/kv+FHkv8A8/Mv5L/hQBLRUXkv/wA/Mv5L/hR5L/8APzL+S/4UAS0VF5L/APPzL+S/4UeS/wDz8y/kv+FAEtFReS//AD8y/kv+FHkv/wA/Mv5L/hQBLRUXkv8A8/Mv5L/hR5L/APPzL+S/4UAS0VF5L/8APzL+S/4UeS//AD8y/kv+FAEtFReS/wDz8y/kv+FHkv8A8/Mv5L/hQBLRUXkv/wA/Mv5L/hR5L/8APzL+S/4UAS0VF5L/APPzL+S/4UeS/wDz8y/kv+FAEtFReS//AD8y/kv+FHkv/wA/Mv5L/hQBLRUXkv8A8/Mv5L/hR5L/APPzL+S/4UAS0VF5L/8APzL+S/4UeS//AD8y/kv+FAEtFReS/wDz8y/kv+FHkv8A8/Mv5L/hQBLRUXkv/wA/Mv5L/hR5L/8APzL+S/4UAS0VF5L/APPzL+S/4UeS/wDz8y/kv+FAEtFReS//AD8y/kv+FHkv/wA/Mv5L/hQBLRUXkv8A8/Mv5L/hR5L/APPzL+S/4UAS0VF5L/8APzL+S/4UeS//AD8y/kv+FAEtFReS/wDz8y/kv+FHkv8A8/Mv5L/hQBLRUXkv/wA/Mv5L/hR5L/8APzL+S/4UAS0VF5L/APPzL+S/4UeS/wDz8y/kv+FAEtFReS//AD8y/kv+FHkv/wA/Mv5L/hQBLRUXkv8A8/Mv5L/hR5L/APPzL+S/4UANvP8Aj2/4Gn/oQps3+rH1pLmNkgJaV3+ZOGA/vD0FLN/qx9aOgiCiiikMuUUUUxFe7v7TT4hLf3UNrGTgPNIEGfqafb3MF5As1pPHPE3SSJwyn8RXM7dSkkn1axaFrg3M1uVlszO0aJIyKE/eptUhdx65LfSprOO9tdVsbu7eET6hK0M0cNsYMqI3YMymR8sCgG7PRsHtjd0o231OdVZX20OlorF8S+a0FhFEZv3t4qMsM7Qs42scblII6Dv2rN1OWWw8u3hM8J8hXJe7kkcf6RGCNxY54Y89e2ccUo0+a2u5UqvK3psdZRXKQ6tq8NqEeaGeee/nhjcWrMI1QtxtDjcfl45GB64q7p2qalfahBBItvAq24lnBjLM53svy4bC52g85x0odFrW4RrJu1jeorndSv7+11bUHtbi3WK1so53inVm3DMmQuGG0nGN2D244qeLWbiXV10/y4xMZd5yDxb7MhuvXcQv1B4peyla4/axvZm3RWHPPqv/AAkV7FazwNFHYrJFA8R5kJcDLBvUen/16v8AwkV3e+Q+m/Z44bi4S3jknRmwxjZ24DDODtXHHIahUpPYTqxW501Fcs/iDVHYWsCQG4j87zJVt2dJPLYL8q7wVznkknHTmujtJmuLKGaSPy3kjVmTOdpIzjPelKm4q7KhUU3ZE1FFFZmgUUUUAFFFFABRRRQAVBLdRxPtbcT3wKnrMu/+Pp/w/lTWomWft8X91/yFSQ3CTEhcgjsa80tbwN4niT7bKdXOpTJPafaGO21CttJjzgLjYQ2Op65Jr0Gw/wBe3+7/AFFOysBoUUUVIxKzn/4+Jv8Ae/oK0azn/wCPiX/e/oKYFGTWLKJJi82DDIInTYd+89AFxk57Y69q07X/AI+U/H+VU2s7Z7xLt7eJriNdqTFAWUegPXufzNXLX/j5X8f5UgLs8pij3AZOcVTTUvMLiNonKNtbac7T6Hng8irF7/qR/vVws9lqENze3VgLtbiS8lCgO2xl8jg7T8v3gPmx14zVRSsS27na/bZPRfyo+2yei/lXFwzXFtPFPbjVW06OcblmSd5STG4PysC5Xds7YB5HFRQNqAm0lpxqby+TCGjPmqoOfnZmGVJx1WQD/ZOaqyFdnbLqJd3VDGzIcMAclTjPPPHFP+2yei/lXGGaVhqVrYjVQTdwsjSx3A+Tcgfa7jp97gHGM44qlrH2uwtLxZJdUW3hjn+yPFJMzB+Cpdl5K8nBY7evtRZBdnoH22T0X8qPtsnov5VzWo6zY3VleadYanBJqawsPs1vcAzqQOflU7gRXPS22txQNHFcX8VuZv3skqXNwwXdKBtCOsnaPO0+hOQTRZBdnocmpeSoaVoo1LBQWOBknAHXqScULqJdnVDGzIcOAclTjODzxwRXDXVveu1nHfNqF1MrWjQvHFKkbASAyM6glQeM/OSQOnepmuZPsWrW9muq4+0KyPNDdEqhCBipOGYA7jtQg9cY60WQXZ2322T0X8qPtsnov5VwVvDqtxpoE0uol4LS4aN1E0JaRZP3eVLFj8vQMWyOua3ptcsJlubGy1C1n1OOJ/8ARIrlPO3AdNucg/hxRZBdm/8AbZPRfyo+2yei/lXntm18luy302pyWIuNxaKG6jkwY+B8zNKQGznBx04Ap2lDWrm+0uae+uEiMEDIv2aaQSLsG/c4kEYJOfvqT6UWQXZ6AL18/Mq49qfe6lZ6d5X224SEzOI4wx5diQMAdTyRWRaf8f19zdH94v8Arh8g+Qf6v29ffNaGuWs15pgitk3v58L4yBwsqsevsDUSSKi2WJNQtYdQgsZJgLm4VnjjwcsF6n2696fcTGELtAJPrWC+i6wvi+HURe2kto0rF0NowkjTYQq7/NweSTwvUmtm+/g/GktxvYjXUGfOzy22nBxzg+nWhtQZWUMYwWOFB7nrxzXGQ2bWEWrQ266kJWuhI53zuGhLKWMbEkFtu77vzfpUdxZefDYXU41VrW2vmMeHufOERjYAsqnefmPUjIB54zWlkRdncNfsiln2KqjJJ4AFRWusR31us9lNBcQtkCSJw6nHB5BxXJ+Zfp4yWTdeC23srxeTOyFPLyG3Z8sfMMYC7s9+cVY07XtNsbO4k1O5/s1Gu5SrahG1qH3MxGDIFzxzxRZBdnVfbZPRfyo+2yei/lWAYxqWsQ3MVxNJZi2WSJoJ2WKRtxwcqcNx25BBrGj/ALQ8iTZ/ae/yx9v3+b97zF3eTn/Z3/6vjpjnFFkF2dx9tk9F/Kj7bJ6L+Ved3VtqVxJm2bWBaqcW/wC+nR9mJPvchidwH3ucbfWtbTWvB4i/fC/fcp3+YJFjjGwY4OY2ye64YZ5HWiyC7Owju3aRVZVwTjimXWs2NnepaXEriV9v3YnZV3HC7mAIXJ4G4jNZ+kfxc3R/0l/+PoYb75+7/s/3fbFGu2l5fXtrFDZzOscsckdwlwBGhDgsJIyw38D5flbB5+UjNQ0ios2rieK1t5J7hwkUalnY9gKzW8T6WkCytLOMlgU+yy+Ym0Aksm3coAIOSAOR603Vg+s6TqdjZB0niIjDNgBnwr8H8QOe9YbaRqB02+RtOv5BqExfab1VmjYRqqtIVcKUJDEqCRjA2kcBFHSrrVg+oixWZjM3AIibYTt3bd+Nu7HO3Occ4q3PKYo9wGTnFYiLfvrtvHdaZObW1ClJ4miETyFMGQjeGwMkAbe5PpjXvf8AUj/eoW4nsQLqDOWCmNipw2Ox9OtDagybd/lruOBnjJ9OtcYtk1jca0tuupCaWdZdwed1aEhN+wkld+AwAHzccdqZdWX2mwt55RqrWltf74hvuBOIimCSoPmH5icZ5A9q0siLs7dr9kUs+xVUZJPAAqK11iO+t1nspoLiFsgSROHU44PIOK5JZL5PGCSK16LXcVaIwTspj8rIbcT5Y+YYxt3Z6nnFWtN1zT7OxuZtRnOnRfa5CHv42tlbc7FcGQLnI9KLILs6YalulaJWiMigFkB5APQkZ9j+VP8Atsnov5VxN2/2rXje6Y91MZ47b7LPatI1vIA7b9zL8hG0/wAXrxzVazi1wQ3r3d5dSSHb58MdrOhUeYN3luzsGOzdjygPzxRZBdneJqXm7vLaN9rFW2nOCOoPPWn/AG2T0X8q4vTbB5liiX+0obR72dyWkmikZNvy7mJD4z6nNPuhqI1KcWf277aHk27i/wBn8ryzsxn93u3bf9rOc8UWQXZ2P22T0X8qPtsnov5V59dQX06kaedaFqqhh5klwknm8bupDFcY4+71xVqMX8V9YB/7TkK7UVMyhceY2WZxlW+XGRIMkdDk0WQXZ24vXz8yrj2p2oapaaWiNeO43khRHE8jcdThQSAO56DvWTa/8hC95uvvJ/rR+7Hy/wDLP29ferPiKwmu7eOSxFz9sTdHG1u8a4VhyGLg/LwM4BbjipkkVFstf21Yfb1s/OJlYAgiNinI3AF8bQcc4znHOKdp+rWeqeZ9ikdvLxnfE8eQejDcBuU4OGGQcdawz4clj1CxhhNz9lQRyXRLxiGRkTYMD7+4gL6LjnrVrw/pNxY31zLMboQCNLa3S6eNmCIWxjZxt+YYzluOako1Z7po5CqgcetR/bZPRfyrH8XzNBpFzIjyxkNEC0JIfBdQcbec4z0rnz9o8geZ/a/9n75fs2zz/PzhNm//AJaYz5n3+Ome1WkrGbbudx9tk9F/KoLvWYbCHzr6e3tosgb5nCLn0yTXF2kmoT6rKgkvmvkn2TfNJ5Cp9nBI/wCeYO8jGPm/Cnfbbp9JvxcQ6k4/syKAK1rMxafEgbC7cntlhx05p2QXZ3H22Q9An5Ui6gzFgpjJU4bHY+h5ritTuL6fVrCex+3RRAw4X7NcYkUvhwQCqpgf89FbI6Y61ZsrK2sb/WluF1QebJ5u5HuXDIVT7hBI3ZBGF+bj0osguzq49RMsayRGN0YZVlOQR9c0/wC2yei/lXELcTXGjaf541gRxwMkmyK4SYzALs3cByPvcn5c9asadBqQvobi8a8877WY5FMj+X5fk5Py/dxv/ix14zRZBdnYx3btIqsq4JxxS3GpWdpeW9rcXCJcXLbYoifmf8PTjrWXpP35Obo/6U3/AB8jB6/w/wCx6Vd1W1muZtOaBNwhvFlk5A2qEYZ59yKiSRUS/JIkUbSSsERAWZmOAAO5qhLrtjDYxXbtP5UrFYwLaQu+M8hAu4jAznGMc9Ki1UHWNM1XTLTcsyx+XvPClmXOAfoRn61l/wBm376a8iw6lDNHcbrOM3UUk0alQrBncsu0ncerEDpyAAijeTV7CW+is4ruN7iWLzUjU5JTjn2HI61YnlMUe4DJzise00mezuNDQfvI7G1khlkz3KoB15OdprUvf9SP96hbiexXj1Lzk3wtFIuSMqcjIOCOvqMU/wC2yei/lXDxWV/aWrPaC9WSb7UZE3uQB52VKqeFYqWwQBn3p6TXVs4mgGqNp+ZUiWSOeSXJRMEqQXxuD4LdPpitLIi7O1+2yei/lTH1LyygkaJC7bV3HG4+g55PBrirQ6muoW+RqD3DW6AiXzVjQ+TyT1jb5+ucOD6iqunafqdzHbrqN1eXAN1GZV+zzwGJtj7iHeRj1IGUIXpjrRZBdnoX22T0X8qgt9ahupJUtbi3meFtkqxuGMbejAHg/WuPddQRY0kOpmZE22ZQylS4lcfvSOCNuzmTgjOOasXt3LJf6rHaQ3yu0cK71tZV3KrN5mx9uCdp4wcntRZBdnWJqXmFxG0TlG2ttOdp9DzweRT/ALbJ/dX8q8/MU0VhKbZNWWBryR0Urch5R5ahdzD96Oc4JBHHI6V1EZY6haeYLxXNqxZTgxA5X75HG/09t1FkF2bk9/BaWBu7pika4ztUsSScAAAEkk8AAZNQNrmnJpyX0lx5cEkohUvGytvLbQpUjcDnjBHHeq+r2k174daG3jaVi6M0aPsdlDgsEbI2tgHByMHHI61gXPhvXJtKh+wTwWwhdmjtL2A3Eg3SZ3NIJgC4XqSWJyeSTmsy0dbDqVncX81lBcJJcQKGljU52Z459+OlSXExhC7QCT61TjtZ18SSXTqDE1mkW8YGXDsSMZz0Io1zzP7Ol8nd5nlPs2dc44x70LcHsS/bZPRfypkupeRE0kzRRxqMsznAH1Oa89NrrcFrcLbTaggZsO85nnKoHXJVd4bOCfukHHToKfe218+jrBey6jebrci2MME8e5954kTcxxt248wnv3rSyIuzvxqJaRo1MZdQCyg8gHpkZ9qf9tk9F/KuQkuXjutahs49TdmhDR747jbvG7dsdhgduFPPaqOm2+o3IW2uZ9Ra3Vp9sgFxbkjbGU5di/UtjLevbiiyC7O9+2yei/lTE1EyFhGY2KNtYKc7T6HnrzWHZa5p4W00+91O1XVHhTfavOqzFioJ+TOc/hWTbvJc/wCh2/8Aa6w/2j8zTLco3kmM5/ePg43eh4/KiyC7O1+2yei/lR9tk9F/KuMiW7SaBL46qVRdtsYDISWErg+Yeh+QJzJwRk9aikS/llkjjOqCZnIuzulVNvnLt8s9B8ueU7ZzzRZBdncfbZPRfyo+2yf3V/KvNvs2urp8Mf2m/ghJDSySxXNxJu2DAASRXAznvjPUV19uJFvLJZ5LuSUWh3ts2wscrksOcP6DPTdRZBdm9PfwWlibq6YpGMA7VLEknAAUAkknoAM06zvIL+1W4tWLRsSPmQqQQcEFSAQQRjBGaq3c11BojSafZm9uV/1cIZRk56/MQOOvUdKi037Ra6Zbqmn3AkeY+eLiSMONxJaU7WZTz2B71my0WLfWLG61B7OGVjMm7rE6q204YK5G1sHg4Jx3qxcTGELtAJPrWVaG8n8RySXml3MEMO6O2l3xGPacEuQHLZYj+7wPqau6pu8j5M7trYx1zihbg9hftsnov5UyXUvIiaSZoo41GWZzgD6nNeci112G2cQTakm9QJXnM8+1cQk4XeGzkyfdIbrjpip722vn0dYL2XUbzdbkWxhgnj3PvPEibmONu3HmE9+9aWRF2d+NRJlMYMZkUBimeQD0OM+x/Kn/AG2T0X8q5Ge6eHVNXis49Tkd7YGMNHP5fmDfnYzAqvG37vXtzVLTLfULkRWtzPqD232qTMgW5t2Mfkgjl3MgG/uW6+nSiyC7O6N84BJCADqTSR6iZY1kiMbo4DKynIYHuDmucs9bshY22m3upW41Z7dQ1rJMonLFM8pndnv0rLtrO7sdMt4v+JiLdrW2a5VXlZ16hwmPmU/dyqYOOgosguzuftsnov5UfbZPRfyrhZptSgs5go1Jlnt2S0xHK7qRIxUtgEq2wry2DxzzTr06qNQ1Iaf9ua4ZJNjSLII4xgbcKT5b+xUq3r3NFkF2dx9tk9F/Kj7bJ6L+Vcjo+p2+i6WW1/W4o1llPkvfK9qcYGQBPIznnPU9+OMVblN3JrCJbPLJZzAXQlRzt+VcbAemCdjY6H5qLILs3LrWYrC3M99Pb20IODJM4RQfqTUwvnIBAQg9CK4GxnvodM1gXo1CZJbUeXGbS5ZlkYOGUbixb+HlQF9AKuX17dlC1qmoBbi1iSAJbzAq6yHfkbfkOCOTjI9aLILs7P7bJ6L+VOju3aRVZVwTjiuM0KLVv+EiupNRvJWXMgaA2syoBu+QiRpDGfl/uKDzzzXQaN/x7xc3R/et/wAfYxJ98/p6e2KVkF2aMusWUOpLYySsJ2IHETlAT0UuBtBPYEgmmrrmmyQXU0V2kkdo2yZowWw3ZRj7x5HAzzx1qnfG8m8QQRNpdzJYRMsnnxPFteTsWBcNhevAOTj05ranpF9cLq5twyNLcW88BRl3OIwhOM8A/KQN3GfaoNDdsr2DULYT2rMUyVIeNkZSOoKsAQfYiq/9t6eLyW2acq8QYszRsE+UZYByNpIHUA5FZ+ho2kxiK5huUk1G8kdI5XEjxjZnLsGI/g7EgFgKx7zwxqN5c3UH78LvupIp3lXyQJUYBQoO7dl+Sw7cHtQB0Y8R6abUziSfAcR+X9kl80sRniPbvPHOQMY5q/FcRT2i3MDiSJ03ow/iGMiuLGhaobkakYNRD+anmw/aIvPlURupIbdsUEsOAVIAJGDXTaNYvpnhm1spfvw24Rhuzg46Z7/WgBJdahhu4raWe3jnmz5ULuA7464Gcn8Kn+2yei/lXP65dpb3WnBobqTbc+YxgtZJQq7GGSUU45I61lTf2mZ7r7F9v+2/v/M37/J2c+Xs3fJu+793nrmtLIzuztftsnov5U3+0G8zZ+734zt749etcVfrK2jrHpr6vHC05/eXCXLunyf3VZZiu71YAH2xUmn2rDW7G/1BdQ8+4sI1JBn2CUZ3B1Hyr16MAM570WQXZ2CaiZCwjMbFG2sFOdp9Dz15p/22T0X8q4uK4ZrG8ghGr+Ql4GYvFciUwkLnYzDcec8Kc4zioxBqM0UzhtSVYbcyWgMkisSJX27hnLHbtyGycYyM0WQXZ3H22T+6v5U681O20+3jlumkAkIVEiiaV2OM4CqCTwCeB2rJT/kNS83X+oThh+5+83T/AGvX2xV3Vlmk0lIorS4u0kAWVLW58iULjqrbl74/iHGfpUySHFsnbV7BI7N2uV23zBLfg/vCRkfoO9WLq6hsrV7i5fZGg5IBJ9AABySTxgcmuTbw7rwbSpY7yxxbLAjwPZljGFOXKuJVHPGfl7CtfW7e/wBS0y7t4IHheGeKSB1dCZgrI5IB4ByCAG4yPSpLJn8SaWkEUrzShZSwA+zybk2nDF125QDIyWAAzWpXFP4bvH0yYwR38F3eSyqczxsY45AAfOYlsjKg/JkjOBgZrqop0a4l0+PzFeCFCZQBgbsgY68jbnkdxQAuoalZ6XbfaNQuEgizgFz1PXAHUng8D0ofU7KPUYrBrhPtUylkhByxGCc47dD19Kzb3Sb3/hGdQs/7QutUuJ4mEbXQhRgSMbRsRBj6/nVq9tJpdV0qaNMx28khlOR8oMbKPryR0pASWesWWoXMkFrK7SR5J3ROoYA4JViAGAPGVJFF/rFlpkiJeSOrON3yRO+1c43MVB2rz1OBWN4f0u8sNSmmmtZYz5biR5Jw6SuX3AwruPlrjORheSOCeak1yHUdV0uCH+zJllmjDYjulAt5fSQbgJEGeRhgcfdpgbR1C1Gprp5mH2t4jMIgDnYCBnPQcn/OKs1zVpous23i4X897aXFpIs2/baMkig7NqbjKQcBeoUDg8ZOa6WkBBef8e3/AANP/QhTZv8AVj6068/49v8Agaf+hCmzf6sfWn0EQUUUUhlyiimvIkePMdVycDccZPpTEZl5o8kks8ljPFF9qGLiC4g86GU4xuK5U5wAODggcg1LZ6Y8V19rvrj7TchPLQqnlxxLxkIuTjOBkkk8DnHFX6AcjI5FXzytYjkje414o5ShkjVyjbk3LnafUeh5NMltbedt00EUjYxl0BOMg4/MA/UCpqKm7KsinNpOnXEcyT2FtKk7h5VeFSJGHQnjk+9TQ2ltbbfs9vFFtQRrsQLhR0UY7D0qXcBnJHHXnpUUF3b3QzbTxTDAP7tw3B6Hj6GnzO1ri5Ve9iK50uwvJkmu7G2nljIKPLErMpHTBI7URaekepz3zu0k0qLGuQAI0BJ2jAz1JPNWsjOM80Ag9DmjmdrByq97EMtpFLKJxHGtyqFI59gLoD6E/wAqoHw5Yvp9tZzp50MEpmZZFUiVmDbiwxjkuTwBWtRQpyWzE4Re6KMujaXPaxWs+nWklvD/AKqJ4FKp9BjAq6AAAAMAdAKWik23uUklsFFFFIYUUUUAFFFFABRRRQAVTuLRpZi6MvPrVyinsBn/AGCT1T8zU1tbNC5ZyDxjirVFF2KwUUUUhiVHbKrNPuUH953H+yKkplr96f8A66f+yigCXyo/+ea/9805UVfuqB9BS0UhkcwQx/vThfWq2y1/56N+X/1qlvf9SP8Aeqg5YRsYwGfHyhjgE/XnFXFaESepa2Wv/PRvy/8ArUbLX/no35f/AFq5qLWLz7DABbRyXs9xLEI3uMIuwtn5xHnGF4+XPTPrVjR768udI0uaaHznuIg08oYL5Z25zjvk8cVVhXOhW1hdcq7EfWoLnQ9PvHie7to52hbdG0sasUPqMjg0kio2kXAluWtY8EvMjbSijBPPbjv2rCntb99KtVheUxm5kmS3uNTmt5mhCHAMgy5OfmwTxkAnio1KSR032KP1b86PsUfq351xbatezXwvLFLoRxzwRx+ZctsMTwq23y8kO2WJLEcY6npWh4Qurya6P2jzxDPYwXOLi5MrF2LBmwSQgOOFBxgdByKLsdkdC8NvG2HkYH/PtTdlr/z0b8v/AK1Muv8Aj5b8P5Vh65e6jZyWA0yG3l8+5EcgmmKcbWOOEb06+3vVJEdTf2Wv/PRvy/8ArUbLX/no35f/AFq5y88QNZtcRNabriEsxjEvBjEe/fnHTjb061VufFctnbkXOn/6WzR+VDA0kwYOrMCSkZbojZAQ/lzTsB013p2lX8Pk38UdzFndsmjDrn1wRVqO0gZB5bNtHAxjisS01C4vLSynSwlQXBPmrLmNoBg8lWAY5IAxgHnOBW7Zf6k/71J6Ia1Yos4wc5Y/U1PWXrF5dwyWttYPDFLcs482eMuqhVLEYDLkn6+p5xWHouu6i2l2EjyQywxrbQTLIrNNM0iKd4fdj+LoQc4PIqNWUdhUNwIiAJWx6YrO0PULzUIo57uSz8u5hE8MMQKyRA9myTu/3ht54xVq9/1w/wB2hLUHsGy1/wCejfl/9ajZa/8APRvy/wDrVj6vdXFpaxyW0aspmRZCZdjKpYDIG1gevQ4+tVLnX5La+nVrRTa28yxSzed84JQMCE28jnHUfjWliLnR7LX/AJ6N+X/1qNlr/wA9G/L/AOtXFSeKr20uJpLuzyJIYDbW0BeYkuZDltkZbOF5AVsY/Gr3/CSyBdOD6bKkmonZEkhMZDg/MGDKGA2gsCRk4xgHFFgOn2Wv/PRv8/hUv2OM9Gb8xWYkszXksbW5WFUUpNvB3k5yMdRjA575qbUby6gWwtrBoY57t9iyzxl0TCFvuhlJJ246j17YqXdDVmXfsUfq350fYo/Vvzrn7nxFqMOpWUcMVvcWzGBbl4AGVTI20EOXU49MI+e+OtXrKKeKbWYLO5cMsymJrp5J1QmNSeC4OMk8AgCldlWRqJaxowYbiR0yamrjdRS91bS/DcRlszBduv2iG5tnnWQ+S7c5kGRkdDk5wc8c6dvq15/aCK32b7JJPLbRwpGRJGYw3zFt2CDt6bRjI5NIDformodT1qWx0tjNYLNqZypFs5WEeUXwR5mW5HqKntdQvbq40e4laFYbqFi8SK4ZX2ZJ3b8EexU49aQzepskayrtbpWB4e1y/wBT1G4hvYFWHyVntpVjCB0ZiOnmMT0HJCH/AGabr17qFnrHmWE8apBp8s7xTIzLJtdeAAwwcZG7nGehpgbf2KP1b86PsUfq351zl74k1G2t57uNbVoS08UUBjbzEaNWO5m3YIO08ADGRyasXuuagJ7qCyFuHiuliUtGZGCeSJCdm9S5yeinIHODindisjb+xR+rfnR9ij9W/Osu3vrq41LTpTNbyW11ZvIqxJICGGw5yWwQc8AqCPXrWdD4i1ZrS2eT7HvvooXhKwuFhLuEO8b/AJx82eCvp70XYWR0v2KP1b86PsUfq351W0O9uL6wd7wxGaO4lhLQoVVtjlc4JOOnrWPJqWrabdeIryeaG7trJQ8NqkBRv9WCAHL4x1zxyeeOlF2FkdD9ij9W/Oj7FH6t+dc5FrniBtO/0iyitbs3GweYiOTHs3FhFHOxJ7YD5xzjtViyvNTvfEdrJHfWpsZrBZjEtu53EkZIYuMHnqV4HGO9F2FkbTWsKLlnYD61Hstf+ejfl/8AWqW9/wBSP96sy7ma2s5pkieZo0LCNPvOQOgprVEvRl4Lag58xj9R/wDWqx9qh/v/AKGuRh8QXVzHHHb2VvJeOz/uxdnYFUKTltm4N8wG0qPy5qePWZ3vljayCWxmFuZDN86ybd2NgGMds7uvbHNPlFdnT/aof7/6Gj7VD/f/AENcdP4luLbSVvptOGJ5BHbRxPJKznnJZUjJAwueA34VoWeo3F5Y2dwlhKhnbEqS5jaEc/NhwGIyBgYB5zgUcqHzM3ZrS2vk/eqJEJBIIBBIORwfoKX7FH6t+dUL+4mtPDOo3FtnzooJHTAzyFyKq+GJLkXV/bzLMsCCKSJZ7lp3XcpzliTg8A7QSBmp1Q9Gayabbxs5jXYZG3OVAG44xk8cnAH5U/7FH6t+dWKKV2OyK/2KP1b86PsUfq351Yoouwsiv9ij9W/Oj7FH6t+dWKKLsLIhS1jRgw3Ejpk1NRRSGFFFFABTZI1lXa3SnUUAV/sUfq350fYo/VvzqxRTuxWRX+xR+rfnR9ij9W/OrFFF2FkV/sUfq350fYo/VvzqxRRdhZFf7FH6t+dH2KP1b86sUUXYWQiKEUKvQUtFFIYUyWFZQA2eOmKfRQBX+xR+rfnR9ij9W/OrFFO7FZFf7FH6t+dH2KP1b86sUUXYWRX+xR+rfnR9ij9W/OrFFF2FkV/sUfq350fYo/VvzqxRRdhZFf7FH6t+dH2KP1b86sUUXYWQiKEUKvQUtFFIYUyWFZQA2eOmKfRQBX+xR+rfnR9ij9W/OrFFO7FZFf7FH6t+dH2KP1b86sUUXYWRX+xR+rfnR9ij9W/OrFFF2FkV/sUfq350fYo/VvzqxRRdhZFf7FH6t+dH2KP1b86sUUXYWRX+xR+rfnR9ij9W/OrFFF2FkV/sUfq3505LWNGDDcSOmTU1FF2FkFFFFIYUUUUAFBAIIPQ0UUAV/sUfq350fYo/VvzqxRTuxWRX+xR+rfnR9ij9W/OrFFF2FkV/sUfq350fYo/VvzqxRRdhZFf7FH6t+dWAMAAdBRRRcLWCiiikMKKKKACiiigAooooAKKKKAILz/j2/wCBp/6EKbN/qx9adef8e3/A0/8AQhTZv9WPrT6CIKKKKQy5XnvxK0xLy9s7h9Pmvnit5Viik0lr+3diR8pVCHjc44k4A55r0KimI8yiuPFEupSWtxBf2q+XtW0ETyweR5H3fM8sjcGzyX3ZGMYqDRpvFtrJp9mqX1u0VvbrbwNbOYGjEK7xIfLwrb8/ecEYGB6+qUUwPKZBrWpaHbPdSeJJJbe6s5rxJbHZskD/ALzygF3OB1+UFemCean/ALQ8ZldVMR1EXkcU+YTakoPn/dmFjGFLbegDNnPIzXp9FAHmtnp97c+GvGfljV5DeRA20l3bGKebFuBgLtBPIx0zVe4h17RWEOnW97HYLDZpPNb2p80JskLBSkbMcNsBAUkA9s5r1KigDyj/AIqWHUGvZxqqrNDZJd3dtZEztEHnztTZ97mPcAuQD0FRWD+JNIi06K2i1ho3upmNuLVo2ctcsS7uImQZQ52vsGOQfT1yigBKWiikAUUUUAFFFFABRRRQAUUUUAFFFFABRRRQAUUUUAFFFFACUy1+9P8A9dP/AGUU+mWv3p/+un/sooAsUUUUhkVzG0sWF6g5rFOiXrag876petA4I+yfuVjAIxwwQSD1+9W/RTTaE1c5qPwlaRW5hWO62mTzQWvpSytzkhi+Vzk5wRnPNWotChhjtEityq2QxAPMPyfLt9eeD3zW3RT5mLlRV+ww3FjJbX0EU8Mv34pUDqw9CDwelQjQNHFn9jGk2Itt/meR9mTZu/vbcYz71oUUiiudPsjepeGzgN1GuxJzEu9V9A2Mge1FrYWdj5n2K0gtvNbfJ5MYTe3qcdT71YopAZ2pWM93HIlvPJbM4GJodhZPoHBH5g1QHh+SXTxa6hc3V8Q+8TySLFID2w0QTGPaugoquZk8qOam8Ny3El7JKyl7i2NrEwT5ooyD1JYljk57dB7krD4UtYrL7OYpXyVYym5fzNyjAIfduXHOADxk+tdJRRzMOVGKNFQfZf3LH7KS0JMpJBIIJPPzcE9c1ofYxLYyW85kVZQQxilaNgD6MpBB9wc1aopNtjSsZsXh/To7E2c0L3sBfzNl/O9383Y5lZiKnXStPS4huEsLZZoE8uKQQqGjX+6pxkD2FW6KQyvb2FnZyzSWlrBBJO26VoowpkPqxHU/WodSs5ruJlt5pIGZdoli27kPqNwI/MGr1FNOwmrnNN4Ye5sRbapeX1+BJvEjziFu2B+5CAgEZ5FWV0CFVYfZ2bc6yMXlLFmUAAkk5PAH171uUU+Zi5Uc0nhKyjjkRbeX94FG43UhZQpJXa27KYycbSMZqZvDdsyoHti5RAis0rFlAbdkEnIOQCT1OBk8Vv0UczDlRkppey8kulixNKqo7b+oXOOM4/iNXrixtr2z+zX9vDdQ4G6OaMOpI9jxViik3caVipLpOmz3EU8+n2sk0IAikeFS0YByApIyMHnioV8O6KjTsmj2Cm4BExFqg80E5IbjnkZ5rRopDKlrpOnWMMcVlYWttHG5dEhhVAjEY3AAcHBxmnrp9kl7JeJaQLdSLtecRKHcehbGSOKsUUARC2gUQhYIwIP9UAg/d8Y+X04447VVl0LSJ7iGebSrKSaAARSPboWjA5G044x7VfooAzZPD2lPHMkVotoZzmWWyZraRznPLxlW69eeamt9Ks7a2EIjaZQjR7rmRp3Kk5Kl5CWI9iauUUAVRplgLqS5Flbi4mTZJL5S73X0Jxkj2qEaBo4sjZjSbEWrMHMH2ZNhYdDtxjNaFFAFGTRNKmvI7ubTLOS5iAEczW6F0A6YbGRii70i0u9Pez8qOGNovKBSFDtTOdoDKVxx0IIq9RQBiW/hLTba2t4Y5L5Ft8lfIvZbdWJYsSyRMqHJP93HbpxWm2n2b3n2x7SBrnZ5fnmIF9n93djOParFFAFD+w9J+wfYf7Lsvsm7f9n+zp5e7124xn3qeTTrKaW3kms7eR7bmBmiUmL/AHTj5fwqxRQBFcxtLFheoOawl8P3TSXH23ULu9tp1ZTazrAI1B9CiK3HTlj+fNdFRTTaE1c5z/hFbQwCIwzH5y/mfa5PMJIwcybtxGABgnGBUsfhy2ivVuo7YpImNqiUhAQu3OzO3OOM4zit6inzMXKjEk0GKWwWzaBhChBTZKVZCO4YHcD7g0v9iR+XbJ5LEWr74sykkNgjJOct1PXPWtqijmYcqIbeIpCVcDk8iks7C00+Ew2FrDaxFixSCMIpJ74Hep6KkoKKKKACiiigAooooAKKKKACiiigAooooAKKKKACiiigAooooAKKKKACiiigAooooAKKKKACiiigAooooAKKKKACiiigAooooAKKKKACiiigAooooAKKKKACiiigAooooAKKKKACiiigAooooAKKKKACiiigAooooAKKKKACiiigAooooAKKKKACiiigAooooAKKKKACiiigCC8/49v+Bp/6EKbN/qx9adef8e3/AANP/QhTZv8AVj60+giCiiikMuU2RxHGXboPSnVFcIZISF68ED1wc0xFVr9llVGeJWY8Icn04z+I/OrcUolj3AYOcEehrAk0qJzLE0uI5FlBDKPMBkZS3/oPB+nXFa4aW0spJUtpbhyciGNl3noOrMB2zyaYFlpo0kSN5FV3+6pYAt9B3pFnicsElRirbWAYHB9D71g3NhfanqEF9FafYTlFlFzIjPtVifuqHXvkEMpB69MVXXQNSiW2eGGxSWySNEVZmAudrg7nOz5TgHHDcseaAOmNxCrBWljDMSACw5/zg/lTRdW5jRxPEUkOEbeMMfQetc9F4bumgvDc/ZfOuI8KASy5855CpJUHaQwB/HimX/h6/vpDMILOAyI8ckEUuFw2Pm3GI5JxzwOg54oA6qimxrsjVck7QBk96dSAKKKKACiiigAooooAKKKKACiiigAooooAKKKKACiiigAooooASmWv3p/+un/sop9MtfvT/wDXT/2UUAWKKKKQwooooAKKKKACiiigAooooAKKKKACiiigAooooAKKKKACiiigAooooAKKKKACiiigAooooAKKKKACiiigAooooAKKKKACiiigAooooAKKKKACiiigAooooAKKKKACiiigAooooAKKKKACiiigAooooAKKKKACiiigAooooAKKKKACiiigAooooAKKKKACiiigAooooAKKKKACiiigAooooAKKKKACiiigAooooAKKKKACiiigAooooAKKKKACiiigAooooAKKKKACiiigAooooAKKKKACiiigAooooAKKKKACiiigAooooAKKKKACiiigAooooAKKKKAILz/j2/4Gn/oQps3+rH1p15/x7f8AA0/9CFNm/wBWPrT6CIKKKKQy5RRWZrviHTPDdil5rNz9ngeQRK2xmyx9lBPYnPQAUxGnRUYuISMiVCMhfvDqe31qpdaxaWkaSM5ljaQxs0I3hCASd2Og4oAv0VSh1iwuLCO8iuVMUsH2hM8MY8Z3bevT2qD/AISPSv7Mg1AXam2uGiSNlUk5lICAjGRncOvrQBqUVGk8MjSBJUYxnDgMDsPv6Vk6T4p0/Wn/ANBE5i/eYneIrGdhAJyfc8euDQBtUVSbV7Fby2tftCmS6jeSHbyrKmNx3DjjIpkGuabcS3KRXcZNq6pKxOFBZQygMeDkEdKANCikpaACiiigAooooAKKKKACiiigAooooAKKKKACiiigAooooASmWv3p/wDrp/7KKfTLX70//XT/ANlFAFiiisPxjqZ0fwtcXwmkgWKSHzJIgC4QyoHxnjO0kUhm5RXIJ/wllvMzWUcrQui/u78RTMrDOSGSVOoI4IPT3rb8P6ldalp7nULZbe7t5TBMqEFGcAZKnJ45x7EEc4zQBqUVxF3qGq3HxAvbGPUtYgtLYWxSKwtLeSL5wS3mM8bMM47EcZov/iK9k+vQ/wBkeZcaDbTXF2n2nC7QA0O1tvJdck8fLgg54yk0/wAfwDc7eiuQbxtdW32+HUtLtrS8t4IbiBG1AeVKkrsibnKAq2VIKhW7bd1ULf4j3l9IltYaHFLeCK7eVHvWjjU27xhgGMW4giTIJUcjBHOQ7/16B/X3nfUV5xr/AMQ9RufCeo3vheyEf2fR4tQe6mmUPAZULIFjKMHIAyckD0yeK1YPH/na29qumO9jHcyWr3SM5dXQHcxTZtCZUrnfnOPlxQ9HZhuro7KiuH0PxZq+t+KdEMtrHY6XqWlT3sUSzCVpBuh8tmOwFGCucqCR83U44beeMNUutU086fbJbaWdcOnyXBmDSTBFkDgxlPlXevBDEnHQZoelk+v+dvzDo32/yud1RXC/8LJ8jT01K/0gx2N5Zy3mnvFciSSZU2/K6lQI2IZSMFh1yRWp/wAJNqlpf6XZ6zokdrLqN4bZHhvfOQL5Ly7gdikn5NpBA65BNG4PQ6aivPZvijOtjdXUGhCVLO2uLqcG924ihuHhbHycsdm4Dgc4JGMm5P8AEKazF3BeaQkd/Fdw20ES3LPHL5qGRWZxHlcKrZAVsY4zmlfS/wDW9vzDrb+u/wCR21FcMfiDfyeXDa+Hw139jubqSOe7aJAIXVW2sY8sGDAqdoz3A7XfD3ifUdc8VXVv9lt49K/sy0vYH80+cDNv4ZduP4COvGB13YVrXVf1v/kxXt/Xp/mjrKKKKBhRRRQAUUUUAFFFFABRRRQAUUUUAFFFFABRRRQAUUUUAFFFFABRRRQAUUUUAFFFFABRRRQAUUUUAFFFFABRRRQAUUUUAFFFFABRRRQAUUUUAFFFFABRRRQAUUUUAFFFFABRRRQAUUUUAFFFFABRRRQAUUUUAFFFFABRRRQAUUUUAFFFFABRRRQAUUUUAFFFFABRRRQAUUUUAFFFFABRRRQAUUUUAFFFFABRRRQAUUUUAFFFR3KSyWsqW8vkyshCSYB2Njg4PBwaAJKK5a51+5n02S4hZofsunPPdrEV3LLyoQFlYDBSTseg4NWj4lb+1zaR2gkhWcW7SCRvM3EDnYExtBIBO4dzjFaezkZ+0ja7N+iuaXxgGYItkfMMAIHm8eeXCeRnHUEjn9K0db1eXSkhaK3jkEhbdJNK0ccYA/icI2M9s4HB59V7OSdiuZGpRXO/2/cLfPbWsH2mWa9NvEJpwiLi3EvVUJx1/vHJ644AfE1xLZtNZ6fHI0Fsbi5R7nZs5ddqHYdxzG3XaOnrw/Zy3EqkW7I6KiuX/wCEmuIbq6h8uOaRrkiFZZDGkcYhiY5ZUYn5pPTv7VqPrLDRLe+jtWMtyY0jgkbZh3IGGOOACeuDwOlJ05K3n+oKcWalFc9Breo/aLi3ktYnvGvfIihM+I0AgWQnzAmSOv8ADnJx0qSHX7u8/d2GmpLcRKxuY5LnYEKuybUO07iSjYztGMZxmn7OQc6N2isqPW9806fZ8eTfLZ/f65RW3dP9rGPbrWX/AMJXfGBZV0qAq9m96gN4QTGmAwP7vhvmGB0POSKFTk9v66/kHtIr+vO35nU0Vgf8JOW1f7LHaB4BOtu0gdjIGIHOwJjaCQCdw7nGKqz+KL86PLcx2EELyafLd2pNwXzsC5DjYMfeBGM574oVOTDni3Y6miorZ5pLWN7lESVlBdY3LKD7EgZ/IVLUPRlJ3VyC8/49v+Bp/wChCmzf6sfWnXn/AB7f8DT/ANCFNm/1Y+tHQCCiiikMuVyvirwpd+J9UtN18tpYW8MoIRFd3kcbOjKVwELc9ea6qmswRSzHAFMR59ZeA9bivLV7m9snijtw8o+ZvMu442ijkIIAK7CCfdR1qnYfDnWomV55NPibfCzJE/y/JFKhICwoozvUgbemeeOfSvtEf+1/3wf8KejrIuVOR9MU9RHmcfw7137XYmaXTdlmkQWSM7WIW3MRU/utx5Ocl+nG0UWPw41aGGBW/sqzNvHZREWbPifyZQ7yP8gw3BAHPuRmvTdw3bcjOM4zRSGcX4P8G3mg6g8l+to6pA1us0MmWuQW3bpF8tcH6s5yTzzWVN8Nb9tLtbaCaxhMNrPHIEztkZ50kUH5eVKptOR36EV6VRQB5rcfDrU7uwZA1jaPJHdb4UlZ41aQR4AxGgKnYd2FXr0PNR3Xw71WaG5lgstGtria5WaOC3nKxw/uRGT80LK3ToY+R6V6dRTAq6Zby2ek2ltcvG80MKo7RJsUkDBIXsParVFFIAooooAKKKKACiiigAooooAKKKKACiiigAooooAKKKKAEplr96f/AK6f+yin0y1+9P8A9dP/AGUUAWKzdf0aPX9Gk0+aQxq8kUm4Lu5jkWQAjuCVAPtmtKikMyvsWtf9BmH/AMAh/wDF1Z0rT/7M08W5lMzmSSWSQjG53dnY47cseOwq5RQBjXfhTSrzWG1SQXkd2+wO1vqFxCr7Pu7kRwrY9xVLW/Aul6po2oWtqn2S6vbe4h+15Z2Bn++WBb5xkDgnjAxjFdNRSsgOeTwNoS2c9u1tMxuDG0kxu5vNBjOU2Sb9yBTkgKQBk4qaz8H6HYXJuLazYTFJkMj3Ejswl2+ZksxyW2LyeePc1t0UxWsc3cfD/wANXVrHbTae3kJZrY+Wl1KivCoIVXAYb9uTgtkg8g5q6nhbSI9XOpJbyLOzFyguJPJLldpfyt2zcRxu259616KN9xmJpfhDRNGvY7vTrR45oY3hiLXEjiKNipKKrMQq5UYUAAdsZNH/AAh+if2t/aP2RvtH2j7UB9ok8tZsEGQR7tgYgnJA575rbooAwYfBXh+Brgrp+9biJ4WimmeSNI3OXREZisak8kKBmm/8INoBs/szW1w489Z/Oe+nacOo2qRMX8wYUkAbsYJHeugooAwE8DeHY7Oe0j04LBcW8trIgmkwYpHMjr97jLMTkcjOBgVYufC2j3f2ozWrb7pomkkSZ0cNGMIysGBQgd1INa9FAdbmPB4U0a2ZGjtXLpbS2okkuJHZo5WDOGZmJYkqDuOT71LZeHdL06+iu7K3aGaK0SzUrM+DCn3VZc4YjJwSCRk88mtOij+v6+9/eAUUUUAFFFFABRRRQAUUUUAFFFFABRRRQAUUUUAFFFFABRRRQAUUUUAFFFFABRRRQAUUUUAFFFFABRRRQAUUUUAFFFFABRRRQAUUUUAFFFFABRRRQAUUUUAFFFFABRRRQAUUUUAFFFFABRRRQAUUUUAFFFFABRRRQAUUUUAFFFFABRRRQAUUUUAFFFFABRRRQAUUUUAFFFFABRRRQAUUUUAFFFFABRRRQAUUUUAFFFFABRRRQAUUUUAUf7F0/wAi+hFuBHqDM1yAzfvCRg9+OPTHc9SaP7Gs/wC0PtoWVZd28qs7iNmxjcUB2k4xyRngegq9RVc0u4uVdjPGg6YJBILRdwujeZyf9cRjf19O3TvUt/pdtqSqLoS/KCAYp3iJB6glSMg+hq3RRzS7hZFGLRtPhnSaK3CPHL5qYY4VvL8vOM4+5xjp+NZuqeF1u4RDZNDbx+U8Z3eYT8xJOcOA4yT8rAjJ/Cugopqck73FyxtaxmvoGnyIQUlVy4kMsU7xvu2BM7lIIyqgYHHFWJdNtZtOWxkjJgUKFG9gy7cEENncCCAc5znmrVFLmk+oKKXQzB4e05bZoVjmG6XzjILmTzN+0Lu8zduztGOvIok8O6ZJDFEYZFSJSgEc8iF1JyQ5DAuCck7s5JPqa06KOeXcOWPYzzoWnnUPtvkuJt4kwJnCbwMBtmdu7AAzjOKUaJp4jSMW/wAqWz2qje3ETY3L177Rz1q/RRzS7j5V2KP9jWQ1AXirKsu4MVWdxGzAYDFAdpOMckZ4HpQNG08QxQ/ZwY4oHt0UsSBG+Ny9ec7R1q9RRzS7gklsRwQpbW6QxlyiLtG9y7Y92Ykn8TUlFFTuPbREF5/x7f8AA0/9CFNm/wBWPrTrz/j2/wCBp/6EKbN/qx9afQRBRRRSGXKiuP8AU/8AAl/mKlproJEKnp7VSJOdmnvT43tbdZWSyWyeRk8s7ZH3Afe9QOf/ANfGwbq3srea4vJ4reFHG6SVwqrwOpPFTfZ/+mr/AKf4U+OMRqQCTk5JPeqbTQkrHO39+15dRXOkzm4sTGFmuLICUgeYNwUqDz7DnGT1FXvDiuunzmQXA33UrIbiMo7KW4JBAPT2rXoqSgooopAFFFFABRRRQAUUUUAFFFFABRRRQAUUUUAFFFFABRRRQAUUUUAFFFFACUy1+9P/ANdP/ZRT6Za/en/66f8AsooAsUUUUhhRRWfqus2+jQma7iuWiClmeGFnCAeuOlNRcnZClJRV2aFFV7S7W7txKIpoQTgLPGUb8jTku4ZLya2Vv3sIUuCP72cfyNFmHMiaioIr2Ga8uLVGPm24UyAjpuBI5/Cpwc9KGmtwTT2CiiikMKKKz7rW7KzW4853zbyJEyJGWZncAqqgcknI6UAaFFZcfiGxNrdTXHnWhswDPHcRFXQH7pA/iz0G3OTx14pLXxDaXMzQvFdWsojMqx3UDRmRB1K5644yOoyMgUAatFZdt4i0y70O31e2uPMsrhkWN1U5yzBQCOoOTg56VqUAFFFFABRRRQAUUUUAFFFFABRRRQAUUUUAFFFFABRRRQAUUUUAFFFFABRRRQAUUUUAFFFFABRRRQAUUUUAFFFFABRRRQAUUUUAFFFFABRRRQAUUUUAFFFFABRRRQAUUUUAFFFFABRRRQAUUUUAFFFFABRRRQAUUUUAFFFFABRRRQAUUUUAFFFFABRRRQAUUUUAFFFFABRRRQAUUUUAFFFFABRRRQAUUUUAFFFFABRRRQAUUUUAFFFFABRRRQAUUUUAFFFFABRRRQAUUUUAFFFFABRRRQAUUUUAFFFFAEF5/wAe3/A0/wDQhTZv9WPrTrz/AI9v+Bp/6EKbN/qx9afQRBRRRSGXKZI/lxlsZ6DH40+orj/U/wDAl/mKpbkkZuiHVCsYdgSFMnJx17e9SxSeYpyMFTgjOawZdLmk8aW+psoaCKyaJT5hBVy2fu9Dx/npWsZngt5pIraW5ZX4iiKhm4HTcQPzNU0raEpu5O9xHHN5bnb8m/ceFAzjrUdxqFpbWv2iadBFsLhgc7gBkkY68elZNzp9zrN1b3ctqbVUKB4LplLfLKr/AMBZeg9apXPhm9NvexQxWMou45IwZnZfIzK7ggBTn74yOMFR1qSzqPtEO9k81NygFl3DIB6EinhgxIBBwcHB6Vy48N3ovLhmME8bGdozLJgEyD7rKI845x98/dHHpsaJp8umaaLWeQTMjsfOyd0oJzub/a9fp+AANGiiikAUUUUAFFFFABRRRQAUUUUAFFFFABRRRQAUUUUAFFFFABRRRQAlMtfvT/8AXT/2UU+mWv3p/wDrp/7KKALFFFFIYVleJ4ZbjwvqEUEbyyPAwVEUksfQAVq0VUZcskyZR5ouPc43xhbtdXflvpyTAWhEMr6dJdlnOcqu0hYm4U7j1z7VVks4Gnml13R7u8kk022SF/sjy/vQrbgMA7HyR8xxj14rvKK3jXaionPLDpycrnBXum6q0FwLiNn4svtRa3adZlVGD/ICDIA2CQDz6Hod7wlam2s7raCsMk+6KMWLWiL8oB2RsxIBOTzjJycd636KmVZyjylQoKMua4UUUVgdBBe3RsrOS4EE1wI8ExwLucjPJA7464HPpk1zDtFfW+q31xp2ovZTXUTRlIZIp1CIo81UwJOGHYZOOARXXUUAcWP7Sv8AT7kw/btRtLW4t7i3+3W3kTS7H3OgBVMgADaSBk9z1q3dXR8Q31q9haX0cVksskstzaSQZYxsgjUOoLZ3ZyAR8vWupopgefy6RqGn6BpP2Gzmkiu2svttsqHdBIjRky7eo4XDfQH1r0CiigAooopAFFFFABRRRQAUUUUAFFFFABRRRQAUUUUAFFFFABRRRQAUUUUAFFFFABRRRQAUUUUAFFFFABRRRQAUUUUAFFFFABRRRQAUUUUAFFFFABRRRQAUUUUAFFFFABRRRQAUUUUAFFFFABRRRQAUUUUAFFFFABRRRQAUUUUAFFFFABRRRQAUUUUAFFFFABRRRQAUUUUAFFFFABRRRQAUUUUAFFFFABRRRQAUUUUAFFFFABRRRQAUUUUAFFFFABRRRQAUUUUAFFFFABRRRQAUUUUAFFFFABRRRQAUUUUAQXn/AB7f8DT/ANCFNm/1Y+tOvP8Aj2/4Gn/oQps3+rH1p9BEFFFFIZcpCARgjI9DS0yVykZI65A59zTEJ5EP/PJP++RT1VUXCgKPQCsy51m3s7yC1ubmJJ7j/VpsYluQO3T7w6+/oa0InLht2MqccfSglSTZJRVabULSC6S3mnRJXxhSfU4GfTJ4GepqEa1prRyOt5GVjxnB65OBj+9k8DGcnigov0VROtacNv8ApkWGQycHooyCT6AEEEnoeKntby3vY2e2kEgU7WHQqeuCDyDgg8+tAE9FFFABRRRQAUUUUAFFFFABRRRQAUUUUAFFFFABRRRQAUUUUAFFFFACUy1+9P8A9dP/AGUU+mWv3p/+un/sooAsVT1a5vbPS5p9L0/+0bpNvl2vnLF5mWAPztwMAk/hirlFCdncGrqxx3/CS+Nf+hB/8rMP+FH/AAkvjX/oQf8Aysw/4V2NFb+1h/z7X/k3/wAkYexn/wA/H/5L/wDInHf8JL41/wChB/8AKzD/AIUf8JL41/6EH/ysw/4V2NFHtYf8+1/5N/8AJB7Gf/Px/wDkv/yJx3/CS+Nf+hB/8rMP+FH/AAkvjX/oQf8Aysw/4V2NFHtYf8+1/wCTf/JB7Gf/AD8f/kv/AMicd/wkvjX/AKEH/wArMP8AhXTWl1dS2cMl1YSW87xq0kIkR/LYjldwPODxnvVuionOMtopel/1bLhCUXrJv1t+iRF5z/8APtL+a/40ec//AD7S/mv+NS0VmakXnP8A8+0v5r/jR5z/APPtL+a/41LRQBF5z/8APtL+a/40ec//AD7S/mv+NS0UARec/wDz7S/mv+NHnP8A8+0v5r/jUtFAEXnP/wA+0v5r/jR5z/8APtL+a/41LRQBF5z/APPtL+a/40ec/wDz7S/mv+NS0UARec//AD7S/mv+NHnP/wA+0v5r/jUtFAEXnP8A8+0v5r/jR5z/APPtL+a/41LRQBF5z/8APtL+a/40ec//AD7S/mv+NS0UARec/wDz7S/mv+NHnP8A8+0v5r/jUtFAEXnP/wA+0v5r/jR5z/8APtL+a/41LRQBF5z/APPtL+a/40ec/wDz7S/mv+NS0UARec//AD7S/mv+NHnP/wA+0v5r/jUtFAEXnP8A8+0v5r/jR5z/APPtL+a/41LRQBF5z/8APtL+a/40ec//AD7S/mv+NS0UARec/wDz7S/mv+NHnP8A8+0v5r/jUtFAEXnP/wA+0v5r/jR5z/8APtL+a/41LRQBF5z/APPtL+a/40ec/wDz7S/mv+NS0UARec//AD7S/mv+NHnP/wA+0v5r/jUtFAEXnP8A8+0v5r/jR5z/APPtL+a/41LRQBF5z/8APtL+a/40ec//AD7S/mv+NS0UARec/wDz7S/mv+NHnP8A8+0v5r/jUtFAEXnP/wA+0v5r/jR5z/8APtL+a/41LRQBF5z/APPtL+a/40ec/wDz7S/mv+NS0UARec//AD7S/mv+NHnP/wA+0v5r/jUtFAEXnP8A8+0v5r/jR5z/APPtL+a/41LRQBF5z/8APtL+a/40ec//AD7S/mv+NS0UARec/wDz7S/mv+NHnP8A8+0v5r/jUtFAEXnP/wA+0v5r/jR5z/8APtL+a/41LRQBF5z/APPtL+a/40ec/wDz7S/mv+NS0UARec//AD7S/mv+NHnP/wA+0v5r/jUtFAEXnP8A8+0v5r/jR5z/APPtL+a/41LRQBF5z/8APtL+a/40ec//AD7S/mv+NS0UARec/wDz7S/mv+NHnP8A8+0v5r/jUtFAEXnP/wA+0v5r/jR5z/8APtL+a/41LRQBF5z/APPtL+a/40ec/wDz7S/mv+NS0UARec//AD7S/mv+NHnP/wA+0v5r/jUtFAEXnP8A8+0v5r/jR5z/APPtL+a/41LRQBF5z/8APtL+a/40ec//AD7S/mv+NS0UARec/wDz7S/mv+NHnP8A8+0v5r/jUtFAEXnP/wA+0v5r/jR5z/8APtL+a/41LRQBF5z/APPtL+a/40ec/wDz7S/mv+NS0UARec//AD7S/mv+NHnP/wA+0v5r/jUtFAEXnP8A8+0v5r/jR5z/APPtL+a/41LRQBF5z/8APtL+a/40ec//AD7S/mv+NS0UARec/wDz7S/mv+NHnP8A8+0v5r/jUtFAEXnP/wA+0v5r/jR5z/8APtL+a/41LRQBF5z/APPtL+a/40ec/wDz7S/mv+NS0UARec//AD7S/mv+NHnP/wA+0v5r/jUtFAEXnP8A8+0v5r/jR5z/APPtL+a/41LRQBF5z/8APtL+a/40ec//AD7S/mv+NS0UARec/wDz7S/mv+NHnP8A8+0v5r/jUtFAEXnP/wA+0v5r/jR5z/8APtL+a/41LRQBF5z/APPtL+a/40ec/wDz7S/mv+NS0UARec//AD7S/mv+NHnP/wA+0v5r/jUtFAEXnP8A8+0v5r/jR5z/APPtL+a/41LRQBF5z/8APtL+a/40ec//AD7S/mv+NS0UAIrFlBKlT6HGR+VLRRSAgvP+Pb/gaf8AoQps3+rH1p15/wAe3/A0/wDQhTZv9WPrT6CIKKKKQy5Uc4JiOBnkHj61JRTJOYk8MwT+KhrVxJLIyAeXCYjhSBgHPtl+38Q9OdxjcpaytaQxyTFsok0hjU9OpCsR+VW6KCYwUdjDl0q/1C6gu7qSCxlQgSJbO8hdQSdu/wCTIIPRkOMnFLHot6lpBCdQhP2Mp9lP2bGNuR8/z/NlTjjbzzW3RTLMEeGt1veLPdlpLuIq7xxlAG3s+4DPAy3TPbrzV3SNMbTYpfNlSWWV9zOocdAAPvux7etaNFIAooooAKKKKACiiigAooooAKKKKACiiigAooooAKKKKACiiigAooooASmWv3p/+un/ALKKfTLX70//AF0/9lFAFiiiikMKKKKACiiigAooooAKKKKACiiigAqlfatZ6fdWdtdSbZb2XyoVA+8cZP4dPzFXao3mlreapp96ZmRrFnZUABD7l2nP+NAF6iiqF/Nq8dxGNMsbG4hI/ePcXrwspz2URODx7igBv9t2ovL6GVjEljEskzyRyJgHdyMqAw+XqpPfp3bo2tx6zJf+TDLElpcCEGaN42fMaPkoygr9/GD6Z71UvNBvr7UL2SbULcWt1AsAiW0YSIFLFTv8zBILZPy84xxVzR9MuNPe+mvbqO5nvZxM7RQmJVxGiYALMeiA9e9C8+34j6mlRRRQIKKKKACiiigAooooAKKKKACsifWLu312C0l09Vs55vIjuDcfvGfyy+RHt+5hSM7s5H3cc1r1inSdUPihtSbUbN7XaI47d7JjJEmBuCyebjLMMk7OgA7UdQ6GbYeNJNQ0yW7t4dMmJnjggit9S8xt7tgCb93+64wSBuPXr3rf8LGt2s/tKQ2hhtwDev8AbflQGV4h5J2fvcmJyPu5AHc4Fu88HT6mkx1S/t7qbESwM1iAuI3LjzV3/vMkkHGwYJwBmoH8AI8rSm6tzNdRtFfSNaEmRGleRhEd/wC65kcc7+Mdxkkf739f1/kEtny/I7GiiigAooooAKKKKACiiigAooooAKKKKACiiigAooooAKKKKACiiigAooooAKKKKACiiigAooooAKKKKACiiigAooooAKKKKACiiigAooooAKKKKACiiigAooooAKKKKACiiigAooooAKKKKACiiigAooooAKKKKACiiigAooooAKKKKACiiigAooooAKKKKACiiigAooooAKKKKACiiigAooooAKKKKACiiigAooooAKKKKACiiigAooooAgvP+Pb/AIGn/oQps3+rH1p15/x7f8DT/wBCFNm/1Y+tPoIgooopDLlRTkiE4ODkDI+tS1HMpeIheTkHH0OapbksyJdVjj8QW+khLhpZoGnMgLbUUEDk+5/p6itW3J2uCScNgZOewqidNQ6uupeTKLhYTBkOMFM55GfWrLW8strLGk8to7tkSRBCy9P7wZe3oap2sSr3Kt7q0tlqEyPAHtobUTsyn5/vEHj0AGaY2vb7jybOzkuCTLtbeqqwj2hiCfdsD3HYc1L/AGQRGZDdy3F4ImiW4uQCCrdmSPYrAfTPXnmq6+F7RYbCHzJRDZW7wgRyPGz7tuSWVgf4Tkd81JY2z8V2V9fRQW65WVgitvXcCU3cpnIHbPr2xzW7VGHR7K3ulngjeIrjCJM4j6bc7M7c474q9SAKKKKACiiigAooooAKKKKACiiigAooooAKKKKACiiigAooooAKKKKAEplr96f/AK6f+yin0y1+9P8A9dP/AGUUAWKKKKQwooooAKKKKACiiigAooooAKKKKACiiigAooooAKKaJYzM0QdTIqhimeQDnBx6cH8jSkhVJYgADJJ7UALRTYpUmhSWF1kjdQyOhyGB6EHuKdQAUUUUAFFFFABRRRQAUUUUAFFFFABRUF7fWmnWj3WoXUNpbpjfNPIERcnAyTwOad9qg2wt58e2cgRHeMScE/L68AnjsKAJaKqDVLU6qdOVpGuQm9tsLsiD0ZwNqk9gSCfSrdABRRTI5o5S4ikVyjbX2sDtb0PoeRQA+iimQzxXEe+3lSVAzLuRgwyCQRkdwQQfcUAPooooAKKZHNHKXEUiuUba+1gdreh9DyKfQAUUjMFUsxAAGSSelCsrqGQhlYZBByCKAFoopsciSoHidXU9GU5BoAdRRRQAUUUUAFFFFABRRRQAUUUUAFFFFABRRRQAUUUUAFFFFABRRRQAUUUUAFFFFABRRRQAUUUUAFFFFABRRRQAUUUUAFFFFABRRRQAUUUUAFFFFABRRRQAUUUUAFFFFABRRRQAUUUUAFFFFABRRRQAUUUUAFFFFABRRRQAUUUUAFFFFABRRRQAUUUUAFFFFABRRRQAUUUUAFFFFABRRRQBBef8e3/A0/8AQhTZv9WPrTrz/j2/4Gn/AKEKbN/qx9afQRBRRRSGXKQkAZJwPU0tRXH+p/4Ev8xTJewvnxf89U/76FPVgwypBHqDXG6j4h1E+NrXRtNhXylwZ3ZX5HBPPlkDAwMg4/eDkdtzWHki8Pak8EhjlWNijjPynaOeKCIz5nY16K5qfVrq1vJLS81CG3hjmKm8kQKAPLVwpycZJJ59Fx15qG08UyytFbzyW8d7JLHiA8MY2iDFtuc43Z5/DrTNDq6K4tfFN19lXdcRt+9CzXCGHy0JTdhXL7cE9N2GA6jkGrFlqepFnvJJkYNPbo1uo3Kd8aZKnJxyQRjjr1zmiwHWUVx665c3ItQl3HcM7QyTJANpt3MqgxNg98kYPPyn8I0166kmWePVLV3+xb5Yz8q27mRAynnAYAkDd0PXg0WA7SiqGi3v9o6TDcly+/cNxVQThiP4SVPTqDg9RV+kAUUUUAFFFFABRRRQAUUUUAFFFFABRRRQAUUUUAFFFFACUy1+9P8A9dP/AGUU+mWv3p/+un/sooAsUUUUhhRRRQAUUUUAFFFFABRRRQAUUUUAFYmtW15ca9obQG4FrFPI9wYiMZ2fLu9s5H+RjbooAKoX+vaRpVxHBqeq2NnNKMxx3FykbOM44BIJ5q/RQBx2q3M8V9r0OmjWDNLZqYT5Ny0YmBkLeWxBReNv3SAeOtNvrW5t5ri2mbVpNME77PJkuJJNxhjKjcpLlNxkzkkA4B4GK7OipaurDTtK5wOk2uux6ppiXN1cWsENvbCO3WyncNGIV8xWcSCJW3bx86Fhxjtjc8LLqCzXf9pm8IO02n2jdgW+TsDZ/wCWvXdn5sbc10VFW3d3/r+v+D3ISskv60CiiikUFFFFABRRRQAUUUUAFcxJ9pHi6Y3Y1Uv5qfYRamT7OYfLG7zP+WWd+/73zY27e1dPRQHQ8+8N3eqWkesyat/actu9rC6QvY3bvFMxkEiAuXMhHyZMaqmOQoGTVldRjig8K3Cwa6jxARzxx2V4ECCF1PmRhdv39uCwz0I45ruKKd9fu/C/+YPX8fxt/kcWuiXFldeKr3TxqQuJpAYSbqZw4MMe4orsVLAhgDjgjAwBii3tbm8SCC3fWY9MfU8I00txHP5P2dt25nIlC+Z0LEHOMcba7Sikh3OReyvo9auJ0fU9lvqFvHAvnysjQGKMSZXOHGd2WOSDk5zms1ruaTQNQs7Aa6iLfrsmuba/MiQkDkH5ZZBuB+VGBGeoFegUUf1+X+X4sXX+vP8Az/BHJ6H4o07S9F0yx8Ua7Z2mqyoVWG/mFvNMN7IrCOVi/OOMlifUnms2307VbGynlsF1GOadtQMkYdyoH2glCiMdqsVJKkAZz3rvqKHqC0VjgRcX1nI9xajXH0orcQ2yyxXMs29o4ipZWBkA3rJhn6Z6gEVNpx1FfEdibldXlZoYhIH85Iol8j5jnmJ8v1DbZQ2eSMCu4oo/r+vvB6nC2ckt5F/Z9n/byQDVRue5S8if7O0Zz+9kAbG7PRuOOnFUNVk1KysSL2bWFEUfl2DwvcE7xcyKTKydQY/KwZOvJBJJNek1VudMsLy6gubyxtri4tjugllhVniPqpIyvTtQtP68kv8Ag+onrf8Arrf/AIHoZNzrOg+JrbUdD0zXLK8vRDIsltZagvnR44OdjblwxAPTrg1yl5bap/wi+h22i3WpafZxxsl41xZ39xOswVNgCrJHLs+/zkp0GMdPS6KVv0/C/wDmVfVeV/xOKjj1D/hK4Irt9WuTIiRyuPOt4kTyfmcbCYjl+xKyKx4JAFX/AANZR6Zo8tkE1BJoZ3EovGnYE72wUaXIIIwcocc88101FMmwUUUUDCiiigAooooAKKKKACiiigAooooAKKKKACiiigAooooAKKKKACiiigAooooAKKKKACiiigAooooAKKKKACiiigAooooAKKKKACiiigAooooAKKKKACiiigAooooAKKKKACiiigAooooAKKKKACiiigAooooAKKKKACiiigAooooAKKKKACiiigAooooAKKKKACiiigAooooAKKKKAILz/j2/4Gn/AKEKbN/qx9adef8AHt/wNP8A0IU2b/Vj60+giCiiikMuUyRPMQrnHQ5p9IzBVJbgUySqLJVmMyiISsMGQRfMenfPsPyFWI4/LBycknJ4xTftEf8Atf8AfB/wp6urrlTx3zxigSt0FpaKKChKWkLAEAkAnoPWloASilooAKKKbuXdtyM9cZoAdRRRQAUUUUAFFFFABRRRQAUUUUAFFFFABRRRQAUUUUAJTLX70/8A10/9lFPplr96f/rp/wCyigCxRRRSGFFFFABRRRQAUUUUAFFFFABRRRQAUUVzXibxZ/Yl7aWNrClxd3BzsaVBhT8o4Lg53Ee2A3PBw9wOlooByBxj2NFIAorn7nxO9nf3kVxZKkVujGPM2JZsAchCoBUk43KzY4yB2mk1bVY/KtjpUH2+Tewj+2HyjGoXLB9mc5cDBUc57clXVrh1sbVFYtvr017eRizs0NobSK7knlmKsqSb8AIFOSNnqBz1qLw14mbxF5rf2dc2sQRZYpJYZkDq2ccyRoN3qFLDn7xqra2A36KKKQBRRRQAUUUUAFFFFABRRXFXviS/j8XTQwtdGC11G3spIFhTyCkqRnzGcjdu3S4AVv4eRg5oWrSQPSLl21O1ooooAKKKKACiiigAooooAKKKKACiiigAooooAKKKKACiiigAooooAKKKKACiiigAooooAKKKKACiiigAooooAKKKKACiiigAooooAKKKKACiiigAooooAKKKKACiiigAooooAKKKKACiiigAooooAKKKKACiiigAooooAKKKKACiiigAooooAKKKKACiiigAooooAKKKKACiiigAooooAKKKKACiiigAooooAKKKKACiiigAooooAKKKKACiiigCC8/49v8Agaf+hCmzf6sfWnXn/Ht/wNP/AEIU2b/Vj60+giCiiikMuVFcf6n/AIEv8xUtNdA6lT+lMl7HFX99rV349t7CxMkNlAA0reWCHHys2SJB6oBwD8zcHHPQ6xFJP4e1KKEO0jxsFCDLZ2joPWtDyP8Apo/6f4U+OMRggEnJySaCIxadznZ2vbW8khnl1A2CzEiSKNpJDmNSBlVJK7t3TuAOnFQ2moavuitruO8Fy0sbFxasUEflDOWA2g7wcjOc+1dXRTNDi0uNXezby47ySWIOVmeFss3kNghXQFTuxwMjJAB6irsz31reNFPLqDWIkBMkUbPIWKDAG1Sdu7JOOAcDgcV09V7uxtL+MR31tDcIpyFlQMAemeaAMbS9ftZdEtYJtTgbVZLYHyXmQTM5XI+Qd+/AqvHHq0W2QTXsjKLVgsg4Jc4lB46Y5I/h7Yrp0RIo1jjVURQAqqMAD0Ap1AHGWl1rTRqbs3iR/ILwJFIzqcncUzGO/B2bsDkY6lkL39rbvJHb3zpJJL87RMkm1rjgnCMwG30XOOeOo7aigDkYJdZmsXmd71Ghh3RL5ZXeRM4GQVBPyBeD2OcZ5q7qWv2l3Ckej3iXrCUCYWM+9o1weW8tXYDIxwBz3FdDRQBxZ1DVI7K3kvZL6K6YWwjCwEIQWUSeZ8uFJJIwcHGMd60fDk+qTXb/ANo+auIv3ySI+BJn+EsijHUYUkYwfc7Mum2U92l1NZwSXEeNkrxgsuOmD14yatUAFFFFIAooooAKKKKACiiigAooooAKKKKAEplr96f/AK6f+yin0y1+9P8A9dP/AGUUAWKKKKQwooooAKKKKACiiigAooooAKKKKACq8lhazXsV3LEGnh/1bkn5eCOnTox/OrFFABVC/wBOury4jkt9ZvrBUGGit0gKvz38yNj7cEVfooAzW8PaZJczTSW5czBg6PK7R/MMMRGTtUkZyQATk+ppjeG9Ma1EBjnwHL+b9rl80kjBzJu3kYAGCcYAHYVq0UAQQ2VtbzGSGJUYxJD8vTYmdox0GNx/OotP0mz0sOLJJEVsDa0zuqAdFUMSFUZ+6uB7VcooAKKKKACiiigAooooAKKKKACqEmiWEuqpqLxObhSDxM4QsBgMYwdrMBwGIJHHPFX6KACiiigAooooAKKKKACiiigAooooAKKKKACiiigAooooAKKKKACiiigAooooAKKKKACiiigAooooAKKKKACiiigAooooAKKKKACiiigAooooAKKKKACiiigAooooAKKKKACiiigAooooAKKKKACiiigAooooAKKKKACiiigAooooAKKKKACiiigAooooAKKKKACiiigAooooAKKKKACiiigAooooAKKKKACiiigAooooAKKKKACiiigAooooAKKKKAILz/j2/wCBp/6EKbN/qx9adef8e3/A0/8AQhTZv9WPrT6CIKKKKQy5TWbauadTJPufiP50PRCW5Ql13T4b4Wct3brcFgvlmTkMegPHBOOB3q3NdR21rLcXB2RxDLkAnArzW/8ACWpvqlzENP8APM1xvW6Ig2lTkliTEWHbIznn+LrXf3VjLc6DPZLIGleLy/MfgE7QMmuelUnKVpGkopLQvCaIyNGJELoMsoYZUe47U37Xb+Usn2iLy3O1X3jDH0B71ztx4cvLgPDi1RFeaRZ9xLzeYSdjrt4XnB5Odo49E1PQ9Uv7d1httOtTKkqOkcndlVQS5iJPQ5AC9BycV1GZvpqNrJcPDFJ5kkcvlOFGdjbd3P4VJ9qt/JMvnxeWCQX3jAx15rAufD17cG4jEkMaSTeasoclubcxHjHY4PXkE9KfDoVzJqEF1cwWcCRyRk28LF1wkbru5Uc5cDp0Uc9qAOhBDKCpyDyCO9LVPSrRrDSre1k27ol2/J0/CrlIAooooAKKKKACiiigAooooAKKKKACiiigAooooAKKKKACiiigBKZa/en/AOun/sop9MtfvT/9dP8A2UUAWKKKKQwooooAKKKKACiiigAooooAKKKKACoZ7y3tZII7iZY3uH8uJWPLtgnA/AVNWVqejm/1rSb7MRWwkkYpImSdy4BB7EHn/wDVQBq0UVQv9RurO4jjt9Gvr9XGWlt3gCpz38yRT78A0ARQ+JdHn1K6sE1K1+02jBZYzMuQeO2exIB9DxVi71jTLAkX2o2lsQdpE06pg4BxyfQj86zryxeK51aS6gWfTL2AGbyy7TAhNpVY1Q7sjHQ5z2rJTTNXg/sqRbaK7v5kne8e4YxoGdEA3FVbBAAXHfb1qbuw+p1b6hZR30dm93At1Ku6OAygO49QuckcGrFchZeDZLLV7eZ3a7hQQMZHv549jRRqgxAp8t87ActyMnrgV19XoSFFFFIYUUUUAFFFFABRRRQAUUVk3GpXh1Y6cug6k1u42nUkkthCuV64Mok46fc6+3NJ+QxsXivRZr29t49RtmWwiWW5nE6GKLLMu1mz8pBU5Bx2q0db0pVtC2p2YF8cWpNwv+kf7nPzdR0z1rl7TwtrMPlvImnb7K2tILZBO5WfyHY5f938mQwxjftI71YtfDmq2d3JciPTpzfqVuoZnYx2+ZpJcoNv7z/WEHOzJUHjoK0/r+uv4dRPr8v+D9349DrqKKKQBRRRQAUUUUAFFFFABRRRQAUUUUAFFFFABRRRQAUUUUAFFFFABRRRQAUUUUAFFFFABRRRQAUUUUAFFFFABRRRQAUUUUAFFFFABRRRQAUUUUAFFFFABRRRQAUUUUAFFFFABRRRQAUUUUAFFFFABRRRQAUUUUAFFFFABRRRQAUUUUAFFFFABRRRQAUUUUAFFFFABRRRQAUUUUAFFFFABRRRQAUUUUAFFFFABRRRQAUUUUAFFFFABRRRQBBef8e3/A0/9CFNm/1Y+tOvP+Pb/gaf+hCmzf6sfWn0EQUUUUhlykIz1paZK5SMkdcgc+5piF8tP7i/lSgADAGB7VmXOs29neQWtzcxJPcf6tNjEtyB26feHX39DVw3SQ28s106Rxxcu5OABjOaVkSpJ6FiiqEeuabK5RLyPcN2QxxtwMkHPQ45we3PSlGtacYfMF0m3fsxzu3YzjHXpz9OelMovUVl23iCyubUXG8JEwUochi+7JGAMk9Canj1jT5Zo4oryJ3kxtCtkHIyOenI5HrQBdoqjfata6bPDHeOY/OV2DYyAFxn36HP0Bpx1WxFwIDdR+YwBAzxyMgZ6ZI5x1xzQBcoqnJqtjEis9ymGVWUA5LBs7cAcnOD09DQurWDzRxJdxM8oBTDZDZGRz0yRyB3oAuUVBNeW8BcTTJH5aeY244wvrVaXW7GMPsmErIyqVTqcuEyM9QCcHHSgDQoqq+p2UcYke5jVSpYEt1AIU/qQPqaktrqG7hEttIJEyRkdiOCCOxHpQBNRRRQAUUUUAFFFFABRRRQAUUUUAFFFFACUy1+9P8A9dP/AGUU+mWv3p/+un/sooAsUUUUhhRRRQAUUUUAFFFFABRRRQAUUUUAFFFFABRRRQAUUUUAFFFFABRRRQAUUUUAFFFFABRRRQAUUUUAFFFFABRRRQAUUUUAFFFFABRRRQAUUUUAFFFFABRRRQAUUUUAFFFFABRRRQAUUUUAFFFFABRRRQAUUUUAFFFFABRRRQAUUUUAFFFFABRRRQAUUUUAFFFFABRRRQAUUUUAFFFFABRRRQAUUUUAFFFFABRRRQAUUUUAFFFFABRRRQAUUUUAFFFFABRRRQAUUUUAFFFFABRRRQAUUUUAFFFFABRRRQAUUUUAFFFFABRRRQAUUUUAFFFFABRRRQAUUUUAQXn/AB7f8DT/ANCFNm/1Y+tOvP8Aj2/4Gn/oQps3+rH1p9BEFFFFIZcqOcExHAzyDx9akopknMSeGYJ/FQ1q4klkZAPLhMRwpAwDn2y/b+IenOzc2Zv9MurYsYvPBUMVzjgDOKvUUExgo7GJf+HE1BbhJLlkWedpjtXBGYfKwDn8c/hUVv4duraRbmO9h+2K3EjQyOpXbjBDSk575DDHpXQUUyznI/DFzBaxxwantZfL3Hy2VZAqsMEI6nGWzjOOO9S2fhx7GwSFLlZXjkilGU2hjGgXHU4B29ecZ71vUUAZMdrqF5dpcalFbWpijkjRbedpt2/HJJRMY2++c9qrReG5YoktheqbTdFJIvk/OzoqqMNuwAdinGD3GeeN+ikBzaeGbvyNs+oW8rrFFDGwtWTYse7ByJNwbDdQR096F8M3EFws63gumBSR0uDIPMkRQAchyACVU5KsRz17dJRTAxJdMvdVmtptSS3s2gk+ZLeYzCaPIbaSUTHzKp6Hp71XXwvcNdtNc6l53XbujctjzUk5LOR/ABhQB7dq6OigDmpfCtxOuybUU2Rb/s4SBkKZlWQbiHy2CuONvHpWvpWnnTrNondZJHcu7qGAJP8AvMx6AdTV6ikAUUUUAFFFFABRRRQAUUUUAFFFFABRRRQAlMtfvT/9dP8A2UU+mWv3p/8Arp/7KKALFFFFIYUUUUAFFFFABRRRQAUUUUAFFFFABXJeK77WW1rT9M0bzIllO6SVUB67hjPmKcbQ56dVXB5462imtAAZwM8nviuU197m31y7vLO7kt3tdME21URhLh2O1twPB9sH3rq6KXVPt/lYHqmv63OJ1DXdRja/+x6iXvI/tIawCRn7KiBvLlxt3fNhfvEg7+BSXvieSZb+a11uGKyj1ARxTxPEA0f2eNiqSOpjJ3seGIzyARiu3opdLB1bOIOua1ceJIrcXFrb2xSIrBcS+VLcI0YZ3EPlMxIJYcSAAryPWPTL2907w9ZRPqkiWz2FnI1xJHH/AKIrZViDtxjAHL7sdTkV3dFMDiZNU0sXGg3mq31ibpb2ZILydo0klhCSqHB44b5eVwpJBHUVCdUnl155zqim9gtr8G1ZFZbTa6CMlUXfggBuc56jiu8opB1uYnhbUG1DT5me9a+8ubYJyY2VvlUna8YCuMk84U9iMjnboopgFFFFABRRRQAV5/rO1fiMlx/o7XMUkAhtWQfbJ12nLQuWG2IZO9dpBw2WWvQKKVtUw6NHn3h9bzULjxFHrmkalp088EM85muYgC+HwqmGVjtAAXHGQvPU56zwsS3g7RiTkmwgJJ7/ALta1aKq9k16fhf/ADJ5dU/X8bf5BRRRSKCiiigAooooAKKKKACiiigAooooAKKKKACiiigAooooAKKKKACiiigAooooAKKKKACiiigAooooAKKKKACiiigAooooAKKKKACiiigAooooAKKKKACiiigAooooAKKKKACiiigAooooAKKKKACiiigAooooAKKKKACiiigAooooAKKKKACiiigAooooAKKKKACiiigAooooAKKKKACiiigAooooAKKKKACiiigAooooAKKKKACiiigCC8/49v8Agaf+hCmzf6sfWnXn/Ht/wNP/AEIU2b/Vj60+giCiiikMuVHOSIjg45A4+tSVHMpaMheTkH9aZL2Of1HxHDYa9a6UIbqaa4IyyLIVQE8HIBB4Dn22HPtr3F4LDTrm6kV5FgBbaDyQADjms8eG7Aa+2smy3XjDG8hOOFGfXPy9fc1qNapc2s0F0mY5uGTOMjAHUUGcOa+plS+J1tPNa+spIY4XeORxIrYYR+Zx7Fe/HPHvS23iVLyQQW1t5twWwFjmVkxt3Z39PbHXPtzWhNpNjOX86AP5khkYFjgsU2E4z/d4xUX9g2PkiM/aTtferm7lLqcY4fduAx2zimamdZ+JmexE90saSOI8JI6xKrMGOMknP3egyasWniWO9MLxWkogkeNDIzL8rSKGXjPPXB/r2nHh3TEhjjihkiEe3YYp5EZcAgYYNnoxH41JFoljb2vkW0bRKCrKwckqygBT82ckADrn3zQA3V9VGlCKR1d02yMyIBltq5xkkYqIa5I05tUsXN4srIYvMXGAqsW3fRlH1PpzT10RJYympXlzqI5Cm42LsBGCB5ar1HrmprjR7K5Z3kSRXd/MLxTPG27aF4KkEcADA4oAqnXwpLyWUyQCTyTIWXIk25IIB6Z+XOevtzUUfiQsymawkij/AHRZzIp2rLwhwPfqO3bNXBoOnLMJBC3A4Tzn2Z27c7c43Y4zjNS/2TZbceTxiIfeP/LM5Tv2P596AKmj+IbfWZikC4zEJUKyK+VJxzj7rdOPfr1xr1TstLtdPZjaiVQw2hXmd1UeihiQo9hjt6CrlIAooooAKKKKACiiigAooooAKKKKACiiigAooooASmWv3p/+un/sop9MtfvT/wDXT/2UUAWKKKKQwooooAKKKKACiiigAooooAKKKKACiisbXvEkOhPbRtbz3E1w2FSKJ246ZyFP8RUY6/MKANmigHIBHf1FYmpa++maw8MlpJPax2qzySQhcxDcQWbcwyoA6KCfY0dUg6XNuisO68V2loLh5rW6EEPmBZwqbZmjzvRfmzkbW6gA7Tg0688T21pPNAttcTzRXQtfLTy13uYll4Lso+6w6kEkHANAdbG1RWZ/azHWIbU2s8cUlq84kkRQGwU4+/uUjdyCv48c1IfFlvPa+cLG9UvHFJBEypuuBKcJt+fA5H8RXHfigOlzeoqnpWpR6tY/aYopYcSyRNHMBuVkcowO0kdVPQ1jL44sFa4N3a3dpBAjO1xN5ewgAns5PIU4yB05xxQ9NwOlormrbxxYalYNNpMMt7MHdPIglhkK7VDFiyybCAGXoxPOMZq1pGuT372SXFs8RuNPW6LhFKSEhCdpDlhgvjBXn145P6/N/oK/9f16m3RXOWvjbT73zUtoJ5Z45lhMEbwu25gxXJWQqudh4YgjuBW1p96mo2KXMaSRhiwMcgAZGUlWU4JGQQRwSPQ0D8izRXPt4z01NUvNPdZBc2qF/LDxs0mGVMBQ5Zcsygbwuc8cVBe+PdL0y3L6kklnMJmhNvcTQRtlVVmO5pAhwHXoxJzwDQB09FR29xHd2sVxbtvimQOjeqkZB/Ks2fU7yHxVa6e8VuLO4t5ZRLvJk3IU6jAAHznufwoejswWuxrUViaFrVxq+oagJIo47SPy3tGGd0kbbvmbtyVyMfwkZ5rboAKKKKACiiigAooooAKKKKACiiigAooooAKKKKACiiigAooooAKKKKACiiigAooooAKKKKACiiigAooooAKKKKACiiigAooooAKKKKACiiigAooooAKKKKACiiigAooooAKKKKACiiigAooooAKKKKACiiigAooooAKKKKACiiigAooooAKKKKACiiigAooooAKKKKACiiigAooooAKKKKACiiigAooooAKKKKACiiigAooooAKKKKACiiigCC8/49v+Bp/6EKbN/qx9adef8e3/AANP/QhTZv8AVj60+giCiiikMuUhIAyTgeppaiuP9T/wJf5imS9hfPi/56p/30KerBhlSCPUGuN1HxDqJ8bWujabCvlLgzuyvyOCefLIGBgZBx+8HI7b+pXclhoeoXcJUSQozqXGQCFHUUERnzOxqUVyv9vyfaDEdVtRZiTH9o7V2Z2bvLznbnPf04680y28SXU1wglubeOcyW6rZbMNKHVSzDJzxkkegBzns7Gh1tFcgviRr8WUcVzGzgxG5WFvmR/NVShAPHGcqagXxJNfQSst+I4Y2tZWlBjUxhpcMG2swVcAcMc9c0WA7aiuRbXp7f7QBcQwGNpWgicZN24mddgyc9AvC85YduDo2Go3s2oxCeRDFNJcRiMR42eW+FOc8nHX8OncA3aKKKQBRRRQAUUUUAFFFFABRRRQAUUUUAFFFFABRRRQAUUUUAJTLX70/wD10/8AZRT6Za/en/66f+yigCxRRRSGFFFFABRRRQAUUUUAFFFFABRRRQAVl3nh3TdQ1iDUru3WW4gACFlUjjdjPGT97P1ArUooAKz73Rre+kuXmeVTcWv2V9pHC5JyOOvNaFFHW4dLGLN4XtLlp1nuLl7eXzStsWXZE0md7r8u7J3N1JAycCoz4VRre5jfVL9pLqbzZ5m8omT92se0p5ewjai/w5963qKLB1uY58PAX1pPDqd7DHaQ+RHbr5TIU+XIJZCxzsHO7Ppiobnw2kelpFp7yG4t7eGG3Z5Qm3yjlW3bGGeT/CQfSt6igPI53S9H17TbKCCHVLFQZJJrgT2bTOzyStI2HV4x/FjOztnHYSnwjpzBw73DK67SC4H8LL1AyD8xP1ArdooeodbmPL4fM0MYl1W+a4jLYuv3XmFWADJjZt2nA6LnIznNNh8NLb3VrJHqd95NrbC1S2Ii2GPCggny93OwHO76Y6VtUUAYVn4Ut7SeKVr68uDD5QiWUxgIse8Ko2oOP3h688Dn1mOnapavHHpN/Zw2gdnkS5s2mkYs5dsOsqAD5sD5Tj3rXooA5648KRHz5Ibq5kJWXyLd3RI4nkcSEhghbO9QQTux6Y4qPTvC9ykBnvtQni1J53lNxbvG7BWVFKZMQUgiNT9wcgYrpaKFoG4irsQKCTgYyTkmqlzpdvd6hBdzgu0MMsIjOCjrJt3bgRz9wfmauUUbgtDG0XwhoHh2/urvQtJstOe6REkW0to4lwucfdUev6CtmiigAooooAKKKKACiiigAooooAKKKKACiiigAooooAKKKKACiiigAooooAKKKKACiiigAooooAKKKKACiiigAooooAKKKKACiiigAooooAKKKKACiiigAooooAKKKKACiiigAooooAKKKKACiiigAooooAKKKKACiiigAooooAKKKKACiiigAooooAKKKKACiiigAooooAKKKKACiiigAooooAKKKKACiiigAooooAKKKKACiiigAooooAKKKKAILz/j2/4Gn/oQps3+rH1p15/x7f8AA0/9CFNm/wBWPrT6CIKKKKQy5TJE8xCucdDmn0jMFUluBTJKoslWYzKIhKwwZBF8x6d8+w/IU+SzjntZbe5HmRyjDjkZGMdqf9oj/wBr/vg/4U9HVxlT+mKBK3QXFRx28UU0ssaYeZgznJ5IAA/QCpaKCgpKM0UAFLSUtABRRRQAUUUUAFFFFABRRRQAUUUUAFFFFABRRRQAUUUUAFFFFACUy1+9P/10/wDZRT6Za/en/wCun/sooAsUUUUhhRRRQAUUUUAFFFFABRRRQAUUUUAFUb3WtN06ZYb69hgkIB2u2CATjJ9Bk4yeKvV5x4m8MajP4gvJ4tPa+S6AMcoEB2nIG074yRgZ5yOB17U0riZ6OCCAQcg9CKq3Go29reW1rOZRJcsViIhdkJAJwXA2qcA9SM1Ho1nLp+i2lpOwaSGMKxGMD2GABgdOg6dBVTXXvFuNPNnpdzfLFcebI0DxLtAVhj53Xn5h0pdR9GbNFcZc6DqE1xd/ZbHyLt2uGk1DzEH2mN92yLIO/gFRyABs4zUeq6A97o6W1n4fksrYzO32WI2zvG2wAOEkLRIM5ztye45LUm7K41q7HZ/aIjdG23jzggkKd9pOM/mKckiyM4UMNjbTuQjJwDxnqOeo4rmLXRBD4g0/U7nRknuXso4prnbEXglUcszFsnIOMru6elV4NNn+w6hax+G5bW0a9S4FoTbqlxHtQMgCyEZJUnDYB7nmn/X42/LUm/X+tv8APQ7GiuJj8MXEiXMkmmohW3BsY2ZCbZxNI6qpBwpVWXocDoDgV21A+tgooooAKKKKACiiigArOOvacNY/szzn+07tnELmMPt3bDJjYG287c5xzitGuZ1Ow1G+8VWk0NpND9lcmO8a4325jMbDmDeP3m5vvBc7f4+StIOhuW2p2d5e3dpbTiSezZVuEAP7ssMgZ6Hj0qK+1uw026it7uV1klwRshdwgJwC7KCEBPGWIHX0rB8MaJr+g3WpPqVzZakrQR+Sba0a2aeUF2YsWmfkluTwMtmqfiXw9qesX0sqwXapqWnw20kUM8apbSI7tukO4MyjzeiZzt5GMVXWwr+6316HU2muaffahNZW0zNPFuzmF1Vtp2ttcgK+08HaTg8HFaFcxYaJNZ+KpLsNdRadbJOY0uJIym+VldjGF+YLkNnzDnJwoAq/LHP4j0WyurDU9S0TzkWf9xHAZdrLnY4ljkUde3cdaXS4y4dXsBqw0w3Uf20xmXyAcsFGMk+n3h19arL4m0iTTpb6C8FxbRTCAvbo0pZzjCqFBLk7hjaDnNJcWNw/ifS7pVMkNvbXEcspIB3MYtvHvtboMcVjX+h301jqyG1mlS41ZLkR284imliEcYJjcMuxsqedyng8jINH9fil+Wonpb+uj/VfidRZXsGoWcd1aOXikB2kqVPBwQQQCCCCCCMgiqtlr2n6jfSWlpM7Sxhj80LorhW2sUZgFcA4BKk4yKqaJFf6Xo+nWjWDMGmkWXdMpa2iJdkLnJ3t9xWIJJYk5PJOVNo+s6hrWoXFqsmkTTWklu11cym6jLFk2NCglBjG1W3AeXlip5IzTe/3jW2p0+n6nZ6rA82nzieKOV4WZQQN6Haw568jqODVqsDwhpWqaRp91bavLZyH7SzQfY7UwII8AD5TI/p68Vv0ui+QdWFFFFABRRRQAUUUUAFFFFABRRRQAUUUUAFFFFABRRRQAUUUUAFFFFABRRRQAUUUUAFFFFABRRRQAUUUUAFFFFABRRRQAUUUUAFFFFABRRRQAUUUUAFFFFABRRRQAUUUUAFFFFABRRRQAUUUUAFFFFABRRRQAUUUUAFFFFABRRRQAUUUUAFFFFABRRRQAUUUUAFFFFABRRRQAUUUUAFFFFABRRRQAUUUUAFFFFAEF5/x7f8AA0/9CFNm/wBWPrTrz/j2/wCBp/6EKbN/qx9afQRBRRRSGXKiuP8AU/8AAl/mKlpGUMpDDIpkvY4+9/t288bW8Vv5tvptuNzuMhZPukgnoTnaB/wP3rc1WF7jw/qcUIdpHhcKEzuJ2cAYrQ8iP/a/77P+NPRFQYUfrmgiMWnc5sXF414giN+GaSEQI0DiMwkLvLkrw33/ALxDAgY685z3Oo2elWtvZQagJYo35Mcp/eB8Yx5Z3fiQpByM9R29FM0OetdSsdPtJ7K/vbe2upp5zHBNKqSOGlbaQpOTnt61k202rQ6RbpZDUGVLaFbpbiF0ZGyAQnyE9Mg7QcYBHPNdvRQBxd5LqcujzJdNqBWS1mFuLe3dmZyWAV8oD93AG4AHJPJ5q4v26KGOS8k1BYWuJEkEMbMyoM+WAqgnafUDPTnFdRRQBykVzq+6L7Sb0XR8nyVWA+WykjeZCBtVsZzkjHGPdETWBarMZ74yi1SYoV4Mu/lcY/u8bfx6811lFAGFo0942rXcVz9pkjAJEsiMi53nC7WQAEDjKsQQMnGRndoopAFFFFABRRRQAUUUUAFFFFABRRRQAUUUUAFFFFACUy1+9P8A9dP/AGUU+mWv3p/+un/sooAsUUUUhhRRRQAUUUUAFFFFABRRRQAUUUUAFFFFABRRRQAUUUUAFFFFABRRRQAUUUUAFFFFABRRRQAUUUUAFFFFABRRRQAUUUUAFFFFABRRRQAUUUUAFFFFABRRRQAUUUUAFFFFABRRRQAUUUUAFFFFABRRRQAUUUUAFFFFABRRRQAUUUUAFFFFABRRRQAUUUUAFFFFABRRRQAUUUUAFFFFABRRRQAUUUUAFFFFABRRRQAUUUUAFFFFABRRRQAUUUUAFFFFABRRRQAUUUUAFFFFABRRRQAUUUUAFFFFABRRRQAUUUUAFFFFABRRRQAUUUUAFFFFABRRRQAUUUUAQXn/AB7f8DT/ANCFNm/1Y+tOvP8Aj2/4Gn/oQps3+rH1p9BEFFFFIZcpkj7ELYz0GKfUVx/qf+BL/MUyXsQyXqxOiSmFGf7qtLgtyBxxzyR+Yp8t5Fb2k1zdMIooQWkYnIAAzmuUu/Dt/qHjqHUbmXFhbAGJVeQHIA4wJMck5JwP9WMg556O8tWvtJvrVCoaeNo1LdASmOaDOMpN6lsXMDMqrNGS671G4ZK+o9qjg1GzubeKaG5jaOY4jbdjcfQZ71j/ANjX0l2Hkis1Ek0M7yiVi8RQAFF+QZHynnI4duPWldeHdXmsYrWP7GqpE8WRJg/fyGJMRPTHygjBHU9QzU6m3uYrqNngbcquyE4xypII/MGk+122cfaIs7gmN4+9jOPr7Vm2rXemMbX+zbm6WSeSQzwPFsQPIxGdzq3APOAfbNUW8O3MVhbwwwWU7C0a2kWViqoWOS64U5z3HGcDmgDovPiEpjMqeYq7iu4ZA9celIl1byMFSeNmYkABwScdfyrnJ/Dl7JFJbr9mZS8kgu3c+a5aMptI29OcZyeAOKnk8OEvI0Udsu6WFxgEfKibWHA7jI+hoA3o5Y5lLQyLIASCVbOCOop9ZGgaddadDMl2IVVivlpGwcqoUDBbYhPTjIJx3PbXpAFFFFABRRRQAUUUUAFFFFABRRRQAUUUUAFFFFABRRRQAlMtfvT/APXT/wBlFPplr96f/rp/7KKALFFFFIYUUUUAFFFFABRRRQAUUUUAFFFFABXLeKfEGoWGqWOm6REGnuDlnZHIwcjHEbD1bPYIePXqajMELTLM0SGVfuuVG4de/wCJ/M00BIM4GeD3xXI+KPEeq6Tqog082YhEIdhPA7sT5dxJ1DrgfuAOn8We2K66q89hZ3Um+5tIJnxjdJGGOMMMc+zuPox9TSGrdTlW8W6x9ovpl0nGnwNNEkshjUB4yRuJEpcgkZx5a4BzkjqsVzrEY1jz76CZ7fVYI3xFIqmNo4PlQCXKcsT1YEk8c10/9l2H2uW6+w232iZPLkm8ld7r/dLYyRx0qs3hvQmtBatounm3V/MEJtU2BsY3bcYzgYzR/l+okZ1/r9/beJY7WCBJbHzVglfyx8jlC4yxkB6Y4CMP9odp/DurX+o+WdQ+zET2UN3H5EbJs35ypyxzjHXj6VfGiaUJ4pxplmJYUEcUn2dN0ajoqnHAHYCludIsrm0+zmN4ECqgNpK9uyqvRQ0ZVgB6A4oWgPUx9Wv9Qs/EF1LaTx+Rb2UMskEyMwceZIDtwwCsQPvYPQcVDd+JNStrS5uwLSSMx3LW8IjbfGYW2/Od3zA98BcHA561v22k2drbeQsTTKU2M9zI07uuScM7kswyTgEnGacumWCXFxOljbLNcjbPIIVDSj0Y4+b8aNhPVmFe6/qQu763shbA2155IZojKwj+zpIW8sOpc7nx8vIGODUen+JtU1HX1it9PV9NV0ikuVKbSWiEm4MZQ+PmAC+VyOc9ht/8I/o32L7H/ZFj9l3+Z5H2ZNm7GN23GM44zUz6ZYveC7azg+1CPy1uBGBIq+gccgc9jQN6jNUvX0+1S5+TyUlUTlv4YycFs54wSCSewNc/e+JdVt1s5IbaORXVJrhBEMxxSSbUyzSLtOOuA5JB+UcZ3LPQbGyhuIV+1XMVwu2WO9vJrpWHPGJWbAOTnHXvU11pWn30kUl9YWty8OfLaaFXKZ9CRxR1B7GNc3EukX+ry2ryy4S2kEc8zyKpeR1YqC3yjHYYHHSqmpeKNXjv5rHStPF1OtzKiFEQgJHHExyHljGSZeobgD7p5rfGgaOLqa5Gk2InnDLNKLZN0gb7wY4yc55z1pToOkGyFmdKsfsofzBB9mTYGxjdtxjOO9LqBatZXns4ZZY/KkkjVmQMG2kjJGRwceorDmt5H8YQtZ3l3JKreZdIZ28iGHyyqx+XnaWZ8MDjdwecYB6EDAwOBWefD+jNqp1NtJsTqBYMbs2yebkDAO/Gc4AHXpT63BbWOUubq+tNP1a2a61C/wButQWu5ZQkxjeOElVZdgTJYjI243HpW94Pmu5tAIvyTLDdXEIzM0uFSVlUb2wXwABuPJxzzWrLp9lPDcQz2kEkV0czo8SlZTgD5gR83AA57AVEukWcc1k8ESwpYoyQQxKFjQMAOABxgDAxxyaFtb0/Jf5fiD1/r1/z/A88n1vWIFvL5PtcYlj1BZC90Wz5UwVWjiyVjCrxngk9QeCZDdaq2oTaO0V8tus8phj/ALUkDxEQQuoluN27A3uxUF+eBuAFegppWnxXVxdR2FqlxdDbPKsKh5h6McZb8ahPh7RTpqaedIsDZI+9bY2yeWrf3guMA89amzsNaMPD91cXvhnTLq9/4+J7SKSXjHzFATx9a0aAMDA4FFXJ3bZKVlYKKKKQwooooAKKKKACiiigAooooAKKKKACiiigAooooAKKKKACiiigAooooAKKKKACiiigAooooAKKKKACiiigAooooAKKKKACiiigAooooAKKKKACiiigAooooAKKKKACiiigAooooAKKKKACiiigAooooAKKKKACiiigAooooAKKKKACiiigAooooAKKKKACiiigAooooAKKKKACiiigAooooAKKKKACiiigAooooAKKKKAILz/j2/4Gn/oQps3+rH1p15/x7f8AA0/9CFNm/wBWPrT6CIKKKKQy5SEAjBGR6GlopiI/Ji/55p/3yKeqhRhQAPQClooEFFFFAwooooAKKKKACiiigAooooAKKKKACiiigAooooAKKKKACiiigAooooAKKKKAEplr96f/AK6f+yin0y1+9P8A9dP/AGUUAWKKKKQwooooAKKKKACiiigAooooAKKKKACiiigAooooAKKKKACiiigAooooAKKKKACiiigAooooAKKKKACiiigAooooAKKKKACiiigAooooAKKKKACiiigAooooAKKKKACiiigAooooAKKKKACiiigAooooAKKKKACiiigAooooAKKKKACiiigAooooAKKKKACiiigAooooAKKKKACiiigAooooAKKKKACiiigAooooAKKKKACiiigAooooAKKKKACiiigAooooAKKKKACiiigAooooAKKKKACiiigAooooAKKKKACiiigAooooAKKKKACiiigAooooAKKKKAILz/j2/wCBp/6EKbN/qx9adef8e3/A0/8AQhTZv9WPrT6CIKKKKQz/2Q==)"
      ]
    },
    {
      "cell_type": "code",
      "metadata": {
        "colab": {
          "base_uri": "https://localhost:8080/"
        },
        "id": "QXLE3p33u2_W",
        "outputId": "daa3c7f7-7fa5-48ac-fab3-19810183c7c0"
      },
      "source": [
        "json(es.indices.get_mapping(index=\"california_housing_test\"))"
      ],
      "execution_count": null,
      "outputs": [
        {
          "output_type": "stream",
          "text": [
            "{\n",
            "  \"california_housing_test\": {\n",
            "    \"mappings\": {\n",
            "      \"properties\": {\n",
            "        \"households\": {\n",
            "          \"type\": \"double\"\n",
            "        },\n",
            "        \"housing_median_age\": {\n",
            "          \"type\": \"double\"\n",
            "        },\n",
            "        \"location\": {\n",
            "          \"type\": \"geo_point\"\n",
            "        },\n",
            "        \"median_house_value\": {\n",
            "          \"type\": \"double\"\n",
            "        },\n",
            "        \"median_income\": {\n",
            "          \"type\": \"double\"\n",
            "        },\n",
            "        \"population\": {\n",
            "          \"type\": \"double\"\n",
            "        },\n",
            "        \"total_bedrooms\": {\n",
            "          \"type\": \"double\"\n",
            "        },\n",
            "        \"total_rooms\": {\n",
            "          \"type\": \"double\"\n",
            "        }\n",
            "      }\n",
            "    }\n",
            "  }\n",
            "}\n"
          ],
          "name": "stdout"
        }
      ]
    },
    {
      "cell_type": "code",
      "metadata": {
        "colab": {
          "base_uri": "https://localhost:8080/"
        },
        "id": "Xp9-CgjBxtU4",
        "outputId": "f0966c00-0bab-40b6-82aa-ace49f075402"
      },
      "source": [
        "df.shape #Arroja información de dataframe, en este caso 3000 filas y 8 columnas"
      ],
      "execution_count": null,
      "outputs": [
        {
          "output_type": "execute_result",
          "data": {
            "text/plain": [
              "(3000, 8)"
            ]
          },
          "metadata": {
            "tags": []
          },
          "execution_count": 22
        }
      ]
    },
    {
      "cell_type": "code",
      "metadata": {
        "colab": {
          "base_uri": "https://localhost:8080/",
          "height": 391
        },
        "id": "5hsjo25Lx92K",
        "outputId": "24513578-c3e5-4ca2-b261-e13c410882ef"
      },
      "source": [
        "#compatible con la forma en la que trabaja pandas\r\n",
        "df[(df['housing_median_age'] <= 20.0) & (df['population']<=1000)]"
      ],
      "execution_count": null,
      "outputs": [
        {
          "output_type": "execute_result",
          "data": {
            "text/html": [
              "<div>\n",
              "<style scoped>\n",
              "    .dataframe tbody tr th:only-of-type {\n",
              "        vertical-align: middle;\n",
              "    }\n",
              "\n",
              "    .dataframe tbody tr th {\n",
              "        vertical-align: top;\n",
              "    }\n",
              "\n",
              "    .dataframe thead th {\n",
              "        text-align: right;\n",
              "    }\n",
              "</style>\n",
              "<table border=\"1\" class=\"dataframe\">\n",
              "  <thead>\n",
              "    <tr style=\"text-align: right;\">\n",
              "      <th></th>\n",
              "      <th>households</th>\n",
              "      <th>housing_median_age</th>\n",
              "      <th>location</th>\n",
              "      <th>median_house_value</th>\n",
              "      <th>median_income</th>\n",
              "      <th>population</th>\n",
              "      <th>total_bedrooms</th>\n",
              "      <th>total_rooms</th>\n",
              "    </tr>\n",
              "  </thead>\n",
              "  <tbody>\n",
              "    <tr>\n",
              "      <th>2506</th>\n",
              "      <td>332.0</td>\n",
              "      <td>15.0</td>\n",
              "      <td>32.92,-117.14</td>\n",
              "      <td>174400.0</td>\n",
              "      <td>5.2864</td>\n",
              "      <td>949.0</td>\n",
              "      <td>314.0</td>\n",
              "      <td>1558.0</td>\n",
              "    </tr>\n",
              "    <tr>\n",
              "      <th>2512</th>\n",
              "      <td>123.0</td>\n",
              "      <td>17.0</td>\n",
              "      <td>38.33,-122.32</td>\n",
              "      <td>209300.0</td>\n",
              "      <td>5.0877</td>\n",
              "      <td>370.0</td>\n",
              "      <td>118.0</td>\n",
              "      <td>851.0</td>\n",
              "    </tr>\n",
              "    <tr>\n",
              "      <th>2528</th>\n",
              "      <td>219.0</td>\n",
              "      <td>4.0</td>\n",
              "      <td>33.68,-117.82</td>\n",
              "      <td>360600.0</td>\n",
              "      <td>8.7974</td>\n",
              "      <td>603.0</td>\n",
              "      <td>213.0</td>\n",
              "      <td>1346.0</td>\n",
              "    </tr>\n",
              "    <tr>\n",
              "      <th>2558</th>\n",
              "      <td>346.0</td>\n",
              "      <td>18.0</td>\n",
              "      <td>39.8,-123.47</td>\n",
              "      <td>79200.0</td>\n",
              "      <td>2.3571</td>\n",
              "      <td>863.0</td>\n",
              "      <td>545.0</td>\n",
              "      <td>2130.0</td>\n",
              "    </tr>\n",
              "    <tr>\n",
              "      <th>2567</th>\n",
              "      <td>262.0</td>\n",
              "      <td>16.0</td>\n",
              "      <td>35.33,-120.9</td>\n",
              "      <td>266300.0</td>\n",
              "      <td>3.5880</td>\n",
              "      <td>595.0</td>\n",
              "      <td>287.0</td>\n",
              "      <td>1576.0</td>\n",
              "    </tr>\n",
              "    <tr>\n",
              "      <th>...</th>\n",
              "      <td>...</td>\n",
              "      <td>...</td>\n",
              "      <td>...</td>\n",
              "      <td>...</td>\n",
              "      <td>...</td>\n",
              "      <td>...</td>\n",
              "      <td>...</td>\n",
              "      <td>...</td>\n",
              "    </tr>\n",
              "    <tr>\n",
              "      <th>2469</th>\n",
              "      <td>185.0</td>\n",
              "      <td>16.0</td>\n",
              "      <td>33.84,-116.51</td>\n",
              "      <td>100000.0</td>\n",
              "      <td>4.0729</td>\n",
              "      <td>454.0</td>\n",
              "      <td>193.0</td>\n",
              "      <td>980.0</td>\n",
              "    </tr>\n",
              "    <tr>\n",
              "      <th>2472</th>\n",
              "      <td>90.0</td>\n",
              "      <td>16.0</td>\n",
              "      <td>38.05,-121.34</td>\n",
              "      <td>244700.0</td>\n",
              "      <td>5.6147</td>\n",
              "      <td>267.0</td>\n",
              "      <td>92.0</td>\n",
              "      <td>667.0</td>\n",
              "    </tr>\n",
              "    <tr>\n",
              "      <th>2473</th>\n",
              "      <td>350.0</td>\n",
              "      <td>16.0</td>\n",
              "      <td>33.84,-117.87</td>\n",
              "      <td>139000.0</td>\n",
              "      <td>4.5112</td>\n",
              "      <td>730.0</td>\n",
              "      <td>354.0</td>\n",
              "      <td>1545.0</td>\n",
              "    </tr>\n",
              "    <tr>\n",
              "      <th>2484</th>\n",
              "      <td>107.0</td>\n",
              "      <td>7.0</td>\n",
              "      <td>33.77,-118.02</td>\n",
              "      <td>181300.0</td>\n",
              "      <td>5.2077</td>\n",
              "      <td>232.0</td>\n",
              "      <td>118.0</td>\n",
              "      <td>586.0</td>\n",
              "    </tr>\n",
              "    <tr>\n",
              "      <th>2489</th>\n",
              "      <td>173.0</td>\n",
              "      <td>17.0</td>\n",
              "      <td>37.26,-121.87</td>\n",
              "      <td>234500.0</td>\n",
              "      <td>5.6652</td>\n",
              "      <td>446.0</td>\n",
              "      <td>172.0</td>\n",
              "      <td>1051.0</td>\n",
              "    </tr>\n",
              "  </tbody>\n",
              "</table>\n",
              "</div>\n",
              "<p>275 rows × 8 columns</p>"
            ],
            "text/plain": [
              "      households  housing_median_age  ... total_bedrooms  total_rooms\n",
              "2506       332.0                15.0  ...          314.0       1558.0\n",
              "2512       123.0                17.0  ...          118.0        851.0\n",
              "2528       219.0                 4.0  ...          213.0       1346.0\n",
              "2558       346.0                18.0  ...          545.0       2130.0\n",
              "2567       262.0                16.0  ...          287.0       1576.0\n",
              "...          ...                 ...  ...            ...          ...\n",
              "2469       185.0                16.0  ...          193.0        980.0\n",
              "2472        90.0                16.0  ...           92.0        667.0\n",
              "2473       350.0                16.0  ...          354.0       1545.0\n",
              "2484       107.0                 7.0  ...          118.0        586.0\n",
              "2489       173.0                17.0  ...          172.0       1051.0\n",
              "\n",
              "[275 rows x 8 columns]"
            ]
          },
          "metadata": {
            "tags": []
          },
          "execution_count": 24
        }
      ]
    },
    {
      "cell_type": "code",
      "metadata": {
        "colab": {
          "base_uri": "https://localhost:8080/"
        },
        "id": "JV_IE838yT5C",
        "outputId": "523bc62a-0a19-4dcf-c64b-20ac9ef7c96c"
      },
      "source": [
        "df['population'].mean()"
      ],
      "execution_count": null,
      "outputs": [
        {
          "output_type": "execute_result",
          "data": {
            "text/plain": [
              "1402.7986666666666"
            ]
          },
          "metadata": {
            "tags": []
          },
          "execution_count": 25
        }
      ]
    },
    {
      "cell_type": "code",
      "metadata": {
        "colab": {
          "base_uri": "https://localhost:8080/"
        },
        "id": "AtOxG0rryqzx",
        "outputId": "32e9c5e4-5d0c-41cd-d8c8-7cb85dea36b8"
      },
      "source": [
        "df.total_rooms"
      ],
      "execution_count": null,
      "outputs": [
        {
          "output_type": "execute_result",
          "data": {
            "text/plain": [
              "2500    3032.0\n",
              "2501    5210.0\n",
              "2502      49.0\n",
              "2503    2342.0\n",
              "2504     967.0\n",
              "         ...  \n",
              "2495    2064.0\n",
              "2496    4513.0\n",
              "2497    2016.0\n",
              "2498    1763.0\n",
              "2499    2131.0\n",
              "Name: total_rooms, Length: 3000, dtype: float64"
            ]
          },
          "metadata": {
            "tags": []
          },
          "execution_count": 26
        }
      ]
    },
    {
      "cell_type": "code",
      "metadata": {
        "colab": {
          "base_uri": "https://localhost:8080/"
        },
        "id": "3G5UFycxzBwh",
        "outputId": "a82889e4-bd60-4e86-e9fc-6e00a9d132e7"
      },
      "source": [
        "print(df[df['population'] > 1000].es_info()) #Información del dataframe y los datos almacenados en ElasticSearch"
      ],
      "execution_count": null,
      "outputs": [
        {
          "output_type": "stream",
          "text": [
            "es_index_pattern: california_housing_test\n",
            "Index:\n",
            " es_index_field: _id\n",
            " is_source_field: False\n",
            "Mappings:\n",
            " capabilities:\n",
            "                         es_field_name  is_source   es_dtype es_date_format pd_dtype  is_searchable  is_aggregatable  is_scripted aggregatable_es_field_name\n",
            "households                  households       True     double           None  float64           True             True        False                 households\n",
            "housing_median_age  housing_median_age       True     double           None  float64           True             True        False         housing_median_age\n",
            "location                      location       True  geo_point           None   object           True             True        False                   location\n",
            "median_house_value  median_house_value       True     double           None  float64           True             True        False         median_house_value\n",
            "median_income            median_income       True     double           None  float64           True             True        False              median_income\n",
            "population                  population       True     double           None  float64           True             True        False                 population\n",
            "total_bedrooms          total_bedrooms       True     double           None  float64           True             True        False             total_bedrooms\n",
            "total_rooms                total_rooms       True     double           None  float64           True             True        False                total_rooms\n",
            "Operations:\n",
            " tasks: [('boolean_filter': ('boolean_filter': {'range': {'population': {'gt': 1000}}}))]\n",
            " size: None\n",
            " sort_params: None\n",
            " _source: ['households', 'housing_median_age', 'location', 'median_house_value', 'median_income', 'population', 'total_bedrooms', 'total_rooms']\n",
            " body: {'query': {'range': {'population': {'gt': 1000}}}}\n",
            " post_processing: []\n",
            "\n"
          ],
          "name": "stdout"
        }
      ]
    },
    {
      "cell_type": "markdown",
      "metadata": {
        "id": "WWvUo6k10hdp"
      },
      "source": [
        "En \"tasks\" se puede ver el filtro empleado para obtener dicho resultado"
      ]
    },
    {
      "cell_type": "code",
      "metadata": {
        "colab": {
          "base_uri": "https://localhost:8080/",
          "height": 191
        },
        "id": "E-28S3pDz83X",
        "outputId": "a8d519bb-eed3-4561-aa14-c6d9b8a3b398"
      },
      "source": [
        "#Agregaciones\r\n",
        "df[['housing_median_age']].agg(['median','mean','max','min','var'])"
      ],
      "execution_count": null,
      "outputs": [
        {
          "output_type": "execute_result",
          "data": {
            "text/html": [
              "<div>\n",
              "<style scoped>\n",
              "    .dataframe tbody tr th:only-of-type {\n",
              "        vertical-align: middle;\n",
              "    }\n",
              "\n",
              "    .dataframe tbody tr th {\n",
              "        vertical-align: top;\n",
              "    }\n",
              "\n",
              "    .dataframe thead th {\n",
              "        text-align: right;\n",
              "    }\n",
              "</style>\n",
              "<table border=\"1\" class=\"dataframe\">\n",
              "  <thead>\n",
              "    <tr style=\"text-align: right;\">\n",
              "      <th></th>\n",
              "      <th>housing_median_age</th>\n",
              "    </tr>\n",
              "  </thead>\n",
              "  <tbody>\n",
              "    <tr>\n",
              "      <th>median</th>\n",
              "      <td>29.000000</td>\n",
              "    </tr>\n",
              "    <tr>\n",
              "      <th>mean</th>\n",
              "      <td>28.845333</td>\n",
              "    </tr>\n",
              "    <tr>\n",
              "      <th>max</th>\n",
              "      <td>52.000000</td>\n",
              "    </tr>\n",
              "    <tr>\n",
              "      <th>min</th>\n",
              "      <td>1.000000</td>\n",
              "    </tr>\n",
              "    <tr>\n",
              "      <th>var</th>\n",
              "      <td>157.611682</td>\n",
              "    </tr>\n",
              "  </tbody>\n",
              "</table>\n",
              "</div>"
            ],
            "text/plain": [
              "        housing_median_age\n",
              "median           29.000000\n",
              "mean             28.845333\n",
              "max              52.000000\n",
              "min               1.000000\n",
              "var             157.611682"
            ]
          },
          "metadata": {
            "tags": []
          },
          "execution_count": 30
        }
      ]
    },
    {
      "cell_type": "code",
      "metadata": {
        "colab": {
          "base_uri": "https://localhost:8080/",
          "height": 277
        },
        "id": "xCyCvODB1kMq",
        "outputId": "319f8a15-58cf-4ed1-db64-38f934fe0a16"
      },
      "source": [
        "df[['housing_median_age']].describe()"
      ],
      "execution_count": null,
      "outputs": [
        {
          "output_type": "execute_result",
          "data": {
            "text/html": [
              "<div>\n",
              "<style scoped>\n",
              "    .dataframe tbody tr th:only-of-type {\n",
              "        vertical-align: middle;\n",
              "    }\n",
              "\n",
              "    .dataframe tbody tr th {\n",
              "        vertical-align: top;\n",
              "    }\n",
              "\n",
              "    .dataframe thead th {\n",
              "        text-align: right;\n",
              "    }\n",
              "</style>\n",
              "<table border=\"1\" class=\"dataframe\">\n",
              "  <thead>\n",
              "    <tr style=\"text-align: right;\">\n",
              "      <th></th>\n",
              "      <th>housing_median_age</th>\n",
              "    </tr>\n",
              "  </thead>\n",
              "  <tbody>\n",
              "    <tr>\n",
              "      <th>count</th>\n",
              "      <td>3000.000000</td>\n",
              "    </tr>\n",
              "    <tr>\n",
              "      <th>mean</th>\n",
              "      <td>28.845333</td>\n",
              "    </tr>\n",
              "    <tr>\n",
              "      <th>std</th>\n",
              "      <td>12.553303</td>\n",
              "    </tr>\n",
              "    <tr>\n",
              "      <th>min</th>\n",
              "      <td>1.000000</td>\n",
              "    </tr>\n",
              "    <tr>\n",
              "      <th>25%</th>\n",
              "      <td>18.166667</td>\n",
              "    </tr>\n",
              "    <tr>\n",
              "      <th>50%</th>\n",
              "      <td>29.000000</td>\n",
              "    </tr>\n",
              "    <tr>\n",
              "      <th>75%</th>\n",
              "      <td>37.000000</td>\n",
              "    </tr>\n",
              "    <tr>\n",
              "      <th>max</th>\n",
              "      <td>52.000000</td>\n",
              "    </tr>\n",
              "  </tbody>\n",
              "</table>\n",
              "</div>"
            ],
            "text/plain": [
              "       housing_median_age\n",
              "count         3000.000000\n",
              "mean            28.845333\n",
              "std             12.553303\n",
              "min              1.000000\n",
              "25%             18.166667\n",
              "50%             29.000000\n",
              "75%             37.000000\n",
              "max             52.000000"
            ]
          },
          "metadata": {
            "tags": []
          },
          "execution_count": 31
        }
      ]
    },
    {
      "cell_type": "code",
      "metadata": {
        "colab": {
          "base_uri": "https://localhost:8080/",
          "height": 277
        },
        "id": "DbYBk8nd1tUF",
        "outputId": "ca3b84ee-9255-4253-f90c-dc22fb7746e7"
      },
      "source": [
        "df[['population']].describe()"
      ],
      "execution_count": null,
      "outputs": [
        {
          "output_type": "execute_result",
          "data": {
            "text/html": [
              "<div>\n",
              "<style scoped>\n",
              "    .dataframe tbody tr th:only-of-type {\n",
              "        vertical-align: middle;\n",
              "    }\n",
              "\n",
              "    .dataframe tbody tr th {\n",
              "        vertical-align: top;\n",
              "    }\n",
              "\n",
              "    .dataframe thead th {\n",
              "        text-align: right;\n",
              "    }\n",
              "</style>\n",
              "<table border=\"1\" class=\"dataframe\">\n",
              "  <thead>\n",
              "    <tr style=\"text-align: right;\">\n",
              "      <th></th>\n",
              "      <th>population</th>\n",
              "    </tr>\n",
              "  </thead>\n",
              "  <tbody>\n",
              "    <tr>\n",
              "      <th>count</th>\n",
              "      <td>3000.000000</td>\n",
              "    </tr>\n",
              "    <tr>\n",
              "      <th>mean</th>\n",
              "      <td>1402.798667</td>\n",
              "    </tr>\n",
              "    <tr>\n",
              "      <th>std</th>\n",
              "      <td>1030.371241</td>\n",
              "    </tr>\n",
              "    <tr>\n",
              "      <th>min</th>\n",
              "      <td>5.000000</td>\n",
              "    </tr>\n",
              "    <tr>\n",
              "      <th>25%</th>\n",
              "      <td>779.683083</td>\n",
              "    </tr>\n",
              "    <tr>\n",
              "      <th>50%</th>\n",
              "      <td>1156.901104</td>\n",
              "    </tr>\n",
              "    <tr>\n",
              "      <th>75%</th>\n",
              "      <td>1743.261364</td>\n",
              "    </tr>\n",
              "    <tr>\n",
              "      <th>max</th>\n",
              "      <td>11935.000000</td>\n",
              "    </tr>\n",
              "  </tbody>\n",
              "</table>\n",
              "</div>"
            ],
            "text/plain": [
              "         population\n",
              "count   3000.000000\n",
              "mean    1402.798667\n",
              "std     1030.371241\n",
              "min        5.000000\n",
              "25%      779.683083\n",
              "50%     1156.901104\n",
              "75%     1743.261364\n",
              "max    11935.000000"
            ]
          },
          "metadata": {
            "tags": []
          },
          "execution_count": 32
        }
      ]
    },
    {
      "cell_type": "code",
      "metadata": {
        "colab": {
          "base_uri": "https://localhost:8080/",
          "height": 607
        },
        "id": "VYkdxvof13Kk",
        "outputId": "de9788e5-d0e7-452b-9beb-4007d87319fb"
      },
      "source": [
        "#Dibujando histograma\r\n",
        "from matplotlib import pyplot as plt\r\n",
        "\r\n",
        "df[['population']].hist(figsize=(10,10))\r\n",
        "plt.show()"
      ],
      "execution_count": null,
      "outputs": [
        {
          "output_type": "display_data",
          "data": {
            "image/png": "[encoded data removed]",
            "text/plain": [
              "<Figure size 720x720 with 1 Axes>"
            ]
          },
          "metadata": {
            "tags": [],
            "needs_background": "light"
          }
        }
      ]
    },
    {
      "cell_type": "code",
      "metadata": {
        "colab": {
          "base_uri": "https://localhost:8080/",
          "height": 391
        },
        "id": "WyJsl40x2UDE",
        "outputId": "b1baacfa-8834-40c3-8233-53446b25989c"
      },
      "source": [
        "#De igual forma se puede agregar query directamente para realizar busquedas en ElasticSearch\r\n",
        "df.es_query({\r\n",
        "    \"match\":{\r\n",
        "        \"housing_median_age\":15.0\r\n",
        "    }\r\n",
        "})"
      ],
      "execution_count": null,
      "outputs": [
        {
          "output_type": "execute_result",
          "data": {
            "text/html": [
              "<div>\n",
              "<style scoped>\n",
              "    .dataframe tbody tr th:only-of-type {\n",
              "        vertical-align: middle;\n",
              "    }\n",
              "\n",
              "    .dataframe tbody tr th {\n",
              "        vertical-align: top;\n",
              "    }\n",
              "\n",
              "    .dataframe thead th {\n",
              "        text-align: right;\n",
              "    }\n",
              "</style>\n",
              "<table border=\"1\" class=\"dataframe\">\n",
              "  <thead>\n",
              "    <tr style=\"text-align: right;\">\n",
              "      <th></th>\n",
              "      <th>households</th>\n",
              "      <th>housing_median_age</th>\n",
              "      <th>location</th>\n",
              "      <th>median_house_value</th>\n",
              "      <th>median_income</th>\n",
              "      <th>population</th>\n",
              "      <th>total_bedrooms</th>\n",
              "      <th>total_rooms</th>\n",
              "    </tr>\n",
              "  </thead>\n",
              "  <tbody>\n",
              "    <tr>\n",
              "      <th>2506</th>\n",
              "      <td>332.0</td>\n",
              "      <td>15.0</td>\n",
              "      <td>32.92,-117.14</td>\n",
              "      <td>174400.0</td>\n",
              "      <td>5.2864</td>\n",
              "      <td>949.0</td>\n",
              "      <td>314.0</td>\n",
              "      <td>1558.0</td>\n",
              "    </tr>\n",
              "    <tr>\n",
              "      <th>2534</th>\n",
              "      <td>434.0</td>\n",
              "      <td>15.0</td>\n",
              "      <td>37.66,-120.96</td>\n",
              "      <td>145200.0</td>\n",
              "      <td>3.8542</td>\n",
              "      <td>1296.0</td>\n",
              "      <td>434.0</td>\n",
              "      <td>2485.0</td>\n",
              "    </tr>\n",
              "    <tr>\n",
              "      <th>2575</th>\n",
              "      <td>445.0</td>\n",
              "      <td>15.0</td>\n",
              "      <td>41.28,-122.45</td>\n",
              "      <td>128800.0</td>\n",
              "      <td>3.4519</td>\n",
              "      <td>1188.0</td>\n",
              "      <td>503.0</td>\n",
              "      <td>2740.0</td>\n",
              "    </tr>\n",
              "    <tr>\n",
              "      <th>2579</th>\n",
              "      <td>1300.0</td>\n",
              "      <td>15.0</td>\n",
              "      <td>38.77,-121.14</td>\n",
              "      <td>287800.0</td>\n",
              "      <td>6.4789</td>\n",
              "      <td>3868.0</td>\n",
              "      <td>1333.0</td>\n",
              "      <td>10282.0</td>\n",
              "    </tr>\n",
              "    <tr>\n",
              "      <th>2587</th>\n",
              "      <td>246.0</td>\n",
              "      <td>15.0</td>\n",
              "      <td>36.82,-119.72</td>\n",
              "      <td>52500.0</td>\n",
              "      <td>2.2639</td>\n",
              "      <td>550.0</td>\n",
              "      <td>239.0</td>\n",
              "      <td>946.0</td>\n",
              "    </tr>\n",
              "    <tr>\n",
              "      <th>...</th>\n",
              "      <td>...</td>\n",
              "      <td>...</td>\n",
              "      <td>...</td>\n",
              "      <td>...</td>\n",
              "      <td>...</td>\n",
              "      <td>...</td>\n",
              "      <td>...</td>\n",
              "      <td>...</td>\n",
              "    </tr>\n",
              "    <tr>\n",
              "      <th>2399</th>\n",
              "      <td>498.0</td>\n",
              "      <td>15.0</td>\n",
              "      <td>33.9,-117.95</td>\n",
              "      <td>372600.0</td>\n",
              "      <td>6.8429</td>\n",
              "      <td>1679.0</td>\n",
              "      <td>479.0</td>\n",
              "      <td>3057.0</td>\n",
              "    </tr>\n",
              "    <tr>\n",
              "      <th>2408</th>\n",
              "      <td>641.0</td>\n",
              "      <td>15.0</td>\n",
              "      <td>32.72,-116.98</td>\n",
              "      <td>158300.0</td>\n",
              "      <td>4.5135</td>\n",
              "      <td>1914.0</td>\n",
              "      <td>680.0</td>\n",
              "      <td>4209.0</td>\n",
              "    </tr>\n",
              "    <tr>\n",
              "      <th>2459</th>\n",
              "      <td>347.0</td>\n",
              "      <td>15.0</td>\n",
              "      <td>36.85,-119.64</td>\n",
              "      <td>157300.0</td>\n",
              "      <td>4.9904</td>\n",
              "      <td>1258.0</td>\n",
              "      <td>353.0</td>\n",
              "      <td>2397.0</td>\n",
              "    </tr>\n",
              "    <tr>\n",
              "      <th>2483</th>\n",
              "      <td>774.0</td>\n",
              "      <td>15.0</td>\n",
              "      <td>37.51,-122.47</td>\n",
              "      <td>364300.0</td>\n",
              "      <td>6.7606</td>\n",
              "      <td>2222.0</td>\n",
              "      <td>764.0</td>\n",
              "      <td>4974.0</td>\n",
              "    </tr>\n",
              "    <tr>\n",
              "      <th>2490</th>\n",
              "      <td>526.0</td>\n",
              "      <td>15.0</td>\n",
              "      <td>33.89,-117.97</td>\n",
              "      <td>367400.0</td>\n",
              "      <td>9.0683</td>\n",
              "      <td>1992.0</td>\n",
              "      <td>542.0</td>\n",
              "      <td>3801.0</td>\n",
              "    </tr>\n",
              "  </tbody>\n",
              "</table>\n",
              "</div>\n",
              "<p>77 rows × 8 columns</p>"
            ],
            "text/plain": [
              "      households  housing_median_age  ... total_bedrooms  total_rooms\n",
              "2506       332.0                15.0  ...          314.0       1558.0\n",
              "2534       434.0                15.0  ...          434.0       2485.0\n",
              "2575       445.0                15.0  ...          503.0       2740.0\n",
              "2579      1300.0                15.0  ...         1333.0      10282.0\n",
              "2587       246.0                15.0  ...          239.0        946.0\n",
              "...          ...                 ...  ...            ...          ...\n",
              "2399       498.0                15.0  ...          479.0       3057.0\n",
              "2408       641.0                15.0  ...          680.0       4209.0\n",
              "2459       347.0                15.0  ...          353.0       2397.0\n",
              "2483       774.0                15.0  ...          764.0       4974.0\n",
              "2490       526.0                15.0  ...          542.0       3801.0\n",
              "\n",
              "[77 rows x 8 columns]"
            ]
          },
          "metadata": {
            "tags": []
          },
          "execution_count": 35
        }
      ]
    },
    {
      "cell_type": "code",
      "metadata": {
        "colab": {
          "base_uri": "https://localhost:8080/"
        },
        "id": "qQBj-gWH3I3z",
        "outputId": "4d9e84e9-b35f-4851-e6a7-ac0b7ec9e006"
      },
      "source": [
        "print(type(df))"
      ],
      "execution_count": null,
      "outputs": [
        {
          "output_type": "stream",
          "text": [
            "<class 'eland.dataframe.DataFrame'>\n"
          ],
          "name": "stdout"
        }
      ]
    },
    {
      "cell_type": "code",
      "metadata": {
        "colab": {
          "base_uri": "https://localhost:8080/"
        },
        "id": "Wdvu14jH3dkC",
        "outputId": "6c340705-832e-490b-9ae8-275b2d8c661b"
      },
      "source": [
        "sample_df = df[df.housing_median_age == 15.0].sample(10).to_pandas()\r\n",
        "sample_df.info()\r\n",
        "print(type(sample_df))"
      ],
      "execution_count": null,
      "outputs": [
        {
          "output_type": "stream",
          "text": [
            "<class 'pandas.core.frame.DataFrame'>\n",
            "Index: 10 entries, 1326 to 862\n",
            "Data columns (total 8 columns):\n",
            " #   Column              Non-Null Count  Dtype  \n",
            "---  ------              --------------  -----  \n",
            " 0   households          10 non-null     float64\n",
            " 1   housing_median_age  10 non-null     float64\n",
            " 2   location            10 non-null     object \n",
            " 3   median_house_value  10 non-null     float64\n",
            " 4   median_income       10 non-null     float64\n",
            " 5   population          10 non-null     float64\n",
            " 6   total_bedrooms      10 non-null     float64\n",
            " 7   total_rooms         10 non-null     float64\n",
            "dtypes: float64(7), object(1)\n",
            "memory usage: 720.0+ bytes\n",
            "<class 'pandas.core.frame.DataFrame'>\n"
          ],
          "name": "stdout"
        }
      ]
    },
    {
      "cell_type": "markdown",
      "metadata": {
        "id": "9DsiEgsN4DYU"
      },
      "source": [
        "Se observa el cambio entre el DataFrame de Eland y el DataFrame de Pandas"
      ]
    },
    {
      "cell_type": "code",
      "metadata": {
        "colab": {
          "base_uri": "https://localhost:8080/",
          "height": 356
        },
        "id": "j811IUaS3vpW",
        "outputId": "16bf32cb-d600-4359-c223-169ca499cfe4"
      },
      "source": [
        "sample_df"
      ],
      "execution_count": null,
      "outputs": [
        {
          "output_type": "execute_result",
          "data": {
            "text/html": [
              "<div>\n",
              "<style scoped>\n",
              "    .dataframe tbody tr th:only-of-type {\n",
              "        vertical-align: middle;\n",
              "    }\n",
              "\n",
              "    .dataframe tbody tr th {\n",
              "        vertical-align: top;\n",
              "    }\n",
              "\n",
              "    .dataframe thead th {\n",
              "        text-align: right;\n",
              "    }\n",
              "</style>\n",
              "<table border=\"1\" class=\"dataframe\">\n",
              "  <thead>\n",
              "    <tr style=\"text-align: right;\">\n",
              "      <th></th>\n",
              "      <th>households</th>\n",
              "      <th>housing_median_age</th>\n",
              "      <th>location</th>\n",
              "      <th>median_house_value</th>\n",
              "      <th>median_income</th>\n",
              "      <th>population</th>\n",
              "      <th>total_bedrooms</th>\n",
              "      <th>total_rooms</th>\n",
              "    </tr>\n",
              "  </thead>\n",
              "  <tbody>\n",
              "    <tr>\n",
              "      <th>1326</th>\n",
              "      <td>475.0</td>\n",
              "      <td>15.0</td>\n",
              "      <td>38.66,-121.27</td>\n",
              "      <td>189800.0</td>\n",
              "      <td>4.1382</td>\n",
              "      <td>1032.0</td>\n",
              "      <td>520.0</td>\n",
              "      <td>2642.0</td>\n",
              "    </tr>\n",
              "    <tr>\n",
              "      <th>1441</th>\n",
              "      <td>1906.0</td>\n",
              "      <td>15.0</td>\n",
              "      <td>39.76,-121.89</td>\n",
              "      <td>142600.0</td>\n",
              "      <td>3.0700</td>\n",
              "      <td>4591.0</td>\n",
              "      <td>1860.0</td>\n",
              "      <td>10265.0</td>\n",
              "    </tr>\n",
              "    <tr>\n",
              "      <th>1682</th>\n",
              "      <td>1415.0</td>\n",
              "      <td>15.0</td>\n",
              "      <td>33.87,-117.6</td>\n",
              "      <td>138100.0</td>\n",
              "      <td>3.4419</td>\n",
              "      <td>3823.0</td>\n",
              "      <td>1570.0</td>\n",
              "      <td>7626.0</td>\n",
              "    </tr>\n",
              "    <tr>\n",
              "      <th>1972</th>\n",
              "      <td>267.0</td>\n",
              "      <td>15.0</td>\n",
              "      <td>34.24,-116.87</td>\n",
              "      <td>182800.0</td>\n",
              "      <td>3.9688</td>\n",
              "      <td>622.0</td>\n",
              "      <td>822.0</td>\n",
              "      <td>4419.0</td>\n",
              "    </tr>\n",
              "    <tr>\n",
              "      <th>2490</th>\n",
              "      <td>526.0</td>\n",
              "      <td>15.0</td>\n",
              "      <td>33.89,-117.97</td>\n",
              "      <td>367400.0</td>\n",
              "      <td>9.0683</td>\n",
              "      <td>1992.0</td>\n",
              "      <td>542.0</td>\n",
              "      <td>3801.0</td>\n",
              "    </tr>\n",
              "    <tr>\n",
              "      <th>2506</th>\n",
              "      <td>332.0</td>\n",
              "      <td>15.0</td>\n",
              "      <td>32.92,-117.14</td>\n",
              "      <td>174400.0</td>\n",
              "      <td>5.2864</td>\n",
              "      <td>949.0</td>\n",
              "      <td>314.0</td>\n",
              "      <td>1558.0</td>\n",
              "    </tr>\n",
              "    <tr>\n",
              "      <th>2635</th>\n",
              "      <td>407.0</td>\n",
              "      <td>15.0</td>\n",
              "      <td>39.15,-121.64</td>\n",
              "      <td>124900.0</td>\n",
              "      <td>5.2340</td>\n",
              "      <td>1159.0</td>\n",
              "      <td>396.0</td>\n",
              "      <td>2659.0</td>\n",
              "    </tr>\n",
              "    <tr>\n",
              "      <th>426</th>\n",
              "      <td>1118.0</td>\n",
              "      <td>15.0</td>\n",
              "      <td>33.13,-117.03</td>\n",
              "      <td>172800.0</td>\n",
              "      <td>4.7022</td>\n",
              "      <td>3555.0</td>\n",
              "      <td>1185.0</td>\n",
              "      <td>7000.0</td>\n",
              "    </tr>\n",
              "    <tr>\n",
              "      <th>730</th>\n",
              "      <td>505.0</td>\n",
              "      <td>15.0</td>\n",
              "      <td>36.82,-119.69</td>\n",
              "      <td>93600.0</td>\n",
              "      <td>4.8100</td>\n",
              "      <td>1687.0</td>\n",
              "      <td>512.0</td>\n",
              "      <td>3303.0</td>\n",
              "    </tr>\n",
              "    <tr>\n",
              "      <th>862</th>\n",
              "      <td>513.0</td>\n",
              "      <td>15.0</td>\n",
              "      <td>35.65,-117.68</td>\n",
              "      <td>81900.0</td>\n",
              "      <td>3.3269</td>\n",
              "      <td>1245.0</td>\n",
              "      <td>576.0</td>\n",
              "      <td>2701.0</td>\n",
              "    </tr>\n",
              "  </tbody>\n",
              "</table>\n",
              "</div>"
            ],
            "text/plain": [
              "      households  housing_median_age  ... total_bedrooms  total_rooms\n",
              "1326       475.0                15.0  ...          520.0       2642.0\n",
              "1441      1906.0                15.0  ...         1860.0      10265.0\n",
              "1682      1415.0                15.0  ...         1570.0       7626.0\n",
              "1972       267.0                15.0  ...          822.0       4419.0\n",
              "2490       526.0                15.0  ...          542.0       3801.0\n",
              "2506       332.0                15.0  ...          314.0       1558.0\n",
              "2635       407.0                15.0  ...          396.0       2659.0\n",
              "426       1118.0                15.0  ...         1185.0       7000.0\n",
              "730        505.0                15.0  ...          512.0       3303.0\n",
              "862        513.0                15.0  ...          576.0       2701.0\n",
              "\n",
              "[10 rows x 8 columns]"
            ]
          },
          "metadata": {
            "tags": []
          },
          "execution_count": 39
        }
      ]
    },
    {
      "cell_type": "markdown",
      "metadata": {
        "id": "1ScIsXAXBg9U"
      },
      "source": [
        "<h1>ML Demo</h1>"
      ]
    },
    {
      "cell_type": "code",
      "metadata": {
        "id": "YvbvpDJt37hx",
        "colab": {
          "base_uri": "https://localhost:8080/"
        },
        "outputId": "ffbcad40-d19f-4f82-f4e7-54dbb646a54c"
      },
      "source": [
        "#Se utiliza la librería de ML ScikitLearn, en este caso se realizará una clasificacion de arbol\r\n",
        "from sklearn import datasets\r\n",
        "from sklearn.tree import DecisionTreeClassifier\r\n",
        "\r\n",
        "#Entrenando datos localmente\r\n",
        "digits = datasets.load_wine()\r\n",
        "print(\"Nombre de caracteristicas o Features: \",digits.feature_names)\r\n",
        "print(\"Datos de ejmeplo: \", digits.data[0])\r\n",
        "\r\n",
        "#se guardan los datos 10, 80 y 140 para testing en el modelo\r\n",
        "data = [x for i, x in enumerate(digits.data) if i not in (10,80,140)]\r\n",
        "target = [x for i, x in enumerate(digits.target) if i not in (10,80,140)]\r\n",
        "\r\n",
        "#Ajuste del modelo\r\n",
        "sk_classifier = DecisionTreeClassifier()\r\n",
        "sk_classifier.fit(data, target) #Acá sucede todo el proceso\r\n",
        "\r\n",
        "print(sk_classifier.predict(digits.data[[10,80,140]]),\" Predicciones para las entradas dadas\")\r\n",
        "print(digits.target[[10,80,140]], \" Valores reales\")"
      ],
      "execution_count": null,
      "outputs": [
        {
          "output_type": "stream",
          "text": [
            "Nombre de caracteristicas o Features:  ['alcohol', 'malic_acid', 'ash', 'alcalinity_of_ash', 'magnesium', 'total_phenols', 'flavanoids', 'nonflavanoid_phenols', 'proanthocyanins', 'color_intensity', 'hue', 'od280/od315_of_diluted_wines', 'proline']\n",
            "Datos de ejmeplo:  [1.423e+01 1.710e+00 2.430e+00 1.560e+01 1.270e+02 2.800e+00 3.060e+00\n",
            " 2.800e-01 2.290e+00 5.640e+00 1.040e+00 3.920e+00 1.065e+03]\n",
            "[0 1 2]  Predicciones para las entradas dadas\n",
            "[0 1 2]  Valores reales\n"
          ],
          "name": "stdout"
        }
      ]
    },
    {
      "cell_type": "markdown",
      "metadata": {
        "id": "lELAexnFH0E1"
      },
      "source": [
        "Se realizó una buena clasificación"
      ]
    },
    {
      "cell_type": "code",
      "metadata": {
        "colab": {
          "base_uri": "https://localhost:8080/"
        },
        "id": "SUX4veYoFD8G",
        "outputId": "16e315db-901f-4a6e-ef76-fff929dce644"
      },
      "source": [
        "digits"
      ],
      "execution_count": 52,
      "outputs": [
        {
          "output_type": "execute_result",
          "data": {
            "text/plain": [
              "{'DESCR': '.. _wine_dataset:\\n\\nWine recognition dataset\\n------------------------\\n\\n**Data Set Characteristics:**\\n\\n    :Number of Instances: 178 (50 in each of three classes)\\n    :Number of Attributes: 13 numeric, predictive attributes and the class\\n    :Attribute Information:\\n \\t\\t- Alcohol\\n \\t\\t- Malic acid\\n \\t\\t- Ash\\n\\t\\t- Alcalinity of ash  \\n \\t\\t- Magnesium\\n\\t\\t- Total phenols\\n \\t\\t- Flavanoids\\n \\t\\t- Nonflavanoid phenols\\n \\t\\t- Proanthocyanins\\n\\t\\t- Color intensity\\n \\t\\t- Hue\\n \\t\\t- OD280/OD315 of diluted wines\\n \\t\\t- Proline\\n\\n    - class:\\n            - class_0\\n            - class_1\\n            - class_2\\n\\t\\t\\n    :Summary Statistics:\\n    \\n    ============================= ==== ===== ======= =====\\n                                   Min   Max   Mean     SD\\n    ============================= ==== ===== ======= =====\\n    Alcohol:                      11.0  14.8    13.0   0.8\\n    Malic Acid:                   0.74  5.80    2.34  1.12\\n    Ash:                          1.36  3.23    2.36  0.27\\n    Alcalinity of Ash:            10.6  30.0    19.5   3.3\\n    Magnesium:                    70.0 162.0    99.7  14.3\\n    Total Phenols:                0.98  3.88    2.29  0.63\\n    Flavanoids:                   0.34  5.08    2.03  1.00\\n    Nonflavanoid Phenols:         0.13  0.66    0.36  0.12\\n    Proanthocyanins:              0.41  3.58    1.59  0.57\\n    Colour Intensity:              1.3  13.0     5.1   2.3\\n    Hue:                          0.48  1.71    0.96  0.23\\n    OD280/OD315 of diluted wines: 1.27  4.00    2.61  0.71\\n    Proline:                       278  1680     746   315\\n    ============================= ==== ===== ======= =====\\n\\n    :Missing Attribute Values: None\\n    :Class Distribution: class_0 (59), class_1 (71), class_2 (48)\\n    :Creator: R.A. Fisher\\n    :Donor: Michael Marshall (MARSHALL%PLU@io.arc.nasa.gov)\\n    :Date: July, 1988\\n\\nThis is a copy of UCI ML Wine recognition datasets.\\nhttps://archive.ics.uci.edu/ml/machine-learning-databases/wine/wine.data\\n\\nThe data is the results of a chemical analysis of wines grown in the same\\nregion in Italy by three different cultivators. There are thirteen different\\nmeasurements taken for different constituents found in the three types of\\nwine.\\n\\nOriginal Owners: \\n\\nForina, M. et al, PARVUS - \\nAn Extendible Package for Data Exploration, Classification and Correlation. \\nInstitute of Pharmaceutical and Food Analysis and Technologies,\\nVia Brigata Salerno, 16147 Genoa, Italy.\\n\\nCitation:\\n\\nLichman, M. (2013). UCI Machine Learning Repository\\n[https://archive.ics.uci.edu/ml]. Irvine, CA: University of California,\\nSchool of Information and Computer Science. \\n\\n.. topic:: References\\n\\n  (1) S. Aeberhard, D. Coomans and O. de Vel, \\n  Comparison of Classifiers in High Dimensional Settings, \\n  Tech. Rep. no. 92-02, (1992), Dept. of Computer Science and Dept. of  \\n  Mathematics and Statistics, James Cook University of North Queensland. \\n  (Also submitted to Technometrics). \\n\\n  The data was used with many others for comparing various \\n  classifiers. The classes are separable, though only RDA \\n  has achieved 100% correct classification. \\n  (RDA : 100%, QDA 99.4%, LDA 98.9%, 1NN 96.1% (z-transformed data)) \\n  (All results using the leave-one-out technique) \\n\\n  (2) S. Aeberhard, D. Coomans and O. de Vel, \\n  \"THE CLASSIFICATION PERFORMANCE OF RDA\" \\n  Tech. Rep. no. 92-01, (1992), Dept. of Computer Science and Dept. of \\n  Mathematics and Statistics, James Cook University of North Queensland. \\n  (Also submitted to Journal of Chemometrics).\\n',\n",
              " 'data': array([[1.423e+01, 1.710e+00, 2.430e+00, ..., 1.040e+00, 3.920e+00,\n",
              "         1.065e+03],\n",
              "        [1.320e+01, 1.780e+00, 2.140e+00, ..., 1.050e+00, 3.400e+00,\n",
              "         1.050e+03],\n",
              "        [1.316e+01, 2.360e+00, 2.670e+00, ..., 1.030e+00, 3.170e+00,\n",
              "         1.185e+03],\n",
              "        ...,\n",
              "        [1.327e+01, 4.280e+00, 2.260e+00, ..., 5.900e-01, 1.560e+00,\n",
              "         8.350e+02],\n",
              "        [1.317e+01, 2.590e+00, 2.370e+00, ..., 6.000e-01, 1.620e+00,\n",
              "         8.400e+02],\n",
              "        [1.413e+01, 4.100e+00, 2.740e+00, ..., 6.100e-01, 1.600e+00,\n",
              "         5.600e+02]]),\n",
              " 'feature_names': ['alcohol',\n",
              "  'malic_acid',\n",
              "  'ash',\n",
              "  'alcalinity_of_ash',\n",
              "  'magnesium',\n",
              "  'total_phenols',\n",
              "  'flavanoids',\n",
              "  'nonflavanoid_phenols',\n",
              "  'proanthocyanins',\n",
              "  'color_intensity',\n",
              "  'hue',\n",
              "  'od280/od315_of_diluted_wines',\n",
              "  'proline'],\n",
              " 'target': array([0, 0, 0, 0, 0, 0, 0, 0, 0, 0, 0, 0, 0, 0, 0, 0, 0, 0, 0, 0, 0, 0,\n",
              "        0, 0, 0, 0, 0, 0, 0, 0, 0, 0, 0, 0, 0, 0, 0, 0, 0, 0, 0, 0, 0, 0,\n",
              "        0, 0, 0, 0, 0, 0, 0, 0, 0, 0, 0, 0, 0, 0, 0, 1, 1, 1, 1, 1, 1, 1,\n",
              "        1, 1, 1, 1, 1, 1, 1, 1, 1, 1, 1, 1, 1, 1, 1, 1, 1, 1, 1, 1, 1, 1,\n",
              "        1, 1, 1, 1, 1, 1, 1, 1, 1, 1, 1, 1, 1, 1, 1, 1, 1, 1, 1, 1, 1, 1,\n",
              "        1, 1, 1, 1, 1, 1, 1, 1, 1, 1, 1, 1, 1, 1, 1, 1, 1, 1, 1, 1, 2, 2,\n",
              "        2, 2, 2, 2, 2, 2, 2, 2, 2, 2, 2, 2, 2, 2, 2, 2, 2, 2, 2, 2, 2, 2,\n",
              "        2, 2, 2, 2, 2, 2, 2, 2, 2, 2, 2, 2, 2, 2, 2, 2, 2, 2, 2, 2, 2, 2,\n",
              "        2, 2]),\n",
              " 'target_names': array(['class_0', 'class_1', 'class_2'], dtype='<U7')}"
            ]
          },
          "metadata": {
            "tags": []
          },
          "execution_count": 52
        }
      ]
    },
    {
      "cell_type": "code",
      "metadata": {
        "id": "nyYbC8hOFoVf",
        "colab": {
          "base_uri": "https://localhost:8080/",
          "height": 416
        },
        "outputId": "a0d820d1-8f11-45f7-fbd3-bc4471282ccb"
      },
      "source": [
        "df_digits = pd.DataFrame(data=digits.data, columns=digits.feature_names)\r\n",
        "df_digits['group'] = digits.target\r\n",
        "df_digits"
      ],
      "execution_count": 60,
      "outputs": [
        {
          "output_type": "execute_result",
          "data": {
            "text/html": [
              "<div>\n",
              "<style scoped>\n",
              "    .dataframe tbody tr th:only-of-type {\n",
              "        vertical-align: middle;\n",
              "    }\n",
              "\n",
              "    .dataframe tbody tr th {\n",
              "        vertical-align: top;\n",
              "    }\n",
              "\n",
              "    .dataframe thead th {\n",
              "        text-align: right;\n",
              "    }\n",
              "</style>\n",
              "<table border=\"1\" class=\"dataframe\">\n",
              "  <thead>\n",
              "    <tr style=\"text-align: right;\">\n",
              "      <th></th>\n",
              "      <th>alcohol</th>\n",
              "      <th>malic_acid</th>\n",
              "      <th>ash</th>\n",
              "      <th>alcalinity_of_ash</th>\n",
              "      <th>magnesium</th>\n",
              "      <th>total_phenols</th>\n",
              "      <th>flavanoids</th>\n",
              "      <th>nonflavanoid_phenols</th>\n",
              "      <th>proanthocyanins</th>\n",
              "      <th>color_intensity</th>\n",
              "      <th>hue</th>\n",
              "      <th>od280/od315_of_diluted_wines</th>\n",
              "      <th>proline</th>\n",
              "      <th>group</th>\n",
              "    </tr>\n",
              "  </thead>\n",
              "  <tbody>\n",
              "    <tr>\n",
              "      <th>0</th>\n",
              "      <td>14.23</td>\n",
              "      <td>1.71</td>\n",
              "      <td>2.43</td>\n",
              "      <td>15.6</td>\n",
              "      <td>127.0</td>\n",
              "      <td>2.80</td>\n",
              "      <td>3.06</td>\n",
              "      <td>0.28</td>\n",
              "      <td>2.29</td>\n",
              "      <td>5.64</td>\n",
              "      <td>1.04</td>\n",
              "      <td>3.92</td>\n",
              "      <td>1065.0</td>\n",
              "      <td>0</td>\n",
              "    </tr>\n",
              "    <tr>\n",
              "      <th>1</th>\n",
              "      <td>13.20</td>\n",
              "      <td>1.78</td>\n",
              "      <td>2.14</td>\n",
              "      <td>11.2</td>\n",
              "      <td>100.0</td>\n",
              "      <td>2.65</td>\n",
              "      <td>2.76</td>\n",
              "      <td>0.26</td>\n",
              "      <td>1.28</td>\n",
              "      <td>4.38</td>\n",
              "      <td>1.05</td>\n",
              "      <td>3.40</td>\n",
              "      <td>1050.0</td>\n",
              "      <td>0</td>\n",
              "    </tr>\n",
              "    <tr>\n",
              "      <th>2</th>\n",
              "      <td>13.16</td>\n",
              "      <td>2.36</td>\n",
              "      <td>2.67</td>\n",
              "      <td>18.6</td>\n",
              "      <td>101.0</td>\n",
              "      <td>2.80</td>\n",
              "      <td>3.24</td>\n",
              "      <td>0.30</td>\n",
              "      <td>2.81</td>\n",
              "      <td>5.68</td>\n",
              "      <td>1.03</td>\n",
              "      <td>3.17</td>\n",
              "      <td>1185.0</td>\n",
              "      <td>0</td>\n",
              "    </tr>\n",
              "    <tr>\n",
              "      <th>3</th>\n",
              "      <td>14.37</td>\n",
              "      <td>1.95</td>\n",
              "      <td>2.50</td>\n",
              "      <td>16.8</td>\n",
              "      <td>113.0</td>\n",
              "      <td>3.85</td>\n",
              "      <td>3.49</td>\n",
              "      <td>0.24</td>\n",
              "      <td>2.18</td>\n",
              "      <td>7.80</td>\n",
              "      <td>0.86</td>\n",
              "      <td>3.45</td>\n",
              "      <td>1480.0</td>\n",
              "      <td>0</td>\n",
              "    </tr>\n",
              "    <tr>\n",
              "      <th>4</th>\n",
              "      <td>13.24</td>\n",
              "      <td>2.59</td>\n",
              "      <td>2.87</td>\n",
              "      <td>21.0</td>\n",
              "      <td>118.0</td>\n",
              "      <td>2.80</td>\n",
              "      <td>2.69</td>\n",
              "      <td>0.39</td>\n",
              "      <td>1.82</td>\n",
              "      <td>4.32</td>\n",
              "      <td>1.04</td>\n",
              "      <td>2.93</td>\n",
              "      <td>735.0</td>\n",
              "      <td>0</td>\n",
              "    </tr>\n",
              "    <tr>\n",
              "      <th>...</th>\n",
              "      <td>...</td>\n",
              "      <td>...</td>\n",
              "      <td>...</td>\n",
              "      <td>...</td>\n",
              "      <td>...</td>\n",
              "      <td>...</td>\n",
              "      <td>...</td>\n",
              "      <td>...</td>\n",
              "      <td>...</td>\n",
              "      <td>...</td>\n",
              "      <td>...</td>\n",
              "      <td>...</td>\n",
              "      <td>...</td>\n",
              "      <td>...</td>\n",
              "    </tr>\n",
              "    <tr>\n",
              "      <th>173</th>\n",
              "      <td>13.71</td>\n",
              "      <td>5.65</td>\n",
              "      <td>2.45</td>\n",
              "      <td>20.5</td>\n",
              "      <td>95.0</td>\n",
              "      <td>1.68</td>\n",
              "      <td>0.61</td>\n",
              "      <td>0.52</td>\n",
              "      <td>1.06</td>\n",
              "      <td>7.70</td>\n",
              "      <td>0.64</td>\n",
              "      <td>1.74</td>\n",
              "      <td>740.0</td>\n",
              "      <td>2</td>\n",
              "    </tr>\n",
              "    <tr>\n",
              "      <th>174</th>\n",
              "      <td>13.40</td>\n",
              "      <td>3.91</td>\n",
              "      <td>2.48</td>\n",
              "      <td>23.0</td>\n",
              "      <td>102.0</td>\n",
              "      <td>1.80</td>\n",
              "      <td>0.75</td>\n",
              "      <td>0.43</td>\n",
              "      <td>1.41</td>\n",
              "      <td>7.30</td>\n",
              "      <td>0.70</td>\n",
              "      <td>1.56</td>\n",
              "      <td>750.0</td>\n",
              "      <td>2</td>\n",
              "    </tr>\n",
              "    <tr>\n",
              "      <th>175</th>\n",
              "      <td>13.27</td>\n",
              "      <td>4.28</td>\n",
              "      <td>2.26</td>\n",
              "      <td>20.0</td>\n",
              "      <td>120.0</td>\n",
              "      <td>1.59</td>\n",
              "      <td>0.69</td>\n",
              "      <td>0.43</td>\n",
              "      <td>1.35</td>\n",
              "      <td>10.20</td>\n",
              "      <td>0.59</td>\n",
              "      <td>1.56</td>\n",
              "      <td>835.0</td>\n",
              "      <td>2</td>\n",
              "    </tr>\n",
              "    <tr>\n",
              "      <th>176</th>\n",
              "      <td>13.17</td>\n",
              "      <td>2.59</td>\n",
              "      <td>2.37</td>\n",
              "      <td>20.0</td>\n",
              "      <td>120.0</td>\n",
              "      <td>1.65</td>\n",
              "      <td>0.68</td>\n",
              "      <td>0.53</td>\n",
              "      <td>1.46</td>\n",
              "      <td>9.30</td>\n",
              "      <td>0.60</td>\n",
              "      <td>1.62</td>\n",
              "      <td>840.0</td>\n",
              "      <td>2</td>\n",
              "    </tr>\n",
              "    <tr>\n",
              "      <th>177</th>\n",
              "      <td>14.13</td>\n",
              "      <td>4.10</td>\n",
              "      <td>2.74</td>\n",
              "      <td>24.5</td>\n",
              "      <td>96.0</td>\n",
              "      <td>2.05</td>\n",
              "      <td>0.76</td>\n",
              "      <td>0.56</td>\n",
              "      <td>1.35</td>\n",
              "      <td>9.20</td>\n",
              "      <td>0.61</td>\n",
              "      <td>1.60</td>\n",
              "      <td>560.0</td>\n",
              "      <td>2</td>\n",
              "    </tr>\n",
              "  </tbody>\n",
              "</table>\n",
              "<p>178 rows × 14 columns</p>\n",
              "</div>"
            ],
            "text/plain": [
              "     alcohol  malic_acid   ash  ...  od280/od315_of_diluted_wines  proline  group\n",
              "0      14.23        1.71  2.43  ...                          3.92   1065.0      0\n",
              "1      13.20        1.78  2.14  ...                          3.40   1050.0      0\n",
              "2      13.16        2.36  2.67  ...                          3.17   1185.0      0\n",
              "3      14.37        1.95  2.50  ...                          3.45   1480.0      0\n",
              "4      13.24        2.59  2.87  ...                          2.93    735.0      0\n",
              "..       ...         ...   ...  ...                           ...      ...    ...\n",
              "173    13.71        5.65  2.45  ...                          1.74    740.0      2\n",
              "174    13.40        3.91  2.48  ...                          1.56    750.0      2\n",
              "175    13.27        4.28  2.26  ...                          1.56    835.0      2\n",
              "176    13.17        2.59  2.37  ...                          1.62    840.0      2\n",
              "177    14.13        4.10  2.74  ...                          1.60    560.0      2\n",
              "\n",
              "[178 rows x 14 columns]"
            ]
          },
          "metadata": {
            "tags": []
          },
          "execution_count": 60
        }
      ]
    },
    {
      "cell_type": "code",
      "metadata": {
        "colab": {
          "base_uri": "https://localhost:8080/",
          "height": 141
        },
        "id": "f4HUeP5DK9Fw",
        "outputId": "bece088d-692d-4fd0-94d7-8c96bb240de0"
      },
      "source": [
        "df_digits.iloc[[10,80,140]]"
      ],
      "execution_count": 61,
      "outputs": [
        {
          "output_type": "execute_result",
          "data": {
            "text/html": [
              "<div>\n",
              "<style scoped>\n",
              "    .dataframe tbody tr th:only-of-type {\n",
              "        vertical-align: middle;\n",
              "    }\n",
              "\n",
              "    .dataframe tbody tr th {\n",
              "        vertical-align: top;\n",
              "    }\n",
              "\n",
              "    .dataframe thead th {\n",
              "        text-align: right;\n",
              "    }\n",
              "</style>\n",
              "<table border=\"1\" class=\"dataframe\">\n",
              "  <thead>\n",
              "    <tr style=\"text-align: right;\">\n",
              "      <th></th>\n",
              "      <th>alcohol</th>\n",
              "      <th>malic_acid</th>\n",
              "      <th>ash</th>\n",
              "      <th>alcalinity_of_ash</th>\n",
              "      <th>magnesium</th>\n",
              "      <th>total_phenols</th>\n",
              "      <th>flavanoids</th>\n",
              "      <th>nonflavanoid_phenols</th>\n",
              "      <th>proanthocyanins</th>\n",
              "      <th>color_intensity</th>\n",
              "      <th>hue</th>\n",
              "      <th>od280/od315_of_diluted_wines</th>\n",
              "      <th>proline</th>\n",
              "      <th>group</th>\n",
              "    </tr>\n",
              "  </thead>\n",
              "  <tbody>\n",
              "    <tr>\n",
              "      <th>10</th>\n",
              "      <td>14.10</td>\n",
              "      <td>2.16</td>\n",
              "      <td>2.3</td>\n",
              "      <td>18.0</td>\n",
              "      <td>105.0</td>\n",
              "      <td>2.95</td>\n",
              "      <td>3.32</td>\n",
              "      <td>0.22</td>\n",
              "      <td>2.38</td>\n",
              "      <td>5.75</td>\n",
              "      <td>1.25</td>\n",
              "      <td>3.17</td>\n",
              "      <td>1510.0</td>\n",
              "      <td>0</td>\n",
              "    </tr>\n",
              "    <tr>\n",
              "      <th>80</th>\n",
              "      <td>12.00</td>\n",
              "      <td>0.92</td>\n",
              "      <td>2.0</td>\n",
              "      <td>19.0</td>\n",
              "      <td>86.0</td>\n",
              "      <td>2.42</td>\n",
              "      <td>2.26</td>\n",
              "      <td>0.30</td>\n",
              "      <td>1.43</td>\n",
              "      <td>2.50</td>\n",
              "      <td>1.38</td>\n",
              "      <td>3.12</td>\n",
              "      <td>278.0</td>\n",
              "      <td>1</td>\n",
              "    </tr>\n",
              "    <tr>\n",
              "      <th>140</th>\n",
              "      <td>12.93</td>\n",
              "      <td>2.81</td>\n",
              "      <td>2.7</td>\n",
              "      <td>21.0</td>\n",
              "      <td>96.0</td>\n",
              "      <td>1.54</td>\n",
              "      <td>0.50</td>\n",
              "      <td>0.53</td>\n",
              "      <td>0.75</td>\n",
              "      <td>4.60</td>\n",
              "      <td>0.77</td>\n",
              "      <td>2.31</td>\n",
              "      <td>600.0</td>\n",
              "      <td>2</td>\n",
              "    </tr>\n",
              "  </tbody>\n",
              "</table>\n",
              "</div>"
            ],
            "text/plain": [
              "     alcohol  malic_acid  ash  ...  od280/od315_of_diluted_wines  proline  group\n",
              "10     14.10        2.16  2.3  ...                          3.17   1510.0      0\n",
              "80     12.00        0.92  2.0  ...                          3.12    278.0      1\n",
              "140    12.93        2.81  2.7  ...                          2.31    600.0      2\n",
              "\n",
              "[3 rows x 14 columns]"
            ]
          },
          "metadata": {
            "tags": []
          },
          "execution_count": 61
        }
      ]
    },
    {
      "cell_type": "code",
      "metadata": {
        "colab": {
          "base_uri": "https://localhost:8080/"
        },
        "id": "EWjY850rLWer",
        "outputId": "9400d26a-937c-497c-d245-a9762c802376"
      },
      "source": [
        "#Como ya se tiene almacenado el modelo, ahora se pretende importar ese modelo a elasticsearch \r\n",
        "from eland.ml import ImportedMLModel\r\n",
        "\r\n",
        "#Serializar el modelo hecho en ScikitLearn a ElasticSearch\r\n",
        "ed_classifier = ImportedMLModel(\r\n",
        "    es_client=es,\r\n",
        "    model_id=\"classificador-vinos\",\r\n",
        "    model=sk_classifier, #Modelo realizado en ScikitLearn\r\n",
        "    feature_names=digits.feature_names,\r\n",
        "    es_if_exists=\"replace\" #Sobreescribir si el modelo ya existe\r\n",
        ")\r\n",
        "\r\n",
        "#Se cambia overwrite por es_if_exists -> https://eland.readthedocs.io/en/latest/reference/api/eland.ml.MLModel.import_model.html\r\n",
        "\r\n",
        "#Captura el llamado a ElasticSearch, se verifica que el modelo no está simplemente ejecutandose en local\r\n",
        "import logging\r\n",
        "logger = logging.getLogger('elasticsearch')\r\n",
        "logger.setLevel(logging.DEBUG)\r\n",
        "logger.addHandler(logging.StreamHandler())\r\n",
        "\r\n",
        "#Se usan los mismos datos de antes, pero ahora con el modelo en elasticsearch\r\n",
        "print(ed_classifier.predict(digits.data[[10,80,140]].tolist()))\r\n",
        "print(digits.target[[10,80,140]])\r\n",
        "\r\n",
        "logger.handlers = []"
      ],
      "execution_count": 67,
      "outputs": [
        {
          "output_type": "stream",
          "text": [
            "/usr/local/lib/python3.6/dist-packages/ipykernel_launcher.py:10: DeprecationWarning: import_model is deprecated, use MLModel.import_model() instead\n",
            "  # Remove the CWD from sys.path while we load stuff.\n",
            "GET https://268503035dca49d7b3cf77ec3f55afb9.us-central1.gcp.cloud.es.io/_ml/trained_models/classificador-vinos [status:200 request:0.066s]\n",
            "> None\n",
            "< {\"count\":1,\"trained_model_configs\":[{\"model_id\":\"classificador-vinos\",\"created_by\":\"api_user\",\"version\":\"7.10.1\",\"create_time\":1610668188564,\"estimated_heap_memory_usage_bytes\":2960,\"estimated_operations\":17,\"license_level\":\"platinum\",\"tags\":[],\"input\":{\"field_names\":[\"alcohol\",\"malic_acid\",\"ash\",\"alcalinity_of_ash\",\"magnesium\",\"total_phenols\",\"flavanoids\",\"nonflavanoid_phenols\",\"proanthocyanins\",\"color_intensity\",\"hue\",\"od280/od315_of_diluted_wines\",\"proline\"]},\"inference_config\":{\"classification\":{\"num_top_classes\":0,\"top_classes_results_field\":\"top_classes\",\"results_field\":\"predicted_value\",\"num_top_feature_importance_values\":0,\"prediction_field_type\":\"string\"}}}]}\n",
            "POST https://268503035dca49d7b3cf77ec3f55afb9.us-central1.gcp.cloud.es.io/_ingest/pipeline/_simulate [status:200 request:0.094s]\n",
            "> {\"pipeline\":{\"processors\":[{\"inference\":{\"model_id\":\"classificador-vinos\",\"inference_config\":{\"classification\":{}},\"field_map\":{}}}]},\"docs\":[{\"_source\":{\"alcohol\":14.1,\"malic_acid\":2.16,\"ash\":2.3,\"alcalinity_of_ash\":18.0,\"magnesium\":105.0,\"total_phenols\":2.95,\"flavanoids\":3.32,\"nonflavanoid_phenols\":0.22,\"proanthocyanins\":2.38,\"color_intensity\":5.75,\"hue\":1.25,\"od280/od315_of_diluted_wines\":3.17,\"proline\":1510.0}},{\"_source\":{\"alcohol\":12.0,\"malic_acid\":0.92,\"ash\":2.0,\"alcalinity_of_ash\":19.0,\"magnesium\":86.0,\"total_phenols\":2.42,\"flavanoids\":2.26,\"nonflavanoid_phenols\":0.3,\"proanthocyanins\":1.43,\"color_intensity\":2.5,\"hue\":1.38,\"od280/od315_of_diluted_wines\":3.12,\"proline\":278.0}},{\"_source\":{\"alcohol\":12.93,\"malic_acid\":2.81,\"ash\":2.7,\"alcalinity_of_ash\":21.0,\"magnesium\":96.0,\"total_phenols\":1.54,\"flavanoids\":0.5,\"nonflavanoid_phenols\":0.53,\"proanthocyanins\":0.75,\"color_intensity\":4.6,\"hue\":0.77,\"od280/od315_of_diluted_wines\":2.31,\"proline\":600.0}}]}\n",
            "< {\"docs\":[{\"doc\":{\"_index\":\"_index\",\"_type\":\"_doc\",\"_id\":\"_id\",\"_source\":{\"alcohol\":14.1,\"alcalinity_of_ash\":18.0,\"proanthocyanins\":2.38,\"od280/od315_of_diluted_wines\":3.17,\"total_phenols\":2.95,\"magnesium\":105.0,\"flavanoids\":3.32,\"proline\":1510.0,\"malic_acid\":2.16,\"ash\":2.3,\"nonflavanoid_phenols\":0.22,\"hue\":1.25,\"color_intensity\":5.75,\"ml\":{\"inference\":{\"prediction_score\":1.0,\"model_id\":\"classificador-vinos\",\"prediction_probability\":1.0,\"predicted_value\":\"0\"}}},\"_ingest\":{\"timestamp\":\"2021-01-14T23:49:48.810226665Z\"}}},{\"doc\":{\"_index\":\"_index\",\"_type\":\"_doc\",\"_id\":\"_id\",\"_source\":{\"alcohol\":12.0,\"alcalinity_of_ash\":19.0,\"proanthocyanins\":1.43,\"od280/od315_of_diluted_wines\":3.12,\"total_phenols\":2.42,\"magnesium\":86.0,\"flavanoids\":2.26,\"proline\":278.0,\"malic_acid\":0.92,\"ash\":2.0,\"nonflavanoid_phenols\":0.3,\"hue\":1.38,\"color_intensity\":2.5,\"ml\":{\"inference\":{\"prediction_score\":1.0,\"model_id\":\"classificador-vinos\",\"prediction_probability\":1.0,\"predicted_value\":\"1\"}}},\"_ingest\":{\"timestamp\":\"2021-01-14T23:49:48.810255325Z\"}}},{\"doc\":{\"_index\":\"_index\",\"_type\":\"_doc\",\"_id\":\"_id\",\"_source\":{\"alcohol\":12.93,\"alcalinity_of_ash\":21.0,\"proanthocyanins\":0.75,\"od280/od315_of_diluted_wines\":2.31,\"total_phenols\":1.54,\"magnesium\":96.0,\"flavanoids\":0.5,\"proline\":600.0,\"malic_acid\":2.81,\"ash\":2.7,\"nonflavanoid_phenols\":0.53,\"hue\":0.77,\"color_intensity\":4.6,\"ml\":{\"inference\":{\"prediction_score\":1.0,\"model_id\":\"classificador-vinos\",\"prediction_probability\":1.0,\"predicted_value\":\"2\"}}},\"_ingest\":{\"timestamp\":\"2021-01-14T23:49:48.810286999Z\"}}}]}\n"
          ],
          "name": "stderr"
        },
        {
          "output_type": "stream",
          "text": [
            "[0 1 2]\n",
            "[0 1 2]\n"
          ],
          "name": "stdout"
        }
      ]
    },
    {
      "cell_type": "code",
      "metadata": {
        "colab": {
          "base_uri": "https://localhost:8080/"
        },
        "id": "wkJDUNb4Rv-4",
        "outputId": "9a7d1fc7-5872-471c-c40d-12ec5a03c097"
      },
      "source": [
        "json( {\"docs\":[{\"doc\":{\"_index\":\"_index\",\"_type\":\"_doc\",\"_id\":\"_id\",\"_source\":{\"alcohol\":14.1,\"alcalinity_of_ash\":18.0,\"proanthocyanins\":2.38,\"od280/od315_of_diluted_wines\":3.17,\"total_phenols\":2.95,\"magnesium\":105.0,\"flavanoids\":3.32,\"proline\":1510.0,\"malic_acid\":2.16,\"ash\":2.3,\"nonflavanoid_phenols\":0.22,\"hue\":1.25,\"color_intensity\":5.75,\"ml\":{\"inference\":{\"prediction_score\":1.0,\"model_id\":\"classificador-vinos\",\"prediction_probability\":1.0,\"predicted_value\":\"0\"}}},\"_ingest\":{\"timestamp\":\"2021-01-14T23:49:48.810226665Z\"}}},{\"doc\":{\"_index\":\"_index\",\"_type\":\"_doc\",\"_id\":\"_id\",\"_source\":{\"alcohol\":12.0,\"alcalinity_of_ash\":19.0,\"proanthocyanins\":1.43,\"od280/od315_of_diluted_wines\":3.12,\"total_phenols\":2.42,\"magnesium\":86.0,\"flavanoids\":2.26,\"proline\":278.0,\"malic_acid\":0.92,\"ash\":2.0,\"nonflavanoid_phenols\":0.3,\"hue\":1.38,\"color_intensity\":2.5,\"ml\":{\"inference\":{\"prediction_score\":1.0,\"model_id\":\"classificador-vinos\",\"prediction_probability\":1.0,\"predicted_value\":\"1\"}}},\"_ingest\":{\"timestamp\":\"2021-01-14T23:49:48.810255325Z\"}}},{\"doc\":{\"_index\":\"_index\",\"_type\":\"_doc\",\"_id\":\"_id\",\"_source\":{\"alcohol\":12.93,\"alcalinity_of_ash\":21.0,\"proanthocyanins\":0.75,\"od280/od315_of_diluted_wines\":2.31,\"total_phenols\":1.54,\"magnesium\":96.0,\"flavanoids\":0.5,\"proline\":600.0,\"malic_acid\":2.81,\"ash\":2.7,\"nonflavanoid_phenols\":0.53,\"hue\":0.77,\"color_intensity\":4.6,\"ml\":{\"inference\":{\"prediction_score\":1.0,\"model_id\":\"classificador-vinos\",\"prediction_probability\":1.0,\"predicted_value\":\"2\"}}},\"_ingest\":{\"timestamp\":\"2021-01-14T23:49:48.810286999Z\"}}}]}\r\n",
        ")"
      ],
      "execution_count": 68,
      "outputs": [
        {
          "output_type": "stream",
          "text": [
            "{\n",
            "  \"docs\": [\n",
            "    {\n",
            "      \"doc\": {\n",
            "        \"_id\": \"_id\",\n",
            "        \"_index\": \"_index\",\n",
            "        \"_ingest\": {\n",
            "          \"timestamp\": \"2021-01-14T23:49:48.810226665Z\"\n",
            "        },\n",
            "        \"_source\": {\n",
            "          \"alcalinity_of_ash\": 18.0,\n",
            "          \"alcohol\": 14.1,\n",
            "          \"ash\": 2.3,\n",
            "          \"color_intensity\": 5.75,\n",
            "          \"flavanoids\": 3.32,\n",
            "          \"hue\": 1.25,\n",
            "          \"magnesium\": 105.0,\n",
            "          \"malic_acid\": 2.16,\n",
            "          \"ml\": {\n",
            "            \"inference\": {\n",
            "              \"model_id\": \"classificador-vinos\",\n",
            "              \"predicted_value\": \"0\",\n",
            "              \"prediction_probability\": 1.0,\n",
            "              \"prediction_score\": 1.0\n",
            "            }\n",
            "          },\n",
            "          \"nonflavanoid_phenols\": 0.22,\n",
            "          \"od280/od315_of_diluted_wines\": 3.17,\n",
            "          \"proanthocyanins\": 2.38,\n",
            "          \"proline\": 1510.0,\n",
            "          \"total_phenols\": 2.95\n",
            "        },\n",
            "        \"_type\": \"_doc\"\n",
            "      }\n",
            "    },\n",
            "    {\n",
            "      \"doc\": {\n",
            "        \"_id\": \"_id\",\n",
            "        \"_index\": \"_index\",\n",
            "        \"_ingest\": {\n",
            "          \"timestamp\": \"2021-01-14T23:49:48.810255325Z\"\n",
            "        },\n",
            "        \"_source\": {\n",
            "          \"alcalinity_of_ash\": 19.0,\n",
            "          \"alcohol\": 12.0,\n",
            "          \"ash\": 2.0,\n",
            "          \"color_intensity\": 2.5,\n",
            "          \"flavanoids\": 2.26,\n",
            "          \"hue\": 1.38,\n",
            "          \"magnesium\": 86.0,\n",
            "          \"malic_acid\": 0.92,\n",
            "          \"ml\": {\n",
            "            \"inference\": {\n",
            "              \"model_id\": \"classificador-vinos\",\n",
            "              \"predicted_value\": \"1\",\n",
            "              \"prediction_probability\": 1.0,\n",
            "              \"prediction_score\": 1.0\n",
            "            }\n",
            "          },\n",
            "          \"nonflavanoid_phenols\": 0.3,\n",
            "          \"od280/od315_of_diluted_wines\": 3.12,\n",
            "          \"proanthocyanins\": 1.43,\n",
            "          \"proline\": 278.0,\n",
            "          \"total_phenols\": 2.42\n",
            "        },\n",
            "        \"_type\": \"_doc\"\n",
            "      }\n",
            "    },\n",
            "    {\n",
            "      \"doc\": {\n",
            "        \"_id\": \"_id\",\n",
            "        \"_index\": \"_index\",\n",
            "        \"_ingest\": {\n",
            "          \"timestamp\": \"2021-01-14T23:49:48.810286999Z\"\n",
            "        },\n",
            "        \"_source\": {\n",
            "          \"alcalinity_of_ash\": 21.0,\n",
            "          \"alcohol\": 12.93,\n",
            "          \"ash\": 2.7,\n",
            "          \"color_intensity\": 4.6,\n",
            "          \"flavanoids\": 0.5,\n",
            "          \"hue\": 0.77,\n",
            "          \"magnesium\": 96.0,\n",
            "          \"malic_acid\": 2.81,\n",
            "          \"ml\": {\n",
            "            \"inference\": {\n",
            "              \"model_id\": \"classificador-vinos\",\n",
            "              \"predicted_value\": \"2\",\n",
            "              \"prediction_probability\": 1.0,\n",
            "              \"prediction_score\": 1.0\n",
            "            }\n",
            "          },\n",
            "          \"nonflavanoid_phenols\": 0.53,\n",
            "          \"od280/od315_of_diluted_wines\": 2.31,\n",
            "          \"proanthocyanins\": 0.75,\n",
            "          \"proline\": 600.0,\n",
            "          \"total_phenols\": 1.54\n",
            "        },\n",
            "        \"_type\": \"_doc\"\n",
            "      }\n",
            "    }\n",
            "  ]\n",
            "}\n"
          ],
          "name": "stdout"
        }
      ]
    },
    {
      "cell_type": "code",
      "metadata": {
        "id": "Q8_OV-y4Tn35"
      },
      "source": [
        ""
      ],
      "execution_count": null,
      "outputs": []
    }
  ]
}