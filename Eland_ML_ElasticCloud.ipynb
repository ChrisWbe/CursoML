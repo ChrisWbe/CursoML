{
  "nbformat": 4,
  "nbformat_minor": 0,
  "metadata": {
    "colab": {
      "name": "Eland-ML-ElasticCloud.ipynb",
      "provenance": [],
      "authorship_tag": "ABX9TyOWYbIqUVuEq2baoY8xtsO+",
      "include_colab_link": true
    },
    "kernelspec": {
      "name": "python3",
      "display_name": "Python 3"
    }
  },
  "cells": [
    {
      "cell_type": "markdown",
      "metadata": {
        "id": "view-in-github",
        "colab_type": "text"
      },
      "source": [
        "<a href=\"https://colab.research.google.com/github/ChrisWbe/CursoML/blob/main/Eland_ML_ElasticCloud.ipynb\" target=\"_parent\"><img src=\"https://colab.research.google.com/assets/colab-badge.svg\" alt=\"Open In Colab\"/></a>"
      ]
    },
    {
      "cell_type": "code",
      "metadata": {
        "colab": {
          "base_uri": "https://localhost:8080/"
        },
        "id": "1PFgzbjaaPe2",
        "outputId": "c18d6d2b-71c9-4c03-a48c-ff057dd8b0df"
      },
      "source": [
        "!pip install eland"
      ],
      "execution_count": 3,
      "outputs": [
        {
          "output_type": "stream",
          "text": [
            "Collecting eland\n",
            "\u001b[?25l  Downloading https://files.pythonhosted.org/packages/af/41/e6fac3b5ef1717e4fc824db0329642e01827b1f6d22c2165e15354f54abd/eland-7.10.1b1-py3-none-any.whl (120kB)\n",
            "\r\u001b[K     |██▊                             | 10kB 16.1MB/s eta 0:00:01\r\u001b[K     |█████▍                          | 20kB 19.9MB/s eta 0:00:01\r\u001b[K     |████████▏                       | 30kB 9.2MB/s eta 0:00:01\r\u001b[K     |██████████▉                     | 40kB 7.8MB/s eta 0:00:01\r\u001b[K     |█████████████▋                  | 51kB 4.4MB/s eta 0:00:01\r\u001b[K     |████████████████▎               | 61kB 5.1MB/s eta 0:00:01\r\u001b[K     |███████████████████             | 71kB 5.1MB/s eta 0:00:01\r\u001b[K     |█████████████████████▊          | 81kB 5.3MB/s eta 0:00:01\r\u001b[K     |████████████████████████▍       | 92kB 5.6MB/s eta 0:00:01\r\u001b[K     |███████████████████████████▏    | 102kB 4.3MB/s eta 0:00:01\r\u001b[K     |█████████████████████████████▉  | 112kB 4.3MB/s eta 0:00:01\r\u001b[K     |████████████████████████████████| 122kB 4.3MB/s \n",
            "\u001b[?25hRequirement already satisfied: pandas>=1 in /usr/local/lib/python3.6/dist-packages (from eland) (1.1.5)\n",
            "Requirement already satisfied: numpy in /usr/local/lib/python3.6/dist-packages (from eland) (1.19.5)\n",
            "Collecting elasticsearch>=7.7\n",
            "\u001b[?25l  Downloading https://files.pythonhosted.org/packages/86/74/054342aa07121f7c82e30ae63e3f257a793a69ddc11c5065449252dcd8af/elasticsearch-7.10.1-py2.py3-none-any.whl (322kB)\n",
            "\u001b[K     |████████████████████████████████| 327kB 5.8MB/s \n",
            "\u001b[?25hRequirement already satisfied: matplotlib in /usr/local/lib/python3.6/dist-packages (from eland) (3.2.2)\n",
            "Requirement already satisfied: pytz>=2017.2 in /usr/local/lib/python3.6/dist-packages (from pandas>=1->eland) (2018.9)\n",
            "Requirement already satisfied: python-dateutil>=2.7.3 in /usr/local/lib/python3.6/dist-packages (from pandas>=1->eland) (2.8.1)\n",
            "Requirement already satisfied: certifi in /usr/local/lib/python3.6/dist-packages (from elasticsearch>=7.7->eland) (2020.12.5)\n",
            "Requirement already satisfied: urllib3<2,>=1.21.1 in /usr/local/lib/python3.6/dist-packages (from elasticsearch>=7.7->eland) (1.24.3)\n",
            "Requirement already satisfied: kiwisolver>=1.0.1 in /usr/local/lib/python3.6/dist-packages (from matplotlib->eland) (1.3.1)\n",
            "Requirement already satisfied: cycler>=0.10 in /usr/local/lib/python3.6/dist-packages (from matplotlib->eland) (0.10.0)\n",
            "Requirement already satisfied: pyparsing!=2.0.4,!=2.1.2,!=2.1.6,>=2.0.1 in /usr/local/lib/python3.6/dist-packages (from matplotlib->eland) (2.4.7)\n",
            "Requirement already satisfied: six>=1.5 in /usr/local/lib/python3.6/dist-packages (from python-dateutil>=2.7.3->pandas>=1->eland) (1.15.0)\n",
            "Installing collected packages: elasticsearch, eland\n",
            "Successfully installed eland-7.10.1b1 elasticsearch-7.10.1\n"
          ],
          "name": "stdout"
        }
      ]
    },
    {
      "cell_type": "code",
      "metadata": {
        "id": "pIzj4sWkZtfp"
      },
      "source": [
        "#Conexion a ElasticSearch\r\n",
        "ELASTIC_CLOUD_ID=\"eland-demo:dXMtY2VudHJhbDEuZ2NwLmNsb3VkLmVzLmlvJDI2ODUwMzAzNWRjYTQ5ZDdiM2NmNzdlYzNmNTVhZmI5JDdlYTZiY2UyZWVmZjQ1MTk5YzdiMzNlNDEzZTZhN2Q0\"\r\n",
        "ELASTIC_CLUD_PASS=\"kDf3NZUfvmlq46TyNgrfaxvC\""
      ],
      "execution_count": 1,
      "outputs": []
    },
    {
      "cell_type": "code",
      "metadata": {
        "id": "0Dnk3DM6a1pB"
      },
      "source": [
        "def json(x):\r\n",
        "  import json\r\n",
        "  print(json.dumps(x,indent=2,sort_keys=True))"
      ],
      "execution_count": 8,
      "outputs": []
    },
    {
      "cell_type": "code",
      "metadata": {
        "id": "jaIppIz9aBDs"
      },
      "source": [
        "import eland as ed\r\n",
        "import pandas as pd\r\n",
        "from elasticsearch import Elasticsearch\r\n",
        "from sklearn.linear_model import LinearRegression\r\n",
        "from sklearn.metrics import mean_squared_error\r\n",
        "from sklearn import preprocessing\r\n",
        "import matplotlib.pyplot as plt\r\n",
        "from math import sqrt"
      ],
      "execution_count": 50,
      "outputs": []
    },
    {
      "cell_type": "code",
      "metadata": {
        "colab": {
          "base_uri": "https://localhost:8080/"
        },
        "id": "I2y4VlEkaMzR",
        "outputId": "066f1c74-d6a4-4995-a6c7-5030fcc317ea"
      },
      "source": [
        "#Conexion a la instancia de elastic cloud\r\n",
        "es = Elasticsearch(\r\n",
        "    cloud_id=ELASTIC_CLOUD_ID,\r\n",
        "    http_auth=('elastic',ELASTIC_CLUD_PASS)\r\n",
        ")\r\n",
        "json(es.info())"
      ],
      "execution_count": 9,
      "outputs": [
        {
          "output_type": "stream",
          "text": [
            "{\n",
            "  \"cluster_name\": \"268503035dca49d7b3cf77ec3f55afb9\",\n",
            "  \"cluster_uuid\": \"gW23ez7WS8eLXVd6QbFVPA\",\n",
            "  \"name\": \"instance-0000000000\",\n",
            "  \"tagline\": \"You Know, for Search\",\n",
            "  \"version\": {\n",
            "    \"build_date\": \"2020-12-05T01:00:33.671820Z\",\n",
            "    \"build_flavor\": \"default\",\n",
            "    \"build_hash\": \"1c34507e66d7db1211f66f3513706fdf548736aa\",\n",
            "    \"build_snapshot\": false,\n",
            "    \"build_type\": \"docker\",\n",
            "    \"lucene_version\": \"8.7.0\",\n",
            "    \"minimum_index_compatibility_version\": \"6.0.0-beta1\",\n",
            "    \"minimum_wire_compatibility_version\": \"6.8.0\",\n",
            "    \"number\": \"7.10.1\"\n",
            "  }\n",
            "}\n"
          ],
          "name": "stdout"
        }
      ]
    },
    {
      "cell_type": "code",
      "metadata": {
        "colab": {
          "base_uri": "https://localhost:8080/"
        },
        "id": "ngP8ixCwari8",
        "outputId": "2d030764-6816-448d-f7f4-583777400e6a"
      },
      "source": [
        "#Cargo datos para train y test (Datos de viviendas de viviendas de california Censo de 1990) \r\n",
        "#https://developers.google.com/machine-learning/crash-course/california-housing-data-description\r\n",
        "pd_df_train = pd.read_csv(\"/content/sample_data/california_housing_train.csv\")\r\n",
        "pd_df_test = pd.read_csv(\"/content/sample_data/california_housing_test.csv\")\r\n",
        "print(pd_df_train.shape)\r\n",
        "print(pd_df_test.shape)\r\n"
      ],
      "execution_count": 11,
      "outputs": [
        {
          "output_type": "stream",
          "text": [
            "(17000, 9)\n",
            "(3000, 9)\n"
          ],
          "name": "stdout"
        }
      ]
    },
    {
      "cell_type": "code",
      "metadata": {
        "colab": {
          "base_uri": "https://localhost:8080/",
          "height": 222
        },
        "id": "jf70whzWaxbA",
        "outputId": "7cffeb6f-0642-4d1a-cf45-ffa6cc700c04"
      },
      "source": [
        "pd_df_train.head(5)"
      ],
      "execution_count": 12,
      "outputs": [
        {
          "output_type": "execute_result",
          "data": {
            "text/html": [
              "<div>\n",
              "<style scoped>\n",
              "    .dataframe tbody tr th:only-of-type {\n",
              "        vertical-align: middle;\n",
              "    }\n",
              "\n",
              "    .dataframe tbody tr th {\n",
              "        vertical-align: top;\n",
              "    }\n",
              "\n",
              "    .dataframe thead th {\n",
              "        text-align: right;\n",
              "    }\n",
              "</style>\n",
              "<table border=\"1\" class=\"dataframe\">\n",
              "  <thead>\n",
              "    <tr style=\"text-align: right;\">\n",
              "      <th></th>\n",
              "      <th>longitude</th>\n",
              "      <th>latitude</th>\n",
              "      <th>housing_median_age</th>\n",
              "      <th>total_rooms</th>\n",
              "      <th>total_bedrooms</th>\n",
              "      <th>population</th>\n",
              "      <th>households</th>\n",
              "      <th>median_income</th>\n",
              "      <th>median_house_value</th>\n",
              "    </tr>\n",
              "  </thead>\n",
              "  <tbody>\n",
              "    <tr>\n",
              "      <th>0</th>\n",
              "      <td>-114.31</td>\n",
              "      <td>34.19</td>\n",
              "      <td>15.0</td>\n",
              "      <td>5612.0</td>\n",
              "      <td>1283.0</td>\n",
              "      <td>1015.0</td>\n",
              "      <td>472.0</td>\n",
              "      <td>1.4936</td>\n",
              "      <td>66900.0</td>\n",
              "    </tr>\n",
              "    <tr>\n",
              "      <th>1</th>\n",
              "      <td>-114.47</td>\n",
              "      <td>34.40</td>\n",
              "      <td>19.0</td>\n",
              "      <td>7650.0</td>\n",
              "      <td>1901.0</td>\n",
              "      <td>1129.0</td>\n",
              "      <td>463.0</td>\n",
              "      <td>1.8200</td>\n",
              "      <td>80100.0</td>\n",
              "    </tr>\n",
              "    <tr>\n",
              "      <th>2</th>\n",
              "      <td>-114.56</td>\n",
              "      <td>33.69</td>\n",
              "      <td>17.0</td>\n",
              "      <td>720.0</td>\n",
              "      <td>174.0</td>\n",
              "      <td>333.0</td>\n",
              "      <td>117.0</td>\n",
              "      <td>1.6509</td>\n",
              "      <td>85700.0</td>\n",
              "    </tr>\n",
              "    <tr>\n",
              "      <th>3</th>\n",
              "      <td>-114.57</td>\n",
              "      <td>33.64</td>\n",
              "      <td>14.0</td>\n",
              "      <td>1501.0</td>\n",
              "      <td>337.0</td>\n",
              "      <td>515.0</td>\n",
              "      <td>226.0</td>\n",
              "      <td>3.1917</td>\n",
              "      <td>73400.0</td>\n",
              "    </tr>\n",
              "    <tr>\n",
              "      <th>4</th>\n",
              "      <td>-114.57</td>\n",
              "      <td>33.57</td>\n",
              "      <td>20.0</td>\n",
              "      <td>1454.0</td>\n",
              "      <td>326.0</td>\n",
              "      <td>624.0</td>\n",
              "      <td>262.0</td>\n",
              "      <td>1.9250</td>\n",
              "      <td>65500.0</td>\n",
              "    </tr>\n",
              "  </tbody>\n",
              "</table>\n",
              "</div>"
            ],
            "text/plain": [
              "   longitude  latitude  ...  median_income  median_house_value\n",
              "0    -114.31     34.19  ...         1.4936             66900.0\n",
              "1    -114.47     34.40  ...         1.8200             80100.0\n",
              "2    -114.56     33.69  ...         1.6509             85700.0\n",
              "3    -114.57     33.64  ...         3.1917             73400.0\n",
              "4    -114.57     33.57  ...         1.9250             65500.0\n",
              "\n",
              "[5 rows x 9 columns]"
            ]
          },
          "metadata": {
            "tags": []
          },
          "execution_count": 12
        }
      ]
    },
    {
      "cell_type": "code",
      "metadata": {
        "colab": {
          "base_uri": "https://localhost:8080/"
        },
        "id": "b4VFcqt3cEJ-",
        "outputId": "12ad3fbe-3ffe-498a-c0ed-9728a26b3ef6"
      },
      "source": [
        "#Remuevo posibles valores nulos\r\n",
        "pd_df_train = pd_df_train.dropna()\r\n",
        "pd_df_test = pd_df_test.dropna()\r\n",
        "print(pd_df_train.shape)\r\n",
        "print(pd_df_test.shape)"
      ],
      "execution_count": 13,
      "outputs": [
        {
          "output_type": "stream",
          "text": [
            "(17000, 9)\n",
            "(3000, 9)\n"
          ],
          "name": "stdout"
        }
      ]
    },
    {
      "cell_type": "markdown",
      "metadata": {
        "id": "xNgiS5mLcljC"
      },
      "source": [
        "<h1>Data Cleaning</h1>"
      ]
    },
    {
      "cell_type": "code",
      "metadata": {
        "colab": {
          "base_uri": "https://localhost:8080/",
          "height": 222
        },
        "id": "eSoOLUYOciVT",
        "outputId": "5bf1ec7c-6c72-4d70-853b-6bf2da543c22"
      },
      "source": [
        "#Combino latitud y longitud para dejar solo un campo de localización\r\n",
        "pd_df_train['location'] = pd_df_train[['latitude','longitude']].apply(lambda x:\",\".join(str(item) for item in x), axis=1)\r\n",
        "pd_df_test['location'] = pd_df_test[['latitude','longitude']].apply(lambda x:\",\".join(str(item) for item in x), axis=1)\r\n",
        "\r\n",
        "#Elimino las columnas de latitud y longitud\r\n",
        "del pd_df_train['latitude']\r\n",
        "del pd_df_train['longitude']\r\n",
        "del pd_df_test['latitude']\r\n",
        "del pd_df_test['longitude']\r\n",
        "pd_df_train.head(5)"
      ],
      "execution_count": 14,
      "outputs": [
        {
          "output_type": "execute_result",
          "data": {
            "text/html": [
              "<div>\n",
              "<style scoped>\n",
              "    .dataframe tbody tr th:only-of-type {\n",
              "        vertical-align: middle;\n",
              "    }\n",
              "\n",
              "    .dataframe tbody tr th {\n",
              "        vertical-align: top;\n",
              "    }\n",
              "\n",
              "    .dataframe thead th {\n",
              "        text-align: right;\n",
              "    }\n",
              "</style>\n",
              "<table border=\"1\" class=\"dataframe\">\n",
              "  <thead>\n",
              "    <tr style=\"text-align: right;\">\n",
              "      <th></th>\n",
              "      <th>housing_median_age</th>\n",
              "      <th>total_rooms</th>\n",
              "      <th>total_bedrooms</th>\n",
              "      <th>population</th>\n",
              "      <th>households</th>\n",
              "      <th>median_income</th>\n",
              "      <th>median_house_value</th>\n",
              "      <th>location</th>\n",
              "    </tr>\n",
              "  </thead>\n",
              "  <tbody>\n",
              "    <tr>\n",
              "      <th>0</th>\n",
              "      <td>15.0</td>\n",
              "      <td>5612.0</td>\n",
              "      <td>1283.0</td>\n",
              "      <td>1015.0</td>\n",
              "      <td>472.0</td>\n",
              "      <td>1.4936</td>\n",
              "      <td>66900.0</td>\n",
              "      <td>34.19,-114.31</td>\n",
              "    </tr>\n",
              "    <tr>\n",
              "      <th>1</th>\n",
              "      <td>19.0</td>\n",
              "      <td>7650.0</td>\n",
              "      <td>1901.0</td>\n",
              "      <td>1129.0</td>\n",
              "      <td>463.0</td>\n",
              "      <td>1.8200</td>\n",
              "      <td>80100.0</td>\n",
              "      <td>34.4,-114.47</td>\n",
              "    </tr>\n",
              "    <tr>\n",
              "      <th>2</th>\n",
              "      <td>17.0</td>\n",
              "      <td>720.0</td>\n",
              "      <td>174.0</td>\n",
              "      <td>333.0</td>\n",
              "      <td>117.0</td>\n",
              "      <td>1.6509</td>\n",
              "      <td>85700.0</td>\n",
              "      <td>33.69,-114.56</td>\n",
              "    </tr>\n",
              "    <tr>\n",
              "      <th>3</th>\n",
              "      <td>14.0</td>\n",
              "      <td>1501.0</td>\n",
              "      <td>337.0</td>\n",
              "      <td>515.0</td>\n",
              "      <td>226.0</td>\n",
              "      <td>3.1917</td>\n",
              "      <td>73400.0</td>\n",
              "      <td>33.64,-114.57</td>\n",
              "    </tr>\n",
              "    <tr>\n",
              "      <th>4</th>\n",
              "      <td>20.0</td>\n",
              "      <td>1454.0</td>\n",
              "      <td>326.0</td>\n",
              "      <td>624.0</td>\n",
              "      <td>262.0</td>\n",
              "      <td>1.9250</td>\n",
              "      <td>65500.0</td>\n",
              "      <td>33.57,-114.57</td>\n",
              "    </tr>\n",
              "  </tbody>\n",
              "</table>\n",
              "</div>"
            ],
            "text/plain": [
              "   housing_median_age  total_rooms  ...  median_house_value       location\n",
              "0                15.0       5612.0  ...             66900.0  34.19,-114.31\n",
              "1                19.0       7650.0  ...             80100.0   34.4,-114.47\n",
              "2                17.0        720.0  ...             85700.0  33.69,-114.56\n",
              "3                14.0       1501.0  ...             73400.0  33.64,-114.57\n",
              "4                20.0       1454.0  ...             65500.0  33.57,-114.57\n",
              "\n",
              "[5 rows x 8 columns]"
            ]
          },
          "metadata": {
            "tags": []
          },
          "execution_count": 14
        }
      ]
    },
    {
      "cell_type": "markdown",
      "metadata": {
        "id": "40P4K9F2dplK"
      },
      "source": [
        "<h1>DataFrame Eland</h1>"
      ]
    },
    {
      "cell_type": "code",
      "metadata": {
        "colab": {
          "base_uri": "https://localhost:8080/"
        },
        "id": "u3lXL-O4dfgF",
        "outputId": "067aee89-9839-4531-bb40-ffb649a90f8e"
      },
      "source": [
        "ed_df_train = ed.pandas_to_eland(\r\n",
        "    pd_df=pd_df_train,\r\n",
        "    es_client=es,\r\n",
        "    es_dest_index=\"california_housing_train\", #Nombre indice\r\n",
        "    es_type_overrides={                       #Restringir tipo de columna\r\n",
        "        \"location\":\"geo_point\"\r\n",
        "    },\r\n",
        "    es_if_exists=\"replace\",                   #Reemplaza el dataset si ya existe el mismo index\r\n",
        "    es_refresh=True                           #Espera a que los datos se indexen\r\n",
        ")\r\n",
        "\r\n",
        "ed_df_test = ed.pandas_to_eland(\r\n",
        "    pd_df=pd_df_test,\r\n",
        "    es_client=es,\r\n",
        "    es_dest_index=\"california_housing_test\",\r\n",
        "    es_type_overrides={\r\n",
        "        \"location\":\"geo_point\"\r\n",
        "    },\r\n",
        "    es_if_exists=\"replace\",\r\n",
        "    es_refresh=True\r\n",
        ")\r\n",
        "ed_df_train.info()"
      ],
      "execution_count": 15,
      "outputs": [
        {
          "output_type": "stream",
          "text": [
            "<class 'eland.dataframe.DataFrame'>\n",
            "Index: 17000 entries, 0 to 16999\n",
            "Data columns (total 8 columns):\n",
            " #   Column              Non-Null Count  Dtype  \n",
            "---  ------              --------------  -----  \n",
            " 0   households          17000 non-null  float64\n",
            " 1   housing_median_age  17000 non-null  float64\n",
            " 2   location            17000 non-null  object \n",
            " 3   median_house_value  17000 non-null  float64\n",
            " 4   median_income       17000 non-null  float64\n",
            " 5   population          17000 non-null  float64\n",
            " 6   total_bedrooms      17000 non-null  float64\n",
            " 7   total_rooms         17000 non-null  float64\n",
            "dtypes: float64(7), object(1)\n",
            "memory usage: 80.000 bytes\n",
            "Elasticsearch storage usage: 5.476 MB\n"
          ],
          "name": "stdout"
        }
      ]
    },
    {
      "cell_type": "code",
      "metadata": {
        "colab": {
          "base_uri": "https://localhost:8080/",
          "height": 252
        },
        "id": "vkJ_AiVzf6ey",
        "outputId": "12fcb207-735b-4abd-b9da-b09074b0dbf2"
      },
      "source": [
        "ed_df_train.head(5)"
      ],
      "execution_count": 16,
      "outputs": [
        {
          "output_type": "execute_result",
          "data": {
            "text/html": [
              "<div>\n",
              "<style scoped>\n",
              "    .dataframe tbody tr th:only-of-type {\n",
              "        vertical-align: middle;\n",
              "    }\n",
              "\n",
              "    .dataframe tbody tr th {\n",
              "        vertical-align: top;\n",
              "    }\n",
              "\n",
              "    .dataframe thead th {\n",
              "        text-align: right;\n",
              "    }\n",
              "</style>\n",
              "<table border=\"1\" class=\"dataframe\">\n",
              "  <thead>\n",
              "    <tr style=\"text-align: right;\">\n",
              "      <th></th>\n",
              "      <th>households</th>\n",
              "      <th>housing_median_age</th>\n",
              "      <th>location</th>\n",
              "      <th>median_house_value</th>\n",
              "      <th>median_income</th>\n",
              "      <th>population</th>\n",
              "      <th>total_bedrooms</th>\n",
              "      <th>total_rooms</th>\n",
              "    </tr>\n",
              "  </thead>\n",
              "  <tbody>\n",
              "    <tr>\n",
              "      <th>0</th>\n",
              "      <td>472.0</td>\n",
              "      <td>15.0</td>\n",
              "      <td>34.19,-114.31</td>\n",
              "      <td>66900.0</td>\n",
              "      <td>1.4936</td>\n",
              "      <td>1015.0</td>\n",
              "      <td>1283.0</td>\n",
              "      <td>5612.0</td>\n",
              "    </tr>\n",
              "    <tr>\n",
              "      <th>1</th>\n",
              "      <td>463.0</td>\n",
              "      <td>19.0</td>\n",
              "      <td>34.4,-114.47</td>\n",
              "      <td>80100.0</td>\n",
              "      <td>1.8200</td>\n",
              "      <td>1129.0</td>\n",
              "      <td>1901.0</td>\n",
              "      <td>7650.0</td>\n",
              "    </tr>\n",
              "    <tr>\n",
              "      <th>2</th>\n",
              "      <td>117.0</td>\n",
              "      <td>17.0</td>\n",
              "      <td>33.69,-114.56</td>\n",
              "      <td>85700.0</td>\n",
              "      <td>1.6509</td>\n",
              "      <td>333.0</td>\n",
              "      <td>174.0</td>\n",
              "      <td>720.0</td>\n",
              "    </tr>\n",
              "    <tr>\n",
              "      <th>3</th>\n",
              "      <td>226.0</td>\n",
              "      <td>14.0</td>\n",
              "      <td>33.64,-114.57</td>\n",
              "      <td>73400.0</td>\n",
              "      <td>3.1917</td>\n",
              "      <td>515.0</td>\n",
              "      <td>337.0</td>\n",
              "      <td>1501.0</td>\n",
              "    </tr>\n",
              "    <tr>\n",
              "      <th>4</th>\n",
              "      <td>262.0</td>\n",
              "      <td>20.0</td>\n",
              "      <td>33.57,-114.57</td>\n",
              "      <td>65500.0</td>\n",
              "      <td>1.9250</td>\n",
              "      <td>624.0</td>\n",
              "      <td>326.0</td>\n",
              "      <td>1454.0</td>\n",
              "    </tr>\n",
              "  </tbody>\n",
              "</table>\n",
              "</div>\n",
              "<p>5 rows × 8 columns</p>"
            ],
            "text/plain": [
              "   households  housing_median_age  ... total_bedrooms  total_rooms\n",
              "0       472.0                15.0  ...         1283.0       5612.0\n",
              "1       463.0                19.0  ...         1901.0       7650.0\n",
              "2       117.0                17.0  ...          174.0        720.0\n",
              "3       226.0                14.0  ...          337.0       1501.0\n",
              "4       262.0                20.0  ...          326.0       1454.0\n",
              "\n",
              "[5 rows x 8 columns]"
            ]
          },
          "metadata": {
            "tags": []
          },
          "execution_count": 16
        }
      ]
    },
    {
      "cell_type": "markdown",
      "metadata": {
        "id": "utfoSrpchJ58"
      },
      "source": [
        "![elasticCloud.JPG](data:image/jpeg;base64,/9j/4AAQSkZJRgABAQEAYABgAAD/4RDiRXhpZgAATU0AKgAAAAgABAE7AAIAAAAIAAAISodpAAQAAAABAAAIUpydAAEAAAAQAAAQyuocAAcAAAgMAAAAPgAAAAAc6gAAAAgAAAAAAAAAAAAAAAAAAAAAAAAAAAAAAAAAAAAAAAAAAAAAAAAAAAAAAAAAAAAAAAAAAAAAAAAAAAAAAAAAAAAAAAAAAAAAAAAAAAAAAAAAAAAAAAAAAAAAAAAAAAAAAAAAAAAAAAAAAAAAAAAAAAAAAAAAAAAAAAAAAAAAAAAAAAAAAAAAAAAAAAAAAAAAAAAAAAAAAAAAAAAAAAAAAAAAAAAAAAAAAAAAAAAAAAAAAAAAAAAAAAAAAAAAAAAAAAAAAAAAAAAAAAAAAAAAAAAAAAAAAAAAAAAAAAAAAAAAAAAAAAAAAAAAAAAAAAAAAAAAAAAAAAAAAAAAAAAAAAAAAAAAAAAAAAAAAAAAAAAAAAAAAAAAAAAAAAAAAAAAAAAAAAAAAAAAAAAAAAAAAAAAAAAAAAAAAAAAAAAAAAAAAAAAAAAAAAAAAAAAAAAAAAAAAAAAAAAAAAAAAAAAAAAAAAAAAAAAAAAAAAAAAAAAAAAAAAAAAAAAAAAAAAAAAAAAAAAAAAAAAAAAAAAAAAAAAAAAAAAAAAAAAAAAAAAAAAAAAAAAAAAAAAAAAAAAAAAAAAAAAAAAAAAAAAAAAAAAAAAAAAAAAAAAAAAAAAAAAAAAAAAAAAAAAAAAAAAAAAAAAAAAAAAAAAAAAAAAAAAAAAAAAAAAAAAAAAAAAAAAAAAAAAAAAAAAAAAAAAAAAAAAAAAAAAAAAAAAAAAAAAAAAAAAAAAAAAAAAAAAAAAAAAAAAAAAAAAAAAAAAAAAAAAAAAAAAAAAAAAAAAAAAAAAAAAAAAAAAAAAAAAAAAAAAAAAAAAAAAAAAAAAAAAAAAAAAAAAAAAAAAAAAAAAAAAAAAAAAAAAAAAAAAAAAAAAAAAAAAAAAAAAAAAAAAAAAAAAAAAAAAAAAAAAAAAAAAAAAAAAAAAAAAAAAAAAAAAAAAAAAAAAAAAAAAAAAAAAAAAAAAAAAAAAAAAAAAAAAAAAAAAAAAAAAAAAAAAAAAAAAAAAAAAAAAAAAAAAAAAAAAAAAAAAAAAAAAAAAAAAAAAAAAAAAAAAAAAAAAAAAAAAAAAAAAAAAAAAAAAAAAAAAAAAAAAAAAAAAAAAAAAAAAAAAAAAAAAAAAAAAAAAAAAAAAAAAAAAAAAAAAAAAAAAAAAAAAAAAAAAAAAAAAAAAAAAAAAAAAAAAAAAAAAAAAAAAAAAAAAAAAAAAAAAAAAAAAAAAAAAAAAAAAAAAAAAAAAAAAAAAAAAAAAAAAAAAAAAAAAAAAAAAAAAAAAAAAAAAAAAAAAAAAAAAAAAAAAAAAAAAAAAAAAAAAAAAAAAAAAAAAAAAAAAAAAAAAAAAAAAAAAAAAAAAAAAAAAAAAAAAAAAAAAAAAAAAAAAAAAAAAAAAAAAAAAAAAAAAAAAAAAAAAAAAAAAAAAAAAAAAAAAAAAAAAAAAAAAAAAAAAAAAAAAAAAAAAAAAAAAAAAAAAAAAAAAAAAAAAAAAAAAAAAAAAAAAAAAAAAAAAAAAAAAAAAAAAAAAAAAAAAAAAAAAAAAAAAAAAAAAAAAAAAAAAAAAAAAAAAAAAAAAAAAAAAAAAAAAAAAAAAAAAAAAAAAAAAAAAAAAAAAAAAAAAAAAAAAAAAAAAAAAAAAAAAAAAAAAAAAAAAAAAAAAAAAAAAAAAAAAAAAAAAAAAAAAAAAAAAAAAAAAAAAAAAAAAAAAAAAAAAAAAAAAAAAAAAAAAAAAAAAAAAAAAAAAAAAAAAAAAAAAAAAAAAAAAAAAAAAAAAAAAAAAAAAAAAAAAAAAAAAAAAAAAAAAAAAAAAAAAAAAAAAAAAAAAAAAAAAAAAAAAAAAAAAAAAAAAAAAAAAAAAAAAAAAAAAAAAAAAAAAAAAAAAAAAAAAAAAAAAAAAAAAAAAAAAAAAAAAAAAAAAAAAAAAAAAAAAAAAAAAAAAAAAAAAAAAAAAAAAAAAAAAAAAAAAAAAAAAAAAAAAAAAAAAAAAAAAAAAAAAAAAAAAAAAAAAAAAAAAAAAAAAAAAAAAAAAAAAAAAAAAAAAAAAAAAAAAAAAAAAAAAAAAAAAAAAAAAAAAAAAAAAAAAAAAAAAAAAAAAAAAAAAAAAAAAAAAAAAAAAAAAAAAAAAAAAAAAAAAAAAAAAAAAAAAAAAAAAAAAAAAAAAAAAAAAAAAAAAAAAAAAAAAAAAAAAAAAAAAAAAAAAAAAAAAAAAAAAAAAAAAAAAAAAAAAAAAAAAAAAAAAAAAAAAAAAAAAAAAAAAAAAAAAAAAAAAAAAAAAAAAAAAAAAAAAAAAAAAAAAAAAAAAAAAAAAAAAAAAAAAAAAAAAAAAAAAAAAAAAAAAAAAAAAAAAAAAAAAAAAAAAAAAAAAAAAAAAAAAAAAAAAAAAAAAAAAAAAAAAAAAAAAAAAAAAAAAAAAAAAAAAAAAAAAAAAAAAAAAAAAAAAAAAAAAAAAAAAAAAAAAAAAAAAAAAAAAAAAAAAAAAAAAAAAAAAAAAAAAAAAAAAAAAAAAAAAAAAAAAAAAAAAAAAAAAAAAAAAAAAAAAAAAAAAAAAAAAAAAAAAAAAAAAAAAAAAAAAAAAAAAAAAAAAAAAAAAAAAAAAAAAAAAAAAAAAAAAAAAAAAAAAAAAAAAAAAAAAAAAAAAAAAAAAAAAAAAAAAAAAAAAAAAAAAAAAAAAAAAAAAAAAAAAAAAAAAAAAAAAAAAAAAAAAAAAAAAAAAAAAAAAAAAAAAAAAAAAAAAAAAAAAAAAAAAAAENlbGVzdGUAAAWQAwACAAAAFAAAEKCQBAACAAAAFAAAELSSkQACAAAAAzUzAACSkgACAAAAAzUzAADqHAAHAAAIDAAACJQAAAAAHOoAAAAIAAAAAAAAAAAAAAAAAAAAAAAAAAAAAAAAAAAAAAAAAAAAAAAAAAAAAAAAAAAAAAAAAAAAAAAAAAAAAAAAAAAAAAAAAAAAAAAAAAAAAAAAAAAAAAAAAAAAAAAAAAAAAAAAAAAAAAAAAAAAAAAAAAAAAAAAAAAAAAAAAAAAAAAAAAAAAAAAAAAAAAAAAAAAAAAAAAAAAAAAAAAAAAAAAAAAAAAAAAAAAAAAAAAAAAAAAAAAAAAAAAAAAAAAAAAAAAAAAAAAAAAAAAAAAAAAAAAAAAAAAAAAAAAAAAAAAAAAAAAAAAAAAAAAAAAAAAAAAAAAAAAAAAAAAAAAAAAAAAAAAAAAAAAAAAAAAAAAAAAAAAAAAAAAAAAAAAAAAAAAAAAAAAAAAAAAAAAAAAAAAAAAAAAAAAAAAAAAAAAAAAAAAAAAAAAAAAAAAAAAAAAAAAAAAAAAAAAAAAAAAAAAAAAAAAAAAAAAAAAAAAAAAAAAAAAAAAAAAAAAAAAAAAAAAAAAAAAAAAAAAAAAAAAAAAAAAAAAAAAAAAAAAAAAAAAAAAAAAAAAAAAAAAAAAAAAAAAAAAAAAAAAAAAAAAAAAAAAAAAAAAAAAAAAAAAAAAAAAAAAAAAAAAAAAAAAAAAAAAAAAAAAAAAAAAAAAAAAAAAAAAAAAAAAAAAAAAAAAAAAAAAAAAAAAAAAAAAAAAAAAAAAAAAAAAAAAAAAAAAAAAAAAAAAAAAAAAAAAAAAAAAAAAAAAAAAAAAAAAAAAAAAAAAAAAAAAAAAAAAAAAAAAAAAAAAAAAAAAAAAAAAAAAAAAAAAAAAAAAAAAAAAAAAAAAAAAAAAAAAAAAAAAAAAAAAAAAAAAAAAAAAAAAAAAAAAAAAAAAAAAAAAAAAAAAAAAAAAAAAAAAAAAAAAAAAAAAAAAAAAAAAAAAAAAAAAAAAAAAAAAAAAAAAAAAAAAAAAAAAAAAAAAAAAAAAAAAAAAAAAAAAAAAAAAAAAAAAAAAAAAAAAAAAAAAAAAAAAAAAAAAAAAAAAAAAAAAAAAAAAAAAAAAAAAAAAAAAAAAAAAAAAAAAAAAAAAAAAAAAAAAAAAAAAAAAAAAAAAAAAAAAAAAAAAAAAAAAAAAAAAAAAAAAAAAAAAAAAAAAAAAAAAAAAAAAAAAAAAAAAAAAAAAAAAAAAAAAAAAAAAAAAAAAAAAAAAAAAAAAAAAAAAAAAAAAAAAAAAAAAAAAAAAAAAAAAAAAAAAAAAAAAAAAAAAAAAAAAAAAAAAAAAAAAAAAAAAAAAAAAAAAAAAAAAAAAAAAAAAAAAAAAAAAAAAAAAAAAAAAAAAAAAAAAAAAAAAAAAAAAAAAAAAAAAAAAAAAAAAAAAAAAAAAAAAAAAAAAAAAAAAAAAAAAAAAAAAAAAAAAAAAAAAAAAAAAAAAAAAAAAAAAAAAAAAAAAAAAAAAAAAAAAAAAAAAAAAAAAAAAAAAAAAAAAAAAAAAAAAAAAAAAAAAAAAAAAAAAAAAAAAAAAAAAAAAAAAAAAAAAAAAAAAAAAAAAAAAAAAAAAAAAAAAAAAAAAAAAAAAAAAAAAAAAAAAAAAAAAAAAAAAAAAAAAAAAAAAAAAAAAAAAAAAAAAAAAAAAAAAAAAAAAAAAAAAAAAAAAAAAAAAAAAAAAAAAAAAAAAAAAAAAAAAAAAAAAAAAAAAAAAAAAAAAAAAAAAAAAAAAAAAAAAAAAAAAAAAAAAAAAAAAAAAAAAAAAAAAAAAAAAAAAAAAAAAAAAAAAAAAAAAAAAAAAAAAAAAAAAAAAAAAAAAAAAAAAAAAAAAAAAAAAAAAAAAAAAAAAAAAAAAAAAAAAAAAAAAAAAAAAAAAAAAAAAAAAAAAAAAAAAAAAAAAAAAAAAAAAAAAAAAAAAAAAAAAAAAAAAAAAAAAAAAAAAAAAAAAAAAAAAAAAAAAAAAAAAAAAAAAAAAAAAAAAAAAAAAAAAAAAAAAAAAAAAAAAAAAAAAAAAAAAAAAAAAAAAAAAAAAAAAAAAAAAAAAAAAAAAAAAAAAAAAAAAAAAAAAAAAAAAAAAAAAAAAAAAAAAAAAAAAAAAAAAAAAAAAAAAAAAAAAAAAAAAAAAAAAAAAAAAAAAAAAAAAAAAAAAAAAAAAAAAAAAAAAAAAAAAAAAAAAAAAAAAAAAAAAAAAAAAAAAAAAAAAAAAAAAAAAAAAAAAAAAAAAAAAAAAAAAAAAAAAAAAAAAAAAAAAAAAAAAAAAAAAAAAAAAAAAAAAAAAAAAAAAAAAAAAAAAAAAAAAAAAAAAAAAAAAAAAAAAAAAAAAAAAAAAAAAAAAAAAAAAAAAAAAAAAAAAAAAAAAAAAAAAAAAAAAAAAAAAAAAAAAAAAAAAAAAAAAAAAAAAAAAAAAAAAAAAAAAAAAAAAAAAAAAAAAAAAAAAAAAAAAAAAAAAAAAAAAAAAAAAAAAAAAAAAAAAAAAAAAAAAAAAAAAAAAAAAAAAAAAAAAAAAAAAAAAAAAAAAAAAAAAAAAAAAAAAAAAAAAAAAAAAAAAAAAAAAAAAAAAAAAAAAAAAAAAAAAAAAAAAAAAAAAAAAAAAAAAAAAAAAAAAAAAAAAAAAAAAAAAAAAAAAAAAAAAAAAAAAAAAAAAAAAAAAAAAAAAAAAAAAAAAAAAAAAAAAAAAAAAAAAAAAAAAAAAAAAAAAAAAAAAAAAAAAAAAAAAAAAAAAAAAAAAAAAAAAAAAAAAAAAAAAAAAAAAAAAAAAAAAAAAAAAAAAAyMDIxOjAxOjE0IDE5OjQ5OjA0ADIwMjE6MDE6MTQgMTk6NDk6MDQAAABDAGUAbABlAHMAdABlAAAA/+ELGmh0dHA6Ly9ucy5hZG9iZS5jb20veGFwLzEuMC8APD94cGFja2V0IGJlZ2luPSfvu78nIGlkPSdXNU0wTXBDZWhpSHpyZVN6TlRjemtjOWQnPz4NCjx4OnhtcG1ldGEgeG1sbnM6eD0iYWRvYmU6bnM6bWV0YS8iPjxyZGY6UkRGIHhtbG5zOnJkZj0iaHR0cDovL3d3dy53My5vcmcvMTk5OS8wMi8yMi1yZGYtc3ludGF4LW5zIyI+PHJkZjpEZXNjcmlwdGlvbiByZGY6YWJvdXQ9InV1aWQ6ZmFmNWJkZDUtYmEzZC0xMWRhLWFkMzEtZDMzZDc1MTgyZjFiIiB4bWxuczpkYz0iaHR0cDovL3B1cmwub3JnL2RjL2VsZW1lbnRzLzEuMS8iLz48cmRmOkRlc2NyaXB0aW9uIHJkZjphYm91dD0idXVpZDpmYWY1YmRkNS1iYTNkLTExZGEtYWQzMS1kMzNkNzUxODJmMWIiIHhtbG5zOnhtcD0iaHR0cDovL25zLmFkb2JlLmNvbS94YXAvMS4wLyI+PHhtcDpDcmVhdGVEYXRlPjIwMjEtMDEtMTRUMTk6NDk6MDQuNTMyPC94bXA6Q3JlYXRlRGF0ZT48L3JkZjpEZXNjcmlwdGlvbj48cmRmOkRlc2NyaXB0aW9uIHJkZjphYm91dD0idXVpZDpmYWY1YmRkNS1iYTNkLTExZGEtYWQzMS1kMzNkNzUxODJmMWIiIHhtbG5zOmRjPSJodHRwOi8vcHVybC5vcmcvZGMvZWxlbWVudHMvMS4xLyI+PGRjOmNyZWF0b3I+PHJkZjpTZXEgeG1sbnM6cmRmPSJodHRwOi8vd3d3LnczLm9yZy8xOTk5LzAyLzIyLXJkZi1zeW50YXgtbnMjIj48cmRmOmxpPkNlbGVzdGU8L3JkZjpsaT48L3JkZjpTZXE+DQoJCQk8L2RjOmNyZWF0b3I+PC9yZGY6RGVzY3JpcHRpb24+PC9yZGY6UkRGPjwveDp4bXBtZXRhPg0KICAgICAgICAgICAgICAgICAgICAgICAgICAgICAgICAgICAgICAgICAgICAgICAgICAgICAgICAgICAgICAgICAgICAgICAgICAgICAgICAgICAgICAgICAgICAgICAgICAgIAogICAgICAgICAgICAgICAgICAgICAgICAgICAgICAgICAgICAgICAgICAgICAgICAgICAgICAgICAgICAgICAgICAgICAgICAgICAgICAgICAgICAgICAgICAgICAgICAgICAgCiAgICAgICAgICAgICAgICAgICAgICAgICAgICAgICAgICAgICAgICAgICAgICAgICAgICAgICAgICAgICAgICAgICAgICAgICAgICAgICAgICAgICAgICAgICAgICAgICAgICAKICAgICAgICAgICAgICAgICAgICAgICAgICAgICAgICAgICAgICAgICAgICAgICAgICAgICAgICAgICAgICAgICAgICAgICAgICAgICAgICAgICAgICAgICAgICAgICAgICAgIAogICAgICAgICAgICAgICAgICAgICAgICAgICAgICAgICAgICAgICAgICAgICAgICAgICAgICAgICAgICAgICAgICAgICAgICAgICAgICAgICAgICAgICAgICAgICAgICAgICAgCiAgICAgICAgICAgICAgICAgICAgICAgICAgICAgICAgICAgICAgICAgICAgICAgICAgICAgICAgICAgICAgICAgICAgICAgICAgICAgICAgICAgICAgICAgICAgICAgICAgICAKICAgICAgICAgICAgICAgICAgICAgICAgICAgICAgICAgICAgICAgICAgICAgICAgICAgICAgICAgICAgICAgICAgICAgICAgICAgICAgICAgICAgICAgICAgICAgICAgICAgIAogICAgICAgICAgICAgICAgICAgICAgICAgICAgICAgICAgICAgICAgICAgICAgICAgICAgICAgICAgICAgICAgICAgICAgICAgICAgICAgICAgICAgICAgICAgICAgICAgICAgCiAgICAgICAgICAgICAgICAgICAgICAgICAgICAgICAgICAgICAgICAgICAgICAgICAgICAgICAgICAgICAgICAgICAgICAgICAgICAgICAgICAgICAgICAgICAgICAgICAgICAKICAgICAgICAgICAgICAgICAgICAgICAgICAgICAgICAgICAgICAgICAgICAgICAgICAgICAgICAgICAgICAgICAgICAgICAgICAgICAgICAgICAgICAgICAgICAgICAgICAgIAogICAgICAgICAgICAgICAgICAgICAgICAgICAgICAgICAgICAgICAgICAgICAgICAgICAgICAgICAgICAgICAgICAgICAgICAgICAgICAgICAgICAgICAgICAgICAgICAgICAgCiAgICAgICAgICAgICAgICAgICAgICAgICAgICAgICAgICAgICAgICAgICAgICAgICAgICAgICAgICAgICAgICAgICAgICAgICAgICAgICAgICAgICAgICAgICAgICAgICAgICAKICAgICAgICAgICAgICAgICAgICAgICAgICAgICAgICAgICAgICAgICAgICAgICAgICAgICAgICAgICAgICAgICAgICAgICAgICAgICAgICAgICAgICAgICAgICAgICAgICAgIAogICAgICAgICAgICAgICAgICAgICAgICAgICAgICAgICAgICAgICAgICAgICAgICAgICAgICAgICAgICAgICAgICAgICAgICAgICAgICAgICAgICAgICAgICAgICAgICAgICAgCiAgICAgICAgICAgICAgICAgICAgICAgICAgICAgICAgICAgICAgICAgICAgICAgICAgICAgICAgICAgICAgICAgICAgICAgICAgICAgICAgICAgICAgICAgICAgICAgICAgICAKICAgICAgICAgICAgICAgICAgICAgICAgICAgICAgICAgICAgICAgICAgICAgICAgICAgICAgICAgICAgICAgICAgICAgICAgICAgICAgICAgICAgICAgICAgICAgICAgICAgIAogICAgICAgICAgICAgICAgICAgICAgICAgICAgICAgICAgICAgICAgICAgICAgICAgICAgICAgICAgICAgICAgICAgICAgICAgICAgICAgICAgICAgICAgICAgICAgICAgICAgCiAgICAgICAgICAgICAgICAgICAgICAgICAgICAgICAgICAgICAgICAgICAgICAgICAgICAgICAgICAgICAgICAgICAgICAgICAgICAgICAgICAgICAgICAgICAgICAgICAgICAKICAgICAgICAgICAgICAgICAgICAgICAgICAgICAgICAgICAgICAgICAgICAgICAgICAgICAgICAgICAgICAgICAgICAgICAgICAgICAgICAgICAgICAgICAgICAgICAgICAgIAogICAgICAgICAgICAgICAgICAgICAgICAgICAgICAgICAgICAgICAgICAgICAgICAgICAgICAgICAgICAgICAgICAgICAgICAgICAgICAgICAgICAgICAgICAgICAgICAgICAgCiAgICAgICAgICAgICAgICAgICAgICAgICAgICA8P3hwYWNrZXQgZW5kPSd3Jz8+/9sAQwAHBQUGBQQHBgUGCAcHCAoRCwoJCQoVDxAMERgVGhkYFRgXGx4nIRsdJR0XGCIuIiUoKSssKxogLzMvKjInKisq/9sAQwEHCAgKCQoUCwsUKhwYHCoqKioqKioqKioqKioqKioqKioqKioqKioqKioqKioqKioqKioqKioqKioqKioqKioq/8AAEQgCQwT1AwEiAAIRAQMRAf/EAB8AAAEFAQEBAQEBAAAAAAAAAAABAgMEBQYHCAkKC//EALUQAAIBAwMCBAMFBQQEAAABfQECAwAEEQUSITFBBhNRYQcicRQygZGhCCNCscEVUtHwJDNicoIJChYXGBkaJSYnKCkqNDU2Nzg5OkNERUZHSElKU1RVVldYWVpjZGVmZ2hpanN0dXZ3eHl6g4SFhoeIiYqSk5SVlpeYmZqio6Slpqeoqaqys7S1tre4ubrCw8TFxsfIycrS09TV1tfY2drh4uPk5ebn6Onq8fLz9PX29/j5+v/EAB8BAAMBAQEBAQEBAQEAAAAAAAABAgMEBQYHCAkKC//EALURAAIBAgQEAwQHBQQEAAECdwABAgMRBAUhMQYSQVEHYXETIjKBCBRCkaGxwQkjM1LwFWJy0QoWJDThJfEXGBkaJicoKSo1Njc4OTpDREVGR0hJSlNUVVZXWFlaY2RlZmdoaWpzdHV2d3h5eoKDhIWGh4iJipKTlJWWl5iZmqKjpKWmp6ipqrKztLW2t7i5usLDxMXGx8jJytLT1NXW19jZ2uLj5OXm5+jp6vLz9PX29/j5+v/aAAwDAQACEQMRAD8A8aorovBWgLruvoLuPdp9v+8umLbVAwdqkjn5mwOOcZI6V7x4d0HTdDtI7rTLG0tbq4BaSa2O44DEABsnAwOgx155rmzDFrAYZ4mcW1e3zNcPRVeXIpJPtfX1t2PmWivX/jJ4fgaytdbtLULdb2W6eNeZE4w7AejfLu/2gCeleQVphMTHFUI14qyl3Iq03Tm4PoFFdV4L8P6VrNvrV3rkl4tvpdn9p22bKHf5gMfMCO9XNJ0Lwp4k16Gw0ZtZgTyJ5ZWu3iJyiFlC7V9RzmukzOJoroIfA3iK40tNQi04tDJCZ41M0YlkjHV1iLb2X3C02z8E+IdQ0xL+008vDIjSRqZkWSVF+8yRlt7geqg0AYNFd0Phtc21v4dvbmT7Xb6swEtvaTwLMmWwFTc5DE+uMDoayrfwNrmqTXD6Tp0htVuXt4jczxRs7An5F3MA7DuFzzQBzVFSTwy21xJBcRtFLGxR0cYKsDggj1qOmAUUUUAFFFFABRRRQAUUUUAFFFFABRRRQAUUUUAFFFFABRRRQAUUUUAFFFFABRRRQAUUUUAFFFFABRRRQAUUUUAFFFFABRRRQAUUUUAFFFFABRRRQAUUUUAFFFFABRRRQAUUUUAFFFFABRRRQBalgtoZXjeaXcjFTiIYyP8AgVM2Wn/Pab/vyP8A4qraWf2/X5oGk8pPMleR8Z2ooZmOO+FU8ULcaU9wI3sZIrYnHmrMWlX3P8J+mBn1HWkBU2Wn/Pab/vyP/iqNlp/z2m/78j/4qlvrRrG/ntZGV2hcoWU8Ng9R7Gp49LZrWOaW5ghMwJiSRiNwHXnGB+JoAr7LT/ntN/35H/xVGy0/57Tf9+R/8VQbO6EAnNtMIm6SeWdp/GnnTb5XVGsrgMwyqmJsn6cUAM2Wn/Pab/vyP/iqNlp/z2m/78j/AOKp39nXoUs1pMqA4Z2jICn3OKdfaZdadIy3ETBQ20SBTsY+xI5oAj2Wn/Pab/vyP/iqNlp/z2m/78j/AOKqZ9N8q0inmuoI/OQuiEOWIzjsuP1om0m9huJolgebyTh3iQso4z1xQBDstP8AntN/35H/AMVRstP+e03/AH5H/wAVT4dNvZ/K2Ws22VgqOYztOfepJtJuocI0cjTGQx+WsTZOO4OMH8KAINlp/wA9pv8AvyP/AIqjZaf89pv+/I/+Kpk0EtvIY7iJ4nHVXUqfyNR0AT7LT/ntN/35H/xVGy0/57Tf9+R/8VUFFMCfZaf89pv+/I/+Ko2Wn/Pab/vyP/iqgooAn2Wn/Pab/vyP/iqNlp/z2m/78j/4qoKKAJ9lp/z2m/78j/4qjZaf89pv+/I/+KqCigCfZaf89pv+/I/+KpywwSbhFNIWCswDRAA4BPXcfSq1WLP/AF7f9cpP/QGoAr0UUUAFFFFABRRRQAUUUUAFFFFABRRRQAUUUUAFFFFABRRRQAUUUUAFFFFABRRRQAUUUUAFFFFABRRRQAUUUUAFFFFABRRRQAUUUUAFFFFABRRRQAUUUUAFFFFABRRRQAUUUUAFFFFABRRRQAUV0vhbwoNet7y8urqG2trSNnVJJ1ia5ZQCyIz/ACjAIJJzgEcHNXNR8H2cnhufWdGu4tsEmz7K18lw8yhdzOpVUI2jkhlHHIJpAcdRRRTAKKK6Pw34eg1G3e81JJjabygME6o6hdplk2lWLhFcMQADg5yADSA5yitfWdBm0X5bqOVS4jeJpBs3qyBsgd+uDg/KRg8msigAooro/Bfh6PxBrBW6z9lgXfKAcFvRc9v/AK1BpSpyqzUI7s5yivf4rWxsIFhiigt4z8qqAFB9veuQ8d+E7STS5dUsIUgngG6RUGBIvfj1HXNTzHq1spnTpuale3Q8vr7I8FOsfw68PvIwVV0q2LMxwAPKXmvjevsLwg9ofh34ehvGhKtpVqSkpGD+6XsfpTkeOjZ0/U7XU43ezk3BG2sCMEehx6Ht/wDroqD7Pon/ADx0/wD75SioGfL/AMNtVSDWH0e4jZoNSdDujIDLIgfbjPXIdhj1IPOMH0y28RXttMq26oLYH5bTblMfzyfXqa8Dhmkt545reRopY2Do6HDKwOQQexzXVP8AEjWGttqW9jFdY/4/I4mEmfUDdsB9wox1GDXYqkZUnRqrmj2ex4GY5fiK1aFbCz5JLd6p/h+R2/xARtFbUdUvb9r83PnWMEZXaVLoy+uAqqSRt7heBnNeNVf1PXNU1oxHVtQuLzyhiPzpC23PXr3OOT1NUKw9pVnGKqtNpW0VlbpoetRoxopqPV3fqd78M78Wdr4lSK8sbW8n07Za/bZoo0eTeDj96Qp/GtDQL/ULbxhbXPinUdGWMWd1HHJa3VmVBMR4byD1Jxjd+FeZUUjc9p8OQaJpWs6PqNodHOnLY4k1e/1TNwJTGQY1iMgCEE4wU6Z5rL0GODUtI0k+IZtHm062tGjXVYdQ+zXmn/exGU3guQTgDYc5615VRRYD1TTLyymt/h/ex39otvpM7w3hmuY43hJmypKFt2COcjIHrUevWqeMrfSZND1Wwtxpss8V0JryOHyMzF/PG5huUgg5XPSvL6KAL2tEHW7zGoPqYErD7Y+cz8/f5JPPuao0UUwCiiigAooooAKKKKACiiigAooooAKKKKACiiigAooooAKKKKACiiigAooooAKKKKACiiigAooooAKKKKACiiigAooooAKKKKACiiigAooooAKKKKACiiigAooooAKKKKACiiigAooooAKKKKANFb02GvzXGwSKJJEeMnG9GyrLntlSRmmSJpsV5A8Us1xalwZYmTy5FXIyM8jOMjP6Cm3KQzXUsq3cQV3LAFXzyc/3ai+zx/8AP3D+T/8AxNICzrhEmrzXCzxTpcsZkeLgAMTwV6qR0wfTuME2dP1G1trRUmluGQA+ZasivHIT0wSfl/Ks37PH/wA/cP5P/wDE0fZ4/wDn7h/J/wD4mgDbOvWjWwzG4dkSN0WMDhSM/Pnpxxx1p76/YpGyQrKd3mEFYguNy4H8RJPqawfs8f8Az9w/k/8A8TR9nj/5+4fyf/4mgDQN/avbQM8lzHNDD5PlxgBW5zknPT1GKW/1aG6hvlRZAbidZE3AcADHPNZ32eP/AJ+4fyf/AOJo+zx/8/cP5P8A/E0AaUmqxSaTDarPPEY4ijoIFZXOT3LZH5VeTX9P+1PcGOYN5u8AxhiRtA4+bCmuf+zx/wDP3D+T/wDxNH2eP/n7h/J//iaANUataLZQAiWSaIxYygUgKckFgfmHpkVKut2apLEPtGyaSVi+wAoHHYZ6g1i/Z4/+fuH8n/8AiaPs8f8Az9w/k/8A8TQA68eJpUFvLNKiIFDTdePQdh7VWqf7PH/z9w/k/wD8TR9nj/5+4fyf/wCJoAgoqf7PH/z9w/k//wATR9nj/wCfuH8n/wDiaYEFFT/Z4/8An7h/J/8A4mj7PH/z9w/k/wD8TQBBRU/2eP8A5+4fyf8A+Jo+zx/8/cP5P/8AE0AQUVP9nj/5+4fyf/4mj7PH/wA/cP5P/wDE0AQVYs/9e3/XKT/0BqT7PH/z9w/k/wD8TUkKxQMzm5jb926hVDZJKkDqPegCpRRRQAUUUUAFFFFABRRRQAUUUUAFFFFABRRRQAUUUUAFFFFABRRRQAUUUUAFFFFABRRRQAUUUUAFFFFABRRRQAUUUUAFFFFABRRRQAUUUUAFFFFABRRRQAUUUUAFFFFABRRRQAUUUUAFFFFAHaeD107U9A1LSr28ktrgRStDFFCJJLkuYSFQZHzBoVOM8gnHNXX0qz8K+EL77deXEeoSSlUsrmyaFpg0EkYZA53BV81iSVGSFA9a8+opAFFFFMAr0axtrCzs9HnuNYsLWC1toyG+0K0qvKfNeaNYyziRDsTaygEJjNec0UgOu8Ravol7/aHln7ZczRo6XQhK/wCkbxvKliGEZQEhSOGfA4UGuRoooAK7n4X38UGq3dpIwV7lFMee5XPA/A5/CuGp8cjwyrJC7I6HKspwQfUGh6m+HrOhVjUXQ9w1bTZ7q8SeCC0uR5LQmO6YhUyQdwwDnpyOPqKg8YX0Wn+ErzzmUNNEYUH95mGOP1P4V5/b/EfXYIBG5t5yBjfJGd36ECsPVtcv9buBLqM5kK8Ko4VfoKhRZ7lbNKPs5ezTuzPr6n0f/kTfDX/YGtf/AEWK+WK+p9H/AORN8Nf9ga1/9FiqkfOosUUUVAzy3/hm/wAW/wDQS0X/AL/y/wDxqj/hm/xb/wBBLRf+/wDL/wDGq+maKfMxWPmb/hm/xb/0EtF/7/y//GqP+Gb/ABb/ANBLRf8Av/L/APGq+maKOZhY+Zv+Gb/Fv/QS0X/v/L/8ao/4Zv8AFv8A0EtF/wC/8v8A8ar6Zqrd6pp9g4S+vra2ZhkLNMqEj8TTTb2JlKMVeTsfOH/DN/i3/oJaL/3/AJf/AI1R/wAM3+Lf+glov/f+X/41X0P/AMJHof8A0GdP/wDApP8AGrVpqFnfqzWN3BchfvGGUPj64NP3luTGrSk7Rkm/U+bv+Gb/ABb/ANBLRf8Av/L/APGqP+Gb/Fv/AEEtF/7/AMv/AMar6ZoqeZmlj5m/4Zv8W/8AQS0X/v8Ay/8Axqj/AIZv8W/9BLRf+/8AL/8AGq+maKOZhY+Zv+Gb/Fv/AEEtF/7/AMv/AMao/wCGb/Fv/QS0X/v/AC//ABqvpmijmYWPmb/hm/xb/wBBLRf+/wDL/wDGqP8Ahm/xb/0EtF/7/wAv/wAar6Zoo5mFj5m/4Zv8W/8AQS0X/v8Ay/8Axqj/AIZv8W/9BLRf+/8AL/8AGq+maKOZhY+Zv+Gb/Fv/AEEtF/7/AMv/AMao/wCGb/Fv/QS0X/v/AC//ABqvpmijmYWPmb/hm/xb/wBBLRf+/wDL/wDGqP8Ahm/xb/0EtF/7/wAv/wAar6Zoo5mFj5m/4Zv8W/8AQS0X/v8Ay/8Axqj/AIZv8W/9BLRf+/8AL/8AGq+maKOZhY+Zv+Gb/Fv/AEEtF/7/AMv/AMao/wCGb/Fv/QS0X/v/AC//ABqvpmijmYWPmb/hm/xb/wBBLRf+/wDL/wDGqP8Ahm/xb/0EtF/7/wAv/wAar6Zoo5mFj5m/4Zv8W/8AQS0X/v8Ay/8Axqj/AIZv8W/9BLRf+/8AL/8AGq+maKOZhY+Zv+Gb/Fv/AEEtF/7/AMv/AMao/wCGb/Fv/QS0X/v/AC//ABqvpmijmYWPmb/hm/xb/wBBLRf+/wDL/wDGqP8Ahm/xb/0EtF/7/wAv/wAar6Zoo5mFj5m/4Zv8W/8AQS0X/v8Ay/8Axqj/AIZv8W/9BLRf+/8AL/8AGq+maKOZhY+Zv+Gb/Fv/AEEtF/7/AMv/AMao/wCGb/Fv/QS0X/v/AC//ABqvpmijmYWPmb/hm/xb/wBBLRf+/wDL/wDGqP8Ahm/xb/0EtF/7/wAv/wAar6Zoo5mFj5m/4Zv8W/8AQS0X/v8Ay/8Axqj/AIZv8W/9BLRf+/8AL/8AGq+maKOZhY+Zv+Gb/Fv/AEEtF/7/AMv/AMao/wCGb/Fv/QS0X/v/AC//ABqvpmijmYWPmb/hm/xb/wBBLRf+/wDL/wDGqP8Ahm/xb/0EtF/7/wAv/wAar6Zoo5mFj5m/4Zv8W/8AQS0X/v8Ay/8Axqj/AIZv8W/9BLRf+/8AL/8AGq+maKOZhY+Zv+Gb/Fv/AEEtF/7/AMv/AMao/wCGb/Fv/QS0X/v/AC//ABqvpmijmYWPmb/hm/xb/wBBLRf+/wDL/wDGqP8Ahm/xb/0EtF/7/wAv/wAar6Zoo5mFj5m/4Zv8W/8AQS0X/v8Ay/8Axqj/AIZv8W/9BLRf+/8AL/8AGq+maKOZhY+Zv+Gb/Fv/AEEtF/7/AMv/AMao/wCGb/Fv/QS0X/v/AC//ABqvpmijmYWPmb/hm/xb/wBBLRf+/wDL/wDGqP8Ahm/xb/0EtF/7/wAv/wAar6Zoo5mFj5m/4Zv8W/8AQS0X/v8Ay/8Axqj/AIZv8W/9BLRf+/8AL/8AGq+maKOZhY+Zv+Gb/Fv/AEEtF/7/AMv/AMao/wCGb/Fv/QS0X/v/AC//ABqvpmijmYWPmb/hm/xb/wBBLRf+/wDL/wDGqP8Ahm/xb/0EtF/7/wAv/wAar6Zoo5mFj5m/4Zv8W/8AQS0X/v8Ay/8Axqj/AIZv8W/9BLRf+/8AL/8AGq+maKOZhY+Zv+Gb/Fv/AEEtF/7/AMv/AMao/wCGb/Fv/QS0X/v/AC//ABqvpmijmYWPmb/hm/xb/wBBLRf+/wDL/wDGqP8Ahm/xb/0EtF/7/wAv/wAar6Zoo5mFj5m/4Zv8W/8AQS0X/v8Ay/8Axqj/AIZv8W/9BLRf+/8AL/8AGq+maKOZhY+Zv+Gb/Fv/AEEtF/7/AMv/AMao/wCGb/Fv/QS0X/v/AC//ABqvpmijmYWPmb/hm/xb/wBBLRf+/wDL/wDGqP8Ahm/xb/0EtF/7/wAv/wAar6Zoo5mFj5m/4Zv8W/8AQS0X/v8Ay/8Axqj/AIZv8W/9BLRf+/8AL/8AGq+maKOZhY+Zv+Gb/Fv/AEEtF/7/AMv/AMao/wCGb/Fv/QS0X/v/AC//ABqvpmijmYWPmb/hm/xb/wBBLRf+/wDL/wDGqP8Ahm/xb/0EtF/7/wAv/wAar6Zoo5mFj5m/4Zv8W/8AQS0X/v8Ay/8Axqj/AIZv8W/9BLRf+/8AL/8AGq+maKOZhY+Zv+Gb/Fv/AEEtF/7/AMv/AMao/wCGb/Fv/QS0X/v/AC//ABqvpmijmYWPmb/hm/xb/wBBLRf+/wDL/wDGqP8Ahm/xb/0EtF/7/wAv/wAar6Zoo5mFj5m/4Zv8W/8AQS0X/v8Ay/8Axqj/AIZv8W/9BLRf+/8AL/8AGq+maKOZhY+Zv+Gb/Fv/AEEtF/7/AMv/AMao/wCGb/Fv/QS0X/v/AC//ABqvpmijmYWPmb/hm/xb/wBBLRf+/wDL/wDGqP8Ahm/xb/0EtF/7/wAv/wAar6Zoo5mFj5m/4Zv8W/8AQS0X/v8Ay/8Axqj/AIZv8W/9BLRf+/8AL/8AGq+maKOZhY+Zv+Gb/Fv/AEEtF/7/AMv/AMao/wCGb/Fv/QS0X/v/AC//ABqvpmijmYWPmb/hm/xb/wBBLRf+/wDL/wDGqP8Ahm/xb/0EtF/7/wAv/wAar6Zoo5mFj5m/4Zv8W/8AQS0X/v8Ay/8Axqj/AIZv8W/9BLRf+/8AL/8AGq+maKOZhY+Zv+Gb/Fv/AEEtF/7/AMv/AMao/wCGb/Fv/QS0X/v/AC//ABqvpmijmYWPmb/hm/xb/wBBLRf+/wDL/wDGqP8Ahm/xb/0EtF/7/wAv/wAar6Zoo5mFj5m/4Zv8W/8AQS0X/v8Ay/8Axqj/AIZv8W/9BLRf+/8AL/8AGq+maKOZhY+Zv+Gb/Fv/AEEtF/7/AMv/AMao/wCGb/Fv/QS0X/v/AC//ABqvpmijmYWPmb/hm/xb/wBBLRf+/wDL/wDGqP8Ahm/xb/0EtF/7/wAv/wAar6Zoo5mFj5m/4Zv8W/8AQS0X/v8Ay/8Axqj/AIZv8W/9BLRf+/8AL/8AGq+maKOZhY+Zv+Gb/Fv/AEEtF/7/AMv/AMao/wCGb/Fv/QS0X/v/AC//ABqvpmijmYWPmb/hm/xb/wBBLRf+/wDL/wDGqP8Ahm/xb/0EtF/7/wAv/wAar6Zoo5mFj5m/4Zv8W/8AQS0X/v8Ay/8Axqj/AIZv8W/9BLRf+/8AL/8AGq+maKOZhY+Zv+Gb/Fv/AEEtF/7/AMv/AMao/wCGb/Fv/QS0X/v/AC//ABqvpmijmYWPmb/hm/xb/wBBLRf+/wDL/wDGqP8Ahm/xb/0EtF/7/wAv/wAar6Zoo5mFj5m/4Zv8W/8AQS0X/v8Ay/8Axqj/AIZv8W/9BLRf+/8AL/8AGq+maKOZhY+Zv+Gb/Fv/AEEtF/7/AMv/AMao/wCGb/Fv/QS0X/v/AC//ABqvpmijmYWPmb/hm/xb/wBBLRf+/wDL/wDGqP8Ahm/xb/0EtF/7/wAv/wAar6Zoo5mFj5m/4Zv8W/8AQS0X/v8Ay/8Axqj/AIZv8W/9BLRf+/8AL/8AGq+maKOZhY+Zv+Gb/Fv/AEEtF/7/AMv/AMao/wCGb/Fv/QS0X/v/AC//ABqvpmijmYWPmb/hm/xb/wBBLRf+/wDL/wDGqP8Ahm/xb/0EtF/7/wAv/wAar6Zoo5mFj5m/4Zv8W/8AQS0X/v8Ay/8Axqj/AIZv8W/9BLRf+/8AL/8AGq+maKOZhY+Zv+Gb/Fv/AEEtF/7/AMv/AMao/wCGb/Fv/QS0X/v/AC//ABqvpmijmYWPmb/hm/xb/wBBLRf+/wDL/wDGqP8Ahm/xb/0EtF/7/wAv/wAar6Zoo5mFj5m/4Zv8W/8AQS0X/v8Ay/8Axqj/AIZv8W/9BLRf+/8AL/8AGq+maKOZhY+Zv+Gb/Fv/AEEtF/7/AMv/AMao/wCGb/Fv/QS0X/v/AC//ABqvpmijmYWPmb/hm/xb/wBBLRf+/wDL/wDGqP8Ahm/xb/0EtF/7/wAv/wAar6Zoo5mFj5m/4Zv8W/8AQS0X/v8Ay/8Axqj/AIZv8W/9BLRf+/8AL/8AGq+maKOZhY+Zv+Gb/Fv/AEEtF/7/AMv/AMao/wCGb/Fv/QS0X/v/AC//ABqvpmijmYWPmb/hm/xb/wBBLRf+/wDL/wDGqP8Ahm/xb/0EtF/7/wAv/wAar6Zoo5mFj5m/4Zv8W/8AQS0X/v8Ay/8Axqj/AIZv8W/9BLRf+/8AL/8AGq+maKOZhY+Zv+Gb/F3/AEEtF/7/AMv/AMar1YabNo2j6Ppd0yPPZadDbyNGSVLIu0kZAOMj0Feh1x/iT/kKD/c/9mNF7jMiiiikB6DeSTRWM8lqkbzpGzRrK+xGYDgM2DgZ6nHFcn/b3jD/AKBOgf8Ag3b/AON10+qxNcaPewpaxXjSW7qLaY4SYlSNjHsD0P1rzT/hFL//AKJf4a/8DF/+IpoDvfD9/rF99o/tq00+32bfK+xXhn3ZzndlVx0GOuefStmuU8EaTcaX9u+0eF9M0DzPL2/YJhJ52N33sKMYzx/vGuroYEduxe2idjlmQEn3xXjfj9ifHF+CSdvlgew8tT/WvY7T/jzh/wCua/yrxvx9/wAjzqP/AGz/APRSV1YX+I/Q+X4n/wByj/iX5M42LVlkljDW00cckjRJM23aWBIxwcjODjivRPhaxHii5UHg2bEj1w6f4mvNoNKuElVbi7jkto5mmjjSAq2SSRuYsc4J7AV6R8Lv+RpuP+vJ/wD0NK66t/ZO58tlvs1mFL2ffz/U9UnYpGCpwd6j8CwFSVFc/wCqH/XRP/QhUteV0P1E5g+Kb5Jb64l0qEaXZXbW0twl2TKMEAv5ZjA2jOT85OOxq7/wlFjC8iXkmHE0karbRSzEKhALNhPlAyMn7o9TVP8A4RW9eW9t5dVh/su9u2uZbdLQiU5IJQyFyNvHOEBx3FR3/g2W6En2e/hheSeaUStakyQ+YQf3bq6spGOuSDxkcUaAa7eItMXVBp5uG8/cEJELmMMRkKZMbAxGDtJzyOKhTxZo0izMt04SGMyl2t5FV0BwWQlcOoJGSuQM0yDQr211CZrbVFWxuJvOnha3DSs20KQJN2ApwCflz1wR2gsPCskDQRX97Hd2dpbPa20K2+whGwD5jbjvO1QOAo68ehoBoXXiHTbOSSOad2kjdUMcMEkrlmXcAqopLHaM8ZwOTSR+I9MmurW3gnklluk8yNY4JG+XJGWIXCYIIO7GDwaxv+EG/wCJTbQvex3F5bztMbi5t9yy5XZhkDA8IFGQw+7n2rT0fw8NKuo5lmjbba+QyRQ+WpO8uWAycDLdOfqaNANqiiikAUUUUAFFFFABRRRQAUUUUAFFFFABRRRQAUUUUAFFFFABRRRQAUUUUAFFFFABRRRQAUUUUAFFFFABRRRQAUUUUAFFFFABRRRQAUUUUAFFFFABRRRQAUUUUAFFFFABRRRQAUUUUAFFFFABRRRQAUUUUAFFFFABRRRQAUUUUAFFFFABRRRQAUUUUAFFFFABRRRQAUUUUAFFFFABRRRQAUUUUAFFFFABRRRQAUUUUAFFFFABRRRQAUUUUAFFFFABRRRQAUUUUAFFFFABRRRQAUUUUAFFFFABRRRQBl61rS6M1mZYGliuJjHI6n/VKFLFyO4GOfbntSnXbeOS7FwGVbeZYkMatK0pZA/yqoJPXoM9M1YvLAXd3ZzM+BbSM5UrnflGXHt96sX/AIRARQzLb3nP2oXFuJoiyxAR7PLIDAsAM45BHHXHO8fZNe9/Wpzy9qn7v9aGk3iLSktXuHutkUaK7lo2BUFigyCM53AgjqO+KvQ3MNw0qwvuML+W/B4bAOPfgjpWIfCsUi2QmmTEHmeekUO1J9/PQkkYbnqTWlo+nHStLjtXnNxIpLSTMuDIxOScfjSmqaXuvX+v6+ZUHVb95af1/XyL1FFFYmxjjWriXWprK2tIJEt3VJQ10FmAIB3iMrgrz13DODgcYMz6/p0cs0cksqGFWZme3kCkKcMVYrhsZ5wTioL7Rru+vkaa9ga1jmWZFa1zNGQQcLIGAAOP7pOCRmobbwyyakbi8uo7lNsqYaE+Y6yHozlzkAcAAAe1dFqTWrOe9ZPRGjc6zY2rukkjs8bKhSKF5GLEbgAFBJOOeM4HWrNtcw3lslxbPvikGVOCP0PIPsawv+EVZdNt4lvVku4ZWlM88RYSEjbhlDA/dwPvdvwrZ06z+wafFbZQlAdxjTYpJOSQMnHJPc/WokqaXuvUuDqOXvLQs0UUVkamJFrt06xXjWEa6ZNIqRzi4zJhm2q5j24CkkfxE4I47C1Br+nXNz5EU7bsuoZoXVGK53AOQFJGDwDng1Vi0K6RYrNr+NtMhkV44Bb4kwrblQybsFQQP4QcAc9zVsfD95NCsWqToLWOe4kSBIsP87OAS+4gja5OAAeRk8V0tUmm7nMpVk0rf1/XzNFPEemPDJL50ipGFJL28ibgx2qVBUbgScZGRVuxv7fUYWktS+FYoyyRNGyn0KsAR1B5HesW38KvHCyT3UDEeUI5I7Yq21HV8MS5yTtHTA74rYs7H7JdXs3mb/tUwlxtxswirj3+7n8aiappe6y4Oq37y/r7y3RRRWJsY51q4fW5bG1tIJBAyiUNdBJiCAd6xlcFRnqWGcH05XT/ABJZ3rNHIJIJQ8q4aN9jeWxBw5UKTgZwDkfhTdQ0a71C8Uy3sBtVlSVFe1zNEVIOEkDADOOpUnk8+jW8OsbWGJL142hkuHEiJhgZQ/Tngjf19u1dH7px/wCHOb96pabfInHiPTfs7zNJOioyqVe1lVyW+7hCu456Agc1INcsDeJbeZKJHIUFreQKGIyFLFdqtgj5SQeRxWba+F5IpDJNdQlzLBIfJtyoPlMTzl2JJz1JqY+HT/bTXazQmB5xcNG8BZw4A6NvwBkA/dJ9/QcaN3r/AF9w1KtZaf195uUUUVznQVb+9+xfZv3e/wA+dYfvY27s8/pVaHxHpc6u0c7hUiM294JEVkHUqSoDYyM4zjNWb+y+2/Zv3mzyJ1m+7ndtzx+tZq+HClnawC5RjbWstv8AvIAyvv28lSeny9O+etbRVNr3tzGTqKXu7FlvEOnpBHK7XC+Y5jSM2kokZgMkeXt3dOenSiTxFpkUMUrTuySJvBSCR9i5wS+FOwA5B3Yxg+hrL/sDU7WaxNndxFo7iSUsYWMMKmIqFCGTdjPYN1PpSy+EWKqY7qEySIyXJnty6ybnZyVUONvLtwdwxj05vlo9/wCvuM+ev/L/AF95rtrVil99kMkhlyFJWF2QMRkKXA2hsds55HrS6RqsOs6cl5bxzRoxI2zRMh4OOhAz9ahg0u7tL5ja3scdlJJ5rw/Z8vnABAfdgKcD+HPXn0saVYvptiLVpVlVHYxkJtIUnIB5OTz14+lZyUFHTf8AryNYuo5a7a/8DqXK4/xJ/wAhQf7n/sxrsK4/xJ/yFB/uf+zGsjUyKKKKAPR6Kqb7z1h/75P+NHmXnrD/AN8n/GnYVy3RVTzLz1h/75P+NHmXnrD/AN8n/GiwXJrT/jzh/wCua/yrN1Pwto2s3QuNRsVlmxt3h2Qke+0jNWo/tccSopiwoAGVP+NO8y89Yf8Avk/4002ndMzqUqdWPLUimvNXMf8A4V/4Z/6Bp/8AAiX/AOKrR0nw9pWhtI2l2iwNIMM25mJHpliTU/mXnrD/AN8n/GjzLz1h/wC+T/jVOU2rNmNPB4anLmhTin3SSJrn/VD/AK6J/wChCpapP9rkUAmLqDwp7HPr7U7zLz1h/wC+T/jUWOot0VU8y89Yf++T/jR5l56w/wDfJ/xosFy3RVTzLz1h/wC+T/jR5l56w/8AfJ/xosFy3RVTzLz1h/75P+NHmXnrD/3yf8aLBct0VU8y89Yf++T/AI0eZeesP/fJ/wAaLBct0VU8y89Yf++T/jR5l56w/wDfJ/xosFy3RVTzLz1h/wC+T/jR5l56w/8AfJ/xosFy3RVTzLz1h/75P+NHmXnrD/3yf8aLBct0VU8y89Yf++T/AI0eZeesP/fJ/wAaLBct0VU8y89Yf++T/jR5l56w/wDfJ/xosFy3RVTzLz1h/wC+T/jR5l56w/8AfJ/xosFy3RVTzLz1h/75P+NHmXnrD/3yf8aLBct0VU8y89Yf++T/AI0eZeesP/fJ/wAaLBct0VU8y89Yf++T/jR5l56w/wDfJ/xosFy3RVTzLz1h/wC+T/jR5l56w/8AfJ/xosFy3RVTzLz1h/75P+NHmXnrD/3yf8aLBct0VU8y89Yf++T/AI0eZeesP/fJ/wAaLBct0VU8y89Yf++T/jR5l56w/wDfJ/xosFy3RVTzLz1h/wC+T/jR5l56w/8AfJ/xosFy3RVTzLz1h/75P+NHmXnrD/3yf8aLBct0VU8y89Yf++T/AI0eZeesP/fJ/wAaLBct0VU8y89Yf++T/jR5l56w/wDfJ/xosFy3RVTzLz1h/wC+T/jR5l56w/8AfJ/xosFy3RVTzLz1h/75P+NHmXnrD/3yf8aLBct0VU8y89Yf++T/AI0eZeesP/fJ/wAaLBct0VU8y89Yf++T/jR5l56w/wDfJ/xosFy3RVTzLz1h/wC+T/jR5l56w/8AfJ/xosFy3RVTzLz1h/75P+NHmXnrD/3yf8aLBct0VU8y89Yf++T/AI0eZeesP/fJ/wAaLBct0VU8y89Yf++T/jR5l56w/wDfJ/xosFy3RVTzLz1h/wC+T/jR5l56w/8AfJ/xosFy3RVTzLz1h/75P+NHmXnrD/3yf8aLBct0VU8y89Yf++T/AI0eZeesP/fJ/wAaLBct0VU8y89Yf++T/jR5l56w/wDfJ/xosFy3RVTzLz1h/wC+T/jR5l56w/8AfJ/xosFy3RVTzLz1h/75P+NHmXnrD/3yf8aLBct0VU8y89Yf++T/AI0eZeesP/fJ/wAaLBct0VU8y89Yf++T/jR5l56w/wDfJ/xosFy3RVTzLz1h/wC+T/jR5l56w/8AfJ/xosFy3RVTzLz1h/75P+NHmXnrD/3yf8aLBct0VU8y89Yf++T/AI0eZeesP/fJ/wAaLBct0VU8y89Yf++T/jR5l56w/wDfJ/xosFy3RVTzLz1h/wC+T/jR5l56w/8AfJ/xosFy3RVTzLz1h/75P+NHmXnrD/3yf8aLBct0VU8y89Yf++T/AI0eZeesP/fJ/wAaLBct0VU8y89Yf++T/jR5l56w/wDfJ/xosFy3RVTzLz1h/wC+T/jR5l56w/8AfJ/xosFy3RVTzLz1h/75P+NHmXnrD/3yf8aLBct0VU8y89Yf++T/AI0eZeesP/fJ/wAaLBct0VU8y89Yf++T/jR5l56w/wDfJ/xosFy3RVTzLz1h/wC+T/jR5l56w/8AfJ/xosFy3RVTzLz1h/75P+NHmXnrD/3yf8aLBct0VU8y89Yf++T/AI0eZeesP/fJ/wAaLBct0VU8y89Yf++T/jR5l56w/wDfJ/xosFy3RVTzLz1h/wC+T/jR5l56w/8AfJ/xosFy3RVTzLz1h/75P+NHmXnrD/3yf8aLBct0VU8y89Yf++T/AI0eZeesP/fJ/wAaLBct0VU8y89Yf++T/jR5l56w/wDfJ/xosFy3RVTzLz1h/wC+T/jR5l56w/8AfJ/xosFy3RVTzLz1h/75P+NHmXnrD/3yf8aLBct0VU8y89Yf++T/AI0eZeesP/fJ/wAaLBct0VU8y89Yf++T/jR5l56w/wDfJ/xosFy3RVTzLz1h/wC+T/jR5l56w/8AfJ/xosFy3RVTzLz1h/75P+NHmXnrD/3yf8aLBct0VU8y89Yf++T/AI0eZeesP/fJ/wAaLBct0VU8y89Yf++T/jR5l56w/wDfJ/xosFy3RVTzLz1h/wC+T/jR5l56w/8AfJ/xosFy3RVTzLz1h/75P+NHmXnrD/3yf8aLBct0VU8y89Yf++T/AI0eZeesP/fJ/wAaLBct0VU8y89Yf++T/jR5l56w/wDfJ/xosFy3RVTzLz1h/wC+T/jR5l56w/8AfJ/xosFy3RVTzLz1h/75P+NHmXnrD/3yf8aLBct0VU8y89Yf++T/AI0eZeesP/fJ/wAaLBct0VU8y89Yf++T/jR5l56w/wDfJ/xosFy3XH+JP+QoP9z/ANmNdLvu/WH/AL4P+Ncz4iz/AGku7GfLGcD3NAzJooopAegKzsoYKvIz97/61L8/91f++v8A61EX+pT/AHRWddeJdFsrp7a71O2hnQ4aNpACDjPT6Vai5OyREpRirydjR+f+6v8A31/9aj5/7q/99f8A1qisr+01K38+wuI7iLO3fGwYZ9KsUmmnZjTTV0M+f+6v/fX/ANak3PvC7V5BP3v/AK3vUlMP+vX/AHT/ADFIYfP6L+dHz+i/nT6KAGfP6L+dHz+i/nT6KAGfP6L+dHz+i/nT6KAGfP6L+dHz+i/nT6KAGfP6L+dHz+i/nT6KAGfP6L+dHz+i/nT6KAGfP6L+dHz+i/nT6KAGfP6L+dHz+i/nT6KAGfP6L+dHz+i/nT6KAGfP6L+dHz+i/nT6KAGfP6L+dHz+i/nT6KAGfP6L+dHz+i/nT6KAGfP6L+dHz+i/nT6KAGfP6L+dHz+i/nT6KAGfP6L+dHz+i/nT6KAGfP6L+dHz+i/nT6KAGfP6L+dHz+i/nT6KAGfP6L+dHz+i/nT6KAGfP6L+dHz+i/nT6KAGfP6L+dHz+i/nT6KAGfP6L+dHz+i/nT6KAGfP6L+dHz+i/nT6KAGfP6L+dHz+i/nT6KAGfP6L+dHz+i/nT6KAGfP6L+dHz+i/nT6KAGfP6L+dHz+i/nT6KAGfP6L+dHz+i/nT6KAGfP6L+dHz+i/nT6KAGfP6L+dHz+i/nT6KAGfP6L+dHz+i/nT6KAGfP6L+dHz+i/nT6KAGfP6L+dHz+i/nT6KAGfP6L+dHz+i/nT6KAGfP6L+dHz+i/nT6KAGfP6L+dHz+i/nT6KAGfP6L+dHz+i/nT6KAGfP6L+dHz+i/nT6KAGfP6L+dHz+i/nT6KAGfP6L+dHz+i/nT6KAGfP6L+dHz+i/nT6KAGfP6L+dHz+i/nT6KAGfP6L+dHz+i/nT6KAGfP6L+dHz+i/nT6KAGfP6L+dHz+i/nT6KAGfP6L+dHz+i/nT6KAGfP6L+dHz+i/nT6KAGfP6L+dHz+i/nT6KAGfP6L+dHz+i/nT6KAGfP6L+dHz+i/nT6KAGfP6L+dHz+i/nT6KAGfP6L+dHz+i/nT6KAGfP6L+dHz+i/nT6KAGfP6L+dHz+i/nT6KAGfP6L+dHz+i/nT6KAGfP6L+dHz+i/nT6KAGfP6L+dHz+i/nT6KAGfP6L+dHz+i/nT6KAGfP6L+dHz+i/nT6KAGfP6L+dHz+i/nT6KAGfP6L+dHz+i/nT6KAGfP6L+dHz+i/nT6KAGfP6L+dHz+i/nT6KAGfP6L+dHz+i/nT6KAGfP6L+dHz+i/nT6KAGfP6L+dHz+i/nT6KAGfP6L+dHz+i/nT6KAGfP6L+dIC5AO1f++v/AK1SU2P/AFa/QUAJ8/8AdX/vr/61Hz/3V/76/wDrU+igBnz/AN1f++v/AK1JuYMoZRgnHB/+tUlMf7yf739DQBzHjjxxbeCrK3kmtXu57lmEUSvsBC4yS2DjqO3euI/4X1/1Lf8A5Pf/AGuk+PXXQf8At4/9p15BX0WCwNCrQU5q7d+r7nzWOx2IpYiUISslboux7B/wvr/qW/8Aye/+10f8L6/6lv8A8nv/ALXXkUMMtzMkNvG8srnaiIpZmPoAOtXZNA1SEMZrKSNVjaUs4wCq43YPcjI46811vAYNaOP4v/M5FmGMaupfgv8AI9Q/4X1/1Lf/AJPf/a6P+F9f9S3/AOT3/wBrryO3t5bu6it7ZDJNM4SNB1ZicAfnWnq3hXW9Dt1n1XTpbeFm2CQ4ZQfQkE4P1pPAYNNJx1fm/wDMazDGyTalovJf5HpP/C+v+pb/APJ7/wC10f8AC+v+pb/8nv8A7XXklpaz315Fa2kbSzzOEjRerMTgCn39hcaZfSWl4EWaPAYJKsgHGfvKSP1p/wBn4S9uXX1f+ZP9o4y1+bT0X+R6x/wvr/qW/wDye/8AtdH/AAvr/qW//J7/AO114/U9pY3N80otImlMMTTSY/hRRlm/Cm8vwiV3H8X/AJgsyxbdlL8F/kes/wDC+v8AqW//ACe/+10f8L6/6lz/AMnv/tdeP0Uf2dhf5fxf+Yv7Txf8/wCC/wAj6j8I+KbbxdoK6laxPBiQxSROc7HABxnuMEc1n+I/+Qmv/XP+prD+B3/Ik3n/AGEH/wDRcdbniP8A5Ca/9c/6mvmcVTjTrShHZH1WFqSq0Yzlu0ZNFFFcx0noMX+pT/dFcpqREFpfXomuoJLfUWKPa+XuG5FU58xWXGD6eldXF/qU/wB0VQfRIGuJpknu4TM+91iuGVS2AM4zx0FbU5KL1MKsXJaFPSLSKx1fyrcSBTp8RYyABmIZsFsYG7Bq3f3d5p10LgQyXli67Xjgj3Swt2YAcsp6EdQeemcTWelw2VxJOkk8ssiBC80zPhQSQBnpyTV2iU05X3HGDUbbFPTTeyQtNqIETytuW3Ug+SvZSR1bue2eB0ybJ/16/wC6f5in0w/69f8AdP8AMVm3d3NErKxzfiQWC34lvZbF2WD5ba/G0NyeY3/hbscAn7vSopdYvBqkcMc/2XmEQ2s8iAyowXdkMC7HkjKngjnvXV4z1oouBx7+ILo3N2ba+LAQXLCJ/LLQsn3TtVcr/wACY59BVye9mtbhIb3XHtf3CSRO8cRNw5JyuNvzAYA2rhuetdJRRcDmLCS5tr5ZEunMVxqk8L25RduPnOc43ZyPXHtXUUUUDCiiikAUUUUAFFFFABRRRQAUUUUAFFFFABRRRQAUUUUAFFFFABRRRQAUUUUAFFFFABRRRQAUUUUAFFFFABRRRQAUUUUAFFFFABRRRQAUUUUAFFFFABRRRQAUUUUAFFFFABRRRQAUUUUAFFFFABRRRQAUUUUAFFFFABRRRQAUUUUAFFFFABRRRQAUUUUAFFFFABRRRQAUUUUAFFFFABRRRQAUUUUAFFFFABRRRQAUUUUAFFFFABRRRQAUUUUAFFFFABRRRQAUUUUAFFFFABRRRQAUUUUAFFFFABRRRQAUUUUAFFFFABRRRQAUUUUAFFFFABRRRQAUUUUAFFFFABTY/wDVr9BTqan+rX6CgDkL8Sf8JJqDXqqdGWSH7UAeSdnBcf8APMHGfrzwDmldXGmQpLHdLF/wk0t1ILd8Dzg3mHyQD94IU29PlxuB7131MkijmXbKiuuQcMMjIOR+ordVbW0/r+v07GMqd+ph6NqVimqanZPe263bXzlbcyqJD8inhc5rcf7yf739DT6Y/wB5P97+hrKTTNEmr+rPIPj110H/ALeP/adeQV6/8euug/8Abx/7TryCvrcu/wB1j8/zZ8fmf+9z+X5I19B8ySPULezyL6e22QAHDP8AMC6L/tFQfqMjnODagXUrDw7ex30YsbcpsjL2caSzuWXKByu8jGSecDAHcA89TnkeQgyOzkDALHPFdTp3ZyRqWRp+Ff8AkcNG/wCv6H/0YK9Fig0GZ9UWyS5aC41qKLWBdyriJBKSGUKB8jPlSScgfnXktFZ1qHtGne1v80/0LpV/ZxcbXv8A5Nfqex7I7XXtId9ImtrgassMM1zplvbKI8HKIFYl1HBD4OP73Nc1a3cB8PRXV5BYx/btda1u7gWcSlbfYm5V+XCDqcjBzz3NcEzs+N7FtowMnOB6UlZwwtt2bSxl72Vvn6nrmu2Nosgjl8PzSrFqcKWgls7ezidd3MaSB8yqy9znsTip2t5LJrnU2tYocadfiO1vNMS2mAVVIV0U7ZIx0Bx3I7146zswUMxIUYUE9BQzs5y7FjjGSc8VH1N8tub8PL1K+uR5ubl7dezv2Ok8Uut7oug6pJDBHd3cEonaCJYxIUlKglVAGccdK5qiiu2EORW9fz/Q4qk+eXN6fl+p7v8AA7/kSbz/ALCD/wDouOtzxH/yE1/65/1NYfwO/wCRJvP+wg//AKLjrc8R/wDITX/rn/U18fjv95n6n2eA/wB2h6GTRRRXGdp36iVVCgqQBjOKXMv+x+VRXl7DYQCW4LYZgqKqlmdj0VQOSaqxayDOkV7Y3VgZW2xNcBCrnsMozAE9g2M1ooyaujNyinZl/Mv+x+VGZf8AY/Kn0VBYzMv+x+VNIlLBsrkDHSpaKAI/3vqv5UfvfVfyqSigCP8Ae+q/lR+99V/KpKaHViQrAkHBAPSgBv731X8qP3vqv5VJRQBH+99V/Kj976r+VSUUAR/vfVfyo/e+q/lUlFAEf731X8qP3vqv5VJRQBH+99V/Kj976r+VSUUAR/vfVfyo/e+q/lUlFAEf731X8qP3vqv5VJRQBH+99V/Kj976r+VSUUAR/vfVfyo/e+q/lUlFAEf731X8qP3vqv5VJRQBH+99V/Kj976r+VSUUAR/vfVfyo/e+q/lUlFAEf731X8qP3vqv5VJRQBH+99V/Kj976r+VSUUAR/vfVfyo/e+q/lUlFAEf731X8qP3vqv5VJRQBH+99V/Kj976r+VSUUAR/vfVfyo/e+q/lUlFAEf731X8qP3vqv5VJRQBH+99V/Kj976r+VSUUAR/vfVfyo/e+q/lUlFAEf731X8qP3vqv5VJRQBH+99V/Kj976r+VSUUAR/vfVfyo/e+q/lUlFAEf731X8qP3vqv5VJRQBH+99V/Kj976r+VSUUAR/vfVfyo/e+q/lUlFAEf731X8qP3vqv5VJRQBH+99V/Kj976r+VSUUAR/vfVfyo/e+q/lUlFAEf731X8qP3vqv5VJRQBH+99V/Kj976r+VSUUAR/vfVfyo/e+q/lUlFAEf731X8qP3vqv5VJRQBH+99V/Kj976r+VSUUAR/vfVfyo/e+q/lUlFAEf731X8qP3vqv5VJRQBH+99V/Kj976r+VSUUAR/vfVfyo/e+q/lUlFAEf731X8qP3vqv5VJRQBH+99V/Kj976r+VSUUAR/vfVfyo/e+q/lUlFAEf731X8qP3vqv5VJRQBH+99V/Kj976r+VSUUAR/vfVfyo/e+q/lUlFAEf731X8qP3vqv5VJRQBH+99V/Kj976r+VSUUAR/vfVfyo/e+q/lUlFAEf731X8qP3vqv5VJRQBH+99V/Kj976r+VSUUAR/vfVfyo/e+q/lUlFAEf731X8qP3vqv5VJRQBH+99V/Kj976r+VSUUAR/vfVfyo/e+q/lUlFAEf731X8qP3vqv5VJRQBH+99V/Kj976r+VSUUAR/vfVfyo/e+q/lUlFAEf731X8qP3vqv5VJRQBH+99V/Kj976r+VSUUAR/vfVfyo/e+q/lUlFAEf731X8qP3vqv5VJRQBH+99V/Kj976r+VSUUAR/vfVfyo/e+q/lUlFAEf731X8qP3vqv5VJRQBH+99V/KgeaB/B+VSUUAMzL/sflRmX/AGPyp9FADMy/7H5UYcsC5XAOeBT6KAOU8d+B4fGljbI1y1tPasxjkC7hhsZBHHoK4T/hRNx/0HU/8BP/ALOvZqK66WNr0o8kJafI46uCw9aXPON38zxn/hRNx/0HU/8AAT/7Oj/hRNx/0HU/8BP/ALOvZqK1/tLFfzfgv8jL+zMJ/L+L/wAzxn/hRNx/0HU/8BP/ALOj/hRNx/0HU/8AAT/7OvZqKP7SxX834L/IP7Mwn8v4v/M8Z/4UTcf9B1P/AAE/+zo/4UTcf9B1P/AT/wCzr2aij+0sV/N+C/yD+zMJ/L+L/wAzxn/hRNx/0HU/8BP/ALOj/hRNx/0HU/8AAT/7OvZqKP7SxX834L/IP7Mwn8v4v/M8Z/4UTcf9B1P/AAE/+zo/4UTP/wBB1P8AwF/+zr2aij+0sV/N+C/yD+zMJ/L+L/zMDwd4Wg8I6AunQStMzSGWWRhjcxwM47DAFVtft5ptRDRQyONmMqpPc11FVX++31rhnOU5OUt2d8IRhFRjsjjfsV1/z7Tf9+zRXYUVBZR1iCOfWLBLpnSCSKaJGSRoyJjsK4ZSCp2rIMgjqR3rHuNJ+zaRfvNPcyTlTBbK91dsDMeEwsrsG+baQwHGM54rrbi2hu7doLqJZYn+8jjINVbbRrK1uFnRJZJVzseeeSYp/u72O38MV0wq8qtc5p0eaTdkXjnHBA+opBu/iIP0FOornOgr3slxFaSPaRpLKBwrvtH54P8AKoNNu7h9EhutURIJPJDy4bIHy5JPAx347Vfop30sLqmcPp+oajZS3d62nXEUup28k8XnMrLJKoLRqFViQfLwCCAf3frT11Mpc3lxY6z/AGgq20Ae72xt5AaUhz8ihflUlsEHHfIrtaStvaq97GfI7bmD4clW4udUaHUPt8fnIEuhsO/92vdQFODxwO3rmuXuomtfCbq0vnma11CRpJIo9+dwHBVQeep9fwGPRqWiNXlle39WFKnzRtfucXLfXenzaz/xMpR/xMkVjI8Q+ywtEpDDK4UFvly2Rx65JuaXf399fafE2o7oWjnlMkPlv54SRAuW246MQduPbFdRSUvaK239Wt/wR8jvv/V7/wDAFooorE1CiiigAooooAKKKKACiiigAooooAKKKKACiiigAooooAKKKKACiiigAooooAKKKKACiiigAooooAKKKKACiiigAooooAKKKKACiiigAooooAKKKKACiiigAooooAKKKKACiiigAooooAKKKKACiiigAooooAKKKKACiiigAooooAKKKKACiiigAooooAKKKKACiiigAooooAKKKKACiiigAooooAKKKKACiiigAooooAKKKKACiiigAooooAKKKKACiiigAooooAKKKKACiiigAooooAKKKKACiiigAooooAKKKKACiiigAooooAKKKKACiiigAooooAKKKKACiiigAooooAKKKKACiiigAooooAKKKKACiiigAooooAKqv99vrVqqr/fb60ANooopDLlFFFMQUVFdXUFlaS3V3KkMEKF5JHOFRQMkk+lZs/inRba1vbmfUI0hsSguHIOFLgFAOPmJDDAGeooA16KitriO7tYriAsY5UDoWQqcEZGQQCPoaloAKKq3+o2ul2ouL+UQxGRIwxBPzOwVRx6kgVaoAKKr3d9a2CRvezxwLLKsKGRsbnY4VR7k8CrFABRRRQAUVVXUbVtVfTVlBu0hE7RbTwhJAOenUGrVABRRUTXMCXEdu80azSgtHGXAZwOpA6nGR+dAEtFFVbjUbW1vrWznlCXF4WECbSd5Ubm56DA9aALVFFFABRRRQAUUUUAFFFFABRWfrep/2PpEt55TSlCqhQOAWIAJx0UZyT6Vn3F/cyzF4pNTgUgfIun7gPxIzWkacpK5nKpGLsb5OBzUX2qD/ntH/wB9CkmOYYwcncyA5GM8irdZmhV+1Qf89o/++hR9qg/57R/99CrVFAFX7VB/z2j/AO+hR9qg/wCe0f8A30KtUUAVftUH/PaP/voUfaoP+e0f/fQq1RQBV+1Qf89o/wDvoUfaoP8AntH/AN9CrVFAFX7VB/z2j/76FH2qD/ntH/30KtUUAVftUH/PaP8A76FH2qD/AJ7R/wDfQq1RQBV+1Qf89o/++hR9qg/57R/99CrVFAFX7VB/z2j/AO+hR9qg/wCe0f8A30KtUUAVftUH/PaP/voUfaoP+e0f/fQq1RQBV+1Qf89o/wDvoUfaoP8AntH/AN9CrVFAFX7VB/z2j/76FH2qD/ntH/30KtUUAVftUH/PaP8A76FH2qD/AJ7R/wDfQq1RQBV+1Qf89o/++hR9qg/57R/99CrVFAFX7VB/z2j/AO+hR9qg/wCe0f8A30KtUUAVftUH/PaP/voUfaoP+e0f/fQq1RQBV+1Qf89o/wDvoUfaoP8AntH/AN9CrVFAFX7VB/z2j/76FH2qD/ntH/30KtUUAVftUH/PaP8A76FH2qD/AJ7R/wDfQq1RQBV+1Qf89o/++hR9qg/57R/99CrVFAFX7VB/z2j/AO+hR9qg/wCe0f8A30KtUUAVftUH/PaP/voUfaoP+e0f/fQq1RQBV+1Qf89o/wDvoUfaoP8AntH/AN9CrVFAFX7VB/z2j/76FH2qD/ntH/30KtUUAVftUH/PaP8A76FH2qD/AJ7R/wDfQq1RQBV+1Qf89o/++hR9qg/57R/99CrVFAFX7VB/z2j/AO+hR9qg/wCe0f8A30KtUUAVftUH/PaP/voUfaoP+e0f/fQq1RQBV+1Qf89o/wDvoUfaoP8AntH/AN9CrVFAFX7VB/z2j/76FH2qD/ntH/30KtUUAVftUH/PaP8A76FH2qD/AJ7R/wDfQq1RQBV+1Qf89o/++hR9qg/57R/99CrVFAFX7VB/z2j/AO+hR9qg/wCe0f8A30KtUUAVftUH/PaP/voUfaoP+e0f/fQq1RQBV+1Qf89o/wDvoUfaoP8AntH/AN9CrVFAFX7VB/z2j/76FH2qD/ntH/30KtUUAVftUH/PaP8A76FH2qD/AJ7R/wDfQq1RQBV+1Qf89o/++hR9qg/57R/99CrVFAFX7VB/z2j/AO+hR9qg/wCe0f8A30KtUUAVftUH/PaP/voUfaoP+e0f/fQq1RQBV+1Qf89o/wDvoUfaoP8AntH/AN9CrVFAFX7VB/z2j/76FH2qD/ntH/30KtUUAVftUH/PaP8A76FH2qD/AJ7R/wDfQq1RQBV+1Qf89o/++hR9qg/57R/99CrVFAFX7VB/z2j/AO+hR9qg/wCe0f8A30KtUUAVftUH/PaP/voUfaoP+e0f/fQq1RQBV+1Qf89o/wDvoUfaoP8AntH/AN9CrVFAFX7VB/z2j/76FH2qD/ntH/30KtUUAVftUH/PaP8A76FH2qD/AJ7R/wDfQq1RQBV+1Qf89o/++hR9qg/57R/99CrVFAFX7VB/z2j/AO+hR9qg/wCe0f8A30KtUUAVftUH/PaP/voUfaoP+e0f/fQq1RQBV+1Qf89o/wDvoUfaoP8AntH/AN9CrVFAFX7VB/z2j/76FH2qD/ntH/30KtUUAVftUH/PaP8A76FH2qD/AJ7R/wDfQq1RQBV+1Qf89o/++hR9qg/57R/99CrVFAFX7VB/z2j/AO+hR9qg/wCe0f8A30KtUUAVftUH/PaP/voUfaoP+e0f/fQq1RQBV+1Qf89o/wDvoUfaoP8AntH/AN9CrVFAFX7VB/z2j/76FH2qD/ntH/30KtUUAVftUH/PaP8A76FH2qD/AJ7R/wDfQq1RQBV+1Qf89o/++hR9qg/57R/99CrVFAFX7VB/z2j/AO+hR9qg/wCe0f8A30KtUUAVftUH/PaP/voUfaoP+e0f/fQq1RQBErBhlTkHuKrP99vrUsfE86jgBxgf8BBqJ/vt9aGA2iiikMuV5domqwya6W1jXdUj8Srqc6NpUEzuphUtsXyPuiMoFbzMDk/e5xXqNJR1uLpY8AuvEVxe2c5tr+Z4NS0bUmureXVpLyRWWIMoljKqkEgzjYg4FamriXU9C1S3vLu8aG11bR1gRLqRBGGWAMAFIx94n2PI5ANe10tNafh+Dv8A8AHqvv8AxSX6Hj+p6ldWd9qkZ1jUYvElrqcUGkab9skZZ7bKBT5ROJQylyzsCQc8jFLcnUP+EP1zWBrerLeDXWs4WW9fbBF9tRdqrnHTjJB4OOnFevUtC0tf+tvztr6g/wCvx/z/AAPJNZur/Q9V17TbLVdRNvDeaPJF515JI6edcbZFDsd21gvK5xyfWoLXxHPP4902WzvriNp9altLm1uNVkllEYEg2va7RHCuUBU8sRg5PNexVDc2sF7azW13Ek0EyFJY3GVdSMEEdxikrp3/AK6f5fiD1v8A13/zucl8TYzNoekxCR4i+uWKh4zhlzMOR71yuo3moaPda5pUeq6iujWusWS3NzJdSSTWtrLEGkxKSXVd235s/KCeR1r0TSPCHh3QLtrrRNFsrCdkMbSW8IRipIOMjtkD8q2aaSX33/L/AC/EN/u/z/zPHo/EUmm30F5BrN5L4TtdfSNNQluXlRoWtmDK0pJLxiYgBmJGe/FMvdcmu7e5uJtfa3sxr10qRXt/cWMc8QiUon2hBmIDO5VOA1ex9OlHXrSt/X3f5fiH9fn/AJ/geI3fiLVLrTme11DV7JX0zTygmui0iFr4oz7sAMWUY3Y+ZcZrS1y41LR9X13SrTVNV/sqK402W6mN1JLNbQSmTzmRzl1HyLnB4BJGK9dqpqenpqlg9rLPcwBiCJLWdopFIOQQyn9Oh7g03t87/jew+/8AXSxx3gK9Fx4r8TW9pqV9fabb/ZfsZu5nk2qY2J2M/LAn+I9fU8Gk8VQWkPxW8KXt9cT26PFcQo4uZI42lyhRMAhct83H8WOc4GNlPAWgyW1xFqlr/a7XMyzzy6iRM0jqu1T0wMLkAAAcn1rV0jQ9L0C0a10Swt7CB3MjR28YRS2AM4HfAH5UdU+3+QujR5Xb3r2nw/03UtS1XVJp9UvnglnudZktbeJVklKh5QGMa/LjKgMTgZxVax8Qau+m2sf9qXRWG61iFWW6kfckcJMeXbDPtPRm56Gva+vWlqXH3Wu//A/r5jvqn2/4P+f4HmvhZryz8T+Fw2q6hdLq2gvcXaXV00qvInk4cKxwp+dvu4z3rv8AU7OW+sHht7uWymyGjni6owORkdGHHKngjIq3RVt3/rzISsv67HPRJ4g1SaCHUY10uC3ZWuJLabcbxgcgRnqkZ4Jzhj93p8x6GiikUFFFFABRRRQA10WWNo5FV0YEMrDIIPYiqdxpFtczGR3u0OANsV5NGox6KrAD8qvUU1JrYTinuiCcYSMDtInU5/iFW6q3HSP/AK6J/wChCrVJjCiiikMKKKKACiiigAooooAKKKKACiiigAooooAKKKKACiiigAooooAKKKKACiiigAooooAKKKKACiiigAooooAKKKKACiiigAooooAKKKKACiiigAooooAKKKKACiiigAooooAKKKKACiiigAooooAKKKKAOR+IXiLWvDWjw3mjWtq8XnRpcTzucoGdVAVB1J3dcjGO9VvGepeKNEkhfSdT0+R7+7S2srGSwYuzN1zIJOgAZidvQVu+LfDv/CU+H30v7V9l3yxSeb5e/Gxw+MZHXGOtJN4e+0eModfu7nzltLZobS18vAhZj88m7PJIAHQYFC0Sv3/Cy/4YTvd+n46/8OZmvazrU3i6z8MeH7i1s7h7Jr25u7iAy7UDBFVUyOS3XJ4FYdn471vXYtH0nT/sdlrF5cXUF3ctEZIoRb/eZEyMlsrgE8Vry+HNa1h9M8QLfx6Jr8Vu8MwFsJo2idshGUt1HByG65qNfhx9i0/STpGryW+raZNLML+WASCdpf8AWh0yOG9jxihef9a6fLuN+X9af57GavjzW3sRpSJZ/wBvf20dINxsbycBdxm2Zz93+HPWt/wnrupXOt61oGuSQXF7pLxEXUERjWaORNykrk4YYOcHFUv+FcAaGIl1eUayNR/tT+0/JB/0joT5ecbNvG3P41seGvDMmi3WpahqF/8A2hqepyK9xcCERLtQbURUycAD3Oaa8/62/W4n5f1q/wBLFfS/FU0srR6hYXCxHUZrJLxFQRArKyICN2/JwBnbjJpNO8S3M+qabZra3F1BdRXUj3TJGhUxyqn3Q/QZ5wCTlcfxYuxeHfL0/wCy/as/8TM3+7y/Wcy7MZ98Z/HHaorPw1NYS6dJbX6h7P7Qj74MiSOaQOQPm+VgVXB5HXjnhLZf10/zG/jfb/gv9LFrRtfXWgskFheQ20sfmQXEoTZKue21iVPOcMAfbg41q57R/DMuna4+pT3NqztE0bfZLIW5nJIO+YhiHcbeCAuMt64HQ0dA6hRRRQAUUUUAFFFFABRRRQAUUUUAFFFFABRRRQAUUUUAFFFFABRRRQAUUUUAFFFFABRRRQAUUUUAFFFFABRRRQAUUUUAFFFFABRRRQAUUUUAFFFFABRRRQAUUUUAFFFFABRRRQAUUUUAFFFFABRRRQAUUUUAVU/4+rj/AHx/6CKjf77fWpE/4+rj/fH/AKCKjf77fWmxDaKKKQy2TjrTfNT++v51FdSeXayMOoU/yqUW3HzSyE9+aYhPNT++v50ecn99fzpfso/56Sf99Uv2Uf8APST/AL6oAb5yf31/Ojzk/vr+dO+zD/npJ/31R9mH/PST/vqjQBvnJ/fX86POT++v5077MP8AnpJ/31R9mH/PST/vqjQBvnJ/fX86POT++v5077MP+ekn/fVH2Yf89JP++qNAGmaMD76/gaXy5WG/O1uydse/vTkt1R9xZmI6bjnFS0XAriZO7BSOoJwRR5yf31/OpJIFkYNllb1U4zTfsw/56Sf99UaAN85P76/nR5yf31/OnfZh/wA9JP8Avqj7MP8AnpJ/31RoA3zk/vr+dHnJ/fX86d9mH/PST/vqj7MP+ekn/fVGgDfOT++v50ecn99fzp32Yf8APST/AL6o+zD/AJ6Sf99UaAN85P76/nR5yf31/OnfZh/z0k/76o+zD/npJ/31RoA3zk/vr+dHnJ/fX86d9mH/AD0k/wC+qPsw/wCekn/fVGgDfOT++v50okVvusD9DS/Zh/z0k/76pPsi5z5kmf8Aeo0AXNGaT7KP+ekn/fVH2Uf89JP++qAI7g8R/wDXRP8A0IVazUDWaNjc8hwQR81O+z/9NZP++qAJc0ZqL7P/ANNZP++qPs//AE1k/wC+qQyXNGai+z/9NZP++qPs/wD01k/76oAmzRWJ4j1WTw9psV7GpnDXMMBR2x/rJFTOcdt2fwrm7Xx7q1zaWMv9n6bA11p51P8Af3zRosI2jbvKY35Y57AY5OadhXO/orkdK8Z3Wp+IvsqacosWupbQShm3o0ak7jldpBxgAMSMg9+OupdLjCiiigAooooAKKKKACiiigAooooAKKKKACiiigAooooAKKKKACiiigAooooAKKKKACiiigAooooAKKKKACiiigAooooAKKKKACiiigAooooAKKKKACiiigAooooAKKKKACiiigAooooAKKKKACiiigAooooAKKKKACiiigAooooAKKKKACiiigAooooAKKKKACiiigAooooAKKKKACiiigAooooAKKKKACiiigAooooAKKKKACiiigAooooAKKKKACiiigAooooAKKKKACiiigAooooAKKKKACiiigAooooAKKKKACiiigAooooAqp/x9XH++P8A0EVG/wB9vrUif8fVx/vj/wBBFRv99vrTYhtFFFIYzUG/0WT6Vp1lagf9Gf6Va1a9Om6NeXyxmU20DyhB/FtUnH6U2It0Vwem3PiOHTrLV73xNa3MeoWbzNZywxxCNjHvXyCBubHcMTkc1m6X481jUB4JhktdQtm1GULe3NxbRrFdD7O7fKQTjLAHgDgfhSGenUV5j4X+Icur/EK8spNXtbixvPPSxtIzH5ls0JAy2Pm+cbmGfSqmhfEHXJrfw9Y6zMkeoX9+pWRI1xeWp39BjAZSoDY9j3pges0V5rY+J9XMWma/qGutFa6lfG3XThppkgjXzCiqZUUssmccs20nIxTvBGta/rOuTyahf6zLbpf3cIQWVsLPZHI6qPMCiTIAHfrSA9IorzXxL4o8S2uqanbaHPE80Oq2dvbwTIoVkeLc6FtufmI69RVSTxvqev3k8WjarLp8b6jZWg2wRNJal0bzUIdSNwYd89OKYHqtFeX634l8RaVpuqaYNUlubyx1CzhS/trWLzpI5iMrsIMe8c9gORwKuanr+t+HPB0OvTXmpXJtrvE9nqdrBDNdRthQiiNcbgTlcdeQaQHolFcNca5q9v8ABi/8Q/2lHLqLafLewzRIhSElSyqoxhgvAywJOOawE8catpeg6xey6pdXtnHaRC0v9T04WZS6kbbs5RAyjIbO3j1NMD1iivJ18T61qnwzvdTsPFgOo6LNJb3FxZQ28kd2dw2vyjAAqwPy45zW14sh8R6L4Xt7u08X33nrPFE7taWp80SSquSPKwMBuMY980Ad9RXmmt3/AIjsfFkGiwa3rlxHHp4neXT7C0kkdzIw3OHTAGMD5QOlZt54x1638Y6hZW+sXsk8OqW9nZ6e2mobeZGijZw8wQbW+ZzjfnjpigD12ivJtR+IGuaWPEEV9MkUZ1FrfSbsIvylXQNCwIxnBJUnJPPcV6wpyoz6UgFooooAKKKKACiiigAooooAKKKKACiiigAooooAoavBDcwwR3MUc0fnq2yRQwyMkHB7ggEe4qJ9D0i6traC40qylitMfZ45LdGWHHTYCPl6DpU+qAmKEBip80cjHHB9aWKJ8f8AHxL+S/4U+ghI9I02PVH1KPT7Vb912tdCBRKw9C+M9vWrtQCF/wDn5l/Jf8Kd5L/8/Mv5L/hQMloqLyX/AOfmX8l/wo8l/wDn5l/Jf8KAJaKi8l/+fmX8l/wo8l/+fmX8l/woAloqLyX/AOfmX8l/wo8l/wDn5l/Jf8KAJaKi8l/+fmX8l/wo8l/+fmX8l/woAloqLyX/AOfmX8l/wo8l/wDn5l/Jf8KAJaKi8l/+fmX8l/wo8l/+fmX8l/woAloqLyX/AOfmX8l/wo8l/wDn5l/Jf8KAJaKi8l/+fmX8l/wo8l/+fmX8l/woAloqLyX/AOfmX8l/wo8l/wDn5l/Jf8KAJaKi8l/+fmX8l/wo8l/+fmX8l/woAloqLyX/AOfmX8l/wo8l/wDn5l/Jf8KAJaKi8l/+fmX8l/wo8l/+fmX8l/woAloqLyX/AOfmX8l/wo8l/wDn5l/Jf8KAJaKi8l/+fmX8l/wo8l/+fmX8l/woAloqLyX/AOfmX8l/wo8l/wDn5l/Jf8KAJaKi8l/+fmX8l/wo8l/+fmX8l/woAloqLyX/AOfmX8l/wo8l/wDn5l/Jf8KAJaKi8l/+fmX8l/wo8l/+fmX8l/woAloqLyX/AOfmX8l/wo8l/wDn5l/Jf8KAJaKi8l/+fmX8l/wo8l/+fmX8l/woAloqLyX/AOfmX8l/wo8l/wDn5l/Jf8KAJaKi8l/+fmX8l/wo8l/+fmX8l/woAloqLyX/AOfmX8l/wo8l/wDn5l/Jf8KAJaKi8l/+fmX8l/wo8l/+fmX8l/woAloqLyX/AOfmX8l/wo8l/wDn5l/Jf8KAJaKi8l/+fmX8l/wo8l/+fmX8l/woAloqLyX/AOfmX8l/wo8l/wDn5l/Jf8KAJaKi8l/+fmX8l/wo8l/+fmX8l/woAloqLyX/AOfmX8l/wo8l/wDn5l/Jf8KAJaKi8l/+fmX8l/wo8l/+fmX8l/woAloqLyX/AOfmX8l/wo8l/wDn5l/Jf8KAJaKi8l/+fmX8l/wo8l/+fmX8l/woAloqLyX/AOfmX8l/wo8l/wDn5l/Jf8KAJaKi8l/+fmX8l/wo8l/+fmX8l/woAloqLyX/AOfmX8l/wo8l/wDn5l/Jf8KAJaKi8l/+fmX8l/wo8l/+fmX8l/woAloqLyX/AOfmX8l/wo8l/wDn5l/Jf8KAJaKi8l/+fmX8l/wo8l/+fmX8l/woAloqLyX/AOfmX8l/wo8l/wDn5l/Jf8KAJaKi8l/+fmX8l/wo8l/+fmX8l/woAloqLyX/AOfmX8l/wo8l/wDn5l/Jf8KAJaKi8l/+fmX8l/wo8l/+fmX8l/woAloqLyX/AOfmX8l/wo8l/wDn5l/Jf8KAJaKi8l/+fmX8l/wo8l/+fmX8l/woAloqLyX/AOfmX8l/wo8l/wDn5l/Jf8KAJaKi8l/+fmX8l/wo8l/+fmX8l/woAloqLyX/AOfmX8l/wo8l/wDn5l/Jf8KAJaKi8l/+fmX8l/wo8l/+fmX8l/woAloqLyX/AOfmX8l/wo8l/wDn5l/Jf8KAJaKi8l/+fmX8l/wo8l/+fmX8l/woAloqLyX/AOfmX8l/wo8l/wDn5l/Jf8KAJaKi8l/+fmX8l/wo8l/+fmX8l/woAloqLyX/AOfmX8l/wo8l/wDn5l/Jf8KAJaKi8l/+fmX8l/wo8l/+fmX8l/woAloqLyX/AOfmX8l/wo8l/wDn5l/Jf8KAJaKi8l/+fmX8l/wo8l/+fmX8l/woAloqLyX/AOfmX8l/wo8l/wDn5l/Jf8KAJaKi8l/+fmX8l/wo8l/+fmX8l/woAloqLyX/AOfmX8l/wo8l/wDn5l/Jf8KAIk/4+rj/AHx/6CKjf77fWpIhi4nBJPzDk9/lFRv99vrQxDaKKKQyC/8A+Pd/pWsyhlKsAQRggjrWTf8A/Hu/0rXpsRz2n+BPDml3T3Flp2x2Ro1DTSOsSt94RqzERg/7IFW28L6Q9nptqbQ+Tpf/AB5qJXBi+Qx9c5PysRznrnrWtRSGZKeFtGjs9OtUsVWHS3D2YDsDEwBXOc5PBIOSc55pq+E9ESDTIVsF2aTJ5tll2JhbnkHOT1PByK2KKAMCPwR4eh1r+1Y9P23QlM4HnSeUJD1cRbtgb/a25o07wToek6o2oafBdQztK8xX7fOYy7klj5ZcpyST0rfooAypfDWkzXz3ktpunkuI7ln8xxmSNdqNjOOB26HvVW+8D+HtRe7e4sCr3k6XE7wXEkLNKgwr5RgQQD2xnvW/RQBz7eBvDraG2kfYCto8yzvsuJFkeRSCHMgbeW4HJbtUtr4Q0a0Fpsgnl+xzNPB9pvJp9khXbu+dznjpnp2xW3RQBkjwvo40C70QWmNOvPM863818ESElgDnKg5PCkAdqs3ej2F+tmt3B5i2UqzQKXYBXUEAkA/NjPfNXaKAMm58MaPd/wBofaLPcNSVFuwJHUShPu8A8EeowTVvUdLs9VshaX8PmwB0kCbivzIwZTkEHggVbooAw9X8HaLrmorf6hDc/ali8kS299PbkpnOD5brnk96e3hHRHjuUayJF1cx3Up86TcZYwqo4bdkEBF6Y6e5rZooAx7nwnol5p9zZXVgstvdXP2uVGdjmXIO8HOQcgdMVsDgcUUUAFFFFABRRRQAUUUUAFFFFABRRRQAUUUUAFFFFAFDV3MdvCw6iUdfoarjUTFHvlMaLkDLHAyTgd/WmeLPM/sGXyDIsvOwxKGcHacEAkZP41xqSyRaFvdNX3R3iGBoxdOzgFNxK43hfvfK+R6E8VatYl3ud6L2T0X8qd9tk9F/KuOlS+nvLi9tWvlYXUX2ZXMiJ5bRpuzGcDGSc5HBz0OaraJq9tp19dtqt/cWsC2lt5japM6KJ2aXftMpxztH3fl44pqzJuzuvtsnov5UfbZPRfyrgtda61K8+26Lc3k9sYMwyWNxIYnIjnPGw7W+dYx+Q74pIYvEH2rVJHvLgzbJgIFtZlXG/wDdlJGkMZOzpsUHJ+bmhpILs7g6vGPMzNAPLcRv833GOMKeeCdy4HuPWpvtsnov5V57Gq2kF7PBFrSo2qwyW58u7aR0CQBy4xuZcK4+fjjAq1czalJ4rjmtjepbsxUxm3n2tGYCQ2ciNPnwNpXfnuAcUnZL+uw9e53H22T0X8qPtsnov5Vx+lXQ0WBbjXL6S1glsrZnk1G4IUTnfvAMh+U8DKjAHpUGu3txeXVldaLczS2+1HiltFlnjm+f5hmJggwB1fcDngcGqcUnYlSdrnb/AG2T0X8qPtsnov5V51cS6r/aEkNlNfrfvbXTTiUTNFxNEFMakhThC2NhB56g1sabHcxeGmF1d6hc5uVMbw20sUqrvXjbKzvtznJY9CccYpJJq43c7S3mMwbcACPSqg1/THtbq5iulmitH2TNCrSYbjgBQSx5HAzU1j/H+H9ay7nTJpBrfnWclxHc3EUkccVx5TyKqRg7WBG0gqcZIyR1AOazlo9DSOu5s2l1He2yzwrMqNnAmheJuPVXAI/Kq76gUIzsUE4G49T6UzQobqDSwl4syHzHMaXEvmyImflVnydxA75P1Nc94psUu7O1lkF2y291HI4tJJQ+3OCdsZy2PxI7VSt+RLb/ADOl+2yei/lTU1BpAShjYAkEjnkHBHX1rkpPtLa2PL/tHeZovs/+tEP2fYu/f/Duzv8AvfPnFUrayfTdC1K1tl1Jbj7a5dma6kAjadmVkIOW+VsnyzuPc5qrKxN3Y7WXWoYLqK1muLeO4nz5UTuA8mOu0Zyfwqf7bJ6L+VcRbX08GkaQNRj1CeaO8kLOthcMfLUyKrEYZhwVxuJJBzk9a2n1zTb5buz03U7W4vo4nzBBcK0qEcfdByCDx9aTsk32DW6Ru/bZPRfyo+2yei/lXIXVo1nY2SzyatJbujPO0E08k3nbV252ksF+9wMLnGRVG7/tjyX83+0P7U8uPy/J8zydnlDzM7fk3bt+M/NnbjtTaSbX9f1+gRbdjvftsnov5UfbZPRfyrz6K11G3t7tXl1cRs/3i88xCiXjHzbwCOMpzjB5AretGlbTNKM6ajE/n/dDFzjD480sA2zGPvANnbnnNCs1cV3c6uKcPCZHwoXOag03VLbVrfz7MXHl8Yaa2kh3AjII3qMj3FEKGSxmQKGLBgFLFc8dMjp9ax9H87RbSZp7S+t7MvDDb21xci4kVmO0kNvb5OVwM8YPA6VHVo06I3JL+3jv47JnY3EilgiRs20c8sQMKOCATjJ4FVv7f0sw3Msd2sqWriOUxKXw5xhQFB3EkgYGTnjrWXf6Xf8A/CUfbLNLk+cYAJo7gLFEiMfMWRNw3ZUnHytgn+HrViePULGbWby0sDeSzPEbaIOg3kIFJ+ZgBg88kZxxU3drj6mtZXsGoWq3FqxaNiR8yFGBBwQVIBBBBBBGahnvvJcg7FXdtBY9TnApmhxPDpaLLb3FvIWZpBcshd2JyzHYzLySTgHjpxWD4vsRe6eCy3TCC7ilZbaSRX2iVSxAjOWwMnHJ445q1uS2dD9tk9F/KmrqDPnZ5bYODjnB9K5JzOdViMH9pbzJB9lz5wi8jC+Z5mfl3/f+/wDNnbiqa2TadYatb2y6mJ2u9zOWupFETODuUg5Y4PIQhj3NPS+39af5/mTd2O0l1qGC6itZri3juJ8+VE7gPJjrtGcn8Kkl1LyIXlmaKONAWZ3OAo9Sc8VxdtfTwaRpA1GPUJ5o7yQs62Fwx8tTIqsRhmHBXG4kkHOT1q7rmradqOj6rpen6hbXWofZpU+yQTK8wIUgjYDnOfanZBd3Op+2yei/lTZNS8rb5rRJuYKu44yT0A561wF7HqkkRXT7jULfTPPOHnt7qabOxf4VdJdu7dyTjPbGKsyW96+rWi35v7i4jubdonSOVYTGEXezKuYw2/eeeQMdqFZv5oLu1/I7n7bJ6L+VH22T0X8q5L7JcQ6K00kmpO8tyftIWaVpBF5rfcUHK/Lj7gBI9TVKT+0Ps4z/AGrnY/8AZu3zc7/Mbb52O23y/wDW9s55zSVmF3a53X22T0X8qPtsnov5V5/b2urRTzyb9WDPG/Jkkk2kxucqjttyGC4HHoMZrT09pf8AhHroSjVFVZlEbqZTM4+XJUSjeoznIbPGcHGKFZiuztLeYzBtwAI9Kjs9TstQknSxuUnNu+yXyzkK2M4z0NJY/wAf4f1qrCj6ff6zf3KbbdtkisCPmVYwD346HrUS0ZpG7J9Q1mx0ySNL2VkLgt8sTuFUYBZioO1efvNge9Rz+IdMtbyS2uLny3iBLs0b+WpCbypfG3dt+bbnOOcVS1uW8u4bWG30i7ubS6TddGJoVcJwfKId1+9nkjOACOpyKM+lainieW/t7GR5PNM0cjXAW3KeRsCFNxxJu/j2528bsfLRr1GdHYalbanE72hk/dtsdZYXidTgHlXAI4IPSlnumjkKqBx61neHLKa0W9eW3uLaO4n8yOK6mE0w+RQdz7mzyDgbjgYHAwBR8ZTGDTiwedFN1bq5tywcqZUDAbPm5BI45prcl7G39tk9F/Kj7bJ6L+VcJJ9v+wrv/tby9s/2Hy/N8zfv/debjnpjHmcY+9zUAfUrpb4afJqDXga8SUlpfKABYRiMn5AwbaBt5xnNUrEu6/I7u61qGxRHvbi3tldgiGZwgZj0AyeT7VP9tk9F/KuLutQkm0vWZWg1F4ppFS2Q2UxYjylzhNu4DcG5wBn60l5cX0/iizuLU30cBeIeWba42vG3DE8hExnkOpbjPHGHpdIV3a52Q1ElWYNHtUkMc8DHXPNKl+0iK6eWysMqw5BHrXGWllbadZ6zBKNXDmd3zG92+5S2UKMpOTzztOeuaZPcXd1ZW0irqqy/Y1FqFinj/wBJHDeaMDj7vL/KRupKzX3Dbaf3ncfbZPRfyp0d27SKrKuCccVyenwXqalHcSteEvdXMciySOYxFuYodpO0dBg46cZxWxovMI5uz/pEn/H2MP8A6xun+z/d/wBnFOyaC7uasup2UGowWEtzGt3Pkxw5yxGCc47DCtyfQ1Lc3MVnbSXFw+yKMZZsE/oOSfYVT1K1muNS0mWFNyW9y0kpyBtUwyLn35YDj1qtq/ma1pWo2lgJEntZ4wrEKN7Lsl+UnjvjnuDnisnsa9SceItKMcDNdiMzy+THHKjRyF8gY2MAw5Zeo7j1qYatatqjaevntcLwxW2kManbuwZAuwHHYnuPWsG20W8XSpiIJ1kudVguzFcTK8iqrRbizBiucRlsA4wQB6VbawuU8WC5tLW6hWSUPcXH2zdBKnlbceUW4fIXovRc7uSKf9fgv1F3Nq4mMIXaASfWqsWpefEskLRSRsMqyHIP45qW+/g/H+lef29le2Om2gjGpLFLBm7RHlLKBKmdi9UO0vwmCRnGSBVLdIhtnffbZPRfyo+2yei/lXA30up2+lztbjVGjlsruK0ASZ5Q5YeUW4LKcZwzYI7nNWbg6oNYvfsAvXuWik8nzfMWGM+X8nXMTAtjkbXGeQRmq0tcWt/6/qx2T6l5bosjRK0h2oGOCxwTgc88An8Kf9tk9F/KvP8AT9NvrprFb26vrmH7YWY+Rc2zRfuJAfmeRnwSVGQQueB1NWbP+0fPtPtP9pG8DQCLPmeT5WB5nmfwbvv/AHvm+7iiyvYV3a519rrcF8rtY3FtcrG5jcwuHCsOqnB4PI4qWPUvOUmJonCsVJU5wQcEdeoNcdLeSTnV1todRjD3kTuy2k8bNCFiWTY20EnAb7p3ccVQ8q6t9Li+zR6sE+0XTxRATq8hMmY9zDLKccjzFKnJ3UlZlO56H9tk/ur+VWXnjitWuJnEcSIXdmOAoAySawVP/E55+1g/ZhwR+5+96/3/AOlXdY0+91LS4YLC7gtmDo7+fbtMkijnaQHQ4zg9e2OhpS20HF3eo2TxPpkdrb3JN28FzEkscsdjO6FW+7kqhCn2ODVmy1mx1C5kgtZWaSME/NE6BwDglSwAcZ4yuR09aytM0zU10fQtP1IRt9mRZLp41CLlAPLTG5jndg5Bwdh6ZAqbSTez6zcXGo6Vc2hCtFbs7wmNIw3QbXLbm4Y5AHAHbJXX7ymatxcNEwVQDxnmovtsnov5VR8TiY6PfC18zzzaSeX5Wd+7acbcc5z0xXC/ZddhtrmOGfUI4TckSSTi4uGEQmnA2BXDngQ/cYHGDz3qysS77nosup+QgeZoo1LBQznAySAB16kkAe5oXUS7uiGNmQ4cA5KnGeeeOK4C5tb+SOyivX1G8lWWze3dIZkjKicM5kXJAIUD/WEnAB65q8bp1h1q3s01UkyBo2liueFwocozDJAO47UIJwdvrT0t95Ku0dp9tk9F/Kj7bJ6L+Vef2sGq3Fl5c02pMIbe7aORBPAWcMhi4Zi54JwGJzz9B0kWuaVcStYf2nbSXyofNtopwZlIHzfIp3Aj2GaLK1wuzZj1HzVLRNG4DFSVOcEHBHXqDxT/ALbJ6L+VcTYmW+t7KzT+10hW/nEzTC5icxESlMyPhiPud+OBT7P7Z9psv7ROq+aIYRAYd+0nJ8zzf4c4xnf2+781Glwuzs/tsnov5UfbZPRfyrz6aHUp41jiOrCRkP2875kHm548o5GF+99z5cbc1BNb699ntolvL61iG4iRre4uZPMKoRnbIpxkvjflOoI4FKNpA20z0j7bJ/dX8qkvNRtNOsTeX86W8CjJdzgfT3PtWMmRrGGa6J+zDPH7j73/AKH/AErV1CGS50C6ghXdJLauiLnGSVIAqamkboqnrKzLcciyxLJGco4DKfUGqk2sWFvdTW01yqTW8H2iVSD8kecbifw6daImubW20+FLUy5CxzsJAPJAQ/N/tcgDA9c9q5+Lw1qn9sXbald215ZXUEwkMFqYpSzMu0bjKRkBQAcAYUUpaSsttRpvlv10NtvEGmppM2pSztDawHEpmheNkPHBRgGB5GBjJyPWtFm2oW9BmuFvPC+v3mj3skV8BNcGWX7NqECzSOxhWNMtG6IrYU9AVG7PJGa7UCRbECdleUR4dkXapOOSAScD2yfrTAg+2yf3V/Kj7bJ6L+VcRrttqMmtvNbNqIVR8ggmlWPhMj5VO0/N7c9KqJFr3n38k15dM24iaCO1nXEfnLzHIZCpbyt2PLUHnnkVWl7EXZ3v9rJgnzYMK4jJ3dH6bevXkce9S/bZPRfyrgo9tjZLLHHrI/4mfmRBYrp2aLcm4yKASRtz9/3xRqUuqnxBNJaG/VHWRBGsFwVK/Z2KsGz5a/OAMBd+e/OKNOW9v6smCu3b+tzvftsnov5UxdS3TPErRGRACyA8qDnBIzxnB/KuYtLuDQnmk1i/NrayRQssmoXJC+awfeqtIePuj5QcD0FVpo2vdZn1TTZZpY2Fl5E1rKxilXzWD/dO1wFPOc4zniqcUmSpN28zs/tsnov5UfbZPRfyrhV/tIQu0P8AaXnIivfeZ5pBkEqEiIHgjaJOI+CMDrim3099PC86rq2w3EzQxJHPGX4XYCV+ZO+NylOu4dKnQrU7z7bJ6L+VH22T0X8q4lDqcXiyW61C/ktrSIlzG9tL5XkiPq0vmeSMNkn5d2R6Vo3WswX1gL/w7eRambSUGSKymWTzAQRtO0+4b8Kdla4XZ0v22T0X8qgtdahvRIbK4t7jynMcnlOH2MOqnB4PtXG6hHqlrq+mpHPeuYfs6uyxzyrOC+JCSrBFwDk7wxx0xjNTz30j3OpG0h1BGW7t5SRZzJvjQxiTadvzcBuBkkZwDRZf1+YXZ2X22T0X8qPtsn91fyrzy+/tu7SJ4bq9s4HmuWRjZ3Ekm7zP3eVR0Kjb035T1HSuuTI1jDNdE/Zhnj9x97/0P+lCSaQNtG1c3sFnZm5un2RjHQFiSeAABySSQAByTTX1K2Sa2hZn825G6OMROWx3LDGVAyAS2ACQOtZ+vWEt9ptp5KTSiCZZXht5fKkkXaRhW3Lg/MD1HTrWOdH1lbqC6IvHneCOKNkugPs5WV2zN8w8wbHUHAbJU+xrPqaPb5HXXFxFaW0lxcOI4olLOx6ACs9vEemrZi4Mk+0uU8v7JL5oIGTmPbvGBg5I6EHuKknNvq9vqNg8UpSM+TIQQNxKBvlOeo3DrjmuXOgaqhF/KNQuXnll82ATwrOUaONAGYFUH+q52EYzwTzUtvWwzqU1zT5b9LOOcvK+NrLGxjJK7gvmY27tvzbc5xzir9cNpPhbUNPv7KCcTyQ288U4mWVRAoW3EbDbncXLL3BAHQg5B7mrJVwooopDCiiigAooooAKKKKACiiigAooooAKKKKACiiigCqn/H1cf74/9BFRv99vrUif8fVx/vj/ANBFRv8Afb602IbRRRSGQX//AB7v9K1fKX0/U1lX/wDx7v8AStWT7v4gfrVCDyl9P1NHlL6fqaiuZbeztpLi6kEUMY3O7NgAVStdb0+7uY4FNzDJKD5YubaWDzMDOFLqATgE4HOBnpSGaXlL6fqaPKX0/U0bF9/zNR28sF3axXNrKs0EyCSORHyrqRkEHuCKQEnlL6fqaPKX0/U0bF9/zNGxff8AM0AHlL6fqaPKX0/U0bF9/wAzRsX3/M0AHlL6fqaPKX0/U0bF9/zNGxff8zQAeUvp+po8pfT9TRsX3/M0bF9/zNAB5S+n6mjyl9P1NGxff8zRsX3/ADNAB5S+n6mjyl9P1NGxff8AM0bF9/zNAB5S+n6mjyl9P1NGxff8zRsX3/M0AHlL6fqaPKX0/U0bF9/zNGxff8zQAeUvp+po8pfT9TRsX3/M0bF9/wAzQAeUvp+po8pfT9TRsX3/ADNGxff8zQAeUvp+po8pfT9TRsX3/M0bF9/zNAB5S+n6mjyl9P1NGxff8zRsX3/M0AHlL6fqaPKX0/U0bF9/zNGxff8AM0AHlL6fqaPKX0/U0bF9/wAzSEbWTGeTg8+xpgUdWjjFvFuyB5oyc+xqOJLXH+sb8v8A61M8T3Is9Ga4YAiJt+GbaDhT37VyS+I9SurGGSxsIY5lvltpo7iSSMcgEY3RBsEMOSo9sjmqj2/rsRLQ7YJa/wDPRvy/+tUNppuk2CutjDHbLI29xDEEDN6nA5NZMuoXNvrMcVzEiW32SSYtHNuJZSmQVKDpu4Ib1yOmKv8AwkV4rRRSabEtxcGMwp9qJUq4bBZtnBBTkAEc8E09BdLnUbLX/no35f8A1qkW1hdcq7EfWsK01G4u7O2mSy+aSZop1EoxDtLKzAkDcNy4HAPOcCtdmRdJuTNcNaxhW3TqQDEMfeBIIGOvIpO6Q42bJ/sUfq350fYo/VvzrjZtRvNL0rUbGX7esjXPlCS1+0X5tozErFhJtL5I6ZACs3cDJ6nRb+O50TTZHlbzLi3RlE4KSOQoydrYOe9SpN3+X4jslYs/Yo/Vvzo+xR+rfnXPSxak7a3bW91d3bR3EDBfNEchjIVnRGG0KSuQDkfUda0vC9xLc6GrzCUBZpkj86TzHCLIwUFsncQBjOTnHU9SKTY7Ing0PT7a4muLa2jhmnOZZI41VpD/ALRAyfxqx9ij9W/OoVvbmbUJrM6be28QU7b4tCY2P+yN5fPPdMcVz07Xo8C6tIup3gntJbsrOGXe4RnCgnHA4H3cdPTii72DlR1kUSxAhc89c0+uS1XW5F8Z6XZn+0oYIrgRny7OcxXDPE/Vwm0qvy9+u4nG3NberNFdWE1vFdBZQ6x7Y7owkycFY2dQWTdkcgZweKXS49jSqu9pEMsSyj61y8c15/wj+lzm+uo5ItSW3ljEm4P/AKTsKlyNzgAFQxI3DkjJ46u6/wCPZvw/nTX62/L/ADJe9v66/wCRX2Wv/PRvy/8ArUbLX/no35f/AFqrViJrF3Ha3JntozdreLbRwi4zHllUj59gIHzZOVJ69eBVkXOk2Wv/AD0b8v8A61SLawuuVdiPrXMaLqGoXWlrLcQCaY308MoSQARIszqCDgbgAoHTJ61uXU8tr4fv57YZmihkeMYz8wXI/WlJ8qbLiry5S59ij9W/OmPDbxth5GB/z7VieFZrr7dewTCcW/kQTxC4uWnfL79xLEnGdoO0EgZ7ZxWtdf8AHy34fyo1vZiurXQ/Za/89G/L/wCtRstf+ejfl/8AWrn9ZvtStNR0yLToLaVLmZkk86YoeI2bAwjf3c59sd8iK68RtbfaU+ybp7bzmlj83GI0TcGzj+Lcgx23Hrt5Yt3Y6qOaCJdqvx9DT/tUP9/9DXEXfi6ax/cT6aWvWZdkUBlmUoylgxKRFh90jGw845xzWza3091FZSrYyxx3Ee+TzTsaA4BCsp5zzj2xRyoFLQ6IEMoKnINLUVr/AMey/j/OsjxFf3sJSz054oJJbaedp5o2cKIwvyjDLhjvyDnjaeDWUnyps1iuZ2NyoXtY3YsdwJ64Nc1Ya9frBbyyGGW2Vo7ZotrGd38gSb927Hf7u3pzntWrod9eXsIkvprKTzoY7iNbYFWjV88MCTkccPxnn5Rjmtm7EJppFt4beNsPIwP+fam7LX/no35f/Wpl1/x8t+H8qydVu7m0+ymCNWikuI45X83ayhnCjA2MG688rx0NWlsS2bOy1/56N+X/ANajZa/89G/L/wCtXMT+JWtrufzrMfY4JngeZZsvuWHzc7NuMYGPvZz271nzeK7+wvp0vbENJIsAt7a3MkwG5ZGZiUiL9E7KQCB2yaP6+8Vzt9lr/wA9G/L/AOtQI7YnAkb/AD+FcyPEchutNtzp0scuoxh4llYoVxzIHBGVKjBHHJOOK2IpZnuZ0ktzHGhXy5N4PmZHPHUYPHNOwXNP7FH6t+dH2KP1b86p6te3kV1a2enPbwzXAkfzrmMuihAOMBl5OfXgAnmsxvEV/wD29aQRQwzWMrxwzSxAMqO8e8YkLgkYIxiMgg9R0GfM72NLK1zf+xR+rfnR9ij9W/Ose0iuYLHWYLC6YPDdERPePJcbR5UbEZLhu5x83GaoalBd6vN4cjd7JrSdPNlt7q1acMwjzkkyDPXjIODzk0cz/L8RWX5/gdZFEsQIXPPXNPrnIdcvjK8kn2VoJUuTBEiMHiMLbfnO7DA98BcHA560NqGuBLGLz9PFxexSTB/srlIwqqQuPMy3U85HbjjmXJWbfQpdEdHRWBa6ld3Go6dcTNCtrdaa9wIlVw0bDyictu2sPm/uZHryab4Z1u/1W4uotSgWPZFFPC6xhN8cm7BwJHOPl6naefujvVtbCvpc6Gq9xYwXWPPQPhgwBAIyDkHnuCAawtWv9Qs/EF1LaTx+Rb2UMskEyMwceZIDtwwCsQPvYPQcVDd+JNStrS5uwLSSMx3LW8IjbfGYW2/Od3zA98BcHA560kwlZOzOj+xR+rfnTI9Nt4VIiXYGYsQoAySck9OpNYN94g1Jb2/t7MWy/Zbvy9zRNKwjEEchPlh1ZvmkwSucDHynrV1b66OsRyGW3ktptPeeFY1cbSDH1O7DA7uDtBA+po5uv9bXHy9P6/rU1PsUfq350fYo/VvzrmrXxDq88dtG/wBiE19FbSwyiB9kIlDkhl35bHl4BBXJYcDHO5oN9PqOjpcXfl+d5ksbGJSFOyRkyAScfd9ap3VydNPvLP2KP1b86PsUfq351z8F9rFoviW5ubu2uI7J3MEX2dl2kQo4BO8/LzyMckk5HSna1q+taVp0RiFtd3jLJOUitsARoASPnmUcbhlt30U9p5rK7K5dbG99ij9W/OnJaxowYbiR0yaxLnU72C8e53QtC2ly3UMW1wUZdhwx37WBLddoI9eTVvRr+9ubmeHUDbuViinjaCNkwsm75SCxyRt68Zz0FPX+vVr9CdNP67f5mm80cbYdsH6U37VD/f8A0NVLr/j5b8P5Vi61q8ulLE0dqkqPuLyyymKOMDHVtpAJzxnA4OSOM1ZWFzO50v2qH+/+ho+1Q/3/ANDXKnXZgl3dGxzp9sJQ0yzAybowd2UxjGQQCGJzjjHNNfXL2KOSObT4herJCoiS5JQiQ4Vt5QEYwcjb24zRyoOZnUSyW8oAZzx0wDUYjticCRv8/hXLXPiaa11iDTm02aaUiP7Q1uk0ixFzjhhFtIHUlinHr0rbilme5nSS3McaFfLk3g+Zkc8dRg8c07dhXNP7FH6t+dH2KP1b86xPFEty11ZWcCzlJo5nPk3LW+HULtLOpBCjLEgZzjoa1dDuJrvw/p9xd/6+a2jeTjHzFQTx9ahSbv5F2RN9ij9W/Oj7FH6t+dWKKLsLIr/Yo/Vvzo+xR+rfnViii7CyK/2KP1b86sAYAA6Ciii4WsFFFFIZHLAkpBbII7io/sUfq351Yop3YrIr/Yo/Vvzo+xR+rfnViii7CyK/2KP1b86PsUfq351Yoouwsiv9ij9W/Oj7FH6t+dWKKLsLIr/Yo/Vvzo+xR+rfnViii7CyK/2KP1b86sAYAA6Ciii4WsFFFFIYUEAgg9DRRQBX+xR+rfnR9ij9W/OrFFO7FZFf7FH6t+dH2KP1b86sUUXYWRX+xR+rfnR9ij9W/OrFFF2FkV/sUfq350fYo/VvzqxRRdhZFf7FH6t+dH2KP1b86sUUXYWRX+xR+rfnR9ij9W/OrFFF2FkV/sUfq350fYo/VvzqxRRdhZABgADoKKKKQwooooAKKKKACiiigAooooAKKKKACiiigAooooAKKKKACiiigAooooAqp/x9XH++P/QRUb/fb61In/H1cf74/wDQRUb/AH2+tNiG0UUUhkF//wAe7/StWT7o/wB4fzrKv/8Aj3f6VqyfdH+8P51QjH8SMkR0q5usCzt79ZLlm+6q+W4Rm9hIYzntjPal8UFG0eOP/lvLdQLbH0l8xSp/DGT7A1sMoZSrAFSMEEdap/2Npy6ZJp0dlDFaSdYYkCKD6gDGDkA5HIPPWpGXa858AiUfDKyvZFunMWnNska+l2HahAHlhsDAGOMYxxXocMfkwRxF3k2KF3ucs2B1J9az9B0aPRvC1ho7COVbW1S3kIQBZSFAY49zk/jTuBjW95qL3sCwXQRH1Dy3WRWk+X7OG2j5hgZB/E59cyDxFqRgmuvs8fkeVM8atEV8soDjLbvmzjBAAxXQNYWbpte1gZd4kwYwRuHRvqMDn2pg0rT1nmmFjbCWdSsr+Su6QHqCcc596LoRXnvLuz0MXEzQSXDFACqFUXewAJG4nAzzzzjtVGXV9RiuBYl7M3H2tYDP5TBMNGXHyb85GOm7n2zW88McsLQyRq8TLtZGUFSPTHpVGbQNNmt4LYWkMdtDL5ogSJQjHaRyuMHrQBlJqWpXGpwRmeBY0W5SdUibbKYyo3Kd2V6++Dnr2ba63e/2alyn2cQW626yQuHaSQuqnKuW4+9xkMSR1roBp1kscMa2cASA5hURLiP/AHRjj8KadLsDPDObG282BQsUnlLujA6BTjj8KLoDJi1m/wDtKPL9mNvJdTWyxhCrAoHIYuWx/ByMd+tWtE1G6vPNi1Dy1uI1RzEsJTYGz33MGHBwwP4CtH7Jb8f6PF8rlx8g4Y5yfqcnn3NMtLCzsFZbG1htlc5YQxhMn3xQBYooopDCiiigAooooAKKKKACiiigAooooAKKKKACiiigAooooAKa/wB5P97+hp1Nf7yf739DQBm+ILZLzTRbSpvSV9rLnGRg96yoPC9qtnLbCGYpNKJXY3UhcuAAGDltwPyjoe1bupfcg/66j+RqSLpVJ2QmrmK/hmCW+hvJFujNCmxP9Nl27eMgrvwc4Gcg5xzmlt/C9palTFbNlHV1Lzs5XaCFAyxwo3HCjgZPFdAKWjmFyoxP7Di2wr9nOIJmnjAkPDndk9efvNweOa1YIdsDJKoIbOVPII9KmopN3VhpWK9pYWdha/ZrG0gtoMk+VDGEXnrwOKf9ltw0LCCPMAxEdg/djGML6cccVLRSGQy2VrMk6TW0Mi3AxMrxgiUYxhvXjjmo5dOt5ZLJtmwWT74UQAKp2MnT2VjVqigAqE2lsbeSA28RhlLGSPYNr7vvZHfOTn1qaigBrxRyMhdFYxtuQkZ2nBGR6HBI/GoJdOsp4p45rO3kjuSGnR4lIlOAMsMfNwAOfQVZooAhWztVt4rdbaEQwlTHGIxtTbyuB0GMcelPmQyQsq9TT6KAMF9Gv21MXQ1S8SHI/wBDVYPKPGMZMe/3+9UEfhK0ijuEEd0wuGDyeZfSudwxhgS5KsMDkYPArpaKrmJ5TBh8O29vaw28VuwjgmM6bpmY+YSSWJJycliec9a2baMxxEP1JzipaKTdxpWdyvZ2Fnp0bR6faQWqMxdlgjCAse5A7+9VNU0+4vI3S2uprRmxiaAIXXHs6sv6Vp0UJ2Bq5z7eHmnsYrfUJ7q8eJ963DSiKUHkZ3RbMcEjgDjrmoZvDUtx/ajzOnnX8H2ZZFjA8uMBtoPzfMQXY5yM+grpqKbdwSsc0nhK0S1EJhmJ3h/O+1SebuA25Em7cOMjAOMEjvV0aMgktpBCd1qpWI+YflBAB788DvWxRRzMnkRXe0Wewa2maRVdSrGKVo2GfRlIIPuCKqR+HdMSz+yz27X0Ik80DUJnuyrYxkGUsR+Hv61p0VJZVTTLCO8W7jsrZblI/LWZYlDqn90NjOPanWthZ2PmfYbSC281y8nkxhN7HucdT71YooAzdTsLi7jkS2uZbVnxiaEIXT6B1ZfzB61mSeFzd2cUGp3V9emJ96ym58hicgjPk7AcEDHHFdLRVcxPKYQ8P24z/o27MpmO6QtlynlknJ5+Xj/69Vl8H2KRsq28+WKnzDeSmRduQu19+5cBmHBHBI6V01FHMHKjBPh22Z0drbLxiMIxlOV2HK4OeOSc+vfNWYdKEV1NOke2S4KmRi+c4GBxnjj0rVoo5mHKiC8sLTUYBDqFrBdRBgwSeMOuR0OD3qOTStPmvkvZbC1e6QAJO0Kl1A6ANjIq3RUlGYnhrQoopo49F05I58ecq2iASYORuGOefWrNrplhYxRRWVjbW8cJJiSGFUCE9cADjPtVqigCsmm2MdzPcR2Vuk9wMTSrEoaUejHGT+NS/Z4S0bGGPMalUO0fID1A9BwKkooAoNoOkPeRXT6VZNcwhVimNsheML0CtjIxjjFRP4b0kwSRW9mLESMGdtPdrV3xnGXiKsRyeM961KKAKkGl2dvbiERGVdnllrh2md1ySAzuSzDJPUnrSrplglxcTpY2yzXI2zyCFQ0o9GOPm/GrVFAGd/wj2i/Yxaf2RYfZg/mCH7MmzdjG7bjGccZp8mh6TLqAv5dMs3vB0uGt0Mg4x97GenFXqKAM+/0Szv8ATXsvLjgjdEjykEbYRTlV2urKQOcAg4zxVWHwrp0MNrHG99Gtqu1FgvpoEPzFiWSNlQkknPy+3TitqigCq+mWEl1LcvZWzXE0flSSmJSzp/dJxkj26Ut5ptjqMaR6hZ290kbbkWeJXCn1AI4NWaKAM5/D+jSXQuZNIsHuAuwStbIXC4xjOM4xx9KvJBFExaOJEYqFJVQCQM4H0GT+dPooAzdTsLi7jkS2uZbVnxiaEIXT6B1ZfzB61mt4XFxbxx6lNdX0ke4CeSVYnKtjKHyggK8DgjBwM5rpKKrmJ5TA/wCEatPtLzm0yZAQyGQmPkbSQmdoJHBIGSM0W/hy3to9kcEjDzFk3SztIxZfu/MzE4HYZxW/RRzByow5tBiuL5LySFxMgAykzKGAORuUEBsEnG4HGanh0oRXU06R7ZLgqZGL5zgYHGeOPStWijmYcqK95YWeowiHULSC6iDBgk8YdQfXB71YAwMCiipKCiiigAooooAKKKKACiiigAooooAKKKKACiiigAooooAKKKKACiiigAooooAKKKKACiiigAooooAKKKKACiiigAooooAKKKKACiiigAooooAKKKKACiiigAooooAKKKKACiiigAooooAKKKKACiiigAooooAKKKKAKqf8fVx/vj/0EVG/32+tSJ/x9XH++P8A0EVG/wB9vrTYhtFFFIZBf/8AHu/0rQvbRL+zktpXmjWQDLwStG4wc8MpBHSs+/8A+Pd/pWvVXa1QrJqzOf8A+EOtP+gprn/g3n/+Ko/4Q60/6Cmuf+Def/4qugoq/bVO5n7Gn/Kc/wD8Idaf9BTXP/BvP/8AFUf8Idaf9BTXP/BvP/8AFV0FQXt3HYWM11MCUiUsQo5PsKPbVO4vY0/5TG/4Q60/6Cmuf+Def/4qj/hDrT/oKa5/4N5//iqsya1cwWLzXOmSQyq4VYmmTDAjOQ2cevFZ3/CTyXM8DwAxwSpAQu0FgzTtGwznGOOv40/a1O4exp/ylj/hDrT/AKCmuf8Ag3n/APiqP+EOtP8AoKa5/wCDef8A+KqDSvEGoTWKtPYST3dxLM0cCyIoWNH25znHcD1NWf8AhKY3SWWCzllghsxdySbgNqkMQMHkn5CKPbVO4exp/wAo3/hDrT/oKa5/4N5//iqP+EOtP+gprn/g3n/+KpzeIXaQQy28lpKJ4BtJV98cjEA8HjofcYqfTNfXUNSls2t2hdUMiHzFYOucZ46dRxR7ap3D2NP+Urf8Idaf9BTXP/BvP/8AFUf8Idaf9BTXP/BvP/8AFU/VNdudN1aZFtGubaGzFxJsYKUG5gTz14HSpW8QKLvaLSQ2gmWBrrcMLI2MDb16sBn3o9tU7h7Gn/KV/wDhDrT/AKCmuf8Ag3n/APiqP+EOtP8AoKa5/wCDef8A+Kq0viCFrWOfyZNsizsAOT+6JB/PHFUm8UZtYLt4WhQtJujVlfcFiZ+oPHSj21TuHsaf8o//AIQ60/6Cmuf+Def/AOKo/wCEOtP+gprn/g3n/wDiqkXxKdsiy2Esc+IjDCXUmUSEhTnoOQevSr+maidQW4Elu9vLby+VIjsDztVuo/3qXtqncPY0/wCUzP8AhDrT/oKa5/4N5/8A4qj/AIQ60/6Cmuf+Def/AOKp03iKW01DU47mzIt7PylikEg/eM+ABjtyetRnxaohU/YX84zNE0ZlUBcKGzv6Hgj9fSn7ap3D2NL+Ud/wh1p/0FNc/wDBvP8A/FUf8Idaf9BTXP8Awbz/APxVW7LVbm61+9sntNlvBFFIk28HcXB4x+H6Vq0vbVO4exp/ynP/APCHWn/QU1z/AMG8/wD8VR/wh1p/0FNc/wDBvP8A/FV0FFHtqncfsaf8pz//AAh1p/0FNc/8G8//AMVR/wAIdaf9BTXP/BvP/wDFV0FFHtqncPY0/wCU5/8A4Q60/wCgprn/AIN5/wD4qj/hDrT/AKCmuf8Ag3n/APiq6Cij21TuHsaf8pz/APwh1p/0FNc/8G8//wAVR/wh1p/0FNc/8G8//wAVXQUUe2qdw9jT/lOf/wCEOtP+gprn/g3n/wDiqP8AhDrT/oKa5/4N5/8A4qugoo9tU7h7Gn/Kc/8A8Idaf9BTXP8Awbz/APxVWbDw3bafeJcx32qTsgOEudQmlTkY+6zEHrWvRSdWo1ZsFRpp3SKOqbjFDsIB80YJGexpYluMf62P/v2f/iqbqz+XBC2M4lHH4GmRXvH+r/8AHqlJ2NLothbj/nrF/wB+j/8AFU7bcf8APWL/AL9H/wCKqAX3/TP/AMepft3/AEz/APHqLMV0Tbbj/nrF/wB+j/8AFUbbj/nrF/36P/xVQ/bv+mf/AI9R9u/6Z/8Aj1FmF0Tbbj/nrF/36P8A8VRtuP8AnrF/36P/AMVUP27/AKZ/+PUfbv8Apn/49RZhdE224/56xf8Afo//ABVG24/56xf9+j/8VUP27/pn/wCPUfbv+mf/AI9RZhdE224/56xf9+j/APFUbbj/AJ6xf9+j/wDFVD9u/wCmf/j1H27/AKZ/+PUWYXRNtuP+esX/AH6P/wAVRtuP+esX/fo//FUQzCYHjBFNkvrSGKeWW6hSO3/1ztIAIuM/Me3B70titx224/56xf8Afo//ABVG24/56xf9+j/8VSwXEN1bpPbSpNDIu5JI2DKw9QRwRUJvQDwmR9aNRXRLtuP+esX/AH6P/wAVRtuP+esX/fo//FVD9u/6Z/8Aj1H27/pn/wCPU7MV0Tbbj/nrF/36P/xVG24/56xf9+j/APFVD9u/6Z/+PUfbv+mf/j1FmF0Tbbj/AJ6xf9+j/wDFUbbj/nrF/wB+j/8AFVD9u/6Z/wDj1H27/pn/AOPUWYXRNtuP+esX/fo//FUbbj/nrF/36P8A8VUP27/pn/49R9u/6Z/+PUWYXRNtuP8AnrF/36P/AMVRtuP+esX/AH6P/wAVSfa4ktXuJ3WGKMFneRgFUDkkk9BUVhq2naornTL+1vBGQHNvMsm3PTOCcUhk224/56xf9+j/APFUbbj/AJ6xf9+j/wDFUSXVvDcQwTTxRzTkiKNnAaTAydo6nA54qsmt6VJJcxx6nZu9qGNwq3CkwgHB3DPy4PXNK4yztuP+esX/AH6P/wAVRtuP+esX/fo//FUWt1b3tslxZzxXEL/dlicMrfQjg1HJeBHKhM4OM5p6i0JNtx/z1i/79H/4qjbcf89Yv+/R/wDiqh+3f9M//HqPt3/TP/x6nZiuibbcf89Yv+/R/wDiqNtx/wA9Yv8Av0f/AIqoft3/AEz/APHqPt3/AEz/APHqLMLom23H/PWL/v0f/iqNtx/z1i/79H/4qoft3/TP/wAeo+3f9M//AB6izC6Jttx/z1i/79H/AOKo23H/AD1i/wC/R/8Aiqh+3f8ATP8A8eo+3f8ATP8A8eoswuibbcf89Yv+/R/+Ko23H/PWL/v0f/iqh+3f9M//AB6j7d/0z/8AHqLMLom23H/PWL/v0f8A4qjbcf8APWL/AL9H/wCKohmEwPGCKck0UkjpHIjPGQHVWBKnGeR2pDG7bj/nrF/36P8A8VRtuP8AnrF/36P/AMVTLq/s7Hyvt13Bbec4jj86QJvY9FGep9qP7QszfmxF3B9rCbzb+YPM2+u3rj3pXGP23H/PWL/v0f8A4qjbcf8APWL/AL9H/wCKp0U0U6FoJEkUMVJRgQCDgjjuDUct0IpCoXJHXmnqxbDttx/z1i/79H/4qjbcf89Yv+/R/wDiqh+3f9M//HqPt3/TP/x6nZiuibbcf89Yv+/R/wDiqNtx/wA9Yv8Av0f/AIqoft3/AEz/APHqPt3/AEz/APHqLMLom23H/PWL/v0f/iqNtx/z1i/79H/4qoft3/TP/wAeo+3f9M//AB6izC6Jttx/z1i/79H/AOKo23H/AD1i/wC/R/8Aiqh+3f8ATP8A8ep0d4HcKUxk4zmizC6JNtx/z1i/79H/AOKo23H/AD1i/wC/R/8Aiqc80UckcckiK8hIRWYAuQMnA78c08nAyelTcoi23H/PWL/v0f8A4qjbcf8APWL/AL9H/wCKqGTVtOhW3aa/tY1uW2wFplHmn0Xn5j9KeL+zN+bEXcBu1TebcSDzAvrt6496LgP23H/PWL/v0f8A4qjbcf8APWL/AL9H/wCKomnEIHGSah+3f9M//HqqzFdE224/56xf9+j/APFUbbj/AJ6xf9+j/wDFVD9u/wCmf/j1H27/AKZ/+PUWYrom23H/AD1i/wC/R/8AiqNtx/z1i/79H/4qoft3/TP/AMeo+3f9M/8Ax6izC6Jttx/z1i/79H/4qjbcf89Yv+/R/wDiqh+3f9M//HqPt3/TP/x6izC6Jttx/wA9Yv8Av0f/AIqjbcf89Yv+/R/+KqH7d/0z/WrW8eXvJwuM5PYUndbjVmR7bj/nrF/36P8A8VRtuP8AnrF/36P/AMVUY1GyMdtILy3KXePs7CVcTZGRsOfm454ot9Rsru4mgtLy3nmtziaOKVWaM+jAHI6d6Bkm24/56xf9+j/8VRtuP+esX/fo/wDxVJNcCFgNu4kZ61F9u/6Z/wDj1OzFdE224/56xf8Afo//ABVG24/56xf9+j/8VUP27/pn/wCPUfbv+mf/AI9RZiuibbcf89Yv+/R/+Ko23H/PWL/v0f8A4qoft3/TP/x6j7d/0z/8eoswuibbcf8APWL/AL9H/wCKo23H/PWL/v0f/iqh+3f9M/8Ax6j7d/0z/wDHqLMLom23H/PWL/v0f/iqNtx/z1i/79H/AOKqH7d/0z/8eo+3f9M//HqLMLom23H/AD1i/wC/R/8AiqNtx/z1i/79H/4qoft3/TP9asNNHHCZpXWONV3MzHAUepNJ3W41Z7Ddtx/z1i/79H/4qjbcf89Yv+/R/wDiqkVg6hlIZSMgg8EVV/tXTvtFxB9vtfOtV3zx+cu6JeuWGflHuaVxk224/wCesX/fo/8AxVG24/56xf8Afo//ABVJa3ltf2y3FjcRXMD52ywuHVsHHBHFMkvAjlQmcHGc09RaEm24/wCesX/fo/8AxVG24/56xf8Afo//ABVQ/bv+mf8A49R9u/6Z/wDj1OzFdE224/56xf8Afo//ABVG24/56xf9+j/8VUP27/pn/wCPUfbv+mf/AI9RZhdE224/56xf9+j/APFUbbj/AJ6xf9+j/wDFVD9u/wCmf/j1H27/AKZ/+PUWYXRNtuP+esX/AH6P/wAVRtuP+esX/fo//FVD9u/6Z/8Aj1H27/pn/wCPUWYXRNtuP+esX/fo/wDxVG24/wCesX/fo/8AxVQ/bv8Apn/49R9u/wCmf/j1FmF0Tbbj/nrF/wB+j/8AFUbbj/nrF/36P/xVQ/bv+mf/AI9R9u/6Z/8Aj1FmF0Tbbj/nrF/36P8A8VRtuP8AnrF/36P/AMVUP27/AKZ/+PVNDMJgeMEUWY7phtuP+esX/fo//FUbbj/nrF/36P8A8VVYa3pRhuJhqdmYrVts7/aF2wnOMMc/Kc+tW4po7iFJoJFlikUMjowKsD0II6ipuMbtuP8AnrF/36P/AMVRtuP+esX/AH6P/wAVSm5gDyIZow0ShpF3jKA5wT6Dg/lVU65pIsFvjqlkLR22LcfaE8tm9A2cZ9qLgWdtx/z1i/79H/4qjbcf89Yv+/R/+KqQsAhbsBmqv27/AKZ/rT1YrpE224/56xf9+j/8VRtuP+esX/fo/wDxVQ/bv+mf/j1H27/pn/49TsxXRNtuP+esX/fo/wDxVG24/wCesX/fo/8AxVQ/bv8Apn/49R9u/wCmf/j1FmF0Tbbj/nrF/wB+j/8AFUbbj/nrF/36P/xVQ/bv+mf/AI9Si9BPKYH1oswuiXbcf89Yv+/R/wDiqNtx/wA9Yv8Av0f/AIqmXuoWemwibUbuC0iLbQ88oRSfTJPWpGuYEeJHmjV5iREpYAyEDPy+vAJ47VJQm24/56xf9+j/APFUbbj/AJ6xf9+j/wDFVLUcE8N1Ak9tKk0UgykkbBlYeoI60XATbcf89Yv+/R/+Ko23H/PWL/v0f/iqlqH7ZbfZxcfaYfJJ2iTzBtJzjGenXj60XAXbcf8APWL/AL9H/wCKo23H/PWL/v0f/iqWSeGKWKOWVEkmJWNWYAuQMkAd+AT+FSEhVJY4A5JPai4EW24/56xf9+j/APFUbbj/AJ6xf9+j/wDFVSm8RaJb+T5+safF56LJFvukHmKejLk8g9iK0qYFWLP2ifcQTuGSBj+EVG/32+tSJ/x9XH++P/QRUb/fb60MQ2iiikMgv/8Aj3f6Vr1kX/8Ax7v9K1ZX8uMtjOKoQ6iqv2w/3f1o+2H+7+tHKxcyLVRXVtFeWktvOu6OVSrD2NRfbD/d/Wj7Yf7v60crDmRRfw5BLAqTXl5LIkolWd5AXUgEccYxgntSx+GrCLy8GYmPZgs+SdshkGf+BE1d+2H+7+tH2w/3f1osw5kVJPD9sbeGOCe4tmhLlZYXw+HbcwzjoT/IU9dAsUtriCNWWO4tltXAboihgMe/zHmrH2w/3f1o+2H+7+tHKw5kQTaHZz3PnyB9+IRw3H7piy/qxqrb+G109QdMvJYZVj8qNpVEiomQdoXj0HNaP2w/3f1o+2H+7+tHKw5kVRoomjuP7RuGuZri3NtJIi+WCmScAc4PzHmg+H7U3on82fYHWU2+/wDds64wxGOvA79qtfbD/d/Wj7Yf7v60crDmRSh8N2kNw0qTXPIkCIZPli8w5bbxxzzUa+FbDy3EjzytIzM8juNzFozGeg/uk1o/bD/d/Wj7Yf7v60WYcyKWo6HHPDI1sD9oMcUaMzldoRiVIIHB5PNQWGjalaWswj1BYJp5zK7NH5xI2qoyTjn5cn61qfbD/d/Wj7Yf7v60WYcyKkmgw3Kym8mkkknjRZWTCgshyrgc4YGo38NW8lj9le7uypLF33jLgjBB4xjj0q/9sP8Ad/Wj7Yf7v60crDmQ220uC0vPtEBkUmFISm75Sq/dOPUZIzVyqv2w/wB39aPth/u/rRysOZFqiqv2w/3f1o+2H+7+tHKw5kWqKq/bD/d/Wj7Yf7v60crDmRaoqr9sP939aPth/u/rRysOZFqiqv2w/wB39aPth/u/rRysOZFqiqv2w/3f1o+2H+7+tHKw5kWqKq/bD/d/WnRXJkkC7cZpcrHzIzfFkrwaDLLC6xyJlldlLBTtOCQASR9K4s61GfD/AJ91rahYr2NBLK1uyTjKEqG27WAyTlQrDHPTNd/q6hreIFtoMo5P0NRQ2qNwsyk+w/8Ar01sJ7nKyapeSXlxc2V751vFdRRxQoqGOVZI0P3sZ6tkEH8xT/DGrS3+pXML6p9vRLS3lYYjHkyu0gdPlAxjaOGyR3rrxY/9NP8Ax2s1/CGkPBLHeW8d5HKwZxfZuORnH+sLYAycAcDJ9aaaRLTZzHifU9Ss9VcWWoS28ccG7y1jjYMfKnfkspPWJR16Z781DDrmuPdaozz2Y8hJsWqzb5YQr4RzH5QIG35uXbdkY4ruLXTLOxtUtrLyLeCMYSKJAiqPYDgVN9nj/wCfhf8AP409As7HnCahaW0Oo3LeII5IW1i32zytblbkbLcNk7dvAzyuCMZzxV+58Q3I8Vxw2t9C1rIxTyTKm4jyDIsioEJKkgDeXx1G3vXcfZ4/+fhf8/jR9nj/AOfhf8/jSeqt/W1hnMeHLu9uGH227a5E1jb3Q3oq7GffuA2gfL8oxnJ681V8T61d6dqlrHa3cduoCO0c0qIJgXwQoKMXIHUApjIJPPHU3miWGrW/2fUIba9hyG8qeFZFyO+DkVLa6Pb2NqltZJFbwRjCRRRBFUewHAqnJN3JUXaxwFx4i1KO7mS1v0uLn7PcvLZNsAtCk0aqThSwARmbLbs9cY4rV03ULt/DTXF9q1pn7Sqx3duwuVKl1G0sERWJJK5CgDI7g10sPh+2gvpLtHkaaQEFpJXcKCckKGYhQSBwoHQelWvsP/TT/wAdqU0kU0wsf4/w/rWC2kLGmuLDEbKNbyG6gaK1Z1LIkbZEa4LjcuCF5PPeukhhECn5s56mnebH/wA9F/76qXq7opaLUzPDcF1Bo/8Ap3E0s8sxHl7MB5GYfLk7eDnGSRnnmsLxWriztJ/7Sl0+KG7jMsqGMAKTjLF1IAH5c812Hmx/89F/76qqbeLPE6gfhTX+X4Cf+f4nISarN/bYhi1PLedFHDaARn7RCyKWm6bjjLHIO35OlULO8m0zQNSRtbkku4r6RXE8kKm2VrhtrsdnyBlIOWDADoO1d99nj/5+F/z+NH2eP/n4X/P41V9CdbHAx6xp8tnoV/rd5pwvkvJY1uGlTJVTIhKvhcg4GSAoJ7DpXX3kjRafcSxHDJEzKeuCBxWgLMMMrKCPYVStfC2lWV9Je2dhZ291LnzJ4rZEd8nJyw5OTzSbTTQ7O6Zzl1dXNlY2X2/XZLaO4RpZLyRIV2vtXbGMptAOWPOW4xmqN3r+opC8j3n2a+WOMpp2xPnVogzyYI3fKxbvgbMEV3/2H/pp/wCO0fYf+mn/AI7TbTbFFNWueeRavqcVvdi41lsK+0TXCRIIwJdp+YR7VJHGWBGcdM1vWmomfTNKma/ZDPPs3SwqWuOH+X5flGcZ3Dg444NdL9h/6af+O0fYf+mn/jtJNJWYcruPs/8AUN/vf0qhp0wtbCXUtR3wPezhtrodyBiEiUjGQcbcjsSa1IohEm0HPOc0rxpKAJUVwGDAMM4IOQfqDUve5a2OZv01C38Xm5tmuSZhbxxolvvieMO3mB32/JtDFh8y5OPvdKzbuDUvs95aaY2oSwpMLmRLyzwImFykhWMqq+apXzDgFjwBkE4ruqKS0H1uYnheCeO0vZbh55Fubx5o2uIjE5Uqo5QgFfmDYBGcYrL8ZJJ/ZwlS+lsUivIWllj2DCeauSSykAAc/hzxmuvqtJZh3LB8ZOcYql08rfgS1/XqcY+rSjVYo4dV8wmSBYLYCM/bImC75shcnGWOVIUbOlUY7yXS7DV0OuSPdpeEFZ3gUwKzjDk7PlUg9SCB2Fd/9h/6af8AjtH2H/pp/wCO09L7/wBaf5E2djz+PWNPls9Cv9bvNOF8l5LGtw0qZKqZEJV8LkHAyQFBPYdK6DxRz4R1XB/5dJMEc/wmug+w/wDTT/x2qMHhbSrbUHv7aws4byQkvcx2yLIxPXLDk5p3QWd7nE3uu6lHEY9O1W3ltPPKDVLi4jhX7inZvEToTuLD7o6YzkczXF/c3Oq2UOo36RTx3Vtss49oWZSilpRuXfjeWHUD5eRmu++w/wDTT/x2j7D/ANNP/HaSav8ANfgFna3kch9qvYtFa9udVkRZrkxvKY4wtrGJWXcPl9MAlsjviqUmuXYtwx1TYVR2sm2R/wDEyYSMqr93nICfcxnfkcYrvDZADJlwPcU37PH/AM/C/wCfxoQWdjz+31jVlnnZ9Tdx5blUlhQpGfLdgfkTcQCo9eM9a09P1Vp/D11O2rE+VMqC9ZI5V/h4UxgK4ySM4BHccV1v2eP/AJ+F/wA/jR9nj/5+F/z+NC0FZjrH+P8AD+tZ+mW0WmanrcotxbWxdJAVj2q37sbiMDnnOcd61IRFCD+9Uk+4p0hgljaOUxujgqytghgeoIqJXb0NI26nO+Kbaa/sY7rSpHaa5tZLWNPsjSiRZQDzyBGflHzNwOcgnFUU02+fxOlvc+c8KX7XBX7MfKkiNuULPKQQTkhQgIPXIIwR2ilSvyEEe1LRs/69Q1a1/roZHhu0+xadPCIPs6C8uDHHs2gKZWIwPTHSqHi69ewsGmju/sebiCN58L8itIqsfmBA4J5IrpqpX2mQ3+BPyqukgHP3lIZTwfUCmunyBnCSa7dCxV21bykVZza3Hlxn7eyvhF+7g5HZMFs5XFRPr2on7b9k1Ez3afaw1mqxsbYJu2PgLu6hR82Qc16F9h/6af8AjtRW+kQ2qOsB2K8jSMME5Zjknk+pqk7dSGn+Jw+q6xpeoaRq017eWM9rBOgs5ZGjKh/KVvkbu2S3I561NeeIJf8AhKLOOy1G3a0keJfKM6fvVf8AjRdhZxkj5g6gEYwe/b/Yf+mn/jtH2H/pp/47RdXQcrscLaSpZ2Otw33iSSOWKdy3nvbhoVLZU4KYw2QORjnjFJJr5bT7SWy1WGMfYke3SHy2W8m6GLoemFG1MH5vau7+w/8ATT/x2j7D/wBNP/HaItJfd+ANNu/r+Jyen3t9JqUbzXjyRS3VzbmAogVQjNtIIG7OFxySPbPNbGiz/aIQ/wBsF5i4kXzFj2YxIw24/wBnG3PfGe9an2H/AKaf+O06OzCOGL5wc4xRdWCzuZ+q2Kya/o15HahpY7hlknWPLKnky4BbsNzfTJ960PMs9RF3aOqTrC4injkjyuSqtg5GDwynuOas01I0jLGNFUu25toxuPqfeoNDiyEtfDem6bc6fdo9zbtDPNHYSymGHPzJ8inDNkAA4xyewBvtp9yPF1v9lkdrUXBvZg1qy7CYWjx5pOGySPlAyMHJxgV09FJaAVL7+D8f6V57ZXl5p2kWajUXS3uLfe7vHHi1USopZTt6Yc5L7gMA9ARXpE0AmA5wRUP2H/pp/wCO1atdMhps8/vvEl1ZaXPN/aSGP7Fd/ZLlwg+0Sow8sjjDHGeAMN1xVm41u+h1i9itrn7XOkUjQWCKhwVj3DcuBIuW6NllOQOCRXb/AGH/AKaf+O0fYf8App/47Tvpa4WfY86srnUtVl04XOqQP/pp8u4sp0naM/Z5NykmFFB6cFSRk5PSrlnrd5NPaedqAW5ZoFSyCIPtKMBvlxjdxlj8pAGzkV3P2H/pp/47R9h/6af+O07q9xcrscFFqenWa61Fol5ZW/8Ap8Rla2aP9yjLEskuORxzkkYB69Kqx6tJY6TG9vrH7prm7cSqIt9yRL8u3K7Hzk/KpUnPymvR/sP/AE0/8do+w/8ATT/x2kmkNpsyFnzrPk/ax/x7B/s3l4I+bG/d+mKt65b6jd6NHb6XDbTGRlE8dxO0IeLHzKGVH68A8dCelXPsP/TT/wAdq0o2qAOgGKUrNWHFNO5wWnwa1ZR6XPLBLbTrp0FvBb28JmQsHbekjGMGMFfLJ+7yOp287WkRs/iaWaKC6jgjt2jMVxbiJLZt6/JEQoDq2CxOWxgcjOK6Sip639fxKev4fgYnieeW10e+uLd/LmitJHR8A7WCkg4PFcL/AG5rkFtcqNQEoFyYmubpo4Ft0E06bi4iYDPlIMlSMt2zx6fNbiZgd20gY6VF9h/6af8AjtXdWJe2x5xfajd3MFlDqepwpL59k8UMDIyXmblcuGKBmwAD8oUd8YIq+Nbt4E12O21iG5uIpVIYPDviUhFJO1cbVJwWYNtA5zjFdx9h/wCmn/jtH2H/AKaf+O0XVreokmkee2us6reWWBqih4be7lM1sY5hKY2TZljGARhjnCrnt612XmbrPzHk8rMe4uMDZx1544960PsP/TT/AMdqjF4W0qDUm1CGws471iS1ylsgkJPXLdead1awuVnJabqn2y1s7TTdaSV5NQuIpri3ELPt/fMpIC7QTtBzt559ams9YuZ7myW81QWsjQwtHCIlP2wsSH4xu4x/CRt6nI4rtfsP/TT/AMdo+w/9NP8Ax2ldXCzPPJtb1CSNVttXczSIWuUSOImxkB4j+6cZ+YfNk/LkVBNr2upb20cWoWyFtzfabyVIRI+1CI+IWDfePygKxA4PBr0r7D/00/8AHaPsP/TT/wAdojpuwabehkJOTrHkNdLn7MHNqI+nzY37vTtir+tWcd94ZuoZLdbgm2YpGyb/AJ9p24HrnpVj7D/00/8AHatKNqgDoBipnaUeUuF4yuUoJza2enQvBOzTBYiUjJERCE5f+6Plxn1IHeuVihe01S8uLyyv7qKA3UjWa2ZaNA0oZTEwX94z4BIy2D/cxiu4opS1bYRVopGR4cYS2M05WZZ7idpZxJbSQ4cgcKJFUkAADdjnBPXIrD8aXt5Y2XmafdPbSbpWLIiNnbE7gfMCMZUe9dnVaSzDuWD4yc4xVJoTTPOl1rXDq9vaC9tVjWQorXUyxvdYndGAQRHeQqrwpTBOTwaWO/Fx4lSW81ryJI7S8WZcxL9h/ewhRyvGQOr5z1HFehfYf+mn/jtH2H/pp/47Tuvz/ESTTPNrzxNLB4R0yfSdTtQ62Zd282KON3RVJj4Rhu5+4oUnnkYrbt9QvpdbDG8Y2/8AaBtfs+xNmz7P5gOcbs7vfGO3euu+w/8ATT/x2myaak0TRylZI3BVkZMhgeoI70+ZXuJps53xDG80ulRxzPAzXoAkjCll/dScjcCPzBrJi1q88+FJtS2zq8ccVsUTN4PNKOxGM5AGfkwFxk8cV12n+GtN0lXXSrO1slkILi2t1jDEdM7cZq59h/6af+O0rruFmzg08RXUsPlLqMK3EVjK1ySFPkyiRFBfCnbgE9RgdSCBVW78QaqbOzGn6hAI3Mw+23k8cSyupXagdInRwctwoUnHYg16N9h/6af+O0fYf+mn/jtCsrahZmdIs8ti6xyCKdoyFkUZCNjqAR2PrXL3uu30ukC7juRYia4ECNK6RJGyod+53R9uXBX7rZ2jGM5rq18LaUuqf2kthZi/zn7ULZPNzjH3+vTjrV77D/00/wDHaG0wUWjhoNV02W68N32oXFhFqdzAC7F0V2DRngZwdpboPWqlz4n1EWscdndwSXUds32sM6r9nfzo0LOQrbNqsx5UgdSCBXon2H/pp/47R9h/6af+O0XV7hys5Wwv7pvD9pPfanbLJJdKguID56TKZMBdwRASw43BQB1FdVZfdkxyeP60fYf+mn/jtTQwiEHnJNEmmrDimmee2djqNvDbTRLej7J5AmE9izfZtokBiiRVBlRS4Ib5j33N26vw3/xL9HtLS8eXz7iSd4hMhDspdnG4AAKdpHGBjpjtW5TTGhlWQopkUEK5HIBxkA++B+VQW9Xc5bVNJl87xENNs1Q3NjCV2xYWaTdKWHH3icjPfn3rJNtqQvJdSaW+a2uJpQ0g05/N+aGJcpDtygyjKCwOB1znJ9BoqXG+g07O5naTbzWfhmytrr/Xw2iRyZOfmCAHn61zWtXOk2nibR5LueygvTIyhpXRZNhjkAGTztLfhmu1YblKnoRiqv2H/pp/47WvNd3Zm46WRwcmu3yNMYb/AM6T5vtUOxP+JeBKq7uBkYQs3z5ztyOM1Frmv3VjpMUum61HcYWaRLmZo4kn2Ywm7y2Dnk8IFzg8jFeg/Yf+mn/jtH2H/pp/47Qml1C3kchG/k+NLk3OsyRLcWkTw27tEFfHmbtuV3HbweD35yMVTtdcgOk7LfXoSi38kdzfxtBuijJcq7YXYNxVRkrzn15ru/sP/TT/AMdo+w/9NP8Ax2i6FZ2/rscJb6tqc8hlN8wSBrUBREm2dZJmQs3GeVAYbSOT6cV0ttP5mpXsX2sS+WU/ciPHk5XPX+LPX2rW+w/9NP8Ax2lFkAeXyPpT5kJRdih4kIFkoxeRO25UurK2E8kRI6bdjEBsYJx+I4NYUena9HrmhTz6ZZfZ7cxxIUu5C1sn2dg4K+WQPmPXfztQcda7ais1o7mr1MfVn1DUdMubfSbYCVZhDILuRoFkj4LFHCscEHAOPX0qLw1LJY6Dp1nqdvHZXMheOK3iLOoA3NjJRcfKO4FbtNMaNIsjIpdQQrEcgHrg/gKAKMdpfy3FymqXFjdafKGVLZbJlYAno7NIwfjg/KM/pWB/ZJbwSsL6fmeG8d4UMPzRj7UTlRjI+XnI7e1dfRR0sK2tzlNRs9bfxrp94bG0ns47nZFKLp98MZhfeSnlEAlj13c4Qcda0NZOoanp81tpVojFbgRTpeyNAs0YGW2MEfIOQucdN3Q1t0UdLD63OX0qC+l8O6Bpt5Z/Zm8tHuVQsyokQBVSxVcMTsypHTcOcZrqKKKYFVP+Pq4/3x/6CKjf77fWpE/4+rj/AHx/6CKjf77fWhiG0UUUhkGof8e7/StK5/492/D+dZt//wAe7/StK5/492/D+dV2E9ijUZuIRHI5lQJFkO27hcdc+lSVl3Wg211emZmdYpCDcQL9ycj7pYe368ZrUxLljeLfWouI0dI2J2FxjcvZvoeoqaSRYo2eRgqKMsx6AUvTpVHW08zRblNsr7k2gRIXbJPp39/anFXdhSdk2Kutac1q1yt3GYVYKzc8E9qifXLcTokWJEdI3Em4BSHcr+fFYNxqOpXUKs9hcxyiUMUjtHCuoUjBbGepz+FVoIpIhDus7/8Ad+WSBZv/AAztIf0OK6lRjbU5HWlfQ6Kz8S2FzYtdyypDD5zRoWOS204zVx9WsI5Nj3UYby/Nxn+DBO76YBrmY7m5tI7Z7SwvHmh85SJbRwpWR92eO4wKbCvk2F3brZ6ifPsUtVY2bcEBxk+3zUOjHcarS2OlGsWkqg2syTfvlibDY2ljgdalttSs7yaSK1uEkeP76jtziuZuJWmvRMllqCqBb8fY2/5ZMxP57qr2N7fabcC7k0rULyVYTDtSBgz5YHd82AOnQUvYprQPbtPU6e61qzsdQ+y3cghPlCQO3Q5JGP0qdtTslvRaNcILhukeea5ma/m1L7ZNNpGpWr3FkbURtbFipy3OR2+amme487yhYXv2VrhLlm+yP5gZdvA7Yyo59KXsUP2zOqF9alFcTptYMQc9dv3vyquNasnWOSGaN4mZlZ92NuFLHr14Fc1FJcqfKlsLtreNZxGPsb5bzDn5vp04qErdzWxjmtb8cvsQWrsEDQsmASM9WzTVFdROvLodcmsafJDNKl3GY4ceY2fu56VNa3lvexmS0lWVVOCV7HGcfkRXMuJLiZpoba7iaGCDYJrVgpaNyfy+b9CafFql9pcU850e7vXvLln22sfCgIgzz2JBx64qXSXTcpVn9rY2Trunpd3VvJOqPabfN3cAbun8xUg1ewaaKEXSeZMAY1/vA9K5qe6nvJJ5G0zUIVuTBIyNasWRo2BI44IwKS9nubrVfO+xX5g86KVQ1q4KbCCQAODnHU+tV7FE+2Z0K67YqifaLiOF3JAUtn+Ir1HuprSriER1tL2I2d/uubV4FP2N/lJeRs/+Pj8q7OFt9vG2GXcoOGGCOO49azqQUdjWlUctySiiisTYKKKKACiiigAqe2t4pYA8iZbcwzk+pqCrVm6ragMwB3NwT/tGplsXHcR7e1Td8m5lXdsUksR9KrafNYaj5whhkjkgYLJFKpR0JAIyD6g1kHw1dN4o1HUV1ueKG7VCgjcbo9oxs5H3e/1JrZ0vTYNM89/tUlzPcMGlmmcFmwMAcdgKz1L0CZFiuSkYwuwHHvk/4U+2/wCPhfx/lTbkhrslTkeWvI+pp1t/x8L+P8q0+yZ/aGa3/wAekX/XUfyNUNLuPtSxyiKWH94V2yptbhiM49DjI9iKv60C1rEAMnzRwPoap6XZSWypGXnmw5YvMctyxOM+gzgewFStinuS39ze2/iLSo454xaXMjxvF5XzEiN2zuz0yo4AHfk1oXv+pH+9RLaQz3FvNKm6S2YvE2SNpKlT9eCRzTrpGeH5Rkg5xUrcbvqZsrmOJ3WNpWVSQiEZb2GSBn6kVjaV4iN5p9ncX9lNZG6LKpcoVyFLdVY4GFPX0+laEVprI1JnmubV7LJ2wpZOsgHbMnmEH/vn8qoXXhmV9NGmxtJNZyTq7iYhTBGG3bY9ignPT5j0J5PQ279CAh8T2800a/Y7tInMamd1QKhkAKAjdu5yBwDgnnFJo/i3Stdu57fTplleFPM+SWN965xnCsSvOOGCnnpUn/CNzS63cXdxNN9meWKRLZANjMijBbK54IyAGxwM1b0/RG02NooZ7t4AuyGFwu2BewXCg/8AfRJ4ou/z/wCAH/ALul3H2pLe4EUsIlQP5cy7XTIzhh2I7itKaVYIHlk+7GpZsegGaz9Ls5LSKCFnmlEMYQyznLvgYyx7k96edNuTqpujrF6YCf8AjxKQeTjGMZ8vf7/f6+3FTPV6Fx21MK28S6rJrEkUlnADcW1s9nbfaPlzIZyWd/Lyp2x8gBgNvGc1fs/EN1f3QgtNNVzBgXgNxgxEyOhCfLh8GNjyV4xjJOKmj8K6TEkqxwzDzAi7vtUu5AhJQI27KAbmwFI6kVKPDumB4GW3YGAALiZwHwdw3jOJMMSfmzySepNLqUy9df8AHs34fzrNYkKSAWIHQdTWncKXgYKMmsH7HrR1JmN3bCxOcRLZP5o44/eGQrnPP3Pb3qo7ES3KUevn7JFJJY3TTz3MkCWyrGHDJuOCfMK9EPO7n2qve+KdsFs+nWssvmyW3mSOqhIVllVcN8wO7BPQHBxnirtn4aa1mjklvb67MU7XCCZYwA7Kwb7iLwd5/IUx/CUTeSqTXkccZhLxrtxMYnDoWypPBHYjIquqF1K1p410m/mu47JmuGtUMjLC8cjMgOGIVWLDGejAE9ga0LfWYbuwivbWG4mgmlEcTRx53qWwJB/sd8+nPSkj8OmK1mtVur77NIuxIQVAhTOSqkLnB6ZJJA6EVLDoYtrKO0tXuYIIphJGkZxsUNnyxx9ztj04HGKF0uJ+RrWjiOOV2+6oyf1rLHiK8GhtqUumxpHKkclqPtJbzQ54DBULB+R8qq/XAJrXtI2VX3rjOOCKpp4a0tLeSBIJFSTb0uJMxhTlQh3ZjAPQLgDtWUr3NFsUbbVrjU/7F1CGWe0juLmS3ns2QbWKrLnO9BIMMgx90+o7VdivdQfUdTtzbw+ZBHG9uhuTscMXwWPl5QnbyPmHTHfLT4V0sx26AXiLbSPJFsv51w7FizEh+SSzcnPXFWINEs7bVJdQiN19omGHL3kroRyQNhYqMZOMDjPFD2dhnPeHNT1QeH9Ola0judR1OH7WRLqMhQrtUs2WQ7DlwAijaPWtaHX57y5QWNkj232OK8eWWfYwWTfhQoU5I2eoHNWZNA06TTrWx8qSOC0QRwCKeSNkUDbjerBiMdQTz3q0mn2sTu0cIQvCsBCkgbFztUDoMbj09aJa3t8h6XMFfEmoXWj3VxFp0McqWUd7EPtfBjcMeT5Zw42Hjaw6c9am1bxM2lXFnGLQ3CzKjSspctGGbaDhI2AHXlig44PXF6Xw/p0tkbQxSpCYEtiIriSMmNM7V3KwOPmPfnPOaik8MaXLHEkiXLiJQoLXsxLANuAY78uATkbs47Ypu3NpsTry+f8Aw3/BJfEN3cWOhzXFmwWZWjC5x3dQRyD2NUf+Ehv2kNpHpkDX8bSebF9rIjCoEJKvsySRKnBUc554ybf9iSSzzG/1a+vraU5FpMsKxodwYYKRq/GOMsffNSXWg6fes7TxSBnkMjPFO8bElQpGVYHBCrlehwOKnW4yna+J0vDEYbZvLmu0t0JfnDQCYNjHvjH45quniO/utH1CeKwhhubaLzPJe7KuikN94GIlHG3ptZT2Y81pnw/ph1BLz7OwlQhlVZnEeQmwHywdudvy5xnHFRDwvpS2c9qsdwsU6hH23kwbYM4QNuyqDJ+UEDnpQ/IFurkNz4gnt77yI7JZYoo7d5pWn2sBK5QbV24Ygrk8jrS6f4gmvdYitXskjt7iKeWCYTlmYROiHcm0Bcl8jDHgVbh0HT4I2RY5XDLGrNLcSSMQjFkG5mJ4LHv7dKzo/Crx6xc38eoyWzSJIkH2ZTmASOrMcSM6ZJQdEUckkEnh/a8tRLbUs+IL/U7FtOGlQW03n3QikE85j4KkgDCN6de2O+eJH1W7XVJ7cWcP2e1hWWed7nbjcGOFXbzjbySV608aMsum/Y9TvrzUP3gkE8jrFKpHTDQqmMe3PJq0LC2Hm5j3edGI5N7Ft6gEAHP1P1pWdn/XQfVHOx+Kb290HVLmDT1hubJN5VpZIwUKltytJCCTwcfIVPqeav3uvT2upNbx2SSwwrbtNK0+1gJXZBtXaQSCuTkjrT/+EW0v7FcWpW7MVyqrNm+n3OoBAG7fuxgkYzirEWh2ESMojkfesas0s8kjMEYsuWZiTgse/t0ph0LF7/qR/vVnyyLFE8j52opY4GTge1aV0jPCAoyQc1hfYdYkvJRcXVubFwwEUVpJHMoI4/e+aRkeoUfhVrbQh7lOHxLFPZRTxWF2z3DhYIQYi03ylsqwfZjAJ5YdPUjMr69Ck0aG1utjCPzZCgUQFzhQ4JDZz6A474FMTwmsYaRbq9+1mUSi72xiRSFK9Amw/KSCSpJz14GJn8OK88bme92KI/NjLAicocqXJBbOfQjPfIqupJWn8UWlrY3V7dwT29pbSNF58zRosjiQx4GX4+YdWwPeprHX7TUtKhv7FJLiKWYQ4h2ybTu2kkqSuAepBIxViTQkk057T9+oMzTrIuN6SGQyAjjHDHjII7HNSf2XObSKF7q8Zo5FkM2QHkw2cHCgYPQgAcULzB+RfjmMFncygbvLQuB64BNY/hTV7y/upYrqW4nia0huY5Z4kjyXLBgoUA7AVGNwz1OSCDW9aRsqvvXAbjBHWo9P0iz0vzPsUbr5gAJeV5MKM4UbidqjJwowBk4FZv4maLYu0UUUhhRRRQAUUUUAFFFFABRRRQAUUUUAFFFFABRRRQAUUUUAFFFFABRRRQAUUUUAFFFFABRRRQAUUUUAFFFFABRRRQAUUUUAFFFFABRRRQAUUUUAFFFFABRRRQAUUUUAFFFFABRRRQAUUUUAFFFFABRRRQAUUUUAFFFFABRRRQAUUUUAFFFFABRRRQAUUUUAFFFFABRRRQAUUUUAVU/4+rj/AHx/6CKjf77fWpE/4+rj/fH/AKCKjf77fWmxDaKKKQyC/wD+Pd/pWpMheIqvU1l3/wDx7v8ASteqEUvssnt+dH2WT2/OrtFHMxcqKX2WT2/Oj7LJ7fnV2oby7isbKa6uCRFChdyBnAFHMw5UQfZZPb86Pssnt+dWRcQtN5QlQy4zs3Ddj6Ui3UDMyrPGxTO4Bx8uOuaOZhyor/ZZPb86Pssnt+dWopo503wyLIvTcjAiqsesWMurSaak6m7jUM0fcCjmYcqD7LJ7fnR9lk9vzq7RRzMOVFL7LJ7fnR9lk9vzq7RRzMOVFL7LJ7fnR9lk9vzq7RRzMOVFL7LJ7fnR9lk9vzq7RRzMOVFL7LJ7fnR9lk9vzq7RRzMOVFL7LJ7fnR9lk9vzq7RRzMOVFL7LJ7fnR9lk9vzq7RRzMOVFL7LJ7fnR9lk9vzq7RRzMOVFL7LJ7fnR9lk9vzq7RRzMOVFL7LJ7fnSGyY9VU1eoo5mHKih9ib+4tH2Jv7i1foo5mHKiiLRx0Cj6VJDbukoZsYHvVqijmYcqKepfcg/66j+RqSLpUOqbhFDsAJ80YBOOxpYmuMf6qP/v4f/iaXQouClqANcf88ov+/p/+Jp264/55Rf8Af0//ABNAEtFRbrj/AJ5Rf9/T/wDE0brj/nlF/wB/T/8AE0AS0VFuuP8AnlF/39P/AMTRuuP+eUX/AH9P/wATQBLRUW64/wCeUX/f0/8AxNG64/55Rf8Af0//ABNAEtFRbrj/AJ5Rf9/T/wDE0brj/nlF/wB/T/8AE0AS0VFuuP8AnlF/39P/AMTRuuP+eUX/AH9P/wATQBLRUW64/wCeUX/f0/8AxNG64/55Rf8Af0//ABNAEtFRbrj/AJ5Rf9/T/wDE0brj/nlF/wB/T/8AE0AS0VFuuP8AnlF/39P/AMTRuuP+eUX/AH9P/wATQBLRUW64/wCeUX/f0/8AxNG64/55Rf8Af0//ABNAEtFRbrj/AJ5Rf9/T/wDE0brj/nlF/wB/T/8AE0AS0VFuuP8AnlF/39P/AMTRuuP+eUX/AH9P/wATQBLRUW64/wCeUX/f0/8AxNG64/55Rf8Af0//ABNAEtFRbrj/AJ5Rf9/T/wDE0brj/nlF/wB/T/8AE0AS0VFuuP8AnlF/39P/AMTRuuP+eUX/AH9P/wATQBLRUW64/wCeUX/f0/8AxNG64/55Rf8Af0//ABNAEtFRbrj/AJ5Rf9/T/wDE0brj/nlF/wB/T/8AE0AS0VFuuP8AnlF/39P/AMTRuuP+eUX/AH9P/wATQBLRUW64/wCeUX/f0/8AxNG64/55Rf8Af0//ABNAEtFRbrj/AJ5Rf9/T/wDE0brj/nlF/wB/T/8AE0AS0VFuuP8AnlF/39P/AMTRuuP+eUX/AH9P/wATQBLRUW64/wCeUX/f0/8AxNG64/55Rf8Af0//ABNAEtFRbrj/AJ5Rf9/T/wDE0brj/nlF/wB/T/8AE0AS0VFuuP8AnlF/39P/AMTRuuP+eUX/AH9P/wATQBLRUW64/wCeUX/f0/8AxNG64/55Rf8Af0//ABNAEtFRbrj/AJ5Rf9/T/wDE0brj/nlF/wB/T/8AE0AS0VFuuP8AnlF/39P/AMTRuuP+eUX/AH9P/wATQBLRUW64/wCeUX/f0/8AxNG64/55Rf8Af0//ABNAEtFRbrj/AJ5Rf9/T/wDE0brj/nlF/wB/T/8AE0AS0VFuuP8AnlF/39P/AMTRuuP+eUX/AH9P/wATQBLRUW64/wCeUX/f0/8AxNG64/55Rf8Af0//ABNAEtFRbrj/AJ5Rf9/T/wDE0brj/nlF/wB/T/8AE0AS0VFuuP8AnlF/39P/AMTRuuP+eUX/AH9P/wATQBLRUW64/wCeUX/f0/8AxNG64/55Rf8Af0//ABNAEtFRbrj/AJ5Rf9/T/wDE0brj/nlF/wB/T/8AE0AS0VFuuP8AnlF/39P/AMTRuuP+eUX/AH9P/wATQBLRUW64/wCeUX/f0/8AxNG64/55Rf8Af0//ABNAEtFRbrj/AJ5Rf9/T/wDE0brj/nlF/wB/T/8AE0AS0VFuuP8AnlF/39P/AMTRuuP+eUX/AH9P/wATQBLRUW64/wCeUX/f0/8AxNG64/55Rf8Af0//ABNAEtFRbrj/AJ5Rf9/T/wDE0brj/nlF/wB/T/8AE0AS0VFuuP8AnlF/39P/AMTRuuP+eUX/AH9P/wATQBLRUW64/wCeUX/f0/8AxNG64/55Rf8Af0//ABNAEtFRbrj/AJ5Rf9/T/wDE0brj/nlF/wB/T/8AE0AS0VFuuP8AnlF/39P/AMTRuuP+eUX/AH9P/wATQBLRUW64/wCeUX/f0/8AxNG64/55Rf8Af0//ABNAEtFRbrj/AJ5Rf9/T/wDE0brj/nlF/wB/T/8AE0AS0VFuuP8AnlF/39P/AMTRuuP+eUX/AH9P/wATQBLRUW64/wCeUX/f0/8AxNG64/55Rf8Af0//ABNAEtFRbrj/AJ5Rf9/T/wDE0brj/nlF/wB/T/8AE0AS0VFuuP8AnlF/39P/AMTRuuP+eUX/AH9P/wATQBLRUW64/wCeUX/f0/8AxNG64/55Rf8Af0//ABNAEtFRbrj/AJ5Rf9/T/wDE0brj/nlF/wB/T/8AE0AS0VFuuP8AnlF/39P/AMTRuuP+eUX/AH9P/wATQBLRUW64/wCeUX/f0/8AxNG64/55Rf8Af0//ABNAEtFRbrj/AJ5Rf9/T/wDE0brj/nlF/wB/T/8AE0AS0VFuuP8AnlF/39P/AMTRuuP+eUX/AH9P/wATQBLRUW64/wCeUX/f0/8AxNG64/55Rf8Af0//ABNAEtFRbrj/AJ5Rf9/T/wDE0brj/nlF/wB/T/8AE0AS0VFuuP8AnlF/39P/AMTRuuP+eUX/AH9P/wATQBEn/H1cf74/9BFRv99vrUkWftE+4AHcMgHP8IqN/vt9aGIbRRRSGQX/APx7v9K16yL/AP493+la5OBk02IKKb5i+tHmL60hjqoa5aS32g3trbgGWaFkQE4ySKu+YvrR5i+tAHNR6PdjVUzaIhS7e4OoB13Mh3YTHXuB6cVkWVqLq4is4rOMvHYXEMssMgBuCSg3E9iSD97mu88xfWkBjUkjAJ6kDrTEYWk6Rd/2dJBcvLp4E+6JbZkViu0D5sAg856e1asemWkWoPfJEPtLoEaTuQM/4mrPmL60eYvrQMdRTfMX1o8xfWkA6im+YvrR5i+tADqKb5i+tHmL60AOopvmL60eYvrQA6im+YvrR5i+tADqKb5i+tHmL60AOopvmL60eYvrQA6im+YvrR5i+tADqKb5i+tHmL60AOopvmL60eYvrQA6im+YvrR5i+tADqKb5i+tKHUnANAFLVXEcMLHoJR0+hpIryPHRvyqr4pna10N54wheMllEjhVJCnGSeAPeuZXUdRl0pnea3E1vdxxzp9nkjJUlOMeZ8p+bqGZSPqRVqzRLbTO1F7H6N+VO+2x+jflXI3Os30GoXJRYGtba5SFo/LbzH3opBDbsAgt6HI9Kk0LVb69vpYb5rZ1+xwXUZgjZdokMnynLHONg54znpQknsJto6r7bH6N+VH22P0b8q4nxDr+p6bqTRWRtPJjiDkSwszE+XK55DgDiLHTvntio4/FGrO19cNpmyyiEwhkcoBujfZyRKWIPJPyLt9+tFkLmZ3X22P0b8qPtsfo35VwkVzq0b6l597DMYdWt4nxFIqlGSDhAJMpyxPVgSTkcmrV1r99B4jFrHAslkZGgMmwDZIITJgsZMngdAmOfvdqGklcrU7H7bH6N+VH22P0b8q5fQdTvb9sX32ciS0guo/JRl2iTdlTljnG3rxnPSotd1u906/hjsoVmiQI1yPLBKq77QdxkXHQ9A59h3bik7MlSbVzrftsfo35UfbY/Rvyrg7nxRqVq3mmGCaKaGd4YI4yJEaOaOMBmZwp++Sfu4xjPetSy1DVZdGklv4Lezu451jxcMqKykryQjvtJBIA3HJx0zikkmO7OtimWUErnjrmn1Usf4/w/rWDFa6bbr4kGpW63VlDcLM8dyDPnEKN/HnJz0qJaMuOqOpqA3kYOMMfoKqeH9MTSdDgtkgit2OZJI4VCoruSzAAdgTgewrD8RPqMcdkdMuorctdxpIZITJkE47MvH8/aqS1sS3pc6b7bH6N+VH22P0b8q5WXVb5NRdA1t5ENxFauhibe7OqneDuwAN/3cHhTzVGw1DWbfw/dT3VzBdXBvpYLdVtWBz57IBgyYIxjAyuB1J607K1/wCv61Fd2/r+uh3H22P0b8qPtsfo35Vxttdz6jb6Pf3Imt7n7W8EsSTMqHb5inciuynlQerY7E9a37uVoLKeZAC0cbMAemQM0NJJt9Au20jT+2x+jflR9tj9G/KuT+3av5NpGZ7BLi6jefzGt38tFVVOzG/JOW+9kcA/LVObxPffYJNRhjt0gjEam3kRjIzPErht24DA3jjbyFPIoaSbXYFJvY7j7bH6N+VH22P0b8q4O28Qa1Is8bmxknD7ItkJTpJtPytL85xztBB4PXpW1a6hPc2NhMs1oWlmMcxYNHuxuBCKeQ2V+6emG5OM0JJq6FzO9jqI5FlXcvSnVUhhiuLKWG4jSWKTKujqCrAjkEHqK42a38N2GiNfXVlpkEWpXR+x28oSKB8KVjZui42hnyeRu45wKiWjNFqjvabJIsS7m6V57fKRq1lHDc2lzKiWP2K7kYPNOofEnk/UZLsCeOoIOR3l7/qR/vU0K+gfbY/Rvyo+2x+jflXGm+1SyvtduJ7m3mtrVQ8UJhZCPkBHz7yMevHPJ46VHqN9rP2R4Yry0jube+t43mS2bY6uycbfMyPvc8nI9M8VZE8zO2+2x+jflR9tj9G/KuQudZ1G2123tRHHPbb44bmRItu13HXJkyOxwFf3YdruiR+S+owCSaRIrvannTPKVHlocbmJOMk9+9NRT/r0/wAxOTR0X22P0b8qPtsfo35Vx2tahfWGszz2s0fk21gJ5IJVZvMAdshcMArEcZwe3FVn8Uaqs9/ONLP2C289Fd/LXLR55z5pYglenljAOcnukk19/wCGg22vw/E7r7bH6N+VH22P0b8q4i3vdYiv7q2a7tZbiS/SESGF/LjX7Nv4TeSOR03c5PTNW5tXvoL2Tcbd4LeeK2kjWJhJIzqp3qd2ABu+7g8A80WQXZ1n22P0b8qPtsfo35Vwdz4j1aGxR0ewaWeBbmNhC5WNSjttYb/mPycNkZ544p48RamLeOSRrMCPe1xIIWICgjHyh9yDBPz4YDHIFCSbsJyaVzuftsfo35VYByAR0NYEc0ranPEz25hSJGRVY+aCS2Sw7LwMfRqm8S26XHg6/EhcBLR3GyRk5CHGcEZHseKmfuq5cPedjZormr7StN1DVtKR9OtZbsBbmS4aBTIqR42gNjIy5Xv0DVV8NTX0vi/U5NT0m8s7i4tYXdppIWRQHkCIuyRjjB9BkhicZGTrYE7xv6HVyzpEQGySfSo/tsfo35Vn+Ibp7HTru6iCl4LZ5FDdCQCRn8q51NY1R74ab5tkLlirrc+Q3lhShbbs35LfL/eHBzjtT0JbaOy+2x+jflR9tj9G/KuJtfEd/cyR3G21Ft5ltG0IRi7GVV5V92MAtn7vIHarFrqMusW8FvdDyxcWAuXMEjxOr7gMBlbIH40af15ahdnXfbY/Rvyo+2x+jflXC3mvahpvh/TZbOP7VILEXNwHXezKqrklmkXHXr8x/wBk1oWLavJrmrI97bmBCvkIbZsplAQc+ZyB34GT3FU4pOwlJs6r7bH6N+VH22P0b8q5G3v9QbT7OGKW2S7nnnjaaWN3jGxn6KXzzt6buBn0xUNp4hv7to51W2S3ElukkexizeaF5V92Bgtn7pyPTrSsr2Dmdrnai8jJxhh9RU9YNvLLJd3SSPbskbqIxGxLqCoJ3jsck49sVT8dJYyacq3UlrHc+XIbY3cZdWOBlY/mAEp42thiOcA8iplZFxuzqqK4e8/s/wD4SiKRQplKSC9giRheqvkNlmcNuMWNoCqB85Ug54rT8HJbIuorYPZy2vnqY5NPjEdufkHCqCfmH8Rycn06BAdBJcpE21sk+wpn22P0b8qw/Fks0OnyNayGKXzoFVgTxmRB2xxzyKyJNa1RDNB5liJ7VZpJZXiYJKqbThV35Xh+SS2MdDnitCW2dn9tj9G/Kj7bH6N+VcgniK4IgZ44YxJczxkSErtVI2dSSTx0GT0xVKXxJrEVrFAtslxqM0yxiOKAL5QMbPyrzBX+4QCsmDz6YLsv68xKVzvPtsfo35UfbY/RvyrhYdW1Yai9zJ5cSeVZCe0k+faZHZTsZX2qec/xZwB71bs7651aBYr9kEV5afaovsjPC8IyPlZw2SeRyNvQ8UNJApNq51/22P0b8qPtsfo35VwGq6nqKeD1SyuVhl/sV7qS4kDM7ERgfKQwIbJzuOcccc1rW2q3ba99mmaBbVnMcWEJZyqbj+8DEZ65Qqp4zk4qnFXt/WgczsmdWl1G7BRuBPTIqasPTZZZmYzvbuVuGVTAxIChsAHP8WOo9aXXIEOr6HcZfzBe7APMbbjypD93OM++M1m9LeZa2flf8DbornYbKzHiTW4rpBNbS2kEkyXLGRTlpichieOOnQYqx4W0+2s9Jae0s4bNb6Q3PlQxCMKpACDaOh2Bc++aQzUe6jRip3EjrgU37bH6N+Vcz4t1W80m187T/I3l5C3nxlwQsbvgAMOTtxn9KyI/E2tS6ilrBp6XAgbF1LGqIhBmePI3zArxHngPknHHe7IjmZ3v22P0b8qPtsfo35VxNjfarqGrwyfaoIlubCWWGHyXKxHzEA3jf87AEjI296ivfEOo2HhvT7mzhS4nNibqdNhbKqq7jl5VwMt1LM3s3NCSaT/rr/kF220d39tj9G/Kj7bH6N+VcnDrF9JrPlkW/wBk+2m02bG8z/U+YG3bse2NvvntVzxBLcwaHczWckaNEhdvMVjuUA5AKspU++ePSnyoXMzoPtsfo35UfbY/RvyrlL7Vr6DV5YYPs/2e3a2Dq6MXcSyFDhg2FxjPQ56cdahTW786cLtnscXQT7PEVYPDukVMuN3zgbgSRtwRjvkKyHzM7H7bH6N+VH22P0b8q4O78QazFdG1iksPMhl8qWRrZyshOMFR5g24zyCTyDzU+i+ItV1XU492m+Xp7kxmU+WMMFzkHzSxyf4fLHBzn1IpS2E5NOzO3S6jdgo3AnpkVNWHpssszMZ3t3K3DKpgYkBQ2ADn+LHUetLrkCHV9DuMv5gvdgHmNtx5Uh+7nGffGal6W8y1s/K/4G3RWNr18W0fVbbTpT9ut7fcwTIZAwOCCO+ATxzxXM3H2C70C3jmudBisrG+byppLPfZXP7ongb8A5kYZ3HLKe/FTcZ39NkkWJdzdK5u1RJPEGh3gge2e406UtAXbbFxFhQp4XGccAVvXv8AqR/vVVtbCvpcPtsfo35UfbY/RvyrztfFurxRzSzxWtwuweXFBCUbcyqRlmkwQN3PT6irT6zrk1kbaeCLT7wxzu0ksYYbUVMfLHK21j5nHznhScc4BeNm+wldux3X22P0b8qPtsfo35VyNle3ULRSXc8ckP8AZgnUlXDKQFyWO4hs5zkKD9aqWmv6xOy208MMFzJcJGryQYGx4nYNsWVu6d2BI7DrVuKTt/W9iFJtX/ra53P22P0b8qPtsfo35VjaVdS3mmxTXAQSncr7AQpKsVJAPQHGcc1zVprWp2lqoklhnW4knWFpEbdERdCMFju+ZQJM4G3AXGe4OVDUmzvvtsfo35UfbY/Rvyri5PEF9bfa4phbSSWltcyNKqMqu8YjIwNxwMSYIyeR1p8/iC8tr6VpVga1RSERELPI4h8wjeGIVuMbWUccgnpS921/mO7Ox+2x+jflR9tj9G/KuX8O6lqmoRzHVrL7NgI8R/djerA9klk6Y+8SM56DFS3up3FtqqWKLGXuDGbcsD8wyfNzz/Coz+IpuKTsLmbVzo/tsfo35UfbY/RvyrjtM1S71i9ubO+iKWssJlt5ocwll3Y4ZZC3pyQh9vSOHWbqx0GyIIlI0aS6MkxZmZ41TGTnJzuOe/vS0tf+uv8AkPVux2v22P0b8qcl1G7BRuBPTIrjNN13Vb/XDEdO2aeJHhMx8sYZRnIPmljkj7vljg5z67umyyzMxne3crcMqmBiQFDYAOf4sdR60+VCUmblFcV43WN9StjM9uhjt3aIXCbmmfcvyQHI2TccNhjyOD2saOLW38ZXYhOnXNxO0zyvHa+XdW+GGFkYkkqRgDhc4BGR0yTv+P4Gj0/A62isDxHDpuq6PCWtrO/kuiIrKSSJJgDJ/GucjAUFuOoWuZ1C3ltfEb2unpZw3dvcW62AODcNbCJAyoP4YwRISeQTkYB5ovYZ6LUUlykTbWyT7CuQ8Cc3Vy0H2VIWtLfzY7XkJPl9/mN3lIwW4BHAOcAnoNQhW4aWKQuFcYJjkZG6dmUgj6g1dtSL6Fz7bH6N+VH22P0b8q422v76PSdLt7SaISyWjzPPeBpchNowfmByd33iT0PBp9pr11dI16zWlvZr8pgmDCXPlCTIYHnr93bnAJz2p+7a4rs6/wC2x+jflR9tj9G/KuBl1jXbrRL0Ex2V3bywMJGt/vRuR/CszY+pbOM/KOtbc738OqaWk88EkcrMkgjidCXEbtuHzkY4+6QfXNPlV7C5jo/tsfo35UfbY/RvyriZvEOowqko+yMl0xEKBG3RATJGd53fNw/YLgjHNaMN9fGzkE0ll9ohvFgeRg0cbqWXOBkkMVbAGTlsetJJMHJo6qKZZQSueOuafVK2wIZtwYjbyFznv0xzmuMs00cW+rIJdNOmuIDHMsB+yxuS+FnTf8zj5d5ZhnKZCkVD0Za1Vz0CisHw7d29n4d02KeRUM8jwwbR8shy7DYB0QqpKjsuBk1iQG4u9S1eyee0jvrz7TG7BT9otY1YiJmO7/VlduAAvJyCSTQ9GPpc7miuZ8JSxQ2V3JssbOykulW1SzkzbnKIP3bFVDAvnoBk569TsvLqg1RY47O0bTyPmnN2wlBx2j8vB5x/GP6UCLtFczp+nwfZfENnmcwrecZuJNx/cRHl87jz1yee9Ymoz358OeHVXSry8s4YrGcyQSwgPLvjwrB5FPH0IJZTkYoWv4fiPrb1/C3+Z6DRWXqtxb3em6rYLceVNHanzT5bOYg6thto+90PA9K4wy26WcMNu2gxaZDcSM11FbbbO5kEaFAUD4LcsPvNygPUYCvbcPQ9HoqGzme5sYJ5YmheWNXaNuqEjJB+lTVTVnYSd1cKKKKQyqn/AB9XH++P/QRUb/fb61In/H1cf74/9BFRv99vrTYhtFFFIZBf/wDHu/0rXrIv/wDj3f6Vr02IKKKKQwooqhrl5LYaDe3dvt82GFnTcMjIFAF+iuYTUNWh1KSOa8ilit7uGFlEG0yLIFPXPGN344rPuNc1e7sb4wzpEWt7gqgjG63KA475J4x0HWnYDt6K5W5vr8wXMQvIpYrfShcOwi/1zESDqDwPlHSp7HU7me8XdfW8Ecciwi0dPmcbAdwOc9+OO1AHR0VzWka1qE7XKTBby5VFkWCIKihSxHD5wfxwatTWGp3et2N+Ll7WCOM+dabgecjjI/zxSA26KKKACiiigAooooAKKKKACiiigAooooAKKKKACiiigAooooAKKKKACiiigDO1qIT2kcTBWDygEMMgjBrMXwrpklmlrJpmntbo29YWt1KK3qFxgH3rT1v/AI9Iv+uo/kao6VeQ3ipNaSb4zIU3AEchipH5girWxD3LMWiQQxhIbe2jQFSFRAACoAU9OwAA9MCsu28C2VstyBLMGuWVpJIJfsrHbkgZgCZ5ZjzknPJPFaV9e6ja6tbCP7MbWaZIRCUYyyZBLMGzhQo5wVOQDyMitG8JEIx3bmkm2NpIzI/DlqkCxNDHOFXbuuWaZyMEYLvljwzDk9CRUi6DbLcTXC2lqJp12zSCMbpB6McZI+tNlkEUTyOGKopYhFLHj0A5J9hWZpXiGz1W1t5kWaBrgkIk8Dx5IGSAWUA8Anj0Poap+ZOhcbwhpLWy27aTppgVt4iNsm0NgDONuM4A59qlHhqwW4S4FhZCaNQiSCFdyqBgAHGQMcYqhD4i0y4uIoYp3Zpdu1vIkCfMMqC+3aCR0BPNT2urWV5LJHbysTGu4lomUMv95SQA491yKALFz4ct7q3EJUwKFVQbWd7dgq52rujKnaMnjOKb/wAIvYtFAlxaw3RtwRFJdkzyLnr875b9an0q7ivY7e6tJPMguIxIjgEblIyDzWm7rHGzyHaqgliewFKTcdxpJnPW/g+1g1e61Ftks1yjIweKMAKxBYfKgLZ2j7xbp9auR6Baw2YtIrS1jtlIYQrGAgIOQduMdefrVC38XSTalPEdNuRGYLeS0hwnnXBkMvI+faF2x5+YqRhs9quw+JYLmeOK2sryZsDz9iKfspLsmHG7J+ZWB2hsbSTxg0rtaDaVzTt4TCG3EEn0qaorkkW7Ecf/AK6zmbapY5wBngZP5UWvqF7aGtWbdaRHeQPBdRQ3ED/ejmQMrd+QRisdPEFkbJLmQyqskzxRotvKZGZc5GzYGBwpOMdu9RX3ieytY7Y2++5a5eAIEjfaFlkCBmYKQvUkBsZximl0Fe5sDQLVbqK5W0tRPCnlxyiIbkX+6DjIHtTX8OWUhuDJY2bG6x9o3QqfOx03cfNj3qj/AG/pv78mdlWBS7u0LhSoOCykjDKD1K5A71KNXsTbicXAMTTi3Vwpw0hbbgHHPzcZ6U9xaIkk8I6TNHFHNpOnSJDny1a2QhMnJwMcZPNLb+GYLa6luEkuXaUMGSa+mljwTkgRsxUfgOBwK0rN9qSFjhV557VQHieH+y5tQexvI7dEWSN5BGomRjw6sX2qO+HKkDqBUuVikkyS50K3vbdYLy1tbiFCCscsYZVI6EAjFJLoFrNdC5mtLSScIYxK8QLBT1XOM45PHvUFvrz6l/Y99pksDaffTPDIjpvfISQ5WRXK8FMcBgexq3Hqsz3moQ/YbjdaIjJFiMNMCWwVbzMYO3o20jv14HJrcOVaEUnh+0likils7R45Pvo0QIbnPIxzzzUi6NCsUMawW4S3IMKhBiMgYBUY44JHHrWRoPiK7l0G0vb201G5utQTz47UC3yqbVJKYYDYNwHznfz0rVHiCGW6SK0tbm5RraO6aeMIESN920ncwP8AAeACelDk1v0HymlBF5Ue0nJzmpK5/wD4SpZtLubq20693RWyXKIyxkvE4YrIB5gBHynKlg3HTkVNqniiy0aayivgw+2FQr740AJIA4ZwzHJ6IGIpPezDS1zaqOeIyx7QcHOap65fy6Zo8t3AgkkRkAUjOcuAe47Gqh8TJt2rpt810HdZLRRH5kYQKWYnftIw6dGJ+YcdcK+o7XJn0O3ku/tUltbNcbPL85owX2/3d2M456UxPD1nHYNYx2Vmlo+d1usQEbZ65XGKfD4isrhkEIldZLlbdHCjBJhEobrnG0/XPaqyeKFutDutRstOvHSGPehxEd68/MP3gHGOVLKw9Bmm5NCUUyT/AIRqw86Gb+z7LzYFVIn8ld0ar90KccAdgOlQf8IfpiQyx2tnDZecR5j2Ja2dserx7W/WrVx4hhtrxbdrW5lwsLSzRquyISsVUnLZ6g9AcUtl4hgvdVWyjtblBIkrwzuE8uURsqORhiw5YdQM07u9hJJkEfhaxRYBJbR3L25zFLds08iHJIO+TLcE8c8VP/YVsLuS6Fra/aJV2STeWN7r6FsZI9qNd1i40lrEW2nTX32m4ETCJoxt4J/jdeTj6cHOOKlOr/8AE0aySxu3McaySyqE2Rhg2AfmyT8pGFB7UubS4cqTILbw9aWSKlnZ2luqvvVYogoDYxngdcHGfSntokD3yXr21s10i7VnMYLqPQNjIHJqhH4ytr3RNQvtOt5pnsQRLHG8EpT5c7jtl2nHddwb2FXrrxBDaX/2VrW5l2iIyzRquyISMVUnLA9VPQHFPmYcqGR+HLKJZFisbNFlcvIFhUB2IIJPHJwSM+9LJ4ds5miaWys3MLb4y0QOxuORxweBz7Vo3hIhGDjLVnu6xxs8jBUUEsxOAB601tcTtexMulhbh51SJZXUK8gX5mAzgE45AyfzNaCrtQL6DFcuviHTmtfPDz43hAhtZRIxIyNse3cwwCcgEYBPY0/+3dO86CMTljOqsjLGzIAxwu5gMLk8DcRk02riTsdNRXMLr2nstwyySlLdijv9nk2lg2wqp24ZtwxhcnNSrq1k1nFc+cVillEK70ZW3ltoUqRkHPGCBS5R81jU1TTV1OzmtnYqk0TRPg4IBBBx+dUU8Lacmn/YRp9ibXduMJgXYzf3iuMZ96vQz+RazyvkrEhcj6An+lZfhrxDNrFzNDO8E22CK4SS3iZEAcsCmSSHKlcFhgZyMAipvZtD0auyWLwvaRarJqPkQNdNtCyMgLRALtwpxkDHvSnwvpxE4Om2BFwczAwL+9Oc/NxzyM8963KKLhyowT4S0o2sdsdK04wRklIjbLtTPXAxgZqeXQLWe4M89paSTGMxGR4gWKHquSOnJ46Vr0U+ZhyowU8J6XHaPax6Vp627sHeFbdQjN6kYwT71b/sePn9zByysfkHJX7p6dRgY9MVp0UczDlRnx6Ysc0kipEjSkGRlXBcgYBPrwAK0KKKTdxpWCiiikMp3dgt0x8xY3QkHa4yMjkH8wDVSfQLW62/arS0m2yeaPMiDYf+9yOvHWteindi5UZH9gWv243v2O0+1MMGfyh5h4x97GenFRr4Y09bJ7NdOsRayNveAQLsZvUrjBPA/Ktuii7FyoyxosI6W9uOEHCDohyvbsenpUJ8NWBjuIzp9kUuW3Tr5K4lOc5YY+Y555raop8zDlRhf8IppZtY7U6Xp/2eJi0cX2ddiE9SBjANTroVul816lrardMu1pxGA5HoWxnHArWoo5mHKijbaats37pI41LmRhGuNzE5JPuT3q9RRSbuO1gooopDM+70uO8JE8UMyEn5ZVDYyCD1HoSPoagfw/aSTRSvZ2jSQszxOYgWjYnJIOOCTycVr0VXMyeVGJ/wjOnlp2On2O64yJj5C/vcnJ3cc8gdaYPCWlC2S3GlacIEYusX2ZNqsRgkDGAcVvUUrj5UZTaJCyMvlRJuYsWT5WDFdu4EchtvGRziqaeD9PFq9vcQm+hdgxTULiS7AIBGR5pbHU9K6GinzMXKjJi0G2gjEcFpaxoAoCpGAMKcrxjseR6Ui+H7RTcFbO0Buv8Aj4xEP33+9x83U9a16KOZhyoyI/D9pFEkcVnaJHGMIixABec8DHHJzSx6Daw3f2qG0tY7jYI/OWMB9o6LnGccdK1qKOZhyoo22mrbN+6SONS5kYRrjcxOST7k96vUUUm7jtYKKKKQwqOeIyx7QcHOakooAyRoVsoIW1tQGXacRjkYxjp0xx9KiPhnT2s47Q6dYm2jbekJgXYjeoXGAea26KdyeVGIPC+nC9W8GnWIuVACziBd4GMYDYz04+lOtvDdjZY+x2Flb4YMPKhVcEZAPA6/MfzPrWzRT5mHKjBl8L2813Hcb7iJoyCqQXs0UfXPMaMFOSecjnvVk6HbtGY2trYoVdSpjGCGOWGMdCeT61q0UczDlRiP4Y0+W1itpNOsXt4TmKJoFKIfUDGB+FSjQrZb37YLW1F1t2eeIxv2+m7Gce1a1FHMw5UYEvhOxe28iGL7HGZPMYWE8lqWbGMkxFSfxq3Fo6wpCAFcwLsjkldpHA7/ADtljnHJJ5rUoo5mHKjE/wCEY04GcjTrHNxkTHyF/e5OTu45yQDzTB4S0oWqWw0rThAj71i+zLtVsYyBjAOO9b1FK7DlRkpoVvHem8S1tVumXYZxGA5X03Yzj2qxbaats37pI41LmRhGuNzE5JPuT3q9RT5mHKgpGAZSD0IxwcUtFSUR29vFaW0VvboI4okCIg6KoGAKkoooAKpXunJerJHOkcsUg2vHKu5WHoQetXaKAMJfCelpai1TS9PW3D+YIhbqED4xuxjGcd6sf2JB9sN39mtvtJTYZ/LG/b/d3Yzj2rVoquZk8qMWDw1Y2tvLBbWFlDDMu2WOOFVWQc8EAYI5PX1pj+E9LkaFpNL09zbgLCWt1PlgHIC8cdT0rdoo5mHKjIHh+0WaWVbO0Ek5DSuIhukIOQWOOcHkZqR9HjkUrJDAwMglIZAcuCCG6dQQOfYVp0UczDlRDbwmENuIJPpU1FFSUFFFFAEU9tFc+X5yb/LcSKCTww6H3qWiigAooooAKKKKACiiigAooooAqp/x9XH++P8A0EVG/wB9vrUif8fVx/vj/wBBFRv99vrTYhtFFFIZBf8A/Hu/0rXrJvx/o749KnGt6cVBN3GvsT0qmIv0VR/tvTf+fyL86T+29N/5/IvzpWYy/SOiyIUkUOrDBVhkGqP9t6b/AM/kX50f23pv/P5F+dFmBc8mIsSY0ySGJ2jkjofwqNbG0SeSdLaFZZBh5BGAzD3Peq/9t6b/AM/kX50f23pv/P5F+dGoFpLW3jj2JBEqbNm0IANvp9OTxSfYrX7Stx9mh89RtWXyxuA9M9arf23pv/P5F+dH9t6b/wA/kX50agWYLS2tWc21vFCXOWMaBd31xU1UP7b03/n8i/Oj+29N/wCfyL86NQL9FUP7b03/AJ/Ivzo/tvTf+fyL86LMC/RVD+29N/5/Ivzo/tvTf+fyL86LMC/RVD+29N/5/Ivzo/tvTf8An8i/OizAv0VQ/tvTf+fyL86P7b03/n8i/OizAv0VQ/tvTf8An8i/Oj+29N/5/IvzoswL9FUP7b03/n8i/Oj+29N/5/IvzoswL9FUP7b03/n8i/Oj+29N/wCfyL86LMC/RVD+29N/5/Ivzo/tvTf+fyL86LMC/RVD+3NM/wCf2L86X+29N/5/IvzoswL1FUf7b03/AJ/Ivzo/tvTf+fyL86LMC9RVH+29N/5/Ivzo/tvTf+fyL86LMBmt/wDHpF/11H8jVHSop41RLmb7RJvJLhNvG4kDA9Bge+M1audQtbxoY7WZZWEm47ewwf8AGr0Q4p3siWrsoy6K0uuLqaaneRMEWPyFWIx7QckfMhYbu+CCcD0FXrwEwjA6NzUwpalaDepzcUuqnUmSays0ssnbMl47SEdsx+UAP++vzrKutDuxo8Wlq/mp9oHkzwoI2to8kksSx3HaSuVHO7oBkjuaKq6YuU4n+w7qXWrktJHBp3nQSrEI8s5jVcYbd8oDKOCvOKfoHha28PtJ9kisUynlxyQ2Sxylf+mjgkuenPFdnRRzWFymVpUU8Udul1N9omSMCWYJs3tjBbaOmT2qR7bVZNSYyXti2mNkG2Nk/mkbcY8zzcdf9jpx71o0UpO7KSsYEXhKCF2kXUb4zhIkhmJj3QLHv2hfkweJGB3BiQeanh8NwW08ctteXkTYHn7HUfaSHZ8uduQdzsfl25zg8YFbFFIZFcgm3YDn/wDXXP8Am6udSaP7HZLZc4uPtbmTpwfL8sDr239PyrpaKpOxLVzjbLQ76K4glvr+3mEN09yohtWjyXVwQcyN/fyPp78Qt4XlCQxQ36LCDbtOrW5ZnMLh12ncNucYOQa7iijm28g5epw1h4Qh0yO6Sx+w25mQxLPDYKs2wnJ3vn5zjocAZ5INaFlpMum6VBp9hd+VDbyKIsxbiIQf9XyeePl3denU8nqaKalYTjcqWabkkDDKtxz3qgnhmJNP+yDUL4ohj+zksh+zCM5QINuDjHVgxPcmtqioeruVbSxhf8IwVjtEi1nUY/s08lwGUQEu7lyS2Yz/AH2GBj+tW7fR3t9ZuNQbU7ybz1CNbusXlgAkqBhA3G4/xfXNaVFAzIHh2GLTLCztLy7tTYQiCK4iKGQptAIO5SvO0Hp1HGKs2+kW1qz+RvRWto7UJnhUTdtx3z85/Sr1FD1vfqO+tzGfw1D/AGc1pBe3VuGs47MyR+WW8tNwH3kIyQxycfTFMm8LrOsfm6rflxGsUrjyQZlViyhsR4GCT93bnvmtyijd3F0t/X9aGPLpmp3zzw6pqFpJYuwZI7azaKVcOGXLtKwPTB+UZ9qdc+HoZ7iS4hvLq1nkdmaWEpnDKisnzKRg+Wp9cjgitaigDFTwvaRX0U8FxcxQxSLKtqjL5e9Y/KDZ27vuYH3scZxmmDwtGtrexrqd8JLyNYpLg+UZBGucLkpg/ePzMC3PWt2ijcNjIi8PRKknn3l1cySJCjSybAxETs6/dUDq2OnQDvzWdb+HtUt9bmvLa7ht44opo7JJf36J5siOxKBY2A+TpvbrwQBg9RRR1uC02MptLvL3TUh1W/T7VHMJY7mxt/J2EdMLI0gz1Bznr0FWTpkLm6MrSSfaoVhl3EDIAI7AYJ3GrlFG6sHW5gnwsDp93atq+oH7XEsMkuIdwRQRtA8vaOG9M1ZXQIv3huLu5uJZUhR5ZNgJETs68KoHVsHjoB9a1aKAILwEwjAzhqwC2rTXcsEtrZw2bBlW4ju2eUccHyzFt/DcR9a6aimnpYlrW5xFv4buraON4r+FbiCXzIAtswgjGwoR5fmcZDH7rAZA465sy6JcSzgtfhopPKNyGgG6RozkFSCAucDIweOmOtddRT5hcpyN54dhvtCl024aOVXuGuB5sIdNxlMgDIT8y5OCMjI9KlstJfT9LgtLF7W08uUO4tbRY42XdllVM/LkcZyT3rqaKfNYHG5UtIw8cquuUcYIPcVBpWiQ6SzGOeecmNIUM2393GmdqDao4GTyck9ya0qKnrcq2lgooopDCiiigAooooAKKKKACiiigAooooAKKKKACiiigAooooAKKKKACiiigAooooAKKKKACiiigAooooAKKKKACiiigAooooAKKKKACiiigAooooAKKKKACiiigAooooAKKKKACiiigAooooAKKKKACiiigAooooAKKKKACiiigAooooAKKKKACiiigAooooAKKKKACiiigAooooAqp/x9XH++P/QRUb/fb61In/H1cf74/wDQRUb/AH2+tNiG0UUUhj5o96kGsG+tYoUuJ5d2yFSxCZzgLk8DrXRkZqheWf2mO4hliLxTqVbaQMgrgjrVx3IZz2mJHqOmWt8kUkQnVXCSE5AJq7eWQt7GeaONWeONnUN0JAzV+00/7JaW9rFG/lwhVUuwJwuOpz7Us2lyTXhlbUboQMMNaBYvLIxgjJTfz/vUTu72HDTcwI7iLMMU9uRcSiIhE5Db88g+g2sT7CqzavaxW0E1zatAt1GJLfe6gOCyr8xzhcbgfofXiuji0CGLUrW5DZjs7doYEYszLuxkl2YluAAPTJ5OahsvCtha2MUEokmdIlj80zOCMEHKfN8nIB+XHQegob1BbalXTUt9SsxcRJgbmQ8hhkHGQRwR3B/l0q3/AGbH/d/StO2s4rSAQw7yoJOZJGdjk55ZiSfzqXyx6UXAx/7Nj/u/pR/Zsf8Ad/Stjyx6UeWPSi4zH/s2P+7+lH9mx/3f0rY8selHlj0ouBj/ANmx/wB39KP7Nj/u/pWx5Y9KPLHpRcDH/s2P+7+lH9mx/wB39K2PLHpR5Y9KLgY/9mx/3f0o/s2P+7+lbHlj0o8selFwMf8As2P+7+lH9mx/3f0rY8selHlj0ouBj/2bH/d/Sj+zY/7v6VseWPSjyx6UXAx/7Nj/ALv6Uf2bH/d/Stjyx6UeWPSi4GP/AGbH/d/Sj+zY/wC7+lbHlj0o8selFwMf+zY/7v6Uf2bH/d/Stjyx6UeWPSi4GDcacgVSEz868DvyKl+wj/n2k/8AHf8AGtO4jGE4/wCWif8AoQqy4SNC8hVVUZLMcACi4GH9hH/PtJ/47/jR9hH/AD7Sf+O/41veWPSjyx6UrhYwvsI/59ZP/Hf8aUWQ/wCfWT81/wAa12eJGwzc/SgTQf3v0NGotClb2/lNuFrJn6r/AI1oJK4H/HtL+a/40C4hH8X6GnC5h/v/AKGjUeg4TP8A8+0v5r/jS+c//PtL+a/40guof7/6Gl+1Q/3/ANDS17BdB5z/APPtL+a/40ec/wDz7S/mv+NH2qH+/wDoaPtUP9/9DRr2C6Dzn/59pfzX/Gjzn/59pfzX/Gj7VD/f/Q0faof7/wCho17BdB5z/wDPtL+a/wCNHnP/AM+0v5r/AI0faof7/wCho+1Q/wB/9DRr2C6Dzn/59pfzX/Gjzn/59pfzX/Gj7VD/AH/0NH2qH+/+ho17BdB5z/8APtL+a/40ec//AD7S/mv+NPSRZBlDmnUDIvOf/n2l/Nf8aPOf/n2l/Nf8alqI3MQOC/6UCDzn/wCfaX81/wAaPOf/AJ9pfzX/ABo+1Q/3/wBDR9qh/v8A6GjXsF0HnP8A8+0v5r/jR5z/APPtL+a/40faof7/AOho+1Q/3/0NGvYLoPOf/n2l/Nf8aPOf/n2l/Nf8aPtUP9/9DR9qh/v/AKGjXsF0HnP/AM+0v5r/AI0ec/8Az7S/mv8AjR9qh/v/AKGj7VD/AH/0NGvYLoPOf/n2l/Nf8aPOf/n2l/Nf8akV1dcqciloGRec/wDz7S/mv+NHnP8A8+0v5r/jUtFAEXnP/wA+0v5r/jR5z/8APtL+a/41LUbTxI2Gbn6UCE85/wDn2l/Nf8aPOf8A59pfzX/Gj7VD/f8A0NH2qH+/+ho17BdB5z/8+0v5r/jR5z/8+0v5r/jR9qh/v/oaPtUP9/8AQ0a9gug85/8An2l/Nf8AGjzn/wCfaX81/wAaPtUP9/8AQ0faof7/AOho17BdB5z/APPtL+a/40ec/wDz7S/mv+NH2qH+/wDoaPtUP9/9DRr2C6Dzn/59pfzX/Gjzn/59pfzX/Gj7VD/f/Q0faof7/wCho17BdB5z/wDPtL+a/wCNHnP/AM+0v5r/AI09JFkGUOadQMi85/8An2l/Nf8AGjzn/wCfaX81/wAalpCQqkscAUAR+c//AD7S/mv+NHnP/wA+0v5r/jR9qh/v/oaPtUP9/wDQ0a9hXQec/wDz7S/mv+NHnP8A8+0v5r/jR9qh/v8A6Gj7VD/f/Q0a9gug85/+faX81/xo85/+faX81/xo+1Q/3/0NH2qH+/8AoaNewXQec/8Az7S/mv8AjR5z/wDPtL+a/wCNH2qH+/8AoaPtUP8Af/Q0a9gug85/+faX81/xo85/+faX81/xqRXV1ypyKWgZF5z/APPtL+a/40ec/wDz7S/mv+NS0jOqLljgUAR+c/8Az7S/mv8AjR5z/wDPtL+a/wCNH2qH+/8AoaPtUP8Af/Q0a9hXQec//PtL+a/40ec//PtL+a/40faof7/6Gj7VD/f/AENGvYLoPOf/AJ9pfzX/ABo85/8An2l/Nf8AGj7VD/f/AENH2qH+/wDoaNewXQec/wDz7S/mv+NHnP8A8+0v5r/jR9qh/v8A6Gj7VD/f/Q0a9gug85/+faX81/xo85/+faX81/xqQEMoKnINLQMi85/+faX81/xo85/+faX81/xqWmvIsYy5xQAzzn/59pfzX/Gjzn/59pfzX/Gj7VD/AH/0NH2qH+/+ho17Cug85/8An2l/Nf8AGjzn/wCfaX81/wAaPtUP9/8AQ0faof7/AOho17BdB5z/APPtL+a/40ec/wDz7S/mv+NH2qH+/wDoaPtUP9/9DRr2C6Dzn/59pfzX/Gjzn/59pfzX/Gj7VD/f/Q0faof7/wCho17BdB5z/wDPtL+a/wCNHnP/AM+0v5r/AI0faof7/wCho+1Q/wB/9DRr2C6Dzn/59pfzX/Gjzn/59pfzX/GpFdXXKnIpaBkXnP8A8+0v5r/jR5z/APPtL+a/41LRQBF5z/8APtL+a/40ec//AD7S/mv+NS1EbmIHBf8ASgQec/8Az7S/mv8AjR5z/wDPtL+a/wCNH2qH+/8AoaPtUP8Af/Q0a9gug85/+faX81/xo85/+faX81/xo+1Q/wB/9DR9qh/v/oaNewXQec//AD7S/mv+NHnP/wA+0v5r/jR9qh/v/oaPtUP9/wDQ0a9gug85/wDn2l/Nf8aPOf8A59pfzX/Gj7VD/f8A0NH2qH+/+ho17BdB5z/8+0v5r/jR5z/8+0v5r/jR9qh/v/oaPtUP9/8AQ0a9gug85/8An2l/Nf8AGjzn/wCfaX81/wAaPtUP9/8AQ0faof7/AOho17BdB5z/APPtL+a/40ec/wDz7S/mv+NH2qH+/wDoakV1dcqcigCPzn/59pfzX/Gjzn/59pfzX/GpaKBkXnP/AM+0v5r/AI0ec/8Az7S/mv8AjUtFAEXnP/z7S/mv+NHnP/z7S/mv+NSEhVJY4AqP7VD/AH/0NAg85/8An2l/Nf8AGjzn/wCfaX81/wAaPtUP9/8AQ0faof7/AOho17BdB5z/APPtL+a/40ec/wDz7S/mv+NH2qH+/wDoaPtUP9/9DRr2C6Dzn/59pfzX/Gjzn/59pfzX/Gj7VD/f/Q0qzxO2Fbn6UBdCec//AD7S/mv+NHnP/wA+0v5r/jUtFAyLzn/59pfzX/Gjzn/59pfzX/GpaKAIvOf/AJ9pfzX/ABo85/8An2l/Nf8AGpaKAIvOf/n2l/Nf8aPOf/n2l/Nf8alooAi85/8An2l/Nf8AGjzn/wCfaX81/wAalooAi85/+faX81/xo85/+faX81/xqWigCrEc3E5II+YcHt8oqN/vt9akT/j6uP8AfH/oIqN/vt9aGIbRRRSGWiKYzohwzqD6E1LWRreo/wBk6Ze3qxGZogCsYDHecAAfKCRk+1MiTsrmiJI2OFdSfQNT9tc54Tv9Q1PQYrvVNm+SUGNlDLuTIAbBVevJ78H8A/ULu9ttcvJYLjEMSWmYWXcG3yurd+OPTuBnPSgUZcyudBto21ycnieeHbI13bN8267iK4NkomRTuOeAFLZLdxkYAIpbnxS4Mc8N3bm1aeREMW1nlAZQpUMw3rhjnadxJXGe4nd2Rb0Vzq9tG2uLm8QajdtPbpKkEokwybk3Q4nRV+VX3YIPO4DORjA4q9NrdzbXUtreahb2kcMkqi8mQAOVSNlQ8gZw7ZxyQhxjnCv/AJgdNto21x8Wu3QaX7ZcppomLSbrjkJIIYSIRkjHLMcDk4OO5qbRNbuHutLs7m6SQz20RCLtZj+4DEvlg4Ytk7sFccHk1X/A/EVzqttG2nYoxSGN20badijFADdtG2nYoxQA3bRtp2KMUAN20badijFADdtG2nYoxQA3bRtp2KMUAN20badijFADdtG2nYoxQBXuF4j/AOuif+hCpboILOYyQtOmw7olXcXGPu4756YptwOI/wDron/oQq1igDO0a1ntNJhhuvvrnCbt3lqSSqbv4towue+M1e20/FGKQzlvEd1c2cCPY7fNe8ijwxwGDSAEE4OMg9cZFZ48ST+XI/8AZ8f+iqXvP9IP7sCR0+T5fn/1bHnbxj1rpr3S1vGAmi8xVlWVfmxhlbcD17EVRk8L2csqyNatkMWIWdlDksXIYBsMNxJw2QMmtE9P68jJp/18zOXxAzKpSyeRmW6YJG+WYwvtwBjkt+nvTP7bvJtKFzHb26slykUwiu87ASvTMec/Ngqyqffoa0j4UsmuJpmtGZpldWVp2KYc5fCFtq5IycAc802TwlaS2ZtnjuvLMglYi+lDuwxgs4fc2MDGScYFFx2Klzr8ltfzo1optbedYZZvO+cFkDAhNvIy2DyPXmn6RrM+o3ksFzZpbFbaK5QpP5m5JC4APyjBGzkDI561oJ4fhRWAgZtzpIxeZnLMgAUkk5PCj696yrHwZd2X2l4tSnt5phGiyWoHyRoWKoBMZQB856YHTAHcT3uFiLW/E1xpOoGCKwiuI1jEjO1yUP3ZHIC7DniI9+pH1qKLxkJZ7zbptz9ntxJsm8qVVdkbbgs0YTk9NrN74rZbwtDPGBqAlvZtmx55XCs42uvITavSRhwB19aePDVqr3DC2Yi4DCSMzMU+b72E3bVJPJIAJPNHzFbQwotY1gNffaoYB5OpwW7LHcf6pHSH7pMXz5LknIB5OD0q1ceJTb+IBpxtC8bEoJkLnDiMyYYhNg4HQvu5Hy45q43g6ya3aAxXe15hO5F/MGdwFAJbfk42rjJ4xUv/AAi1obtLkwTNKhyM3UhBbZs3Fd2C2043EZPrQ3pp/WhWnYraLrE2qEie0W33W8VzGUm8zckm7GflGGG05HI6c1FrPiA6TfW8ItTOshXzWUuWjDNtBwqMAOvLFRx164vyeHGW3WPTprjTnWKOES25RmEaZ2r+8Vh/EecZ96ZJ4Wjuki/tBrm7ljUK0zT+W0oByN4j2q2D044ptq+hKTtqZE/i5rVjJPYf6M8Uslu0cjPJJskSPBQJkZaQYwWOO2eKvadrN1qGktdJpcyTrMIzBIHi3DIyymVEbABJ5UZIIHrSQ+Df+Jvc3d0VliljkjSBS4VBIys3WQgHKg5ULzk9emiPD8IsPsbRSvCXEh8y4d2LAhgS5YseQOp7Y6Uk9NRtdjSsf4/wrAbUbvSY9dPm3t/JHdRxwnyGnaPfGhzsjXO1SSSAO3qa6O1iaINv4J7VIkMcckjxxqryEF2VQC5xjJ9eAB+FZy1ZcdEZHhG6+2eGrdzLdTFWkQyXkbpI+HIyQ4B6Y7Vm69e6jZJZnTIbeVpblI38+YpwT0GEb8+3vXVRxpCmyJFRck7VGBycn9ayr7SBf25guUZo9wYGOUowIOQQykEHPoapf5EtaWMmTWp475ovscZgjmjt5ZfPO5ZXVSAF28r86jOQeTxxVGw17UxoV3e6jaWu+O7lgiWK4dt5EzJtIEeeMADAYt6DpW7/AMI5b/bUujBIZUxjM7FWIGAzLuwzAfxEE+9NfwzbOtwphmC3DiR1W6cBWB3bkAb5DnnK4yaq+guhlQapPqMOk38Mk1qk1w0E1qUG1sBwc70DjBTj7p9R2rbuZvs9rLNt3eWhfGcZwM1TbwhZtDBF5d0iQO0kfl38yEMxJLEhwScseTnrUsOg3i3EzXOp3l3BKrL9mmEIRQfQoitwOOWPvk80PZpBbVNlAavqTQ24XTbf7Vcq0scRuztEYC5LN5fDZYDaAR71Xl8Vstq99BZCSxjVAztNtk3uiuoC7SMfOoJzxk8HFbl3oEN7bxQzwyBYRhDFO0bKMYxuVgcY6jPNQy+FrKaXe9ofuBDGszLGQF2glAdpIHAOMjjB4ob1dgitrmLb+Kr6WG4L6VGJIjhViuWkB+faSxEeQB1yAe/TFbFtfz3VlZ3ENskgnfEpinVljXB+YN/EMgDseegwRTm8K2bq4+yspZt25J2Vgc5yGDZU57jFTJoMKQ20S25CWsnmxfvTkPg5YnOWJ3HOc5Jz1oT01FZ3NK1UtauquUJJAZcZXjqM8VS8NNMdNnW4uJbl47y4jEkxyxCysB0wOg7VpW0bRRYbqTmobjTba5tfs5QRxmZZmEYC7mDh8n6sOfWoe5p0sYusmaHxFFdyEy2cKwK0cWpSQvG7ysoYxL8sgJKj5j0VsA9DneHrjUb29iEst3bJfWMkssjXHmMJVkQZRG3LGvzMAB1xyBgV102n2dzdQ3VxaQS3EH+qleIM8f8AukjI/Ci30+ztJ5prW0ggluDumkjiCtIfViBz1PWpt+v4jev4FPwzLLP4X02W4keWV7dC8jnLMcdSay/E17f2EEcmmRQSSPdxRN50pQbWkC9lbrnHt156V0sUUcEKxQRrHGgwqIoAUegA6VnajpS6hFJBcRl4nYN8shQgg5BBBBBBAOR6Va3JkYz6zcRXex7OPyYpYoLiRZySksm3AVdvzLl15JHXpxVK213VI9Ov7nULS1zDdNDCsVw7bjv27cCPP0wGJ9K2/wDhG7f7VFcGGVpIgoBa4chiv3WYFsOw/vNk+9JL4at5muC8Uw+0MHcLdOoDAghlAbCNwOVwafXf+tP+CTbQyoNUn1GHSb+GSa1Sa4aCa1KDa2A4Od6Bxgpx90+o7Voa9dTWXh3ULq1bbNDbu8bYBwwUkdeKRvCFm0MEXl3SJA7SR+XfzIQzEksSHBJyx5OetOfw5czyXC3uo3l1aXCsjWcnkiMK3YFUD8D/AGvrmqugtrcx73xbPYMbabTTJfhyPJtzLMhXarbsxxM38QHKYz370+XxBd3N1brZW3kQC6ghuGmbbKrOgfZ5ZU9mXJ3Ag544rW/4RS08jy/JnB8zzPNF3IJd2Mf6zdu6ADGcYGKe/hq2e8juTbuJIypULOyplfukoG2kgcZIzikt9e6/r+v+AK2nyM+PWr17Nrj+z4R5k/kWym5OZG3lct8nyjjPG447ZqJvEk4ikZbBCbRGkvQbjHlqrMp2fL8/3GIzt4x0JxW1JoUUtibNoCId28BZSrK27dkMDkHPOQeKrt4Vs2SFDavtiyABcON+TuIf5v3mTyd2ckn1oXmFtDGtvFd3NcSo+lKUVGaPybgu8hCsyjbsHJCnuecda0bLVrm80yWeOzikuI5AhhhudwPQ9WVSpAPIZQePcGrP/CLWJDA2QIZdrAyEgjBX19GNPTw3bpYy2nkSPFK4eQyXDu7kYwS5Yseg79BihPuFmall/wAtPw/rXM26uLm8t21Gf7PcwRSW039ou32jc+AS5X9yXJC7YxjBypz06q1iaINv4J7VEuj6akVzGmnWix3RJuEECgTE92GPm/Gs5fFc0W1jl/s73fhuOG4uL6PUGupLOHydRnGxvMbPzhgZQigncwyQvIHSutnXZZlQSQoAyTk/nRFY2kEcMcFrDElv/qVSMAR8Y+UDpwT0qSZDJCyr1NNAzk7jXZoNVkgNmhtYZooJJvOO8NJjbhNuCMsAfmH41WPie5FvFJ/Z0ebsRvaD7SfnR5FTL/J8hG9TgbvrWoPC6NrU2pTh5Xd0dI/NYIhVcAld21j3BIyKhuvBttNbNDAkkG6WJyRO52qkgfYnzfuxx/DjH4VSffv+BFijJ4qaG1unlsQJbW0uZ5EWbI3QsAVDbeQc5BwPpVn7ZNZalqbz3TzW8VpHcpFLsVYiTJkBgoOPlH3iatT+ELC4s0tZbWQxKrqdty6s4c5cMwbL5PJ3E5NOfwtayXk1zJFcPJPH5citeSFGXBGNm7bj5j24zTvp5hb+vu/4P3mE/ibUrrSTPY2EUVxFfxWsqXDyxjDMnI3xBjkOBkqMckZ77Bu7xdZtbeeGNIpYHcmOfd8425BBQcDPBBHuKmTwvax2c9sIZmjuHWSRnupGcsuMNvLbgRtXBB7ClfwzA95b3TC7MtsoWM/bpcYGOo34bOBnOc980XFYyP8AhKLgRQO2nxj7YI2tB9oPzq7qoL/J8hG9Tgbup54rRtNRubqyhlFj+8Nw0E6LMCI9rMrMCQNwyvHAPPSpYvCtnE2UtW++rqGnZghVtyhQWwqg87Rge1WDocRSNfs52xzm4UCQ8SEkk9fVjx0ppqwNO7t/W/8AwDQt222cjZC4ycscAcd65KAXlt4U1S1lurm31C2sVuWuYdSe7EoKPghpBlMlCSFA7YNdlbRmKLDdSc1FBpen2tvNb2tjbQwzkmWOOFVWQkYO4AYOR61lLW5rHSxgao06anaXkjGa1ghh82OPUpIJELvjeY14kB44Yjo2M9K6G9/1I/3qSbTrK4uIJ7izt5ZrfmGR4lZov90kcfhUlzG0sWF6g5prcm2hxUfiG6s2unv4FktEnuESVJPnHlhm27NoGNqnndnPbvVuHXLgahBY31lHDcSyBSIpzIqqY3cHJUZP7sgjH4mtM6BbspVrUMpkeUhmyCzghiRnuGPHTmoB4UtBb+SIZ/viQSfa5PMDAYGJN24DBIxnGCR3q1okvJEta/f/AMAzYvEssrae32FY4buONzJLOVALnG1Dt2sw6kEqeRgHpWe3i+6voz/Z9hPCpnh8maWKVEkVplQgs8YUZDcbC/GT2FdEvhSyRrcpaMot1REUTsFIQ5Xcu7D4PI3ZxTk8MWqMxW3fDSLIENw5VGVg42qWwo3AHAAB70LdXBoy28RXQgYrp0bSwLK90n2nARY22nYdvzE4OAQvuRUsuoNp99qNzcXU01nFZC7ERRP3YG/O3CgnIXuTV+48MWl1jzrZvvOx2zsu7ecsGww3KT1U5HtQ3hm3fUJL1452lkTY6tdyGNlwRt8vdtxyeMe9LUDE/t7Vbee7+1WUJZXiVY1nYxwqysSzSCPIHGPukA45xzW3BeS3C2ckVsGhuI97yLKrCPgEDj72c9RxUS+ELJYyoguNxYN5n2yXzAQCBh9+4cEjg9DiriaJFG1qY7fZ9kQpCFfAQEAEYzzwO9O4rMuThG0WUS3LWsewl51baUUdTntxnntXPS2lwdHULd6iks0kn9m2xupBIMgbGkYncQuGYhyQA2CCQBXTvZQXNg1pfQRXELjEkUqB1YehB4NUj4W8PtEsbaFphjQllU2ceFJxkgY74H5Cs+tzVbIzbTUbseKp/tiM8H2n7DCy3BUKfJWXJixtOfm+bJI4AGMmty+/g/GnLp1kl4t2lnbrcpH5SzCJQ6p/dDYzj2p11E0oXZzjPFOPQl7HBf8ACcSxJJJd6YqRAKI/JneV3ZtuwbRHnneM4yfQGn3Piq/m0aZrLTmgvFt55j9o8yIIsYHzKHiDNywwCqjg8+u9/wAIpY7Cv2Lhl2n963oAO/BAA568Z60k3hOzuLVbeaCd0UMNxu5N7BvvBn3bmBwOCSOB6U1e2rF12IE1C5TUWS5RFgFoZkcTD5sYyWBUbev94jHpWdaeK7m8KQxaYq3Uk3lKskskaEGNnDbniBI+QjhSPQmtt/DFtJffa5I7hpNhj2m7k8sqRgr5e7bjjpj3pLXwtaWc6TQwStKjBleW6eQghWUfeY9mYfj7Cqv/AF8yEmv68v8AMk0+7+36db3Wwx+dGHKE525HTPesxtYuraPUJLm2QvBcxQpGk+5SH2AHOwEfeyRz9av/APCPXUc8Bs9SvLW2hCgWkYhaNgOxLIX56HDD2xTV8KWizzSmK5dp3V5BJeyupZSCDtLkDBUdB0GOlFyrFBdevZJhaRabE98hkMsX2rCBUK/dcp8xO9cAhR1yRjlt34lmtY5p/sCtbKZY4WM+GeSNWJDLtwo+RhkE9OnNatz4Ztbti01s25mZmZJmQtuADAlWGVO0ZU8HA4pJPC1nLNLI9qxMqsrJ5zbBuGCQm7apI4yAD15oT7is/wCv6/r8TnW8bTRIyT6X/pJl8uKOB5Zw2GlVidkRYf6luinqOnON+2v57q3sZ0sZUS5GZRL8jW42k8qwBPOBjGec0r+FLJw3+iujM2/fHO6Op3O2QwYFeZH6EcMR04q1/YqbrU+Sc2hJh/eH5cqV9eeCeuad0DT6FiXYdInWW4a2RvlMqPsK5wOG7emeozxVLw5PJbafdx6nL5T292Yisl00yxkhSqrK+GfO4ckA5OMcCtaO2VrV4blFkSQEOjAEMCMEEd6SPTbGKyWzisrdLVGDLAsShFIbcCFxjOefrzWf2mzTojNvftSeK7RYbyYJPaT4hYjy1ZfLw2AMnqepPtisKyadRe2urSanbx28du0qC+LyTzt5gKo6uWUMRGQoK9uFBIPatDG0yStGpkQEK5UZUHGQD2zgflVSXQ9Jntfs0+l2Ulv5pm8p7dCm85y+CMbuTz15qbFD9LiuYdJto75y9wsYEhLbjnHr3+vfrXN65rdzpd1bQ2tnFcmfqZLgx7cyIg6I2eZB+A711VtbQWdulvZwRwQxjCRxIFVR7AcCsu70OK8njkuIPMeLGxt5GMMrjof7yKfwq1uZtaHMW3jhLiYH+zboWqxb5J1ilYIRF5h+by/Lx/DnfnPanPrWsrHrEkltAjW1pFNHCtzwgIkJYOYj83yjgqRx1rdg8L2dtIrwWrKFQJ5fnsUIC7clN20naMbiM471F/wh9j9kntvJufLuFVJf9Nl3Mozhd2/IHzHgHHNVcVtUVNT8RHTdUtbX7KZkmaJZHXeWj8xtqkhUKgZ7sy98Z6U/Tdcmv75YpLNYoZVmMUizbifKkCNuXaMZJyME++KtP4TtJGiaSG4cxbdpa8lO7a25d3z/AD4PI3ZxUj+HQIAlk0tlIocRzwsrMm9w74DhlOSO4OO2KdxJMztZ1S+0/VIhaRRzwrZzzyxPJ5edjR8g7Sc4Y4HAOeTTbjxHJB5swslazQvGsnnYdpFjL427eF4IznOe2Oa04vDreXi+ln1CXynhM85RWKPjcuIwq/wjnGfelHhu1+2G6+zEyEfdMrFM7du7Znbu28bsZxxmpd7WTH8jNuPEMsYmFvY+a8ccEnLttHm7uW2qSAu3qAevYc1V/wCEvLaha2sOnS3HmLGZpLdZJkTecAq6RlCBjJLMnH5VrJ4Qso4nRYJ/nKHebyQuu3O3a5fcuNxHBHBIqRPDFrHLDJHbujQgBds7gNgkjeA2H5JOWzySe9VdXJSdtR9/dGxsZLny96x4ZxnGFyNzfgMnHfFYuq+KzptqbhLLz4w8vCs7MUjIDMFRGPXIycL0ywzWxa6HewyTG71K8v4pVK+TcLAFUH02Ip9uSaZP4TsrmxgtJLVxBBEYUWO4dP3ZABUlWBYHAyDnOKVyrFKe+n0++1KZ55LmCKyF0lu4RQhG/IBC552jrmoNT8V/2fIYUspJ5maNY1RZH3FkZzkRo7AAKeint061rf8ACMW5v3vGjuGldPLYNeSFGXBG0oW245PGPeo18I2SQtGIJ8syt5hvJTIpUEAh9+4cEjg9DjpS6bhbX+uyFtr+e6t7GdLGVEuRmUS/I1uNpPKsATzgYxnnNa8cCXNhLDK0io5IJjlaNgOOjKQR+Bqn/YqbrU+Sc2hJh/eH5cqV9eeCeua0oYMW7RzKrB87lIyCPSidmtBxTT1OPltXPh6S4sr28Z5jLdW0E2rTL+5AUCQN8zNgANsJCkyHPYjr4rgDS0uW8yQCESHEZ3t8ufujv7Cm3OmWF5DFDd2VvPFCQ0SSxKyoRwCARxj2p4s4/wC0Te/MZfKEQHYLnP68fkKz8izhINcu7+S4jYaszXV7D5kDRTWhhVo2IjRnCbeVUEg5PJ71A+qa01pISJ2msLbzIXS7cR5FxKh3dDMSsaAbgc5JOM16FcWNpdxSxXVrDNHNjzUkjDCTHTIPX8ajfStOkNsXsLVjaf8AHtmFT5PT7nHy9B09Ka0E9Vb+tya6/wCPZvw/nXL3N3Jp+r3Es91LJaCze4MJVMR7CPukAHkZ6k/hXVTIZIWVeprCl8NQTakb6WO4aYqUIN3J5ZUjBHl7tuPbFUv6+4mX9feZh1+7jkW0msIU1CV0EMQuSY2DK7As+zIwInyNp6Drmm3niWaxvrO3n087pjGswR2cwl32D7qFcZ7syZHTnitJfCtolq8Agl2swbebqQyKR02uW3LjnABGMn1NEnhSykaFmtpB5OzaEuHUNtbcpYBsOQ3OWyck+tXfUmxQ0/UNZuLrVo5LSzK20/lwf6Uwz8iMAf3fA+YnPPPGO9NTXboaVYyw2guJpbP7VMJJwu1QFzghMM2W44Ucdq1n8PRPcXE+ydJLldsvlXUiBuAM4VgA2FA3DnAxmq6+D7FbOK2EFwYoQVQNeSkhSAChJfJQ4Hyk7eOlLpuOxVt/EElxqSwpZr9la4NsJvO+ff5Xmg7Nv3ccZ3Zz271r2Ms0kx8+3MG2YqmXDb1B4bjpn0pqaFCkvmJbYfz/ALRnefv7Nmev93jHSrFlpgs5GMUewSSmV8uTlick8n9Kd1/X9eokn/Xz/wCAZ3iUyJcxXFtdShrcxNLGl20flIZMbxEoxKWwVw5xxxzkFLMyxeMAUupZrW5jnIY3bSh3V1BUx4CxbOVG3Of4sHruz6fZ3VzDcXNpBNPbnMMskQZoz/skjI/CiHT7O3vJruC0giuZ/wDWzJEA8n+8wGT+NYo1Zi+IL24mmsIdNInhk82WQx3ZgD+Xj5fMUEjkk4GM7cE4zWfP4ka88VaOsa6nb2zSKAgspvLn8yB2yzhdhC/Lxu4O4nhc108uladcWgtZ7C1lt1feIXhUoGyTu2kYzkk596sNFG7Rl41YxnchK52nBGR6cEj8TTWj1Bkd7cSWto80FnNeuuMQQFA7c9i7KvvyRWRqM93JJo11m8sPMu1jls3aPkFW+8ULZ6dmxWtZ2cVjC8cO4h5XlYseSzsWP6mpZIY5ShljVyjb03KDtb1HoeaO3yDo16nPve3GlatrcryXmoJDawzRW6oXIZmlG1VRc44UdCcDJzSeE9TWbSbl7y7uXaO8dGlvYJIOWIwoEgBAy2AO3AroRDGszTLGoldQrOFG5gM4BPoMn8zTHs7aSNo5LeJ0ZxIysgILAghiPXIBz6ihb3B6mBqAlj8Urczs0tmTDbgQ6lLG0LsSBmFcK2dw5JzgZwcVZ0GzSLUNQntp7t7YOLeNbi8lnBZM72G9jj5iV/4BWo+n2Ut9HeyWkD3cS7Y52iBkQegbGQOT+dSxRRwR7IY1jTJO1FwMk5PH1OaFoDH0UUUAVU/4+rj/AHx/6CKjf77fWpE/4+rj/fH/AKCKjf77fWmxDaKKKQy5Vea1E24PsZWIJV03DIxj+QqxUbTIrYJOfZSaZLt1I47Xy1RFKLGmAqomAAOgHNWKjE6EgZPPqpFPoBW6BRS0UDCkoDBhlSCPaloAKKKKACikJA68UAggEHIPQigBaKKKACiiigAooooAKKKKACiiigAooooAKKKKACiiigCG46R/9dE/9CFWqq3HSP8A66J/6EKtUAFFFFIZnzTSec2HYAEjANU59Wit763s5LpRcXBPlxGZQxABJIUkEjjsD/OnalcS2qSywWc964fiGAoGPPX52UfrWRd/2tftp1za6bFB5MxlkhvboJIvyumP3ayKfvZ+9WqMy+NftX1hdLiuxLdbGd0jlDGMLt+8M5GdwxxV+1u/OZGinEqFtuVbcODgj88iue0/R7611eGSUW5tbf7TskWRjI/myB+V2gDGCOpz14rY0mCSCGOOaK3ifzWOy2BCYLkg/Ug5Pvml0F1H3+uyWOu2lg1vAUumCpuugJpP7zJFg7lXILEkYGeD307p2SH5Tgk4zVG+0q5vb+NmvVFksscxgMOXDocja+4YBIGQVPfkZq5e/wCpH+9UR8zSRSluvJieWafy40Us7u+AoHUk9hVHTPEVjrFvHNp2oxzCTOFWYFsjqMA9aSK/uZNSa2fSLyKIE4u3eHy2x6ASF+fdaxbjTr+DRbawVQlzDcBLO4g3S4U5DO/ygJ8hbuRnGCTgVbv0MzoE1yykukto9Ut3nkGUiW4UswxnIGcnjmpINUguZZora+jmkgO2ZI5gxjPowB46d65tNHujrFxbW1vFBp8c9s6zMzBgIlUhUXbgj5cE7hjng1L4d8NvozP5o81kh8iOaS+mmMi5zko/yx5wMhc0f8EP+AdTY3X2ho3imEsUi7lZW3BhjIINaBIAJJwB1JrH0WGS3tbSGaKCKSOJVeO2GIkIXBCD+76e1TSnVZ797aSwsjpkgKtOL1/OwV/55+Vjrx9/pz7VM99C47alKDxfp897dRqs/kQQwyLL9nl3TGRpAAibNzD93kFcg59quf8ACRaWXt1FwxNwAVIhchMttG84xHlgR82OQR1BrMg8LXsVwLo6pC11DHBFbP8AZCFRYvMA3r5nzErKwOCvYjFWLPw9c6fdefaaiqNPg3mbfJkIkdyU+bCZMjDkNxjGCMlaXKZtXDFIGK8Gs9p3RSzSsqgZJLcAVfuv+PZvw/nXP/2hdHUWtV0e8EYzi7aSERHjPaQvjPH3P0qo7ES3Hp4hsXsRetqUCWpdlWZrlNjYJzhgxHY+/rim3/iOy09bfzr1We6eNIY0lUvJvdVDKM8jLAkjtWZZaXqjXVtJfw2cSwXstz+5uGkJDpIMcxrgguPrz+NY+G9Qjhgt4fsrRk2hmdpGBj8iUPhRtO4EDuRg/Wq6oXU6NdZtHkmRdRhZ7dgsyicZjJOAG54JPHNS/wBoR4J+1rgSeUT5o4fONvXrk9K5ax8Kz2dvdxBIpXeB7eOa4vZ5g6uw3ExN8qcDO1ep7qK0bHSJ9P0S109Utbn7NOpWS4BJdA+fMPH+t6nPdueM4AulxM6e0kZlfe2cY5NVIvEemTW800U0rpFtJxbSbnDHCsi7cupPQrkHtVi0QSRyow+Vhg/rWUfDl2+hHS5tRilhjWKOBHtMpsQjAlXf+8yAAcFQfQVlLc0WxbOtNJcaa1nDHNZXsjRNK8jRyRsFc48sp6oQQSCD2qVNage4vo9k2LJVMgFvLvOd33V2fMPl4K7s8/jlW3hjULGy0620/ULCCOyuJJwg05tpLl/lVVlAVQJCMc9B9K0bbTtRi166vp761kt541jEKWjK6hSxX5zIQfvnPy8+1D2dhmfo3iyO60OHVNRaRUuyGghi0+cOilQ2MclwAeXUBa1X13T0vEtRK8krxLMPKheRRG2drFlBAB2nkntVKHw/c2WlaXb6ffxx3OnWv2UTS25dZE2qD8gYYOUUjnj3qzZ6IllvWGZjGbKK0UMvIEe/DE987/0ol1t8h6XIm8U6Y2n3N3bvNItvGspH2WbJVgdrgBCxQ4PzAEcH0q1c6zZ2ckEdy8itMAQUhd1XJwCzBcKCe7YrPPhy4i0p7Wzv4kkbT4bHzJbcuMIGBbaHHJD9M8Y71W1Hwlcar9le+u7GaWBFXc9gWCFX3BogZD5bHgE5OcDGKbtzabE68vn/AMN/wTb1fURpWly3jRmURlQVBxnLBfQ+tV28S6WtssxlnwXZPL+yy+YpXBbdHt3KACDkgDBHqKhurbWNVWeyvrWxtLQsGjuIbt5pDtcMMxmJQMgc/Mce9JcaBcG+mvbC+jguJXfJlt/MUI6RqRgMOcxKQc+vBqdbjL66xYO4RLgMTMIAQpILmPzAM4x93nPSqjeJ9OOm3N5A00iQIHP+izfMDnawAQkocH51BHBqrB4We1voDbXypZQzJOIWg3SF1h8kfPuxjABxt69+1Nh8NX1vpd9awanbobqIQrizIijXkFvLEgG87uSu0cD5aH5At1c05te0+2uo7aeVlmcRkhYXZV3khNzBcKCQQCcUttrun3mpNY28rtOA7DMLqrBCFba5G1sFgDgnmqSeH7hxM97fRSTTR28bNFblFHlSM4OC7HkNjr2z7VnWmma1a6881tbRvbWUFxFaJcsIhIZZUf76NISBsPJRT04PJp/at01Er21NvWddg0Q2guIbmX7VN5S+RbyS7eCcnYp/Lqe3Q1I2s2Sah9iLy+eIxIwEEhEakEgswXC52nqR0qtNZ6nqenRG7Wz0++guBNF5cjXUQxxzkRk5BIxxjjk1Z/s5mlvJHuCHuoUiLRLtKEBhuHJ/vfhjvS1Sf9dB9UVpfE1gmk3N9H9oK24+dXtJ1YcZBK7CwX/a2kdfSrFxrlhaXiWlxK6zNsyFhdlXeSF3MBhQSCASRWLbeELiz0nU7Szu9Otn1CNY3aHTSiD5WUsVEmWYgjknt37X/wCwbiZp5by9jeaeO3RjFblFHlSM+QC5PO7HXtn2ph0NW6dkhBU4JOM1S86QdZG/76q3e/6kf71c/Jd3V1cT2J0i6jiZWUXcxhaFuOPlWTfg/wC6Pwq1toQ9ywPEGntZPeLq1qbWNtjzi5XYrehbOAeRUratbJcQwPfxLNcDdDGZgGkHqozk/hXPW+iarD5Fxi1aW1mDQ273DMpXy2TBlKbv4sjIbGCM88TPot6ZVREslhl+zmZk3IYTE27Ea4IIPbJGOTz0qupJsf23ZFp1Gp2+63BaYfaFzEAcEtzxyD1qRNShlto7iO9jeCUgRyrKCrknAAOcHJ4rFu/D8tx4emsVdVka8a6HlyvEG/fmUAuuGUkYGRyDzziprTSZLTSILaO2ti4uRNIlxPJcBfn3Mwd/mZx1BOOfShA/I6OG42QTSTMSsa7iT2GOf5VQ0PxB/a11PbSwxQzRQxT7Ip/Nwkmdob5RtbjleRyME1dtolmhmjkGUkXafoQapaB4e/sTdmaKTbClvEIoPKCxqWIyNx3OSxJbjPoKzfxP+v66Gi2/r+u5tUUUUhhRRRQAUUUUAFFFFABRRRQAUUUUAFFFFABRRRQAUUUUAFFFFABRRRQAUUUUAFFFFABRRRQAUUUUAFFFFABRRRQAUUUUAFFFFABRRRQAUUUUAFFFFABRRRQAUUUUAFFFFABRRRQAUUUUAFFFFABRRRQAUUUUAFFFFABRRRQAUUUUAFFFFABRRRQAUUUUAFFFFABRRRQAUUUUAVU/4+rj/fH/AKCKjf77fWpE/wCPq4/3x/6CKjf77fWmxDaKKKQy5WNr97cafpN7c2UXm3C4ESbQQWOAMgsvGT6/n0rZqJoQzFgzLnrjFMiSbWhznhD+0X8OwzatNJLLM6uhkXDBOAufmbkgZ7ck/Uzahb3i63d3dq1ypVLQII1yr/vX3g8c/K3PoDnjrW6IBkEuxwc4OP8ACpaBQjyqxyEl7q0W2RP7QeSNt96htmKqBMnEfy/N8m8AJnI5POKW51DU3MdxCmoNG08nlwC3kjZl3LtbOw4wM4VwAcnJGOOuopJWZb1VjlE/tbFywN1F5J3wokW1XJuZQcjHzfIF/A564NJbau9nq0P9rXk9soina8N0vlwKwZAu12ABA3YG0kevNdZVWDTbG1uZLi2s7eGeTO+SOIKzZOTkgc5PNHUDE1S9m1KKS40C+eaGOzleOSyZZEaZSu0ZAIJ6/L39KqalNrNrdTQxfa2s0lkEcoWRnz5cbLykblgGMnUYyME9Aewop20Drc46U6lPdWi3gvZLtLos6pbN9nEfksAQduOpHfOTg8DiEX2tK8ccMF9G6xFWBicrgWxIwPLCL+824+YnPHH3R29FK2/mHVPsYEOqQ6NdSx63qaW8UiRvC99Kse5sHeFJxnBwSB0z24rNfUdXnv7g2SXaxlJvmKMylQ67GQmMJnbuKgFs5Gc12NMlijuIXhnjWWKRSro6gqwPUEHqKb1BaKxxUmpak1zOtk2oPYJKQDJHKsqHykKjaI2fGS5+ZeSADwQD2Nl5xsIPtZDT+WvmELgFsc8duaLWytbGIxWVvFbxltxWJAoJ9eO9T0bAFFFFABRRRQAUUUUAFFFFABRRRQAUUUUAQ3HSP/ron/oQq1VS5O1EJzxIh4Gf4hU32lP7sv8A36b/AAoAloqL7Sn92X/v03+FH2lP7sv/AH6b/CizGPMaMcsik+4pPKj/AOea/wDfNN+0p/dl/wC/Tf4UfaU/uy/9+m/wo1FoO8qP/nmv/fNKI0U5VFB9hTPtKf3Zf+/Tf4UfaU/uy/8Afpv8KNQ0JaCARgjI96i+0p/dl/79N/hR9pT+7L/36b/CjUY7yo/+ea/980eVH/zzX/vmm/aU/uy/9+m/wo+0p/dl/wC/Tf4Uai0HeVH/AM81/wC+aPKj/wCea/8AfNN+0p/dl/79N/hR9pT+7L/36b/CjUNCRUVfuqB9BS1F9pT+7L/36b/Cj7Sn92X/AL9N/hRqMloqL7Sn92X/AL9N/hR9pT+7L/36b/CizAl69aZ5Uf8AzzX/AL5pv2lP7sv/AH6b/Cj7Sn92X/v03+FGoDvKj/55r/3zR5Uf/PNf++ab9pT+7L/36b/Cj7Sn92X/AL9N/hRqLQd5Uf8AzzX/AL5o8qP/AJ5r/wB8037Sn92X/v03+FH2lP7sv/fpv8KNQ0JAoUYUAD2FLUX2lP7sv/fpv8KPtKf3Zf8Av03+FGoyWiovtKf3Zf8Av03+FH2lP7sv/fpv8KLMCWiovtKf3Zf+/Tf4UfaU/uy/9+m/woswJaKi+0p/dl/79N/hR9pT+7L/AN+m/wAKLMCWiovtKf3Zf+/Tf4UfaU/uy/8Afpv8KLMCWiovtKf3Zf8Av03+FH2lP7sv/fpv8KLMCWiovtKf3Zf+/Tf4UfaU/uy/9+m/woswJaKi+0p/dl/79N/hR9pT+7L/AN+m/wAKLMCWiovtKf3Zf+/Tf4UfaU/uy/8Afpv8KLMCUgEYIyPemeVH/wA81/75pv2lP7sv/fpv8KPtKf3Zf+/Tf4UagO8qP/nmv/fNHlR/881/75pv2lP7sv8A36b/AAo+0p/dl/79N/hRqLQd5Uf/ADzX/vmjyo/+ea/98037Sn92X/v03+FH2lP7sv8A36b/AAo1DQkChRhQAPYUtRfaU/uy/wDfpv8ACj7Sn92X/v03+FGoyWiovtKf3Zf+/Tf4UfaU/uy/9+m/woswJaKi+0p/dl/79N/hR9pT+7L/AN+m/wAKLMCWiovtKf3Zf+/Tf4UfaU/uy/8Afpv8KLMCWiovtKf3Zf8Av03+FH2lP7sv/fpv8KLMCWiovtKf3Zf+/Tf4UfaU/uy/9+m/woswJaKi+0p/dl/79N/hR9pT+7L/AN+m/wAKLMCWiovtKf3Zf+/Tf4UfaU/uy/8Afpv8KLMCWiovtKf3Zf8Av03+FH2lP7sv/fpv8KLMCWiovtKf3Zf+/Tf4UfaU/uy/9+m/woswJaKi+0p/dl/79N/hR9pT+7L/AN+m/wAKLMCWiovtKf3Zf+/Tf4UfaU/uy/8Afpv8KLMCWiovtKf3Zf8Av03+FH2lP7sv/fpv8KLMCWiovtKf3Zf+/Tf4UfaU/uy/9+m/woswJaKi+0p/dl/79N/hR9pT+7L/AN+m/wAKLMCWiovtKf3Zf+/Tf4UfaU/uy/8Afpv8KLMCWiovtKf3Zf8Av03+FH2lP7sv/fpv8KLMCWiovtKf3Zf+/Tf4UfaU/uy/9+m/woswJaKi+0p/dl/79N/hR9pT+7L/AN+m/wAKLMCWiovtKf3Zf+/Tf4UfaU/uy/8Afpv8KLMCWiovtKf3Zf8Av03+FH2lP7sv/fpv8KLMCWiovtKf3Zf+/Tf4UfaU/uy/9+m/woswJaKi+0p/dl/79N/hR9pT+7L/AN+m/wAKLMCWiovtKf3Zf+/Tf4UfaU/uy/8Afpv8KLMCWiovtKf3Zf8Av03+FH2lP7sv/fpv8KLMCWiovtKf3Zf+/Tf4UfaU/uy/9+m/woswJaKi+0p/dl/79N/hR9pT+7L/AN+m/wAKLMCWiovtKf3Zf+/Tf4UfaU/uy/8Afpv8KLMCWiovtKf3Zf8Av03+FH2lP7sv/fpv8KLMCWiovtKf3Zf+/Tf4UfaU/uy/9+m/woswJaKi+0p/dl/79N/hR9pT+7L/AN+m/wAKLMCWiovtKf3Zf+/Tf4UfaU/uy/8Afpv8KLMCWiovtKf3Zf8Av03+FH2lP7sv/fpv8KLMCWiovtKf3Zf+/Tf4UfaU/uy/9+m/woswJaKi+0p/dl/79N/hR9pT+7L/AN+m/wAKLMCWiovtKf3Zf+/Tf4UfaU/uy/8Afpv8KLMCWiovtKf3Zf8Av03+FH2lP7sv/fpv8KLMCWiovtKf3Zf+/Tf4UfaU/uy/9+m/woswJaKi+0p/dl/79N/hR9pT+7L/AN+m/wAKLMCWiovtKf3Zf+/Tf4UfaU/uy/8Afpv8KLMCJP8Aj6uP98f+gio3++31qSI7ricjPLA8jH8IqN/vt9aGIbRRRSGXKrXd9BYwPPdSxwwx/ekkfaBVmuX8a6TdarpiiziNw0ModoBs+cY6jepGR/U/Q51ZOMbocUm9Tcs9SttQjMlpLHKivsYo3Kt6EdjUjXtuk00TyqjQorybuAqsSAcnj+E1yvg3RbrTrm8ubi3NpFMwVIiIwWw33sIi49sjueB31dQ0e6m1gX8At5QhiZYJnKhyolByQpxjzARweV7daVKUpRvIJJJ6GyZolkRDIgeT7ilhlvp61DPqVnbRmSe5jVFkWJjuzh2IAU+hyRWJY6DeWUgJt7C4WTYW8xj/AKNtkZwsY2/Mq7vl5XBGfpVt/DerJDK0/wBjaYJbBFEm1GMU3mEfLEoQHJA4bGe9bLck6lbuFtuXCFnZFDnaWIODj16U9Zo2lMayIXUZKhhkDpnFcxP4cvmF4qLaS/bFlj3yOwNuGmdwy/KcnDgkZXlF57jQsdEe1vIZz5O5J7mR2X7zCR8r254xn6UA9NjaooooAKKKKACiiigAooooAKKKKACiiigAooooAKKKKACiiigAooooAhuOkf8A10T/ANCFWqq3HSP/AK6J/wChCn3vkfYJ/tn/AB7+W3mYz93HPTnp6c0AT0VR0b7V/ZMP27f5vOPM+/sydm/HG/bjdjjOavUhjTIinDMoPuaTzY/+ei/99Vz/AIg1CbTYVmgi852uo4tndgzhTjJAzg8ZOKpDxPblQ32O7wgJueE/0UB2Ql/m55Rvu7umatRuRzHW+bH/AM9F/wC+qPNj/wCei/8AfVcu3iKzSLzHSYLsuHJ2g4ELbX6H16f0pj68zabHdx2F0ivMkZLCNggYjDZEmGU7uqk49OCKOVBzM6vzY/8Anov/AH1R5sf/AD0X/vquYm16CC/kt5Le42RSiKS4wvloxUMM/Nu5yBwDz1p2l63HqlxJCtrc27JDHOPPC/PG5YKw2seuw8HB9qFFPYOZo6XzY/8Anov/AH1R5sf/AD0X/vquS1XxPBpF79mls7ubCB2kiEe1Rh2/icH7sbHgdvXioI/G+jTX93aRzh5LVXZgkkbFthwwChiwOePmAz2zRyoOZnaebH/z0X/vqjzY/wDnov8A31XFReI7t2u/O06aEQ38VqARGzRK6xHL4kwcmQjKk4GODjm3ceJbK215dJmDLcOpKfPH8+FLHC7t/QHnbt7ZocUv6+Y7s6rzY/8Anov/AH1R5sf/AD0X/vqub0rWotVLCO3uID5UcyecF+eN87WG0n+6eDgj0qPVvEVnot3awXoYfaWCq++NQCSAOGYFjk9FDGhxs7MXNpc6jzY/+ei/99UebH/z0X/vquPm8XWFs0huop4IFillS5k2COURuqNg7sj5nA+YAd+nNTad4ks9V0lr+xSS4RJhCyQFJmDEgdUZlIAYEkE4GfQihRTDmZ1gYMMqQR7GlqpZZxJj2xXN3Wp6lp1vdiTUprpBNbwNcpboTFK8m2RYlVfm2grgEMQTgluQIejsVfS519NMiA4LqD9ay/Dd7c32lub0SedDcSwkyhQ7BWIBYJ8ucYzjiszW9Vn0tLVrewmvDPcLEwjZBtz/ALzLz6frTSv+H4ibt+P4HTebH/z0X/vqjzY/+ei/99VzL65Gl79nNrc4V1ikmATZHIwBVD82cnK8gEcjmqdj4mkl0a71C/0y4tUtp5IsNJFhtsrJ134GNvJYgehIquVWuLmZ2Xmx/wDPRf8AvqjzY/8Anov/AH1XIw62+oRaXfabLCbG7mMUiOm9yQG+66vt4K9twPY1sTSrBbyTOCVjUsQOuAM0OKSuw5nexrebH/z0X/vqjzY/+ei/99Vy39vk28Ui6XfGSbLRQDyt7oACX+/gD5gMEhsnpUcviizjRplhuJbVVUtcoq7FZlDKuCwbJBXtj5hkihxSBSb2Ot82P/nov/fVHmx/89F/76rjI/GFs8E0klheQmJgoSQxAuxfZgEPtHOOWIHNaq6hugtZDa3Km4fZsMeTEcE5fBwBxjIJHIx1o5U9Q5joQQRkHI9qKrW282riMhXydpYZAOPTjNVPD9zdXOnym/mWaaO6miLqmwELIyjjtwPU1HWxfS5qUVy2ueK7ay8TWGlJqtnauJk+0xSyoJJA+QqKpOfckf7I7moh4gl0P7fceI7i7gIMjW8d2bdIGTzdqbHTkfejB8w/xZ96Sd1cOtjrqaZEU4ZlB9zWN4S1X+2NBFw2oW+oyLPNG89sylDtkYDG3jG3bj2IPOc1U8RarPpMSTW9lLeNJdRxFY2QbQzhc/Mw9ePfrxzV21syWzo/Nj/56L/31R5sf/PRf++q5ltcjS7WF7S5UbkSWX5CkMj42o2Gznlfugjkc1UtvEsjWF9d32mXFtHaTNHlpIcNhsdfMwCO5JA96LIXMzsfNj/56L/31R5sf/PRf++q5GHW31CLS77TZYTY3cxikR03uSA33XV9vBXtuB7Gr2s3smnaHe3sKq0lvA8iqwyCQM80+UObU6DzY/8Anov/AH1R5sf/AD0X/vquLvfGmnaZBu1JJLScSeWbeeWGNvuhs7mkCEYI/iz7Zp8niZJp7VdMgeeGaaFJLkhfLQSKGA+8G3bWU9CORRyoOZ2udj5sf/PRf++qPNj/AOei/wDfVcsmvq9tJOthebBL5UWQmZ33FcKN3HI6ttGOc0xvEtusYf7JdHYpa5AVM2oDFSX+bnlW+7u6EjiiyDmOs82P/nov/fVHmx/89F/76rjYvF9pJLMslleQpCjOZXVCrBVLcBXJ5Ckjjtzir8GsCfTGvRZXahWAEQVXZgcYK7GKsOc5BPf0oSTDmOlDBhlSCPY0tVLLo/4VhW0+qm8v7O51SWHbCkq3M8UIG3cd7xBcgJjgeYSQcEgjrD0di1qrnUUdOtce+u6hbx2Mc7Xkkeya7lnihj81oEkUKWVsAAqwLBRu9AD06q4YNaFlOQQCD601qK4/zY/+ei/nR5sf/PRf++q5iXXoYdUaze2uNqSJE9yAvlozgbQfm3c5A4GMmoD4ptxCJPsV5iTYbcYTNwruEDL83Ayy/e2nkcVVkyeZnXebH/z0X/vqjzY/+ei/99VyTeKLOO1mmkguEMFtPcSxlV3IIiA6/exuyeMHB9amS/uYtTv47po5LeG3S4iEURVwCXBUksQx+QcgCjlVrhzP+v68zp/Nj/56L/31R5sf/PRf++q4c+MY7nSRe6TZy3hW8jtZY45YW2FmUfeEm08OMYJ5POOa1hqMn9rW9o9rNCssDS73CEZG3K5DkgjPPBB7GjlQcx0Xmx/89F/76o82P/nov/fVcj/wlNt5aubO7Am2G2yE/wBIVmChl+bgZZfvbTyOKuW+rJcWkM6WtyPNmMDR7AWiYMVbdgkAAqeQSOlHKHNY6UEEZByPais+S7Fho13dsu4W8by7fXaucfpWRb393Po8gvNRu9PuICstzI8EW/YwO0RABl2lhgBgzcEHnFQ9L+RfbzOnoJAGScD3rjL3xabK70fTr7U7Kyvz5D30U0iK77zt2KpP1JI6YA711d7/AKkf71NK4m7Evmx/89F/76o82P8A56L/AN9Vx8PiQJNcrqFvJFDFNMi3KgGMiME4xuLbtqk9McfhVmDXopbmK2mtLm1uJZNgimCZGUZwx2sRghGHXORyBTSTVyeZo6fzY/8Anov/AH1R5sf/AD0X/vquUh8S21xPaRQW1zIbmFJsgJ+7RjgEjdk8jnaGx3xWa3juwunkh0grczxzRLsWSN/MVpVjYgK+VPzcb9vX0zT5VewczO982P8A56L/AN9UebH/AM9F/wC+q5NvEsKwCT7FeFlDtPGFQtbqjbWLfNg4P90sT2BqQ6lLa6hfG+mgNjDarcoyRFWRfm3bjuIbhc8AUrId2dR5sf8Az0X/AL6o82P/AJ6L+dcWvil4551u9OuIsSRRwQExiR2dWbk+ZsHC8ZIPbrWwt6Ge1UW9wPtCFgTGQI8AHD/3Tz0p8qFzG/16UVUZZpNLZbaYQSlSFlKhtnPXB4zj14rmTreoxLawJLeXcUrTTpcwxRedLbxlBnBATBL9QMlQMDJzUdbF7nY0hYKMsQB7msSO4u5PEFubfUGuLedTK9sIlEcUBX5HzjduLY6nBG7A4zWjffwfjTSFfQsebH/z0X/vqjzY/wDnov8A31XEf8Jxp6JNJd211aQxLu86cxKjZ27RnecZ3DrgepFNl8a2s+iS3mkQPeTLFM+yN4nEflgZLMH2kZZfusTz7HDsnsK7udz5sf8Az0X/AL6o82P/AJ6L/wB9VzcOpyPqJt5beWNVt/OD7VIk6Z2kMTxnGCo+tULTxjZXyf6HbTzzed5Agikhdt2wv94SFRwp4LA+op8qJUrnZ+bH/wA9F/76o82P/nov/fVY1ndR31lDdQhgkyB1DDBAPY+9Z/8AbnlR3sl1azxi2uEhEZVNx3bQCCHIIJYHsR6UcqQ+ZnU+bH/z0X/vqjzY/wDnov8A31XKf8JHGQqLp969zl/MtlVDJEqY3MfmwR8y8KSTngHnBceJbe285ntbowxiQLMFXbK6AlkXLZyNrdQB8p5o5UHMdX5sf/PRf++qPNj/AOei/wDfVcPL46022tnlvYZrNlkEapcyQx72y4OGMm0YMT9WHTjORnXttWgvbexuLRJZob4bo5I03Kg2lssRwBxjPrijlQcx0gIIyDke1FVIBK1lIIHVJeQjOhZVOOCQCMj2yKr+Hbq4vNESW9kEs3mzIzhQudsrKOB04AqSrmnRXMahqWpW3iMRLJcIkkyRW8X2bdA6MvLtJtyGD5+XcOFHHOaY02tf2bfJY3d3qBjniRLiKOBZSQw84JuAjIA4BYddwycVK1/r+u43o7HVU0yIDguoP1qpo9wLrSopPNuJWyyO1yqLIGVirBggC5BBHHHHfrWFq+vR6TPBE9nc3Tz9PI2cfMqDO5l6s6iqtqS2dP5sf/PRf++qPNj/AOei/wDfVcRD480Oa/S1FwFdo/MO6SPK/u/MwU3b/u8527e2c0reJrry9TlOmXEaWlvHKkbLGZMMHJYjzApUbRxkHrVcouZ3sdt5sf8Az0X/AL6o82P/AJ6L/wB9Vy2o+I7PS9Qs7O83K92yoj741G5jtAAZgzc/3Q2O+KfYa7Df3n2dLa4jDCQxyyBdsnluEfGGJGCR1Az2zRyhzHTebH/z0X/vqjzY/wDnov8A31XK6rrUmmalDF9kkuIGtpZ5fJC70CMgz8zAYwxyOT0xSzeI7aCWTdb3Jgj3D7QFXYzqhcoPm3ZwDzjGeM5pWVrjuzqfNj/56L/31R5sf/PRf++q5W58SWtssmYpnZFhYKNi7vNJCjLMAPunqQOnWq9x4y0u01K1sLpmgubgJ+6lkjV4y7bVBUtubn+4GHfpzT5dbEqd1c7LzY/+ei/99UebH/z0X/vqsa7uksrZp5VYopUNtx8oJAz9BnJ9gaytU8WWGkW5uLtZBAJXiMheNFyv3iNzjPORgZYkHAo5UPmZ13mx/wDPRf8AvqjzY/8Anov/AH1XLSanPZ32oG7aOS0t7UXKCKIrIB82QSWIY/LxwtRan4t03SFY3jGMhkVQ8kcYcupYAM7Ko4U9SPbNKyDmdzrvNj/56L/31TwQRkHI9q5u21aC9t7G4tElmhvhujkjTcqDaWyxHAHGM+uKvX9/Jpnh29vIUDyQozIpGQWxxx9aJKyHGVzWorlZ77VZtLgjs/7XNxb3RjviiWouFXyyw4b92R8yfdyccdc10dlOlzp9vPDK00csSukjDBcEZBIwME/QVJRPRXEJrOp2trFb6ncarBf3EsSyK8Fu7RBlc5hEakHJQr8+SOpA6mq/izVfszuftaz2Fv5zxJFGRNieWNvNbBC4EQPyEcscZ6ULUJe7e56D060zzY/+ei/nTbn/AI92/D+dc5JfT2mrzLdyw/YltmnXbEQ8YUgHLbiG6k8AfjTSRLdjpfNj/wCei/8AfVHmx/8APRf++q5UeIowu17C7jumZVjtGEfmS7gxBHz7cYRzywxtOaZdeKbKyurG3u4poHvSqoJSiFWZtoXazBmOf7ob16c1XLrYXMdb5sf/AD0X/vqjzY/+ei/99Vydlrd1dXGpxtpF0BZy+WhDxfvflU4H7zr82ecDHfPFA8Qqmm2Vw1rcXD3Ft9odYY1BjQAFmIL9tw4BY+maVla4czOs82P/AJ6L/wB9UokRjhWUn2NcvFr9vNqQtY7e4KtMYBcYXyzJ5fmbfvbvu85xjtnNaNjc/aJiRFLF5cxj/ept3YPUeoPY0+UOY2aKwPEVzqFlNBcWtzMkCugkSOOIogL8tKWy+0jgBBkHJJx0La51CLxb9lubmaS2milePfHEsRIZcLHty+VBw288nle+ILN+isbxG+pJBa/2WL3HnH7QbEQGQJsbp53y/e29OfSq3mXFxqWlSWGtXskN2onaFo4dhhVBkn93uBZmTuPvHGMYoA6KioL28jsLR7idZmRMZEEDzPyccIgLH8BWVe6lcu+kXNjK0Vpc3IjkintGjlYEN1D4K9OhXPvQHQ3KK5+XWpNJ1DWZNZu4jZWdtFcJhBGEDNIMEknJ+VRkkDPYU7wjrP8AbWmXErajaahJHcurPaSK6IOoUFeoAOMnk4zQtXYHob1Fc/fXF/D4mQTS6hb6cwjjjeBYDCZGJGH3AyZJKgY4qfRVvBqV+JtUur62hKQp9oSIYkAy5BRFyMMo5zyDQtQNmiiigCqn/H1cf74/9BFRv99vrUif8fVx/vj/ANBFRv8Afb602IbRRRSGXKaVU9VB+op1V5ZyhclkRE6lh7Z9aZN7EwRQchQD9KdWbp2sQapbrcWMyTwlgu4Iy9cev1qa51aws5xDdXUcUmAdrHpuJC59MkED1PAo0QJ82qLlFURrWnERH7ZH+9+7z0+bbz/d+b5ecc8daguPENhDceQkqyyYkJCsABs+9yeOCcH0PBoGatFUX1nTopJEkvIkMed25sAYIB56HBIB9CRmrFtdQ3kXmW0gdQxU44II6gjqD7GgCaisy08Q6beWhuFuVjUIJGEhwVGcfjzxxnnjrU66rYvEZFuo9qo7tk4KqnDEjtjIznpRuBcoqkdY09ZJUa7iBiBL5bgYIB56HBIB9Mj1qWG9tp7ZriKVWiTO8/3SOoI6gj0NAFiiqc2q2MGBJcx5IVgqncSGBIIA5PCsfoDSW+q2lzcNFFKCQyhGyCJMoHypHUbTQBdoqlHq9hLNFFHdxM8oBTDcNkZHPTJHIHUjmrtABRRRQAUUUUAFFFFABRRRQAUUUUAFFFFAENx0j/66J/6EKtVVuOkf/XRP/QhVqgAooopDMfUtM+3FVlEgWOdJ1KdyrBh26ZFZknhaJ5HKy3caylvPjXbtnUuz7WypIALt90g4PJNb0tzKJWCtgA46VE99IjICzEu20bUzjgnnA4HHU1ormbsYy+F1W6kmW4vgrLMI4lYKIfNYM5UhQ2cjPJOO1MbwofsMltHfX8TTTieWZI4g0jDGMjy9o+6OgGcc5rZfU/LuorZ5sTSqzIu3qFxnnH+0KsRXMplUM2QTjpQGhjjw8jLKJmuJ2mljlkZwvzsiqo4Cgc7RnA7nGKy9N8O67ZSXM8d1FFO8cUEP2iM3SpFGXIHyiI5+fvk8ck546u+1a3sLyytZRI0t5J5cYRc7cDJZvRegz6kVZuZGiiyvUnFSpdimrHL3HhdtRXzNUlke5aPZI9tH5aH5JEyFbcRxKe55A+lSr4bUR3MBmuzazh8Wx27Iix3MVIXdnOTyTjtitj7VN/f/AEFR2+om6t0mt5hJG4yrADmqd2RoYj+E5Gt5o/7T1IPPcpcyzBIdzuoQL/yzwAPLXoBUh8Mbr1blrq+Pz+a0eECvJ5fllzhM5K9gQM9q2/tU39/9BR9qm/v/AKCizY7mMNCu7O3QaNOIZkt4rYPdW5mXZHux8qsh3Hd1zj2pk/hy4vtkl9eTJcGNY52tIhGkwViy/K+8rgk9G575robe4keYK5yD7VbpOTvqNRVtDho/CV1Lq00l2XWySOVLaJJNxQvIj7h+7UqQUBALP+AGDsjSZ/sH2eS8vpHLhzcHashwQcfKoUDjBAA4J9c1aj8UaPLdXkSX9vsso0knuPOTyk3s6hS2eGBQ5Bx1FWzquniS2Q39qHuxm2UzLmYeqc/N17UlLSw3HuOtI2VX3gjd+FUbfwxplrZyWsS3RgkAykl9NJtIO4Fdzna2edy4Oe9akzmOFmXqKpfapv7/AOgotfUL20LNnZwWFqtvaqVjUk/M5diSckliSSSSSSTmsrUdKa/txCzTQsjrIksIBZGU5BG4EfmDVpL2SQEqzDDFTuTb0+o6e9R3WqfYoRLczbEMiRg7c/M7BVHA7lgKaTE2mZ58Pbr4XDTXbAukskJC7JZFAAdvlzn5V4BA4HFMbw1mGeJLm8SOWf7RGqqn7iTfvLLlOcsSfm3Ctn7VN/f/AEFH2qb+/wDoKeotDCPhaX7PbxRanqUXkTPOGVYSXd2YknMZ/vkcYqzHp+sSTXCahdW0tnKjKscNk8cig9MuZGBwP9kZPp0rdtZWlDb+SO9QjWdMMFxMNStDFatsnkE67YW9GOflP1qW+jKSvqZN1obXEVusU11ayW6FEmhC7tpABU7lIwcDt2GMVVl8I28iNCr3UVqyqGtkxsZlUKrZKlsgBe+PlGQa3H1mH7TYJBFJc29+SIruB42iB2swyd2TkKcEAinrrWns95i8t9llj7RJ56bYjzkNzlSMfxAfzoct2wUbWsYQ8LIglME97C8hJ3oVyMtuPBUgjtggirNtof2SztLa3kuo47WTf8uB5nXIYAY25bOAABgYwBipNJ8W6fqOjjVbi80+2s5HCwyfbVbqMgPkAI+D9zJx61qTanYW11HbXF9bRTyAFInmVWYHOMAnJ6H8jRe2gcpJaoyQ4YYJOagk0xBaNBZyPah7gTuyMck+YHYZzxu5H0PSopPEOkR2M92NTs3htztkYXMYCt2UkkAE9skVYm1OxtpbeK6vLeCa54hjllVWkPoozz1HSp3ZXQmmt4rjy/OXd5biROSMMOhqraaPZWN5Jc20TLLICPmldggJyQqkkICeSFABwKl1G/h0uwe7ud3lRlQ23HGWAzzj1qI65pK2Ud42qWQtZH2JObhNjt6Bs4J4PHtR1As29tFaxmO3TYrO8hGSfmZizHn1JJrL1XTDqMMkDmWPMiyJJEBuRlYMpGQRwQOoIrT+2W3mbPtEW/zPK27xnft3bfrt5x6c1Ul8QaRHZXF1/aVm0Vs2yVhcxgK/90kkAH2JFO9hWuZJ8PFrpJpLi8cbkeWIhAs8iY2u2FznhfukDgcUkvhvzPtAW5vI0mmWdURUxDICDuXKE5JGcNke1bsmqWENxFbz3tvFPNjy4XmUO+emBnnoenpSxanYXF9JZQX1tLdRZ8yBJlLpjHVQcjqPzp31/r+uxPKmjnD4Wl+z28UWp6lF5EzzhlWEl3dmJJzGf75HGKkuNI1a/F3a6hdwNp9xG8flwWbpMqsMD94ZGBIH+wM+1bOq69pmifZ/7VvYbX7TJ5cZlkVcnGSeT0Hr7ipm1SwS6jtXvrZbiUbo4TModxjOQM5PAJo5h8pzw8MEMZlvL5b0uWN4Fj8wggLtxs2bcKP4e2evNPfw0r3y3Imu0AkSZ4RtKySIAodiVLZwAOCBxWtJ4i0hNLl1BNTs5baIlTIlzHt34zs3FgoPsSKsS6nYwXUVtcXtvFcTYEcLyqHcnpgZyeh6elHMHKY76GG04WiNcR7JPNjlQDejbi2RkEdT0IIx1qq3hWNownn3o3qVuSNuboFixD/Lxyzfd29SBxXT3MjRRZXqTiqn2qb+/wDoKaJaS0MRPCkEbFo3vFYjAZW2kfKy5BAyD8x/Spbbw99lsbiCO4vN9xKJZLhQqOW4/uqFHCgcDmtb7VN/f/QUfapv7/6CnawtCe0jZFcuCM461RPhfSTZz2vkzCGcKrKLqUbVU5Cqd2UUH+FcD2qf7VN/f/QUfapv7/6CpcW3cpSSViOTw7p01tHBOtxKse7BkvJmYhvvKzFtzKcDKklTgcVoToWt2VB9AKiguMxyNMwAQZLegqtpetw6rI8a289u6xpMqzhcvG+drjax4O08HBGOQKWzsVujFPhyabXLm8uZpvs7yxSpbIBtZkUYLZXPDDIw2OBmq914QkNokVpdXQaOSEQmTb/o8SSq5VMJz90fe3dBk12lFNOwuU4+58HRXNmYDc3yGSOaOeZQm+dZTlw2UIGSB90DHapp/DLXN3dSz3t88V1B5EluVjCbPmwAQm7jcT1+ua6qijmDlOWXw0fsdzDLd30slxMk5uHCb0dNu0gBAvGxeMYp8mhXMuoWt22pX4a3TZsEcW2TONxb93nnAzgj2xXTUUcwcpycfhOJDFulvJFgZDbq+3EKo4YIuFGRlV65OAOaupo5ijRIpLqMLctcHacbyzFip45XLdPYVv0UcwcpXt4c2zJMgKvkFWHUY71nv4W0p7cQmO5CiVZQy3swcMoIX5w+7AycLnA7Ctiip63KKwsLcWsNuwkkSFldDJKztlTkEsSSefUmn3SM8ICjJBzU1FMVjmZPDdvNE0cqTujzSysp7mRWVh06YY+9RHwwSA7Xt+12siut2Vj8xcKyhcbNuMO3Ve5PWurop36C5Tkh4TiEdlF596YbMRhYmKlXKHKscrkHPUqVz3zUieGgkQh+0XjW6SpJDAdu2HY4cKuFyRkAfMSccAiupoo5uocpy1x4YSfftmvIfMMgl8rb+8R23MhypwM9xgj1om8Nm4vp5p7q8eCeEwSWhSPyjHgjb9zd/ET96upoouFjkv8AhFnMcu7UNRaWUrulYRkkKCoUrs2EYPdT2PXmr1vpH2VLKO3a5SKzj8tIwflcYAG7jnGOK36KOYXKU59Phv8ASZLG9VmhmQpIqyMhKnqMqQR+Bqs3hvTntRbyC7kRWLBnvpmcZABXeX3bSAMrnB9K1aKkszYNAsLbUnvoBcxzSMGZVu5RGSFCj93u2cAAYx2qzeRs4UqCcZzirNFNOwrHIf8ACG2m3GbrjaVORlWUAKw+XqCoP1H4VJd+GGvbcRz32oGUxyQyTgR75I3xuU/JtA4H3QCMdeTXV0UXSFY5eXw489958l7fGIwmA222PyyhABGdm7tnO6mWnhcW13FcyXV7cyxMrKZQgAwjoBhUHGHP5D3z1dFPmFyo5iPStWtHtobC6t0sIVVWinsnklYDrhxIoGR/snHvUf8AwjLvNcvPf38yXEiStE6xBVZGUrjbGD/AByTxnvzXV0Ucw+U5ifw2sty1xDNeW0zsxaSEgEqwXcnKnA+RTkfMOxFRz+FYrhpRJLeeRJvKwfLsjdwQzqdu7J3N1JHzHiuroo5rBynJf8IlEshmgmvIJw5dJk2loyWkY4BUg585xyDxjuM1o/2dLutT511/o5JIz/rvlI+fjnrntzityijmDlIbVGSHDDBJzUB0iyOn/YvJP2fzfO2B2Hz+Z5mc5z97nHTt04q7RUlbFS40y1urtLmdZGlRCiHzXATIIJVQcBsEjcBuwcZqpb+GdMtbA2UK3XkYUKr307mPb93YS5KY/wBkitaigCG0tILG1S3tU2RJnALFiSTkkk8kkkkk8kmsTUNCS/uoZp/ODQkbdmMHEiP6eqD8M10NFNPW4mrnKWnhaOzi8iKW8No0flvatt2SfIELH5d2SB0BAzzjNMPhRmtLyFtR1EteRLDJMVi3hFDAKP3eOjHnGfeuuop8wuXW5ycvhdppY5Jb6/Z18vzDtjHneW+9N2E4wT/DjI65qT+wJrWFDpkpiuIhKInuIjKg82QO2VBUnpgcjHvXUUUcwKNjmF0O6uV36tMJrn7PLbl7aAwpscrn5WZzkbRzn8KQ+GYmuC0j3TwEljanHl7ymwt93dnBPGcZOcZ5rqKKL3DlOSi8LNFHLi/1EyyLGvnHy9yqm4BcBNpGGIIYH8+aktPDK2DwmynvIFjRVkjTbtm2kkbvl46n7u0Y46ACupoo5hcqObg07VpftEWrz2tzbSoUEcFk8TAH1YyNnj2FVrnwnHcWENqtxewiO3e3aWPaXlR8b9xZTySAcjBzXW0Ucw+XW5y8nhx5r+a4mvL2SKaHyJLZkj8spgjHCbv4ifvfpxUKeFNp8w32oNdBlZLoiPem1SuANm3G1iOVP58111FFw5TD/s6Xdanzrr/RySRn/XfKR8/HPXPbnFaSWqTWMkF1GHjlBV0YdQRjFWqKG7go2Ms+HNNNp9n2T48wyGUXcolLEYJMm7eeMDk9AB0FWYbEQXStE5S2jgEMdsowi4PXHTpgDjjB9at0VJRlJ4Z0uOCSJIZQsm35vtMm6MLnaEbdlAMnAUgDJpzeHtMYW4MDgW4CqFmcBgDuw+G/ec8/Nnkk9zWnRQBHcKXgYKMmucufD73WpNdTXd40bxNC1rsj8sow5H3N3OM/erp6KaYmrnKDwxld0l3fSXSsrR3bBPMi2hgAPk24w7jlTncc0TeFxNNHIbu/UqIvMwVPnGN96liVJ+8TwpA5x6V1dFPmFynOf2JKt1dz293eW/2vBdESMqr4Vd43ITnCgYJI9s1Tj8JmOxgtv7Q1E+TGYBJiMM0RABjOEAx8o5ADD1rr6KLhynORaBFBMJI1mGLn7SFxwG8vy8dOm39au2NlJbytl55A8pkzKc7Mn7o9h2Fa1FHMLlRRu9Hsr28jurmJmljAHyyuquAcgMoIDgHkBgcZNFto9jaX0l3BEyzSbs5ldlXccttUnauTydoGT1q9RUlmdJoOnyWUdoY5UijdnQx3EiOpYkth1YNg7jxnFWINPtbWYS28IjYQrAuCcKi5woHQde3t6CrNFAFeztntYXSWd52aV5Nz54DMSFHPQA4H0p09rDdNCZ03GGQSx8kbWAIB4+pqaigCFLWFLyW6VMTyosbtk8qpYqMdP4j+dRS6XZzW8kEkRMckwnYB2GXDBgcg+qjjpVuigCjNo9lPqKX0sTGdCCMSuEJHRigO1iOxIJHHpVm2tYbOHyrZNiF2cjJOWZizHJ9SSalooAKKKKAKqf8AH1cf74/9BFRv99vrUif8fVx/vj/0EVG/32+tNiG0UUUhlysnWtO/tTT7mxd5IkuMBnRSfl4yOPUAitaimRJXVjF0TSItG0yGytwzFWDSSGMrvbOWb2yc8VNd6P8Aaruabz9nmtbHbszjyZC/r3zj2961KKAjFRVkc1L4RL3cky3g2zs3nRusmGUyvJgBZFGf3jD5gw6HHUF8vhm4mUQtqEYto1lWFBbfMokOfmbdzj2A966KiixT1d2c3J4WuJ9QNxcan5ih2ZFaNyygyK+MmQgABAo2qPWrxg1OxuJjp1vaXUdxMZXM9y0JTgDAAjfPTOcitaihKzB6mC/hotbWaJdhZLOEJG5iyCwkjcMRnpmMAjPOeoqC78MXlyLh01OGOe7jmjuGNoSpWRUX5F3jaQI15JbPPFdLRQtNg63OduvC8t1NcH7f5MUvzLFEjqN4dXVmAkwSCvJUKSD1qa0stU0sGG1t7K7SZ/MmmkuZYmyeOFKyFsKByX59q3KKAOcTwvPBaLFa6kyFZy/zI4UxhdiRkI6khRjqcE5JHPBbeGLixhtRZahGs1uY/nltiysFhERGA45OM5zx710dFK2lgOasPCJsLi3IvBLDH5TOjq+WeNFQEASbR9xTypI556Y6WiiquAUUUUgCiiigAooooAKKKKACiiigAooooAhuOkf/AF0T/wBCFWqq3HSP/ron/oQq1QAUUUUhmLqV5FYJLPOs7IHwRBA8zcn+6gJ/SsG/kF/faRqdjol1dNDKzGdoUhkjTY6FcTFHGSQcYwRzXaNbxO2WXk+9J9lh/ufqavmRHKzhtL0ie38TJdS6dsdRc+dfZj/f75FZBwdxwoxyBjGBxW/osPkW0cf2Q2n75z5Rl8zrITnOe+c47Zx2ra+yw/3P1NKtvEjZVeR70cytYOVmHqnhu4vdbh1G21e7gKyxF4AsJjKJngboy3OT/F3+lbF7/qR/vVYpGRXXDDIqFoU1c5r+0rO8vJdMe3unJDI4lsJhCwxyPMZNhB+vNc3Hp/8AYuiWsFjYw6dqUNz5dvxGq3bNlSwCEkjad3IBGwZ4Fei/ZYf7n6mj7LD/AHP1NU2mTys86h0gJ4ikt7GwJe0mttt+Sn7lFRd65J35YAjgEHdzVrwtoN1pc9zJfG8kneLZM8ht1juHz99fLUOfrIcjP1Nd39lh/ufqaPssP9z9TRdfn+Icr/ryMnQIvIsLGH7MbTy4FX7OZPMMWF+7u/ix0z3qxNe3U19Jp/8AZF+kDqU+3h4PKGV6geZv9vudfbmtBIY42yi4P1p9KdpPUqN4nIW3h3V4btLxo7DzLWG2hghWd9kvleaMsdnyZEoIADYK9+tWbLQNQsboyBLGdLvYbhZWYiAiV5MRjb84/eYGSuCoPPQdNRRdt3YyK6/49m/D+dc82rWr376eYLx5cEHNjN5TcZx5pXy//Hsdq6UgMpDDINR/ZYf7n6mmmtmS1c4Cy0d7iO0s7jQTaWMN9NM0E3kmMxusmBtR2HBZeMd6gm8P3rLYrLpn2maM2fl3BeM/ZBHKGkGS2eQP4c56HoK9G+yw/wBz9TR9lh/ufqad1dPsKzuec6f4bu7aPUTcw3dzczxNGxke3jjmctkSAxqH467nO5e2TWtY6ZPbaHbWt7aNeXMd2jyyiYJ5rBwTP1/4Fs9tvIArsPssP9z9TR9lh/ufqaE0gcWyC1XfHMuSu4YyOo61hpoWqDQVsSliklvHBBFJFK6POkZ53SBd0eR0ChipJwa6ZI1jGEGKdUPVlLaxylro2t2FjpkFvb2Mv2S7muJPN1CUnDmXChjGzMcSDLNzkH61qWsGqL4jvLm4trNLOaJI0dLpmk+QuQSpjA53/wB7jHeteih67jObttE1HT9G0WK3W0ubrT7P7LJHNKyxtlFBYMFJ4KenIJ6VasNDexZ/3iSf8S6CzWQjDEx+Zkn2O8d/Wtqih63v1HfW5zC6DqNro8kFqlpLcPpUFh88zIu5A4Y5CE4+fjjnnpUWqaDrGqLatIltGyRorxx6hMioyPuz8qDzQRj5XACkd8musopt3d2TbS39dP8AIwb977WobjTf7Hu7Ndylbq5khMUgWRTwEkZ+QCRlR74qK50TUE1K4vbJLSZpXlAinkZFCSJEpbIU8gxHjHIbqK6Oipsv0GctbeG9Qs722jje2ks4rhLhppJG8wlbfyduzbg8gNnd3xjvSW2iaza6PfW0cViWltltoIjcvsQAMC28xlwPm4Q7gMcNzXVUU3ruC0tboc4NE1C5M812lpFLNFapsjlaQAwys5O4ovUEY465+tZ1gmoWfiLMemzXUGmwXSK0SsjztLNG4A81UQn5W5V2HGcjIFdpRR9q4LRaGJdLf6vp9vcRac9ndW10sqW19Mi78AjlojIAMMcdTx0qx/Z07XWoXGYopLu2jiVgN+xlD9cgZALfjzWnRSaVmu4dUzj7fw9rFto+rwxxWrT38KxKs2pTShTtZWYu8ZIHIIUDHXp3vvo1/dy3NxdJaxSzxWqbElaQKYpWc/MUGeCMcdc/Wuhoph0sV73/AFI/3q5+TVYbmefT4Ybz7RsdQWtJ4oycdpim38QT7Zrp2RXXDDIqP7LD/c/U1V1azJad7o86ttDuIrGOOTRA9lHcBpLFhCHuB5bLllDeUxDFTn5c4zjIGbk2kXDXtuw0z94Ft/IuPOV/sQRsuu5ju5HHyg7s4PFdz9lh/ufqaPssP9z9TT5le5PKzhLvw3I2gXqW0Ahvbi7eSV4hGZZovtBfZlwVOU6K3y84OOat2GlG08P2lq1pc3Gy6WQRTyxI8Q8zO790AmF67V47c12H2WH+5+po+yw/3P1NCkkNxbK0MIuLa4hY4WRNhI9wRWX4Z8PTaPPLNcpAsjW8VvuilaRptm7947MAQTuxt5CgAA46dAkaxjCDFOqetyraWCiiikMKKKKACiiigAooooAKKKKACiiigAooooAKKKKACiiigAooooAKKKKACiiigAooooAKKKKACiiigAooooAKKKKACiiigAooooAKKKKACiiigAooooAKKKKACiiigAooooAKKKKACiiigAooooAKKKKACiiigAooooAKKKKACiiigAooooAKKKKACiiigAooooAKKKKACiiigCqn/H1cf74/9BFRv99vrUif8fVx/vj/ANBFRv8Afb602IbRRRSGXKoX93FZW9zdXTyLDAu5igY4UAEnC8mr9ZuqaXDqtrNaXkHnQSsrEYU9MHv9KZnK9tCnoGtf23p4vEt7i2xL5eybeM4wD94DODkcen4VYv8AXPsV60C2ckwj8kO6uowZXKJgE8/MOfQevSn6bpcOl2EFjY2/kwwhQPu84xycdScdaszadazyvLLFudzGWO4jPltuTv2Y59+9AQvbUxn8Y2kUnlyxbJUz50ZlXcuJGj+UZy/KMeO3vxReeJJk8uSK2aO2kWZlmbDFtnGcZ4z1Ht6HitJtCsDMJVjljfcWYx3EibyXLncAw3DcScHI5I6E0xvDmmNM8jQOxYONpnkKqHOW2ruwuT6AUtS35FW48VW9veyW/kmVlLKBDMjNkOqEMAflOXBGT2OcVp2F6byOXfEYpIZTFIhbIBGDwe4wQarf8I7pn2gzGGQsWZgpuJCqlnDnC7sDLAHgU+fSXeZpLPUruwDuXkSARMJG4GT5iMRwAOMUK99QfkUofEmW2m3kkVHRZJRtXHmStGuBnnBXn2568VMNddoEnSwlaKdwluwdf3hLbRnn5Qfvd/lB6HirK6NYIrhYMB2Rm+duSjl179mJP/1qjPh/Tj5n7qXDnOPtEmEO7dlBu+Q5APy4o1DoVLjxOII5CbCZnt0ke4QOuUCEA455J3AjpkdcHim3PiyCzla3uIRHco7ho3mRRhVRuGOMkiRcD1znGM1oDQ9PEDQ+QWR43ifdKxZlc5bJJyST360XGiWNzK8rpKksjl2khnkiYkqqnlWBxhF46cA9eaNbB1LlvMlzbRTx52SoHXIwcEZHFSUiqEUKvAAwKWqe+gltqFFFFIYUUUUAFFFFABRRRQAUUUUAFFFFABRRRQBBckKiFiABIhJPb5hU32u3/wCe8X/fYqK46R/9dE/9CFWqAIvtdv8A894v++xR9rt/+e8X/fYqWigZF9rt/wDnvF/32KPtdv8A894v++xUtFAEX2u3/wCe8X/fYo+12/8Az3i/77FS0UARfa7f/nvF/wB9ij7Xb/8APeL/AL7FS0UARfa7f/nvF/32KPtdv/z3i/77FS0UARfa7f8A57xf99ij7Xb/APPeL/vsVLRQBF9rt/8AnvF/32KPtdv/AM94v++xUtFAEX2u3/57xf8AfYo+12//AD3i/wC+xUtFAEX2u3/57xf99ij7Xb/894v++xUtFAEX2u3/AOe8X/fYo+12/wDz3i/77FS0UARfa7f/AJ7xf99ij7Xb/wDPeL/vsVLRQBF9rt/+e8X/AH2KPtdv/wA94v8AvsVLRQBF9rt/+e8X/fYo+12//PeL/vsVLRQBF9rt/wDnvF/32KPtdv8A894v++xUtFAEX2u3/wCe8X/fYo+12/8Az3i/77FS0UARfa7f/nvF/wB9ij7Xb/8APeL/AL7FS0UARfa7f/nvF/32KPtdv/z3i/77FS0UARfa7f8A57xf99ij7Xb/APPeL/vsVLRQBF9rt/8AnvF/32KPtdv/AM94v++xUtFAEX2u3/57xf8AfYo+12//AD3i/wC+xUtFAEX2u3/57xf99ij7Xb/894v++xUtFAEX2u3/AOe8X/fYo+12/wDz3i/77FS0UARfa7f/AJ7xf99ij7Xb/wDPeL/vsVLRQBF9rt/+e8X/AH2KPtdv/wA94v8AvsVLRQBF9rt/+e8X/fYo+12//PeL/vsVLRQBF9rt/wDnvF/32KPtdv8A894v++xUtFAEX2u3/wCe8X/fYo+12/8Az3i/77FS0UARfa7f/nvF/wB9ij7Xb/8APeL/AL7FS0UARfa7f/nvF/32KPtdv/z3i/77FS0UARfa7f8A57xf99ij7Xb/APPeL/vsVLRQBF9rt/8AnvF/32KPtdv/AM94v++xUtFAEX2u3/57xf8AfYo+12//AD3i/wC+xUtFAEX2u3/57xf99ij7Xb/894v++xUtFAEX2u3/AOe8X/fYo+12/wDz3i/77FS0UARfa7f/AJ7xf99ij7Xb/wDPeL/vsVLRQBF9rt/+e8X/AH2KPtdv/wA94v8AvsVLRQBF9rt/+e8X/fYo+12//PeL/vsVLRQBF9rt/wDnvF/32KPtdv8A894v++xUtFAEX2u3/wCe8X/fYo+12/8Az3i/77FS0UARfa7f/nvF/wB9ij7Xb/8APeL/AL7FS0UARfa7f/nvF/32KPtdv/z3i/77FS0UARfa7f8A57xf99ij7Xb/APPeL/vsVLRQBF9rt/8AnvF/32KPtdv/AM94v++xUtFAEX2u3/57xf8AfYo+12//AD3i/wC+xUtFAEX2u3/57xf99ij7Xb/894v++xUtFAEX2u3/AOe8X/fYo+12/wDz3i/77FS0UARfa7f/AJ7xf99ij7Xb/wDPeL/vsVLRQBF9rt/+e8X/AH2KPtdv/wA94v8AvsVLRQBF9rt/+e8X/fYo+12//PeL/vsVLRQBF9rt/wDnvF/32KPtdv8A894v++xUtFAEX2u3/wCe8X/fYo+12/8Az3i/77FS0UARfa7f/nvF/wB9ij7Xb/8APeL/AL7FS0UARfa7f/nvF/32KPtdv/z3i/77FS0UARfa7f8A57xf99ij7Xb/APPeL/vsVLRQBF9rt/8AnvF/32KPtdv/AM94v++xUtFAEX2u3/57xf8AfYo+12//AD3i/wC+xUtFAEX2u3/57xf99ij7Xb/894v++xUtFAEX2u3/AOe8X/fYo+12/wDz3i/77FS0UARfa7f/AJ7xf99ij7Xb/wDPeL/vsVLRQBF9rt/+e8X/AH2KPtdv/wA94v8AvsVLRQBF9rt/+e8X/fYo+12//PeL/vsVLRQBF9rt/wDnvF/32KPtdv8A894v++xUtFAEX2u3/wCe8X/fYo+12/8Az3i/77FS0UAVYiGuJypBBYEEd/lFRv8Afb61In/H1cf74/8AQRUb/fb60MQ2iiikMuUxpEQ4Z1U+hNPrI1vUjpOmXt6sRmaIArGAx3nAAHygkZPtTIk7K5qCWNjhZFJ9A1PrmfCd/qGp6DFd6ps3ySgxsqsu5MgBsFV68nvwfwD9W1yaz1ie2S7gjaKKCSG2dfnuGd2UqOcnhQBjoTk5HFAoy5lc6OiuPn8TXUULOl5atLhjPEY8/YsSqo3AHPQnOepGRgcVOvidbeY/aL+1ez8yWKK7YhVmYIjKoOcE5ZxgddvsanmSVzRJt2OporhZvFFzZ2NxK9yEmk3TIH27MiCFtuXcYG5/uqCTnjHWrU2r3MF3eGOQ3U6XgaO1Lcopsy6gAc4LKR74Perego+8ro7CiuWg1u6ubyG0s9Rt7uKWSNTeQxghS0crMowSMjYpGc4DDOep3NIupbzSbee42mVl+cqMAkHGcdulIC7RRRQAUUUUAFFFFABRRRQAUUUUAFFFFABRRRQAUUUUAFFFFAENx0j/AOuif+hCpboIbOYSTGBNh3Sq20oMfez2x1zUVx0j/wCuif8AoQqy6LIjJIodWGCrDIIoApaNcz3ekwzXQ+ds4fbt8xQSFfb/AA7hhtvbOKvUUUhnP65qg0uIXEkbSq1wkJC5JAZwuQACTjPQdarDxFphER8+TEv/AEwk/d/Nt+f5f3fzAj5scg+lXNXsDfFEL+X5dzHPnbnOxw2Pxx1rIk8NylpxFeqsV3uW5VoMlkMjuAp3Daf3jDJB7cCtVt/XkZP+vx/4BoHWtPCb2uAq7ZWyVIAETbXPTsfz7VC+v2YtVnj84hplhxJbTIUYkfeGzKcEYLAA5HPOaqDw3MLiQ/bo/s+y4WKP7MCy+cwZtxZiGAPQbRwec0HQNQXSWtIdSt0Z51lJa1do0C7SERPNyoyufvEcnAFLUNDRfWrGO/8AsbysJg/ln90+xWKhgC+NoJBGMnmjT9ZsdUlkjspHZo0VyHhdMqxIVhuA3A7TgjI4qq2hNMtx9quVdrieKaTZEVGUVVIA3HGdvrxnvWbpNnr1nPdXQtYJX8iC0hjupBb5SMyHcTGZcn5x2GeeB3a63D0NfUPEWm6Xdi2vZpUk2h/lt5HAB3HllUgcKx69AT0p/wDbmnCWdGnK+QrM7tGwQhfvbWIw2DwQCcGs698PXGsE3F7LFaTyRbHiizKqny5U4YhSf9bnoOmO+ajg8F2cEt60aWafaRJtmjslW4Bdtx3S5+cA9BgcYzmjUOhYh8U28xnxBPGsd5HaIZIJV3FljOWGzKf6zA3AA4HIzxoPq9nHf/Y5HkWXnkwvszt3Y3427sDOM5x2rLfQNTaC5xqdqJ7q8jupXNkxX5BGAoXzcj/VjJJPWkl8LPca5Hqc9xatKjby/wBj/egmIxlVcudqc7tuOvc0ne2n9af5j0NXT9XstULiylZyiq5DxOmVbO1huAypwcEccGnXeqWljcRw3LSK0mMFYXZVycAswBCjPdiKoQ6Ze6Vbxtpot7yZLSC12XErQKRHu+bcFc87umPxqvqfh241x7e5vvsUMyKu6NojdCJlfcGic7NpPQnbngdMVT30JW2poDxDphuJIPPYPGruSYXCsEIVtrYw2CwHyk8nFSLrNi1i12ZWSFZBE3mRMjIxIABVgGBJYdR3B6VzreGbrUdQmtb2MLpsMM0UHmxId5kljkGcO29QY+QypwQOeTW1YaM+maQbSwayspGlEhazslij6jIEeT1AxkknnPtSV7ajdjorIna464xgVhT65qtjBei9ax3wiAtMkbCK18xsMJMt82xcMSCuQeQo5rdslO1zyM4wapadoUum2s8Ees383mhiHlWDcjE5LgiMZb/eyPas5bmkdiXQdSOq6Utw0kUrCSSIywAiOTaxXcoJPBxnqevU9ay9Y1uHSFt3uYriX7RMIh5MDyEZ7naD+XftW9Y2cVhaLbwlioJYs5yzsxJZifUkk/jWNqthJe26JDKsE8UqSxvJGXUMpzyoIyPxFNf5f8EmX+f/AABjazYpeLatJIJWx/yxfaCRkKWxgMR/CTnpxVXT/E1nf2E92IruJIJniYPaSgsQ5QbRtyxJXoMkZwcUraLO98ZXvI/IkmjuJohAQzSoFAKtu+VfkU4wTx15qKTw/M+n3dkLuA281wbiNHtiwBaQyMsnz/OpJIx8vHrV62J0sWW1dnksHs4kmtLuQxNI7tHJGwDcbCvqpBBIIPatGSRYYnkkOERSzHHQCufh8OX1np9jaWF9YwJaTyThfsB25ZmIVVEg2qA+Mc9B0rQH9rXT3Nte2lnBaujok0N28jnPAJQxqBxz9446c9aTvZ2DS6uJ/wAJDp32RLndcGN2wmLSUs/GdyrtyVwfvAY96dN4g0yCXZJcHGzeZFidowCu4AuBtBI5Azk8YHNNudLuGS0exu44Li2iMQeWEyKykDPyhhzlQQc/nVCXwoWtXsYL0JYyKhaNod0m9EVFIfcBj5FJGOcHkZpu93YI9LluHxTpM8crxyz/ALogMrWkqsSW24VSuWOR0ANXF1SzaG2l87C3T+XDuQgs2CdpBGQflPBxjFZJ8LMEm2XcTNIxYCa2Eiff3cjdz+BByAc1pWthdWtlZwLfs7Qvumd03GVeflGSSoyRg5JwuMnrQr21F1Ny2Z/sr7AGcZ2hjgE46Z5xVfQ7651CwkkvY4o5o7iWFlhJK/I5XqeT09vpVqzBEJyOrVWGnS2lk8OmTmN5Lrz2eTBwGk3uBx6FgPr171m/iNV8JU1PVL+x1yyhXyfstzIsYU28jFsn5iZchIyMjCnJbGBz0pabrmqarqF5aQyWsDoHMbSWcm2PbJtxkuBMCP4kICng9cVr3OjR3WoJcyXVz5YdJGtQy+U7ocqxyu4EEA8EA4GQagg8OQ2/neXeXYDQyQwDcg+yo5ywTC56gctuxgVKv+f/AAP6/wCGH1+4m0G6vLzTPPv5IJS8j+U8EJjV4wcK2CzdcZ69CKz9f1mLRkWe4jnlElwkIEMLyEbmC5+UH1/HoOa34IY7a3jggUJHEoRFHYAYArE1qwe/t3hjkEMizJLG7JuAZHDDIyMjI9RVrch7akJ1qxF3FbNJIssgUjdA4ClvuhmxhWP91iD7VVsvE1neW91N5V3EttKYm32coLHdgbRtyxJ7DJFDaLcyXQeS8i8mSSKe4jW3ILyx7cFW3HapKLwQx4680y40Cea3vbZbuD7PcTidI5LYvhtwZlf5wHU4PGB16mq1v/Xl/wAEnSxYbV2eSweziSa0u5DE0ju0ckbANxsK+qkEEgg9qs6rff2ZpF3fGPzBbQtLszjdgZxmseHw5fWen2NpYX1jAlpPJOF+wHblmYhVUSDaoD4xz0HSrV7b6tqkN7p9zb2dvZzxPElzHdNJIMjAJjMaj8N5/GmHUl/4SHTvs5m3z8PsMX2WXzQcZ/1e3djBBzjGCDTLnxFZxXVtbwbrh7iSNN0aMUUPyCXAK5xzgkEg1n3vg8ak/wBp1F7C8u/MLf6TYeZBt2hceWXznCg7t3XPbirI8OPFdobW5iitfOineEW/JeNFQbSGAVdqrxt7fhQr317r/g/1/wAOHT5fiXF1/T3hmmWSYxwvsZhbSYZtxXavy/OdwxhcnNI3iDTVSFzO+2XJBEDnZg7SX+X93g8HdjBB9KRtIcaXHbQ3ISaKYzRytHuUNvLYK5GRzjqPwqm3hucxSKt+gN2jR3pNvnzFZmY7Pm+T77AZ3cY6kZpK/UOhZi8UaRNNLGtxIpiVmdpLeRFAUZJ3MoB4BPB5wcdKsJrNi9jJeGR44YnCP5sLxspOMAqwDDO4du9ZieFfLZyL37yFeYAf4GXoSQfvdCO1XLLSryy02aCO/VZpJA6OkJ8uIcDaiMzYGAeM4ySR6UK/UR0NkTtcemMVkx6hrW69gk+wtPDCkuY4ZGWDcTlCASZWCjI27SeOFyDWtZA7XPY4xWda+G2tbWaD+2tSlEr+ZvfyQySbt28FYxk5GMNkY4xioluax2M2PxdJ9nsRcPFE0pmeec2kpVYo5AhJjB3Rk5Gd5+TB3eldRcN/ozFT6cismTwtbSW6oLu6SQiRZp1KB51kIMit8uACQPuhSMcEVqzpi1KoOAAAB6ULzBmC+tWMepfYXlcT7gp/cvsDEZAL42gnsCeah/4STSxHJJ58m1Coz9nk+fc21Sny/OCSBlcjmqj6NeXWvXcksqRWDzwTbPLy8jRqCMNu+UbgMgqc461WuvDd+llAltdRzPatBFa5g2+XEsqMS/z/ADnCDpt6cDmrV+vczNf/AISDTPszTm4IjSCSd90TgqkZw+RjIIPBUjPtRHqci6hewXcMcUNvCk6SpKXLoxYcrtG0jZ0BPWsu78KT3FlLGmoxpPcw3ENzK1sWVhMQW2rvG3GBjJbjrnrVufRr+4vryRtRhS3urYW+yO2YSIBuwQ/mYzl/7vbt1p628w0/r5f8EW78UWNtYrdLHdSqbhLdkW0lDozED5k27hwwPI54x1FXF1SF9Shs1WQPLCZgZIZE4GOhK4zzyCQR6VlWnhU2el3VtDLZwSTXUd2n2ay8qKN02Y/dh+QSmT8wPJ5q7Lp+py6nZ3X2+0CQRlJI/sbZfdjcQfM+X7vHBx70a/1/XcBR4j0so7efJhSoH7iT95k7QU+X5wTxlcjketWI9XspbaCdJsR3Evkx7kZSXyQVIIyCCpBBAxisuPwxL/oqzXyulkYltgsG0iNHVsMdx3MdijIx9K0oLCe2hWO3ugn+lPPITEDvVnZinXj7w59qFsJ7u39b/wDANf7WlnpdxdT58u3RpGx6AZNZlpq15qGiyXEV9Z2txCfMnE9lLtiTbnG1nQt/v8BsHArVit0uLGWC4TdFMCrqf4lIwRVNPD0ItJ4J7y6uPtGxZJJSm4xociPhQNvJB4yQx5rJ7s1WyK9vqmrI+iLfQ2uL/ImZQyMreW7gBDnbgKoOWPJPArYvCRCMHGWptzYx3VzaTyMwa0lMqBSMElGTn2wxp14CYRgZw1V1E9jmrbxFZy3M8Fxut3hklTc6NsYJ1O/AXOATtzkCp7bW7C6aNYpZFeSTy1SWF42J2lujAEDaCQehxVSfw4lxbyQy3B2STzyttTBxKjLgc9t/X26UxtBvXmS8k1CA6hHIrJJ9lIj2qjrgpvyTiRjnd1x6YqleyvvZfeQ99PP/AIBcXX9Od7dUndvtCq6FYXKgMcKWOMJk8DdjNV7vxPZW8bGLzJmWWNCvlOu4NIELIdv7wAt/DnsO9QQ+GZof7PEd+oFrFHG7i32yOEOcBwwwrd1bcPTFQ2fgq2sWP2ZbGECWN1khsVSZlWRXxJIDlyduM8epBNNXurg7Gm3iLTEt45mmkCSbv+WEmUCnDFxtygB6lsAVImoyLqd3b3cUMMEMKzpOJi25SWB3AqNuNvqapXHh+Z/O+zXyxfaPNSbdBvzHI27C/MMMMnBORz0pbnQrq7vLoT3kH2C5tTatAtswkCYb/lp5mM5b+7/jS1Hp/X9eosPimxkkuNyXCRxsiJm2l8yUspbAj2buACcgHjmtFdRtXe1VZgWu0LwYB+cAAk/kRWPJ4dvZxLJcahayXEjo2TZHYNqlRx5m4HnOVYHI9OK1re0uLdLKMXryJBHsl8xdzTnAAYt1B7++aepJrM1z/ZhNmI2uMYTzc7Qc9TjkgeneufvNe1e20WW8DWji2lkjadLSV1n24xhFY+Wudyl2Yqu3PQ8b01m17o8lp9omtTMhTzoCBIme6kggH8Konw1usUtW1a/MaI0XyiFMxEAGPasYXHHBADDnBFZPdmy2VysPEko8ULp8slqivMIVtcEzkGLf5wbdgpnK/d6j72eK2r0kBBng5ph0yNr+C5eWUpbLiG3yojjbBXcMDJO0kckj0Ap96CQhxwM1UdyXexzkPirSLiSRI7iXMYyd9tKoPToSoDE5GAMk54zTb7xRYWelyXa+dKypIywCCQPlBk7l27kHI5YADI9az5vBENzatBc3KyoQh2vACpKhcbgTyMoCR3HFSN4RMen+RYS2Ni7wywSi2sNkRSTGdqBxhvlHJJ78dMNc1tSdLmvFq0Mt81sQyNHD5zl0dRjjoSu1hzyQePSoR4j00xB99wCX2LGbSUSMdpbhNu4jAJyBjg1HLpN/JqQlXUIY7b7ObfYtswlAIHIfzMA5GR8v+NVNK8J/2dex3HnWi7JRKUtbPyVciN0yfnOSd4JPt+Va/wBev+RK/r7v8zft7iK7to7i3cPFKodGHcHpVJNctDHdySl447aZYWLxSK244x8pUHksMEZB65qK3i1XTha2Vra2dxZxqqvcSXTxye5EYjYHjp8wz7VC+h388159q1C2aG5mjmCx2jKylGQgbjIc8JjoOTn2o1Hp1LLeI9MS3SZppQrFht+zyb02/eLJt3KBkZLAAZHPIpZfEGmwSTJJOw8lWZ2ELlTtGSFYDDED+EEn2qCXQ7hdQe9sb5YJ5GcMXg3gI+zIA3D5gUBBORycg1FdeG5bpZYGvlFqWlkiTyPnSSRWDEtuww+djjA6jnihXF/X9f1/kWIvE+lTxO8Us7bGCGP7JL5hOWGAm3c33GzgHG056Gro1K0b7JtmB+2Z8jAPz4Ut+HAPWufuvBEF2S00ltcMspkRLu0E0WS8zHchYZ4mIHIwVB9q3LexktILGC1liggthtkiigVVkG0gBQPuAHB49MUDZrB7gabKbTyzOM+X5uSoPuByfoOvtVfw7qU+qafJLc7S8czRhhA8BYAA5MTksh56NzwD0IqwLX7Vp0sDvJF5nR422svoQfrUUOjLDZSQC9uzLNMs8t0GVZJGBXrtULghQpAA4/Os/tM06Iq3eq31n4ltrSUwC0uGIUeRJkKELFjMSEDZBHl4LEc564itvEVxNHfytbpgSIthGMhpg6/Lu9MnLdOF5PQ1duNBgutQM9zPPNAW3mzkKtCX2bN2Cu7p2zt74zVSPwN4XiafboGmGOcqzRGyi2AqCAQNvufzNTrb+v6/r5J9dDS0W7mv9Bsbu6EYnnt0kkEYIXcVBOASTjNZGp65ZaXLEt/JKHm+4I4JJSeQP4FOOWA56k1saTpVpomk2+nadEsVvbptRVUL9SQABknJPuawtV0U6heW8xn8owFfl2ZziWOT1/6Z4/H2rRb6ESHRa/ps0qJHcE+YgdZDG4j+7vxvI2htvO3Occ4ql/wllqY7+VIZ/Js4kkDtbzAtuDdV2Fgo2/ewRzVOz8CWVrKS62UoaHy3mNkv2jPleWdsuchcc4wTz1xxVp/D+ovaagjanbGe9gS3Mn2NtqIoYfd8zknf1zjjpVE6XRqT6taWt1Fbzu6yS7cFYnZBuOBucDauTwMkZptprNjfXbW1tKzSgMRuidQwVtrbWIAbBwDgnGayr7wvPqV5aXV5dWcs0Bibc1iSUMcm8GLLny8jg9c4HSrMekXOnRRS2LRXU8AnCRzMYlfzZQ/LAMRgDHQ59qBIn1HXYNL1CGC7SQRyQySmVI2fZtKjkKDgfNkseBinya7p0NzJBJOwaNSWbynKcLuI342ltvO0HOO1V20281L9/qIgtJzazWpjgkMygSFcNuKoeNvTHfrTH8OvLI0Ut2DYszSGERYfeyFD8+77vJONuc98cUnzW0/r+kVoXJtbsIA++ZiUWNiqRO7EPnbhQCSTtPAyeKT+3dP3wKJnJnClT5L4XccDecYQk8ANjnjrWcPDd20U/n39rLLIsKLussxgR7sZUuST82chlIIH0qNfB0I1G2vZzaXk8SoJJbuzE0uUJIMbs2U6453Hgc5yTXXyJV7anQ3FxFaxeZO21NyrnBPLEAdPcjmqdzrlhaBjNLJhXZGKQO4XbjcSVBwoyMseB60xE1LUI7m11ays7e3kjZFe3vHlY545BjXHHPU1man4Q/tLSYLOW5t5SkUiSvc2glV3flpVXcAr7skHnGSKWo9DVOqvBfXsd7FHFbW0AuFmSUuWT5s5XaMY29ic0+fWbG33iSV2ZSo2Rwu7ksCRhVBLcAngHABzVSfRr25v7hp763NpcW32Z4VtWDhcNyH8zGct/d/xqhdeD21Bd+pz2N5OsiOizWG+H5UZPmjZznhs53DBA+lLWwdf67L9bm+NStG+ybZgftmfIwD8+FLfhwD1rTj897GRbWWOObOEeWMuqn3UEE/mKyLexktILGC1liggthtkiigVVkG0gBQPuAHB49MVtWyFrV13MhbOGHUcdRmiew4bnO3HiDVbLw9fXDNZ3l4skq2flwPEjLGvzu6l2OAVfkEZ+UcZrppZxDZvO4yEjLkD2Gay77wloup6PDp2oafBdRwQmGGSeJJJIgRgspYHDcA59RVyGxaCVYIhFHpsdsIUtkQAA9OgHACgAAevTisne1lua6aM5aHxrO6+U9zYh5hC0d15DiGLeHJU5f8AeFfLIypGScYBBFNfx3MLdZf3MbW8Pm3EL2zmScebJGdi7gY8eUxJYNjcAfWtuPwpbRQ7VvLsyx+WLec+Xvt1jzsVfk2kDc33gxOeSeKVvClmVRVuLhF2eXcAbP8ASl3lyJMr3ZmPy7fvHtT0v/X9f11Jd7fL8f6/pGvcki3Yjj/9dYH9oSx6tLbXMMUduITMk4mJJAIB3KVAXr6n8K37kE27Ac//AK65e90i8vdTkkkvLcWUlu9u0Atm8za2M/PvxnI/u/41Ub/16f5ky/r7yVfEGnPavOsk21WC7DbSCRiem1Nu5s84IBzg+hp39u6fvt1Ern7QF2MIXKjccAM2MISeMMQc8VSOgXcki3c+oRPqEToYZRbERqFV1AZN+TkSvk7h1HTFRah4Xk1G9tbq5u7eaSAxMXmsw7KySb8xncPLz0PBOAOeKvqSXLXxFa3U9/GILxTYybHP2OU7uFPHy8n5ugycc9Kf/wAJBYx6faXVzIVF1EJVEcUj4XAJY/LlVGRlmAxnnFKmnXlveX8tndwIl2wkCS27OUk2quchxlcL0wDk9e1UIvD2oR6fbwf2nb+ZDbm1aRbMgNEQvRTIcONvXJHP3aWtg0NNdasH1AWSzMZi5jH7p9hYLu278bd23nGc45q5Y3kNzMxtpN/lzGJ8AjDA4IrLt9CW2nV0n+Vbz7UF2dvJ8rbnP45/StSwinSZvPm8/dMWTCbdiZ4X3x60xK/9fP8A4AzXdTv9NurZoPJ+zyOiENbySF2LYILghYgBjDNnJOMeqWuqX/8AwlD6dd+T5ZjeRAkEibAGUL+8Y7ZSQ2SFHyng9ibeoaNHqNwskl1cxxkKssCMvlzBW3AMCCRyT90gnoc8UW+jRwakbxrq5n27/KilZSsO85bbxu5I7k46DArFGzK+v60dLe1hiIR7gsxkaCSYIi43HYnJ6gdQBkk9MGObWLyPxFZ26tbvZXh/dbYZDldhbf52QmcjAjAJI+bPXFmbQlmt4UF/eJPCX23QZGk2ucsmWUjHQdMjaOaSLw/bw3kEiXFz5EBVo7QspiVlTYGGRu+723YzzjPNC31/r+v67g/6/r+v0L17fWmm2j3Wo3UNpbpjfNPIERcnAyTwOazbnW2Z9Ln0p7O7sL2cRG4SbfnIb7u3g/d65/CtGzS5jhcXsqyyGV2UqMBULHavQdFwKLuyjvWtzKzA28wmTaRywBHPtzT7fL/gh0fz/wCAZ8WrzxapqcOpJBDb2cMcyNGzOSrGQc8DnCDgDvjJqXQr+71Cylk1CFIJlndPLTPyqD8oP+1gjOOM5xUs+jWV3cXcl5Clyl3DHDLBOivGyoWI+Ujnlz19BVaz8M6dpljNa6RF/Zsc1wJ2+xosRyGBxwMYIXGPQkULcH5ENxq11F4qSxaWO3tCqbTJYyt5zHdlRMGCKeBgEEmovDGvXesy3C3axgLGkihIHi2Fi2VBYnzVGBiRcK3OK0rrR1vL5J5bu68pWVzahl8p2U5Vjkbhg4OAQDjkGmaVocOksTHcXE4WNYYlmKkQxr0RcKMgerZPAyaF5/1/X9dgf9f1/X6mnRRRQBVT/j6uP98f+gio3++31qRP+Pq4/wB8f+gio3++31psQ2iiikMuVXmtRNuD7GViCVdNwyMY/kKsVG0yK2CTn2UmmS7dSOO18tURSixpgKqJgADoBzT1tokupLhUxLIqo7ZPIXOOP+BH86UToSBk8+qkVJQCt0Iri3iuoTFOu5CytjJHIII6e4FSUtJQMKWkpaAEpaSloAKKKKACiiigAooooAKKKKACiiigAooooAKKKKACiiigAooooAhuOkf/AF0T/wBCFWqq3HSP/ron/oQq1QAUUUUhlSS7dZGVVXAOOaifUfLZFkaNTI21AxxuOCcDnk4BP4VV1K/tNNSW51G6gtIFfBlnkCKCTxyeKwb/AFSzmvtIv9Pnu7uFpW3SaeJp4GTY4O7y8ofnx15FaWRndnUHUtsqxM0QkcEqhPLAYyQM9sj86lju3aRVZVwTjiuK0yGdvFcU1yl8Z0W6WZ5RL5KgyL5YTPycqB93055rodF/49o+bs/vn5vBiT/WH9PT/ZxRZWC7uaVxq1rbahHZSee08gDBYraSQKCcAsyqQoyDySOhqzPKYo9wGTnFYer2FzJrsFzYWt0JyIl+1xXmyJUWQllkiLAMNrNghWPzfw4BrYvf9SP96oRcvIi+2yei/lTU1BpEDR+WynoV5BrI/tfSLy8l0qPVLV7zDK9tFdATLxzwp3Aj8xXO2Mc2jeG4GsVvTdWk/lS29zJLtmZzsAUyHBGSrArxx71Tt2Iuzu/tsnov5UfbZPRfyrhYxdQ68bSK51G4u7eW2UOWlMJTYvml/wCDJG4885xip/C0WrrPcyaveTySGLE0P2WZFSTPVHd2Vu+PLAXp7CjT8/wC7/I7eC6aSUKwHPpVmsTQP+PCx5uj+4Xm8GJvu/x/7Xr71Ym1eCS+k0uJb5LplKrL9gn8pTtyD5uzZ/491460p6PQuOq1Lq3kD38tmr5uIo0ldMHhWLBTnpyUb8qmrgbTw3cRTySN4e223k2qXNpuhP25kM29vvYbl0bLkE455q7Z6Hcw31vJe6R9qXCfZP3yD+zQJXYrnOR8jIPkznZtPGDS6jZ10r+XEzYziqv22T0X8qsXX/Hs34fzrnm1vSGv303+07Q3uCDapcL53TJ+QHdnHPAzVRSsTK9zWTUTKCYzG4VipKnOCOCOvWiXU/IQPM0UalgoZzgZJAA69SSAPc1xdkZL6O0sov7YSBb6bzWmFzE5iKyFMyPhiMhe/HAqrdwX1xFYpepqUs6vZNCFWUp8symUybfl3ADPz/h3p2V15k3dz0H7bJ6L+VH22T0X8q4HT4tZEeovf3l9JO0TAwQWsybZd3yFHd2Q/wDAAFx96taxF4uh2w1Rr/7d9rT7QbcE5feM4z/yx+n8PXnNCSdgbaOvt5jMG3AAj0qaqdqGaOYI21iMA+h5rlo9CuF8NzWi6H5U7LCl0weJzesrfvJArHYxPJDSYJz8w4rOWjLWx1c+pW1tf21nMZRLdEiIiFyhIBOC4G0HCk4JHSpxIplaPDZUAklCBznoeh6dun41yNhbappul6LbHR764+yXc0jYktgUjPmqgIDqucOvCjAHHGMVetLBT4g1aOXw8YbG+jQSSusBjnZS+5mUOWO7cOSv1xQ9E7DNbS9SXVbX7VDbzRQPzDJIVxMhGQ67WJwf9rB9qu1xVp4YGn+GNFtZNAhu1htgLuxiEQzOUUeYdxCsRtYZyT82RmtG28Pubz7RqVvFdXMOm28EdxJhj5q+ZvK55B+Yc8ZzRLS9ug7anRO4jjZ2DEKCTtUsfwA5P0FOByoIzz6jFcQPDT23h65t20NbprjTLeN7dPKO+5AcM53MFLDK5bOTgYJxS63peparLp1yml3UUluiGMA2peJ1fLb2Zm2gqBgxHJ7kcU3pKxN/dv8A10/r5HYXV1DZW7T3L7I1IBbBPJIA6e5FTVzurXsWu2V1pNnbXrzhl3CexmhjYLIu7EjqEbjPQnPbNULrw80M0iJoiXmnLNKYLGMxqqFki2yBWIVcMsnTkFiQOanW4zsaa7iONnYMQoJO1Sx/ADk/QVyVtpOrW+o28M1s9wFvI7qS8EqBDi1ERBy2/dvH93GDnPaqkGgTxeHtUtJfDnnLNCqJC/kNJLL82XY7wjYJBDkK57g8UPQFq1c7oHKgjPPqMUVyMmjXOo3b38+ltDMkVoLfz2jMkTRyuXIKsQPlI6HkHHtWfpU1tY+MJJDal5rO3uxfXNqqzvMzzRGPKxFpM4BADKCMHHAp/at6iV2rndTXEVuYxM4QyuI0z/ExBOP0NSVzOs21n4m06zvE0iTUBaXQf7Pd2XlSMuMMFWcLxyDzgHbVltGWXVLzUPsEP2j7LGlo8wB8tgrggYOV+8ASOvrxS1Sb/rYfVJG3JIIonkYMVRSxCqWPHoByT7CnA5Ga8/t/DtzD4Z1myk0Ge5W6jUwWsyWa4l2MCwCEIADtOSS3Tk9tW50e41PUJdQm0tophHafZ/PaMyRMkrl8FWIB2kdDyDj2ph0OnnlMUe4DJziq322T0X8qlvf9SP8Aern5Nc02aefT7TU7aTUERx9mhnjaYED+4T1Hv+NUrWId7m39tk9F/Kj7bJ6L+VcFbfaxYxpONWaxW4H2mVTciWQeW3Kqf3qjftyFJHocbquTfbPttvj+1fN22/2bdv2bd37zzdvybsZzu9tvNVZXJuzsftsnov5UfbZPRfyrjLuz1JNAvZ7Se8W8lu3DGRpZNkH2g/cjDKf9X02YYjoc4q3YJcReH7Rbu6v7h/tS4khgeJyvmcBlkZnCY6ljnFCSG20dfBP5qsXwNvU1Bp+r2eqb/sUjt5YBIeJ48qc4YbgNynBwwyDg4NMjiNxaXMIO0yIVB9MgisjwrpF7ZXUtxqEdwkn2SG2Yzyo3mMhbLIEJCp8wAHBPJIzyY+00X0OnooopDCiiigAooooAKKKKACiiigAooooAKKKKACiiigAooooAKKKKACiiigAooooAKKKKACiiigAooooAKKKKACiiigAooooAKKKKACiiigAooooAKKKKACiiigAooooAKKKKACiiigAooooAKKKKACiiigAooooAKKKKACiiigAooooAKKKKACiiigAooooAKKKKACiiigAooooAqp/x9XH++P8A0EVG/wB9vrUif8fVx/vj/wBBFRv99vrTYhtFFFIZcrI1qe8t9NvJNMi8274ES4z8xAAJHpzWvUbQozZIOfZiKZEk2rI5/wALQahDoMJ1eWWSeR1cCYkuq8bQc8g4HI9c0aqLqDWrya1W6DSWkADxRs4CrK3mbeCN4RsgdT2B5roBAgIODx6sTUlAQXKrHKK90b6C5MeoTW8U0yW26Jw5UxKQGBGQN4cBnHpzyCatjd30l5bT6itxFaW00czyXKuFjzDMHJd0Tj7meAAT2rtaKCjk9Q1K01DV7e602+nuLeO0njabSx5+2QtGVVigbB4JAPBxzUcN14jOoBJkdLnGQu1zCw8nOMhNg+fnO/OeOnFdhRStpYDjLZb241qIwvqvlSRQR3Es0DRnP70uASoxztzjgZGCKme41dVlFub83AWX7QGgOxF3DaYiVwzBegGc/wAXNdbRRYOtzlN+pXEsqWsuorZqsrQu8TJIWCJtB3Luxu3Yz15HIpt5Jq1tAcS3rriOQr5TkyMY23LuRGKgMAeFIzx0OK62ii24diG1d3s4XlV0do1LLJjcDjkHHGfpU1FFU9xLYKKKKQwooooAKKKKACiiigAooooAKKKKACiiigCG46R/9dE/9CFWqq3HSP8A66J/6EKtUAFFFFIZC9rG7FjuBPXBpv2KP1b86sUU7sVkV/sUfq3505LWNGDDcSOmTU1FF2FkFNkjWVdrdKdRSGV/sUfq351HLpVpNJFJNGJHhbfEzqCUbBGQccHBI49auUU7sVkVF023SR3RdryEF2AALYGBk454p/2KP1b86sUUXYWRFHbJE24ZJ96loopDCiiigBHUOpVuhqD7FH6t+dWKKd2KyK/2KP1b86PsUfq351Yoouwsiv8AYo/Vvzo+xR+rfnViii7CyGRQrECFzz1Jp9FFIYUUUUAFFFFABRRRQAUUUUAFFFFABRRRQAUUUUAFFFFADZI1lXa3SofsUfq351Yop3YrIr/Yo/Vvzo+xR+rfnViii7CyK/2KP1b86PsUfq351YoouwshkUSxAhc89c0+iikMKKKKACiiigAooooAKKKKACiiigAooooAKKKKACiiigAooooAKKKKACiiigAooooAKKKKACiiigAooooAKKKKACiiigAooooAKKKKACiiigAooooAKKKKACiiigAooooAKKKKACiiigAooooAKKKKACiiigAooooAKKKKACiiigAooooAKKKKACiiigAooooAKKKKACiiigAooooAqp/x9XH++P8A0EVG/wB9vrUif8fVx/vj/wBBFRv99vrTYhtFFFIZcqFpmDsqoDt4JLY/pU1Y2v295d6Te2+myeVcS4RXyQVzgEghlIIGT17d+lMiTaWhfhvkuFDQtFImQN0cm7GcY/mPzp3222+2SWnnJ58cYldCeQpJAP8A46aw/C2ivoegwW05zO7iSQB2YIxI+UbmbgdOOuKn1XR7q8vbiSAW7RzQQqRK5GWjlL7CAp+VgxBPb0OaBQba13NQ6haCW3j+0RlrkEwgNnfjrg0pv7YNEomVjNKYk2HdlwpYjjpwp61iJo2oLcfakSzjkknldog7MkQaMLkfKNxyoYjC/ePPHNWw0HVLK5jvLlIpTAY2EMEqln2RSrgfJGgJMigDgYHWgs6qSWOIAyyKgJwNzYyen9aaLmAxu4mjKRkh23DCkdcntWUYJ9XvILmexmsPs6SoBcGNnBcLhl2Mw4wepBqhH4evVWF/s9hGbVIUWBJG2XHlsSC52fLjOQMNg9zS1vYOh0huIRszNGPM+5lh8309elAurcrGwnjKynEZDj5z6D1rmx4XmkiuvtCWe6dPljGWWI+c0hAJXpyOcDJ7CnXfh28N801ktqu6dnDM/CoSjFShRg2SpPBU5xhucgV29QfkdPRRRTAKKKKACiiigAooooAKKKKACiiigAooooAKKKKACiiigCC5AZEDAEGRAQe/zCpvslv/AM8Iv++BUVx0j/66J/6EKnnWR7eRYZPKkZSEfbu2nscd/pQA37Jb/wDPCL/vgUfZLf8A54Rf98CoNJvm1HTIrl0VWYsrFDlGKkruU91OMg9wRVyjUZF9kt/+eEX/AHwKPslv/wA8Iv8AvgVk6vq8elx+fdyMkPnLFuDABdzBQSSRgDPJpn9uWWLY/wBqW+Lr/j3/ANIX99/u8/N+FUk2RzI2fslv/wA8Iv8AvgUfZLf/AJ4Rf98CssalCcYvEOQ5H70fwnDd+x4PpVVvEVgLWK4j1O3ljmkEUTJcpiRycbVJYAn2zmizDmN77Jb/APPCL/vgUfZLf/nhF/3wKyTq1st6tm1/ELliQsBmG84GThc56HP0pLTV7W/aRbHUIblojiQQzByh564PHQ/lRZhzGv8AZLf/AJ4Rf98Cj7Jb/wDPCL/vgVi3Wu2NjcLBe6pb28zAERy3CoxBOAcE561IurWzXE0C38RmgXdNGJhujHqwzkD60W8w5jW+yW//ADwi/wC+BR9kt/8AnhF/3wK5mHxdptx5nkX8bhblbVGFwgWZ2VG+QlsNgOOOuQQAeM6B1a2W9Nm1/ELoLvMBmG8L67c5x70WY7mt9kt/+eEX/fAo+yW//PCL/vgVk2uq299v+xX0dz5Z2v5MwfafQ4PFE+q29rcQwXV/FDNOcRRyTBWkPooJ569qOVi5ka32S3/54Rf98Cj7Jb/88Iv++BWMutWbXE1uupQGaBS0sYnG6MDqWGcgDI60+LVbeezW6gv4pLZjhZkmBQnOMbgcdePrRZ9w5jW+yW//ADwi/wC+BR9kt/8AnhF/3wKjtJGZX3EtjpWNN4muLO0vZNQsILWW3iimVHu/l2yMVUSNt+QgjnAYehNS3Ypam79kt/8AnhF/3wKPslv/AM8Iv++BUOl3jX+mxXTm1PmDINpcefGRngh9q5/KsnVfEFno4hfU76O2E8gjQyShAT+JHA709RXRufZLf/nhF/3wKPslv/zwi/74FZB1i1F0lsdRhE8ieYkRnG5l/vAZyRx1qpY+KtK1CznurbVoGht3ZJnNwuEwxXJOeASDg9xTsxcx0X2S3/54Rf8AfAo+yW//ADwi/wC+BWE+tgTWQhE1zBettjuoZEaMHBIyd2TkA8gGrzTsilnlKqoySWwAKLMOYv8A2S3/AOeEX/fAo+yW/wDzwi/74FYZ8Q6cLY3B1e1ECyeUZTcrtD4ztznGfapZdYtYLkW02owxzlDIInnAYqOrYznHB59qLMOY1/slv/zwi/74FH2S3/54Rf8AfArCj8SaXNBLNDrNpJFCAZZFulKxgnAyc8cjHNWV1CN4oZUu0aOfAicSgiTIyNpzzwM8UcrDmRqfZLf/AJ4Rf98Cj7Jb/wDPCL/vgVCtxIlhLKsbXEkYJWNSMuQMgAn1qPStQnvftMd5bx29xayiORYZvNQkqrDDFVPRhkED+tTrexRa+yW//PCL/vgUfZLf/nhF/wB8Csu+19rPVfs32eNreNoUnlabaymZ9ibU2ncM9eR7Z6VWs/E8+oXTW1naWrTy2/2q1R7wjfFuC5kxGTGeQQBuzzyMUrjN37Jb/wDPCL/vgUfZLf8A54Rf98CqujX9xqNi013bxW7CV4wIZjKrBTtyCVU9Qe1Uda1600VRLqV4ltG8yxIXkC5JOO5H1PoKa1E2bH2S3/54Rf8AfAo+yW//ADwi/wC+BWONYtDcQwDUYTNOnmRRicbpF67lGcke4qraeKtKvYbmW31a3MdqxWZvtC4TBxknPAJ6HvVW8yeY6L7Jb/8APCL/AL4FH2S3/wCeEX/fArCfWwJrIQia5gvW2x3UMiNGDgkZO7JyAeQDU9/qX9nadcXs7yGK3jaRwp5wBk4yaLMOY1vslv8A88Iv++BR9kt/+eEX/fArE/4SDT/sIvDq1sLUts8/7Suzd6bs4z7U271+0sry3tJbxTc3DqscCyjeQx4bbnOOOtFmHMjd+yW//PCL/vgUfZLf/nhF/wB8CsUa7YlZyNUt8WwzOftC/uv97njp3pW1qzVbdm1OAC6OLcm4H77/AHefm6jpRZ9w5jZ+yW//ADwi/wC+BR9kt/8AnhF/3wKxIfEGn3E7wW+rWsssYJeNLlWZcdcgHjHepIdXtbm0+1W+oQy2+ceck4ZM5xjcDjrRZ9w5ka/2S3/54Rf98Cj7Jb/88Iv++BUdnIzhgxJxjGayYvFMVxpeo31utvLHZ8qiXILkc/NIAP3YOM9zt5x2qG7FLU2vslv/AM8Iv++BR9kt/wDnhF/3wK5h/GwXTFu0t7SQLHLNJIt7mFo42VS0cmz5ySwAGFBORn16Z5g9mJojw6hlPsaeoXQv2S3/AOeEX/fAo+yW/wDzwi/74FZDavarfrZNqEIu2+7bmYeYeM/dznpzTP7esAk7nVbbbbsEmb7QuImzjDc8HPrVWfcXMbX2S3/54Rf98Cj7Jb/88Iv++BWQNYtWgE66jCYjEZhIJxtMY6vnP3R69Kjh1gyX91aypPb/AGZFkMsrrsdG3fMCGJx8p6gUWYuY2/slv/zwi/74FH2S3/54Rf8AfArnbnxVpVpYR3smrW5tpZRCkq3ClSxIGM5xxnJ9BVlNat5b6O0gvY5ZpIvOCpOpOzjDYzkg54IBFFmHMjZ+yW//ADwi/wC+BR9kt/8AnhF/3wKxRrtiVnI1S3It22zH7Qv7o+jc8HjvU0epQzQRTxXqPFMQIpFlBWQnpg55/CizDmRqfZLf/nhF/wB8Cj7Jb/8APCL/AL4FNt5GNuzEFypOAOp9uar6RqTapayyyWzWrxzvCYncMQVOOSOPyJ+tT1sV0uWvslv/AM8Iv++BR9kt/wDnhF/3wKx9W8SDTNbtdP8AIiY3GzHmXGx5Nz7cRJtPmFfvMMjAIPep11wy6veWVtZSTraxBhIjqPNfOGRQcDjjknrkdqV/69BvTf8Aq5o/ZLf/AJ4Rf98Cj7Jb/wDPCL/vgVBpN/8A2ppNvemIwmZN3llt232zWdq2twaVNF9uuPIjmlMYkZwqIQrNliSMDCn8cU1qJmx9kt/+eEX/AHwKPslv/wA8Iv8AvgVkHV7VZ4IW1CES3C7oYzON0o9VGeR9KG1a2SLzX1CJY/LMu8zADYOC2c9Bkc1Vn3J5ka/2S3/54Rf98Cj7Jb/88Iv++BWM2uWS28M7anbrDcNthkNwu2Q+inOCfpUdpr9peXU1rHeKtzC7q0DSgPhTgttznb70Wd7XDmRu/ZLf/nhF/wB8Cj7Jb/8APCL/AL4Fc9ceI4I9LfULKRtSt4iRI1nMj7ABkkksBx6DnnpUl/r9rp1zBbXF2PtNxIiRwCUeYdzbQ20nOM9TRysOZG79kt/+eEX/AHwKPslv/wA8Iv8AvgVkwarb3Us0drfxTSQHbMkcwYxn0YA8dD19Kt2N19oaN45hLFIu5WVtwYYyCDRZ2HzIt/ZLf/nhF/3wKPslv/zwi/74FZ0evRTa7c6bAIXe2QlkNwoldsBsLGeq4YZYkAE49cZ8fiuaSxvJjbaeDZyBJpf7SH2aLg7hJLs+VlIwVCtgsvYkiL9SvI6H7Jb/APPCL/vgUfZLf/nhF/3wKj028OoaZb3ZiMRmjD7Cc4z79x71lX2u2WnyKuo6nb2jSAlVmnWPcB1wCRVak3Rs/ZLf/nhF/wB8Cj7Jb/8APCL/AL4FZI1W3a8Fot/Ebkp5ghEw3lf723Oce9Z//CYaWTc+XqMTpbhAZBcoEdm3YRWLAbvlPBxT5WLmR032S3/54Rf98Cj7Jb/88Iv++BWTLqtvDeRWk19HHczDMcLzAO/0XOT0pLbVra8lkis9QinkjALpFMGKA9MgHjNFn3DmNf7Jb/8APCL/AL4FH2S3/wCeEX/fArIu9WispYIri6VJbhwkUbTKrOcgHAYjOM9Bk0Jq1tJeNaR6hE9yoLGFZgXABwTtzng8UWfcOY1/slv/AM8Iv++BR9kt/wDnhF/3wKxBr+nmya8GrW32VG2NP9pXYrehbOM+1JJ4g06K6S2l1a1Sd9uyJrlQzZxjAzk5yMfWiz7hzI3Pslv/AM8Iv++BR9kt/wDnhF/3wKyodUguJpobe+jlltziZEmDNGf9oA8dO9WrG6+0NG8cwlikXcrK24MMZBBos7D5kW/slv8A88Iv++BR9kt/+eEX/fAqhNql1BrMNtJYqtrNL5Mc5n+dn2F8hMfdwCM7s5HTHNSa1q0Wjaf9pl8vLOI0EsojTce7MfuqACSeeAeD0qLlWLf2S3/54Rf98Cj7Jb/88Iv++BWVqGrajbW9vcWdnY3UE3lqG+3MpZ3YABcREMOQc5HHYVLb6jqTa79gu7G1SIxNKJYbtpGUBgF3KY1xuye5+6aet7C0ND7Jb/8APCL/AL4FH2S3/wCeEX/fAqtqFyLZWkllEMUaF3dm2hQOpJ7DisuPxFps1vLcQ6xaSQw482RbpSseemTnAz707MVzd+yW/wDzwi/74FH2S3/54Rf98CsC98R2NhHA01+jG5KCBEmUtKGYKCoz8w+YHI7VLHrdrJ9qK30RjtDieT7QpWM9w2D8uMc5xTs+4uY2vslv/wA8Iv8AvgUfZLf/AJ4Rf98CsRtf09beKdtWthDN/qpDcrtfnHBzzzxxVi6vTaWc1xI8hSGNpGCnkgDPFJqyu2NO7saf2S3/AOeEX/fAo+yW/wDzwi/74FYUXiHT5rBr1dUgFvGQJJDcLtjY4+VjnAPI4qcarbldwvoyuEOfOGPnOE7/AMR4Hr2p8rFzI1vslv8A88Iv++BR9kt/+eEX/fArHTWbSRrhY9RhZrX/AF4WcEw/73Py9D1qW2v0vLdZ7O7W4hf7skUm5W+hHFFmHMjT+yW//PCL/vgUfZLf/nhF/wB8Csz+0I+P9LX5nZB+86sucjr1GDkexqjceI4E0t9QsZW1K3jJEjWUyPsAGSSSwHHoDnnpRysOZHQ/ZLf/AJ4Rf98Cj7Jb/wDPCL/vgVlvqEUTMsl4iMpQMGlAILHC557ngeppIdUguJpobe+jlltziZEmDNGf9oA8dO9FmHMav2S3/wCeEX/fAo+yW/8Azwi/74FVLG6+0NG8cwlikXcrK24MMZBBqleeJfsniSPShbxOzhSF+0YnfIJ3JFj5lGMFtwxzUu6dilqrmx9kt/8AnhF/3wKPslv/AM8Iv++BVLS9Suru5uLa/s0tZ4VSTbHP5o2vnAJ2jDDacjkcjk5pNX1ldLktIlhM8tzOke0Nt2Izqhc+wLLx3JH1BrewF77Jb/8APCL/AL4FH2S3/wCeEX/fArnm8ZRx3Eyy28YTy5ntwlxmSTyn2Hcm0bAWzg5OcHOOlaei6v8A2qt2kiQpcWc5gmWCbzUDbQ3DbVzw2DwMEEUr3GXvslv/AM8Iv++BR9kt/wDnhF/3wKydZ1STTLO4u/JuLhIQWaOAqGCjkn5mUdB60SarBDcQ2899HFPP/qonmAaT6AnJ/CrsyeZGt9kt/wDnhF/3wKPslv8A88Iv++BWOdZsw9wh1KANajdcL54zCPVufl/Gql14s0mzWzafV7dY71ysMn2hdrYBJOc4xxjPqQO9Fn3C50f2S3/54Rf98Cj7Jb/88Iv++BWRHq0MuoSWUV0rzxJvkRZlJTPTK53DOc9MVGuv6e9q1yurWzQKxQyi5XaGAyRnOM45xRbzFzG39kt/+eEX/fAo+yW//PCL/vgVmJqEciQtHdqy3AzCVlyJOM/Lzzxzx2q79omTT5ZYojcSoDsj3hdxx0yeB9aTTSuNNMm+yW//ADwi/wC+BR9kt/8AnhF/3wK5pvGT/wBinUEt7B4llaNpxqI+zyEAYEUmzMjEnaAFHzKwzwM9OsgMIkYFAV3ENwV471Nyhv2S3/54Rf8AfAo+yW//ADwi/wC+BWTp/iMalo0+oWUEdyEPyQ29yjSbSAR5mcBGwclckgep4rS068GoaXa3oTyxcwpKEJzt3KDjP409RaEn2S3/AOeEX/fAo+yW/wDzwi/74FOmdo4XdInmZVJEaEBnPoMkDP1IrFPiSQaBFqY02Rt05hkjEq/usSmPJPfkdgf60rhobH2S3/54Rf8AfAo+yW//ADwi/wC+BVG71lbbXLHTY4TK1yxEkgbAhGx2XI7ltjcexP1XXtWGiaS16wg4kjjH2ifyYxucLlnwcAZz0PSi4y79kt/+eEX/AHwKPslv/wA8Iv8AvgVgXvitrFtOWSGydrxQw2X2RLlgAsB2fvWwc4+XjvXSU9RaFWIBbicKAAGAAHb5RUb/AH2+tSJ/x9XH++P/AEEVG/32+tDAbRRRSGXKY0aMcsisfUin0UxDBFGpysag+oFPoooAKKKKACiiigAooooAKKKKACiiigAooooAKKKKACiiigAooooAKKKKACiiigAooooAhuOkf/XRP/QhU88MdxbyQzLujkUq656g8EVBcdI/+uif+hCrVACIixoqIoVVGFUDAA9KWiikM57W7GS+EaRFQY7yKY7+6pIGP44FYj+Hr5Wu0h+ytHfb0lZnYNCpmkkDKNp3HEnQkYIHJrsZbiMSEGINg4yab9oj/wCfdf8AP4Vor2M3b+v68zkD4fv2mlidbNrUR3axl5HJk89w2GUAYA5HDEnrxT20zWhpEsKx2ck8tykm2S6bCIuzAMgiy5+TqRkA9Tius+0R/wDPuv8An8KdHNE8gUwKMnGcCkBy0mi3Vz9qecwxPc3MMxEbltgVFVgCVGTkHHH5VnaJLqNrc3V0dInnSK1trKNLceWz+WZMtify8DDL0JHPBODXeyS2cNxDBNJBHNOSIo2IDSYGTtHU4HPFOm8qKPcYlPOAMChO23UbXc4fU9EvtbdrtYlszLDs8m5cb0PlTpzs3L1lU8E8Z+lRReEJUa+Vm3GUTeTO99PJkyPvwYT8iDsSuc47ZrtvtEf/AD7r/n8KPtEf/Puv+fwpsnS1jkH0vWzBeutvp/n3l/FdGM3bhUWNYhjd5WSSYz2GM0XGg6lc69FfSeSEWQyEC8lwuYTGV8sKEY7jneecccV1/wBoj/591/z+FH2iP/n3X/P4UmrqxV/M5e0srvQ4Yplsnv3SxtrQxWjIGJj35OZGQbfm9c+1QatpWo628FxHAbZSiboJ7tomiZX3fMItyyZGOC2B75NdlFLFLJtMKgnpwDU/lR/881/75pyld3YlHSyPM30a81LUJNPEbRW9rBcItz++iMjPNHIATtXrsIJRm9eMgVvWWjy2miyQJa2xnlnWV47m6lulOCuSZJPmJAXI4ABA+tdWDbNO0AMRlRQ7RjG5VJIBI9CVPPsfSn+VH/zzX/vmkpWX9epTiyvZZxJj2xWdYaPq1rbXKz6rayXE7CT7QliVYvkfeDSMGXAC4G3A6Eda2XKwxlgMAdhVf7d/0z/8eqbXdx3srDdKsX0+0aOaVZpZJXlkdI/LUsxycLk4H4n61j6xaXF1axfZBG08E6TKkrlFbaeQSASOM9jW19u/6Z/+PU03KE5MCk/59qpJr+uxLszmn0q+k1JnZbZYJrmK6kcSMZI2RVGxRtwQdn3sjhjxUTaPqK6Zd2UQg2NdtcQuLl0aQPKZGUkJmM84DKSe/FdV9oj/AOfdf8/hR9oj/wCfdf8AP4U+lv6/rQXz/r+mchb6TrFjpun29vb2crW91LcP5t9KeGZyBuMbMxw/JPOR361pm6u7/wC1WT6Td2qmN1W5meExuegxtkZuevKjjrjpXRQGKYH90oI9hUnlR/8APNf++aTaaaY0tbo5S5027iisHsI7WWS1gaAwzOUjwwUZBCnpt6Y5BPSs2bwxffYJNOhkt3gkEbG4kdhIrJEqBdu0jB2DndwGPBrtpbrT4b2Gzmnto7qcExQO6h5ABk7V6nGD09KlH2dpWiXyjIgBZBjKg5wSPfB/KhyTu+4KPLojhR4bvoxMy/ZpWaQuimZ4+fM3D51GVI9cH0wQa1baxu4rGwjnSznmhmMkzOv3Ad3KYUfP8wG7Az8xwM4resbyy1GN5LRWdEbbvaBkVvdSwAYe65HvVnyo/wDnmv8A3zSTSSSDl1ZVRJpNOmS1lWGdgwjkdN4RscErkZwe2RVOxsdU0rSRAstreTecnzpA0WVLjzHbMjFmwWOcjntWu7pDEzuyxxoCWYnAUDqTTgQygqcg8gjvU9bl9DK1PQodU1KzuZ1t9tqwfJtwZiQwYASE/KuQCQBzjqO9PTvC76YJPst1DHsgkhtClttMW8gln+b942VXn5envW9LNHBGZJ5FjQEAs7AAZOByfen0rL+vMCGztY7GyhtYBiOGMRrn0AxWJr1nNe2rJa+X50dxHMgkYqrFJA+CQCRnGM4NdDUcvlIjSTbFVQWZ3wAAO5NVfW4rdDkJNL1Ca9LOlqsU80NzM4lZniaPb8ijaNynb1JX7x4pk+k6iba+toBB5cl19oif7S8bvlgzISEyncBlJP0rsxHEygqiEHkEAc0eVH/zzX/vmndf18v8kTy3OGt9J1ix03T7e3t7OVre6luH82+lPDM5A3GNmY4fknnI79at6k97q1nqGlLpN1biaGSJLud4TCxIwDhXL4Puv1xXWssCbd4jXccLkAZPpS+VH/zzX/vmnzBys4C98NX99cNfTiMTtKSbWDUZoE27FTPmxqGJ+Xptxg47Zqwnh+7trqKO1Fv9jFxBOWeZ98flxqmxQVORhc5LZ5P1rtZBBDE8swjjjRSzO2AFA6knsKcIoiMhEI+gpJpByu1jlDpM8WjRQQCBp4bk3CoxIRz5hfBIBI69cHB55qg+gaj5M6qLQm/jeO4zIwFvukZ8x/L85+c9duSoPHSu3m8qJNxjU84xgVB9oj/591/z+FNeQmuhxi+F7seYHa1dXjKbXLEHMbrg4wcfMOh9av2unagmlXMdzHZzTSyq6RTMZUCjaMM+xS5+UkEjPQZOM10n2iP/AJ91/wA/hR9oj/591/z+FCVhWQ6x/j/CsdPCbLbvAb1BHHD5NpsgwY1Dhx5nzfvOVA/h4z65rXF4FGFiAHsaX7d/0z/8epOLbuWmrWMK58HyXT/aZL23N64mWWU2mUCyhQ3lrvyjYQYJLdWyDmugljWKx8qMYVFCgewxT4ZxMDxgjrTLW/s9QWT7DdwXQiYpJ5MgfY3ocdD7UlpoPc42XTr678Q3irDHHaG5t5jcOzBz5aqcIu3ByRgncMZPBqndaLqlvY2gWC3leyNvBCsbsfOUTxsXf5PkwFzxuxljmvQ/Kj/55r/3zR5Uf/PNf++aaaX33J5bnn954a1OWwuBB9j+0Xlvdwyo0zKkXnsGypCEtjHcLnOeOlX7mw1ee/v9kdnFBcWgt45vPZnUrvIYoY8dXHG7jHfpXY+VH/zzX/vmjyo/+ea/980+ZWsOz/r+vI4W18P38OmXiYiE8t7FdxI97LOPk8v5Wkdd3PlnscZHHFaE8WrSaxY3C2tkIYo2WbN2+4Ftu7aPL5xt4yRn2rqvKj/55r/3zR5Uf/PNf++aOZWsLlZwkfhy/YWKTG1RbDyY42R2JmRJFYsw2ja2E4HPJPNakGmzW9vHGIrWUi+kuG8wE7FaR2yvH3/mH6810/lR/wDPNf8Avmjyo/8Anmv/AHzRzaWBxv8A16/5kVl/qT/vVUSzudNsbr7AUnnmuWmUOuFXe/OeecAn8ulaYAAwBgUVD3uV0sY2o6FJe6kbiO7WKKVIknjaHexEbl12NuGw5Y5JDdsYIzTdO8LWWlaw1/Zy3Y3RNH5Ut5NKgJbcSA7kDntituijbUb1KmlWH9maXBZ+Z5vkrt37cZ59KytUspLnVLGZCoW1uXlcN1IMbrx75YV0FNMaMcsik+4px0E1c4aHQL6COK3X7K0LLb+dIXbdGYm3YQbfmB7ZK4JJ56VCPDmo7VjdLNoraBoYczyAyfvUcMSFBjOE6gtg4PPSu+8qP/nmv/fNHlR/881/75pppO5PK2ef3fhW9vY7d7spO+yaOWJb6a3ULI4bJaIL5nAwQyjd1yD1tz+G5p7OS382NA9xcSbxkkLJG6D6kbhn6da7Xyo/+ea/980eVH/zzX/vmi6DlZxN1pmrz6dqG2CxW6vIlg8oXLiNFVWG7d5eSfm6begHNLPpOqXF6JGjtFSa5t7mY/aGZozGVyi/INwIXOTt5J4rtfKj/wCea/8AfNHlR/8APNf++afNrcXJpY5HSNLvrK5mNwLZYNhSKNHZwSWyT8y5Qf7G5h6Yxzs6LDJBa2kM0UEUkcSq8dsMRIQuCEH9309q1fKj/wCea/8AfNOVFX7qgfQUuaysPl1uYr+HmbVnuY7sRwPOboosP7wTGLyshycBdvONuc98cUkWjanG0t0NVh+3yGNTILQiJkQMAGTfkn5ychhyF4wMHcoqSyrptium6bBaK5cRLjcRjJ6njsPbtXM6xo1xqF/FNC8SqgQEOSDwxJ7e9dhTTGhOSik/SjTqJrSx55B4NlW4fz3LK6Eidb6f925h8viH/VnHOG64OMd6nl0jWns9RAt9PE15bR2yoLpwihQ4LZ8vP8Q4x+Nd35Uf/PNf++aPKj/55r/3zV8xHIcPqOi6pqGpW106wIFeB3Rb2VVjKSbmG1UAlyOm/GD0A61NaaddaRb2k4t/tj2to8LQ2zKHdmdD8pcquMAnkiuy8qP/AJ5r/wB80eVH/wA81/75o5kv67j5Tkb5tV1PT7c2mmLbutwkjxX9yEYBHVhjyhIDnB78VXn8OXF3ZvDLLHC0txcyM8bElBLG6jBwMkFh6dK7byo/+ea/980eVH/zzX/vmldf18v8g5Xoce1hqjGC7+y6at1byArEsrBZF2MmTJsyD83A2nAyM85FBfCl4hjxNbkKuDyR/DGOBjplDj2xXf8AlR/881/75o8qP/nmv/fNDae4KNtjitB8OPpNxI8q+YVjaKOZ76abzAWzzG/yx9BkLnPt0roNFhkgtbSGaKCKSOJVeO2GIkIXBCD+76e1avlR/wDPNf8AvmnKir91QPoKObSwcutzKOmaifEZ1A31q9vtCRwPaMXjXHzBX8zGSeSdvQAdqdeaVc3cQLXqGeG6+0WrvBlYuCArKGG4YLc5B59q1KKixZk2uifZxp6vcCRLNpJSoj2h5Xz8w54A3OAvPUc8c27Wx8i+vLqSTzJLllx8uNiKuAnvzuP1Y1bopgY/iK1e+027tIioee2eNS3QEgjn865GXwheP5jmZCRctOkcV1LBvzLO20yINy/LMDxnlcdK9FZVb7yg/UU3yo/+ea/981XNoLW1jgj4avII0hs0thFKLfzRLcyO0RjlMh2llJfO48sRzz3wLV1p+s3NzqOIbOKK4WMROt2+87GJwf3fy7gcZBJXqM12flR/881/75o8qP8A55r/AN80NpkqNjgrPwzeRQyiYwjfb3UQVrmScgylCMu43Njack+34aNzLeXMM+lLpV0qyQNEL1nh8nJQ84Em/GePuV1nlR/881/75o8qP/nmv/fNF01y+VhpNO5xsui3iXUN3a/Z3kt1g2xSOUVyiSKcsFOOJAQcHp0FUz4a1FCqRG1ZJpLaWdmlZfKMVwZSqDadww2Bkr0rvvKj/wCea/8AfNHlR/8APNf++arn1uSoWt5HBTeGr+6t7u3kkhghbmIQzyZZvNEn3sB4gduCFZuuRjHNyzW50CxWKHRby8eaRpJBbXon2HgfNJcSIzZA7Dt+fY+VH/zzX/vmjyo/+ea/980lJLYfLc5KXRriTULyaOWOOKWFjArDcY5nUKzEdMAKuP8Aees6PQtWg0fU4IYbYzXwChZtRmlCDZtJ3shPphQAPp377yo/+ea/980eVH/zzX/vmldBynEX+j6pe3nmhLRBcNaPOPtDHyjDNvIX5PmyOOduKdoPhx9JuJHlXzCsbRRzPfTTeYC2eY3+WPoMhc59uldr5Uf/ADzX/vmjyo/+ea/980+ZByu1jK0WGSC1tIZooIpI4lV47YYiQhcEIP7vp7Ul1oU02qvcxXiJDJLHM8bQFn8yMYXa+4YXgZGDnnkZrYVFX7qgfQUtTJ8zuUlZWMKw0/WdK0u5BurO/vJDvWQWrRb5DwWfMjZGMcDGAMDsKdrXhWy1q5W6llu4bhWiy8N5NGrLHJvClEcKe/OMjOe1bdFLrcZy58EwOLuGSeMW0wnMaxwbXDTMGZnfcd+MYHA44Oa1tG0ptLim82SGSWdwzeRD5UahUVFVU3NgAKO57/StKijYDnfENvd3el3ttYRwvNOjxjz5TGoDAjOQrHv0xWZNpep3MxaSKzQXKwrORMzGHy3LDZ8g3Zz324PPNdmY0Y5ZFJ9xSeVH/wA81/75quYhxucUdF1EWU1qi2QCbzBPvYSybpQ5BO393nGCRuOcMMEYqO20HULWwtTGsDXNrfvdJFJeSSKwZHXBlZSxI3k5IPTt27nyo/8Anmv/AHzR5Uf/ADzX/vmhNIdna39djkb+x1O91OQCK1js5LR7Yyi5bzV3Y+YJ5eOCP73v7VFFo1/NqFveXa2kLRSxZigkZl2IkgyCVHJMnTHAHU12flR/881/75o8qP8A55r/AN80Jpf18xcv9fgcxa6dPbJYp5VrIIZpXd2BLRht2PL44PzAH2zW6sUk2nSxwTGCRs7JQoO09jg9fpVryo/+ea/9808AAYAwKG7qw1Gxz58P6h9nuduqQrNeu7Xf+iExOGRU+VC+VIVByWIyWyDkY1BZSK8EaXJFnHA0TwsmTIflCtv6jADcd93tVyip8ijF0nw++nRyJJdJKPssdnDsg2bIk3bd3zHc3zHJ4HoBVmztbrTrXS7CDZLBbwiKeZhgkKmBgZ4JOD34B9q0aKLv+v68xWX9f15FK20XS7K/mvrPTbO3u7jPnXEUCrJJk5O5gMnJ55qoNBx4fbTPtP3p2m83y/WYy4xn3x19/atiijpYfW5h3PhSyn12DVklu4p47gXEireTeXIRGUHyb9g4I7cgYPBNXpbXUGguBFqCLK0weBntwyxrx8jDILDIPOQefar1FAHNnwpKIRHHqCKJY2jus2+dwaRpCY/m/dnLHGd3G3uM10lFFAdblVP+Pq4/3x/6CKjf77fWpE/4+rj/AHx/6CKpanf2+l2dxe3rMlvAC8jJGzlV7nCgnA6njgc9KbET0Vzth488P6p5n9mXF1eeXjf9n0+4k2ZzjOEOM4P5UUhnXUUUUxBRRRQAUUUUAFFFFABRRRQAUUUUAFFFFABRRRQAUUUUAFFFFABRRRQAUUUUAFFFFABRRRQBDcdI/wDron/oQq1RRQAUUUUhmZL/AK5/941x+t6reQfEjw7psci/ZLhZXkjaNWywjfBBIyD9CKKK0XxR/rozPo/Qz9L1i/vfi/fWF1PvtrOGUQR7FGzPl55AyfxrsPD11NeWMc1w+9/tEq5wBwsrKOnsBRRRH4I+gn8T9TE1HV720+MVhZQTbbe7iCTJsU7lVXYDJGRyc8Yrtr3/AFI/3qKKzhsvVmktzD1y5ls/D+oXNs2yaG2kkjbAOGCkg4PvXB/DDxHquq2dvFqF2ZkEsqcoo4CKRyB6k0UVf2n6L8yH8K9SXTPFWs3HjvStOmvN1rcQlpY/KQbj5W7rjI59K2PC+t6hqOveJLe8uPMisbjZbrsUbBluMgc9B1zRRURb5fk/zHLf7vyOl8NXMt5pGm3Nw2+aa2R3bAGWKZJwK25mKW8jLwQpI/KiinX05rFU+h55p6udThBubsnULLTWuHN1Jvbebhm2tuygyOikAdqsw3l3IS73l0WsRbiHE7gHddyRNvGcSZRFHz56Z6kmiiiWkn6/og3fyR3F1/x7N+H86ybt2isp5EOGWNmB9CBRRQ9IMX2keap4q1iL4W2urR3SpfTXEwklWCMbsF/4duM8DnFS+J9e1L+1PCln9p/0e+NrLcJ5a/OwmjOc4yOfTFFFaf8ALxLzX5MhbX9fzRetPEmrS6r4mhkusx2NzDHbjy0+RWkwR0549c1tnVLz7PM3ncrq62wO0cRl1G3p6E89aKKiDbcfRfmgnpzev6M6u0OElI9B/WuT0mWe4tII5ry7YX1nZ3ExN1Ju3yOwcq2coDgcLgDsBRRUv4/u/U0XwN/1ujRs3d7fRlkkeTytVuIlaRyzbUE6rljyTgAZPJ71cgtFbWtXtWmujDLBDIVN1L8jMZM7DuynQcLjpRRSl8LG91/XVnPaNaCPwj4ctY7i8SKewM8m28lDFlhUjDbshR/dBC+1XLGafUNYD3V1cnytEtblVSd418xjLuYqpAOcDqCOBRRRU3qf10ZXX+u8Slp5muNFvUmvb5t+h2t9u+2ShlmYS7mVg2VB2L8oIHHStjWDIVW4FxcJJbQQSR+XO6KWaTB3KCA/A6MDRRV1NJu39bma+Ben6RLfi4Z8L3IyR80XIOD/AKxawpTL9suNO+2Xot7d7p48Xcu8FI4WXMm7cwBkbgkjn2GCisZac3o/zRpHePr+jJLHUbyZoHkupSX1ONW+c4KmyDlcdMbucdM1HZLJceGroy3l8Wl0iG9Li8lDCZlkJKsGyoyo+UYXjpRRWs9pfL8hU9eW/l/6US6ncXH9rzOt1cqbaHT3jVJ3VcyTur5UHDZHHINO0Oed/E1pJJdXL/aob9pUed2QmO4jRMITtXCkjgDrRRR9v7/yJjt/XZGh4qsIb6TSBM9wuL9V/c3MkXVW/uMPTr259TUTh38U6rm4uQtlYwyQILhwis3mgkqDhvuj7wPSiis/sS9X+SG/iXovzZUuLcx6Jrlul3fBYLNbiN/t03mI5jY5D7t2MgfLnHtRrE9wNduXS6uE+zR2DRqk7qmZJ3V8qDhsqMcg0UVo9xR+Bf11R1F7/qR/vVQc4RiOoFFFP7LJe55fb+Mddf4X6lq7X2b6C8EUcvkp8q5TjG3Hc9q3r7X9Th8YeGbKO5xb31vvuE8tfnO3Oc4yPwxRRTW69V/6SKWz+f5menijWDe+KozefLp9vK9sPKT92VkYA9OeAOua29L1i/ufBej380+65uZoVlk2KNwaQA8YwOPSiiiGtvl+bCejfz/JHVuxTS75lOCIWII7fKa5jwVdzTeLNUgkfMVvp1ikSAABV2Mcce7H86KKhfG/RfqU/gX9dYndUUUUFBRRRQAUUUUAFFFFABRRRQAUUUUAFFFFABRRRQAUUUUAFFFFABRRRQAUUUUAFFFFABRRRQAUUUUAFFFFABRRRQAUUUUAFFFFABRRRQAUUUUAFFFFABRRRQAUUUUAFFFFABRRRQAUUUUAFFFFABRRRQAUUUUAFFFFABRRRQAUUUUAFFFFABRRRQAUUUUAFFFFABRRRQAUUUUAVU/4+rj/AHx/6CKjf77fWiimxFLTdKsNHtmt9LtIrWFpGlZIlwCzHJP9PYAAcACiiikM/9k=)"
      ]
    },
    {
      "cell_type": "markdown",
      "metadata": {
        "id": "ytkZiGnJh0Ev"
      },
      "source": [
        "<h1>ML Processing</h1>"
      ]
    },
    {
      "cell_type": "code",
      "metadata": {
        "colab": {
          "base_uri": "https://localhost:8080/"
        },
        "id": "a200YKxMhzbF",
        "outputId": "cb7baf18-41b0-4bd6-d4a6-bff1dc3f4b85"
      },
      "source": [
        "#Para este ejemplo se predente predecir medianHouseValue (Valor medio de la vivienda para hogares dentro de un bloque - medido en dolares), basado en los demás features o caracteristicas\r\n",
        "#Localmente\r\n",
        "features = ['median_income','population'] #Se escogen estas caracteristicas dado que puden tener relación en el valor de la vivienda\r\n",
        "target = ['median_house_value']\r\n",
        "x = pd_df_test[features]\r\n",
        "y = pd_df_test[target]\r\n",
        "print(type(x))"
      ],
      "execution_count": 94,
      "outputs": [
        {
          "output_type": "stream",
          "text": [
            "<class 'pandas.core.frame.DataFrame'>\n"
          ],
          "name": "stdout"
        }
      ]
    },
    {
      "cell_type": "code",
      "metadata": {
        "colab": {
          "base_uri": "https://localhost:8080/",
          "height": 202
        },
        "id": "iswilRckrkkd",
        "outputId": "94135988-911c-4532-e531-b86c4c46dfe5"
      },
      "source": [
        "x.head()"
      ],
      "execution_count": 95,
      "outputs": [
        {
          "output_type": "execute_result",
          "data": {
            "text/html": [
              "<div>\n",
              "<style scoped>\n",
              "    .dataframe tbody tr th:only-of-type {\n",
              "        vertical-align: middle;\n",
              "    }\n",
              "\n",
              "    .dataframe tbody tr th {\n",
              "        vertical-align: top;\n",
              "    }\n",
              "\n",
              "    .dataframe thead th {\n",
              "        text-align: right;\n",
              "    }\n",
              "</style>\n",
              "<table border=\"1\" class=\"dataframe\">\n",
              "  <thead>\n",
              "    <tr style=\"text-align: right;\">\n",
              "      <th></th>\n",
              "      <th>median_income</th>\n",
              "      <th>population</th>\n",
              "    </tr>\n",
              "  </thead>\n",
              "  <tbody>\n",
              "    <tr>\n",
              "      <th>0</th>\n",
              "      <td>6.6085</td>\n",
              "      <td>1537.0</td>\n",
              "    </tr>\n",
              "    <tr>\n",
              "      <th>1</th>\n",
              "      <td>3.5990</td>\n",
              "      <td>809.0</td>\n",
              "    </tr>\n",
              "    <tr>\n",
              "      <th>2</th>\n",
              "      <td>5.7934</td>\n",
              "      <td>1484.0</td>\n",
              "    </tr>\n",
              "    <tr>\n",
              "      <th>3</th>\n",
              "      <td>6.1359</td>\n",
              "      <td>49.0</td>\n",
              "    </tr>\n",
              "    <tr>\n",
              "      <th>4</th>\n",
              "      <td>2.9375</td>\n",
              "      <td>850.0</td>\n",
              "    </tr>\n",
              "  </tbody>\n",
              "</table>\n",
              "</div>"
            ],
            "text/plain": [
              "   median_income  population\n",
              "0         6.6085      1537.0\n",
              "1         3.5990       809.0\n",
              "2         5.7934      1484.0\n",
              "3         6.1359        49.0\n",
              "4         2.9375       850.0"
            ]
          },
          "metadata": {
            "tags": []
          },
          "execution_count": 95
        }
      ]
    },
    {
      "cell_type": "code",
      "metadata": {
        "colab": {
          "base_uri": "https://localhost:8080/",
          "height": 202
        },
        "id": "snLd_ouPsGVA",
        "outputId": "1a94963d-ccea-4b9a-e01a-4e376c3b78fb"
      },
      "source": [
        "y.head()"
      ],
      "execution_count": 96,
      "outputs": [
        {
          "output_type": "execute_result",
          "data": {
            "text/html": [
              "<div>\n",
              "<style scoped>\n",
              "    .dataframe tbody tr th:only-of-type {\n",
              "        vertical-align: middle;\n",
              "    }\n",
              "\n",
              "    .dataframe tbody tr th {\n",
              "        vertical-align: top;\n",
              "    }\n",
              "\n",
              "    .dataframe thead th {\n",
              "        text-align: right;\n",
              "    }\n",
              "</style>\n",
              "<table border=\"1\" class=\"dataframe\">\n",
              "  <thead>\n",
              "    <tr style=\"text-align: right;\">\n",
              "      <th></th>\n",
              "      <th>median_house_value</th>\n",
              "    </tr>\n",
              "  </thead>\n",
              "  <tbody>\n",
              "    <tr>\n",
              "      <th>0</th>\n",
              "      <td>344700.0</td>\n",
              "    </tr>\n",
              "    <tr>\n",
              "      <th>1</th>\n",
              "      <td>176500.0</td>\n",
              "    </tr>\n",
              "    <tr>\n",
              "      <th>2</th>\n",
              "      <td>270500.0</td>\n",
              "    </tr>\n",
              "    <tr>\n",
              "      <th>3</th>\n",
              "      <td>330000.0</td>\n",
              "    </tr>\n",
              "    <tr>\n",
              "      <th>4</th>\n",
              "      <td>81700.0</td>\n",
              "    </tr>\n",
              "  </tbody>\n",
              "</table>\n",
              "</div>"
            ],
            "text/plain": [
              "   median_house_value\n",
              "0            344700.0\n",
              "1            176500.0\n",
              "2            270500.0\n",
              "3            330000.0\n",
              "4             81700.0"
            ]
          },
          "metadata": {
            "tags": []
          },
          "execution_count": 96
        }
      ]
    },
    {
      "cell_type": "code",
      "metadata": {
        "id": "cyNOVa08tUuP"
      },
      "source": [
        "#Intancia del modelo de regresión lineal\r\n",
        "regressor = LinearRegression()"
      ],
      "execution_count": 97,
      "outputs": []
    },
    {
      "cell_type": "code",
      "metadata": {
        "colab": {
          "base_uri": "https://localhost:8080/"
        },
        "id": "hicStm8WtyTl",
        "outputId": "5cb7b575-55c7-4746-dc37-e79e90ae0dc8"
      },
      "source": [
        "#Ajustando el modelo\r\n",
        "regressor.fit(x,y)"
      ],
      "execution_count": 98,
      "outputs": [
        {
          "output_type": "execute_result",
          "data": {
            "text/plain": [
              "LinearRegression(copy_X=True, fit_intercept=True, n_jobs=None, normalize=False)"
            ]
          },
          "metadata": {
            "tags": []
          },
          "execution_count": 98
        }
      ]
    },
    {
      "cell_type": "code",
      "metadata": {
        "colab": {
          "base_uri": "https://localhost:8080/"
        },
        "id": "wse9-lWPuV3z",
        "outputId": "9c490e1c-9799-4d26-e909-52696321a869"
      },
      "source": [
        "x_test = pd_df_test[features]\r\n",
        "y_test = pd_df_test[target]\r\n",
        "y_test.shape"
      ],
      "execution_count": 101,
      "outputs": [
        {
          "output_type": "execute_result",
          "data": {
            "text/plain": [
              "(3000, 1)"
            ]
          },
          "metadata": {
            "tags": []
          },
          "execution_count": 101
        }
      ]
    },
    {
      "cell_type": "code",
      "metadata": {
        "colab": {
          "base_uri": "https://localhost:8080/"
        },
        "id": "fEZD_uf3yTno",
        "outputId": "50c54eb9-f446-4ca1-a170-a44214aa4c56"
      },
      "source": [
        "y_prediction = regressor.predict(x_test)\r\n",
        "y_result = y_prediction - y_test\r\n",
        "y_prediction.shape"
      ],
      "execution_count": 102,
      "outputs": [
        {
          "output_type": "execute_result",
          "data": {
            "text/plain": [
              "(3000, 1)"
            ]
          },
          "metadata": {
            "tags": []
          },
          "execution_count": 102
        }
      ]
    },
    {
      "cell_type": "code",
      "metadata": {
        "colab": {
          "base_uri": "https://localhost:8080/"
        },
        "id": "IlwLKB3Byk0x",
        "outputId": "19e7fa54-1d8e-4a8d-9299-d8941d9c279f"
      },
      "source": [
        "RMSE = sqrt(mean_squared_error(y_true=y_test, y_pred=y_prediction))\r\n",
        "regressor.score(x_test,y_test) #precisión del modelo, en este caso del 54%"
      ],
      "execution_count": 103,
      "outputs": [
        {
          "output_type": "execute_result",
          "data": {
            "text/plain": [
              "0.4530465082465729"
            ]
          },
          "metadata": {
            "tags": []
          },
          "execution_count": 103
        }
      ]
    },
    {
      "cell_type": "code",
      "metadata": {
        "colab": {
          "base_uri": "https://localhost:8080/"
        },
        "id": "i2iEkjB6zAUZ",
        "outputId": "b88102b2-fd94-4d7c-b77a-ab0690e94998"
      },
      "source": [
        "print(RMSE)"
      ],
      "execution_count": 104,
      "outputs": [
        {
          "output_type": "stream",
          "text": [
            "83645.19572060955\n"
          ],
          "name": "stdout"
        }
      ]
    },
    {
      "cell_type": "code",
      "metadata": {
        "colab": {
          "base_uri": "https://localhost:8080/"
        },
        "id": "BZEcn-WWzQYo",
        "outputId": "9551a6bf-828e-46e6-b466-877077a8b575"
      },
      "source": [
        "regressor.coef_"
      ],
      "execution_count": 105,
      "outputs": [
        {
          "output_type": "execute_result",
          "data": {
            "text/plain": [
              "array([[ 4.10777684e+04, -2.52295324e+00]])"
            ]
          },
          "metadata": {
            "tags": []
          },
          "execution_count": 105
        }
      ]
    },
    {
      "cell_type": "code",
      "metadata": {
        "id": "Ehdx1UIr1897"
      },
      "source": [
        ""
      ],
      "execution_count": null,
      "outputs": []
    }
  ]
}