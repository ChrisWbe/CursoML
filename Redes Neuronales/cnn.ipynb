{
 "cells": [
  {
   "cell_type": "markdown",
   "metadata": {},
   "source": [
    "<h1>Redes Neuronales Convolucionales (CNN)</h1>\n",
    "Se trata de procesar imágenes de grandes dimensiones de forma efeciva.\n",
    "<img src=\"convolucion.JPG\"/>\n",
    "Si la imagen tiene varias canales de color, el numero de mapa de caracteristicas será mayor, en definitiva, si se aplican varios filtros, habrá más mapas de caracteristicas\n",
    "<img src=\"pooling.JPG\"/>\n",
    "\"Los procesos de convolucion y pooling pueden repetirse hastat llegar a un tamaño adecuado para aplicar el tercer paso\"\n",
    "<img src=\"flatening.JPG\"/>\n",
    "Aplanado de la matriz resultado, donde cada valor será la entrada de la red neuronal fuertemente enlazada"
   ]
  },
  {
   "cell_type": "code",
   "execution_count": null,
   "metadata": {},
   "outputs": [],
   "source": []
  }
 ],
 "metadata": {
  "kernelspec": {
   "display_name": "Python 3",
   "language": "python",
   "name": "python3"
  },
  "language_info": {
   "codemirror_mode": {
    "name": "ipython",
    "version": 3
   },
   "file_extension": ".py",
   "mimetype": "text/x-python",
   "name": "python",
   "nbconvert_exporter": "python",
   "pygments_lexer": "ipython3",
   "version": "3.8.5"
  }
 },
 "nbformat": 4,
 "nbformat_minor": 4
}
