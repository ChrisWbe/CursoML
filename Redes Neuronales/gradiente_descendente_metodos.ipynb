{
 "cells": [
  {
   "cell_type": "markdown",
   "metadata": {},
   "source": [
    "Perceptron -> red neuronal de una sola neurona\n",
    "<img src=\"perceptron.PNG\"/>\n",
    "<img src=\"perceptronEjemplo.JPG\"/>\n",
    "<img src=\"perceptronEjemplo2.JPG\"/>\n",
    "<img src=\"perceptronEjemplo3.JPG\"/>\n",
    "<img src=\"perceptronEjemplo4.JPG\"/>\n",
    "<img src=\"perceptronEjemplo5.JPG\"/><br>\n",
    "Para el peso utilizado, se tiene un coste representado por el punto planco, con ayuda de la pendiente se sabrá para donde mover dicho peso y reducir el coste. Para este ejemplo se utiliza una sola entrada para facilitar el entendimiento del proceso. El minimo será cuando la recta sea lo más horizontal posible.\n",
    "<img src=\"perceptronEjemplo6.JPG\"/>\n",
    "El LearnRate es el paso de aprendizaje o salto que se realizará para encontrar el minimo. Saltol muy pequeños se acercan a la fuerza bruta, pasos muy grandes pueden obviar el minimo de coste.\n",
    "Este metodo de gradiente desendente es bueno para funciones de coste de esta forma, pero pueden haber problemas más complejos donde hayan varios minimos<br>\n",
    "<h2> Gradiente Descendente Estocástico</h2>\n",
    "En este caso la diferencia es la correción de pesos que se realiza fila por fila. Se calcula el coste para una fila y se realiza la corrección de peso. Entonces cuando se realiza el calculo para la siguiente fila, se realizará en base a un peso ya corregido por la fila anterior.\n",
    "<img src=\"perceptronEjemplo7.JPG\"/>\n",
    "<img src=\"perceptronEjemplo8.JPG\"/>\n",
    "\n",
    "<br><br>\n",
    "Comunmente se terminaa usando un híbrido entre los dos metodos, tomando secciones del dataset"
   ]
  },
  {
   "cell_type": "code",
   "execution_count": null,
   "metadata": {},
   "outputs": [],
   "source": []
  }
 ],
 "metadata": {
  "kernelspec": {
   "display_name": "Python 3",
   "language": "python",
   "name": "python3"
  },
  "language_info": {
   "codemirror_mode": {
    "name": "ipython",
    "version": 3
   },
   "file_extension": ".py",
   "mimetype": "text/x-python",
   "name": "python",
   "nbconvert_exporter": "python",
   "pygments_lexer": "ipython3",
   "version": "3.8.5"
  }
 },
 "nbformat": 4,
 "nbformat_minor": 4
}
